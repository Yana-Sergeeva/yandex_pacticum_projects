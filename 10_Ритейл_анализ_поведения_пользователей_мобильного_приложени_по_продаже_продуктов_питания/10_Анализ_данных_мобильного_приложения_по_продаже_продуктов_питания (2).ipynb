{
 "cells": [
  {
   "cell_type": "markdown",
   "metadata": {},
   "source": [
    "# Исследование поведения пользователей в мобильном приложении по продаже продуктов питания"
   ]
  },
  {
   "cell_type": "markdown",
   "metadata": {},
   "source": [
    "# Описание данных файла"
   ]
  },
  {
   "cell_type": "markdown",
   "metadata": {},
   "source": [
    "Каждая запись в логе — это действие пользователя, или событие. \n",
    "\n",
    "- `EventName` — название события;\n",
    "- `DeviceIDHash` — уникальный идентификатор пользователя;\n",
    "- `EventTimestamp` — время события;\n",
    "- `ExpId` — номер эксперимента: 246 и 247 — контрольные группы, а 248 — экспериментальная."
   ]
  },
  {
   "cell_type": "markdown",
   "metadata": {},
   "source": [
    "# Задачи"
   ]
  },
  {
   "cell_type": "markdown",
   "metadata": {},
   "source": [
    "- Разобраться, как ведут себя пользователи вашего мобильного приложения. \n",
    "- Изучить воронку продаж. Узнать, как пользователи доходят до покупки. Сколько пользователей доходит до покупки, а сколько — «застревает» на предыдущих шагах? На каких именно?\n",
    "- Исследовать результаты A/A/B-эксперимента. "
   ]
  },
  {
   "cell_type": "code",
   "execution_count": 1,
   "metadata": {},
   "outputs": [],
   "source": [
    "import pandas as pd\n",
    "import seaborn as sns\n",
    "import matplotlib.pyplot as plt\n",
    "from scipy import stats as st\n",
    "import numpy as np\n",
    "import math as mth\n",
    "from plotly import graph_objects as go\n",
    "import plotly.io as pio\n",
    "pio.renderers.default = \"svg\"\n",
    "svg_renderer = pio.renderers[\"svg\"]\n",
    "svg_renderer.scale = 1.2"
   ]
  },
  {
   "cell_type": "code",
   "execution_count": 2,
   "metadata": {},
   "outputs": [
    {
     "data": {
      "text/html": [
       "<div>\n",
       "<style scoped>\n",
       "    .dataframe tbody tr th:only-of-type {\n",
       "        vertical-align: middle;\n",
       "    }\n",
       "\n",
       "    .dataframe tbody tr th {\n",
       "        vertical-align: top;\n",
       "    }\n",
       "\n",
       "    .dataframe thead th {\n",
       "        text-align: right;\n",
       "    }\n",
       "</style>\n",
       "<table border=\"1\" class=\"dataframe\">\n",
       "  <thead>\n",
       "    <tr style=\"text-align: right;\">\n",
       "      <th></th>\n",
       "      <th>EventName</th>\n",
       "      <th>DeviceIDHash</th>\n",
       "      <th>EventTimestamp</th>\n",
       "      <th>ExpId</th>\n",
       "    </tr>\n",
       "  </thead>\n",
       "  <tbody>\n",
       "    <tr>\n",
       "      <th>0</th>\n",
       "      <td>MainScreenAppear</td>\n",
       "      <td>4575588528974610257</td>\n",
       "      <td>1564029816</td>\n",
       "      <td>246</td>\n",
       "    </tr>\n",
       "    <tr>\n",
       "      <th>1</th>\n",
       "      <td>MainScreenAppear</td>\n",
       "      <td>7416695313311560658</td>\n",
       "      <td>1564053102</td>\n",
       "      <td>246</td>\n",
       "    </tr>\n",
       "    <tr>\n",
       "      <th>2</th>\n",
       "      <td>PaymentScreenSuccessful</td>\n",
       "      <td>3518123091307005509</td>\n",
       "      <td>1564054127</td>\n",
       "      <td>248</td>\n",
       "    </tr>\n",
       "    <tr>\n",
       "      <th>3</th>\n",
       "      <td>CartScreenAppear</td>\n",
       "      <td>3518123091307005509</td>\n",
       "      <td>1564054127</td>\n",
       "      <td>248</td>\n",
       "    </tr>\n",
       "    <tr>\n",
       "      <th>4</th>\n",
       "      <td>PaymentScreenSuccessful</td>\n",
       "      <td>6217807653094995999</td>\n",
       "      <td>1564055322</td>\n",
       "      <td>248</td>\n",
       "    </tr>\n",
       "  </tbody>\n",
       "</table>\n",
       "</div>"
      ],
      "text/plain": [
       "                 EventName         DeviceIDHash  EventTimestamp  ExpId\n",
       "0         MainScreenAppear  4575588528974610257      1564029816    246\n",
       "1         MainScreenAppear  7416695313311560658      1564053102    246\n",
       "2  PaymentScreenSuccessful  3518123091307005509      1564054127    248\n",
       "3         CartScreenAppear  3518123091307005509      1564054127    248\n",
       "4  PaymentScreenSuccessful  6217807653094995999      1564055322    248"
      ]
     },
     "execution_count": 2,
     "metadata": {},
     "output_type": "execute_result"
    }
   ],
   "source": [
    "df = pd.read_csv('logs_exp.csv', sep='\\t')\n",
    "df.head()"
   ]
  },
  {
   "cell_type": "markdown",
   "metadata": {},
   "source": [
    "# 1.Подготовка данных"
   ]
  },
  {
   "cell_type": "markdown",
   "metadata": {},
   "source": [
    "Поменяю назания столбцов на удобные для моего использования с учетом змеиного регистра:\n",
    "- EventName (\"Название события\") на **event_name**\n",
    "- DeviceIDHash (\"Уникальный идентификатор пользователя\") на **user_id**\n",
    "- EventTimestamp (\"Время события\") на **date_time**\n",
    "- ExpId (\"Номер эксперимента\") на **group**"
   ]
  },
  {
   "cell_type": "code",
   "execution_count": 3,
   "metadata": {},
   "outputs": [
    {
     "data": {
      "text/plain": [
       "Index(['event_name', 'user_id', 'date_time', 'group'], dtype='object')"
      ]
     },
     "execution_count": 3,
     "metadata": {},
     "output_type": "execute_result"
    }
   ],
   "source": [
    "df = df.rename(columns={'EventName':'event_name',\n",
    "                        'DeviceIDHash':'user_id',\n",
    "                        'EventTimestamp':'date_time',\n",
    "                        'ExpId':'group'\n",
    "                       }\n",
    "              )\n",
    "df.columns"
   ]
  },
  {
   "cell_type": "code",
   "execution_count": 4,
   "metadata": {},
   "outputs": [
    {
     "name": "stdout",
     "output_type": "stream",
     "text": [
      "Количество строк в датафрейме до обработки данных: 244126\n"
     ]
    }
   ],
   "source": [
    "# Зафиксирую размер исходного датафрейма\n",
    "print('Количество строк в датафрейме до обработки данных:', len(df))"
   ]
  },
  {
   "cell_type": "code",
   "execution_count": 5,
   "metadata": {
    "scrolled": true
   },
   "outputs": [
    {
     "name": "stdout",
     "output_type": "stream",
     "text": [
      "<class 'pandas.core.frame.DataFrame'>\n",
      "RangeIndex: 244126 entries, 0 to 244125\n",
      "Data columns (total 4 columns):\n",
      " #   Column      Non-Null Count   Dtype \n",
      "---  ------      --------------   ----- \n",
      " 0   event_name  244126 non-null  object\n",
      " 1   user_id     244126 non-null  int64 \n",
      " 2   date_time   244126 non-null  int64 \n",
      " 3   group       244126 non-null  int64 \n",
      "dtypes: int64(3), object(1)\n",
      "memory usage: 7.5+ MB\n"
     ]
    }
   ],
   "source": [
    "# Посмотрю общую информацию о таблице\n",
    "df.info()"
   ]
  },
  {
   "cell_type": "markdown",
   "metadata": {},
   "source": [
    "- Пропусков нет.\n",
    "- Столбец date_time представлен в формате unix time. Переведу его в формат datetime."
   ]
  },
  {
   "cell_type": "code",
   "execution_count": 6,
   "metadata": {},
   "outputs": [
    {
     "name": "stdout",
     "output_type": "stream",
     "text": [
      "datetime64[ns]\n"
     ]
    }
   ],
   "source": [
    "df['date_time'] = pd.to_datetime(df['date_time'], unit='s')\n",
    "print(df['date_time'].dtype)"
   ]
  },
  {
   "cell_type": "code",
   "execution_count": 7,
   "metadata": {},
   "outputs": [],
   "source": [
    "# Из столбца date_time выделю дату и сохраню ее в отдельный столбец event_date\n",
    "df['event_date'] = pd.to_datetime(df['date_time'].dt.date)"
   ]
  },
  {
   "cell_type": "code",
   "execution_count": 8,
   "metadata": {},
   "outputs": [
    {
     "data": {
      "text/html": [
       "<div>\n",
       "<style scoped>\n",
       "    .dataframe tbody tr th:only-of-type {\n",
       "        vertical-align: middle;\n",
       "    }\n",
       "\n",
       "    .dataframe tbody tr th {\n",
       "        vertical-align: top;\n",
       "    }\n",
       "\n",
       "    .dataframe thead th {\n",
       "        text-align: right;\n",
       "    }\n",
       "</style>\n",
       "<table border=\"1\" class=\"dataframe\">\n",
       "  <thead>\n",
       "    <tr style=\"text-align: right;\">\n",
       "      <th></th>\n",
       "      <th>event_name</th>\n",
       "      <th>user_id</th>\n",
       "      <th>date_time</th>\n",
       "      <th>group</th>\n",
       "      <th>event_date</th>\n",
       "    </tr>\n",
       "  </thead>\n",
       "  <tbody>\n",
       "    <tr>\n",
       "      <th>0</th>\n",
       "      <td>MainScreenAppear</td>\n",
       "      <td>4575588528974610257</td>\n",
       "      <td>2019-07-25 04:43:36</td>\n",
       "      <td>246</td>\n",
       "      <td>2019-07-25</td>\n",
       "    </tr>\n",
       "    <tr>\n",
       "      <th>1</th>\n",
       "      <td>MainScreenAppear</td>\n",
       "      <td>7416695313311560658</td>\n",
       "      <td>2019-07-25 11:11:42</td>\n",
       "      <td>246</td>\n",
       "      <td>2019-07-25</td>\n",
       "    </tr>\n",
       "    <tr>\n",
       "      <th>2</th>\n",
       "      <td>PaymentScreenSuccessful</td>\n",
       "      <td>3518123091307005509</td>\n",
       "      <td>2019-07-25 11:28:47</td>\n",
       "      <td>248</td>\n",
       "      <td>2019-07-25</td>\n",
       "    </tr>\n",
       "    <tr>\n",
       "      <th>3</th>\n",
       "      <td>CartScreenAppear</td>\n",
       "      <td>3518123091307005509</td>\n",
       "      <td>2019-07-25 11:28:47</td>\n",
       "      <td>248</td>\n",
       "      <td>2019-07-25</td>\n",
       "    </tr>\n",
       "    <tr>\n",
       "      <th>4</th>\n",
       "      <td>PaymentScreenSuccessful</td>\n",
       "      <td>6217807653094995999</td>\n",
       "      <td>2019-07-25 11:48:42</td>\n",
       "      <td>248</td>\n",
       "      <td>2019-07-25</td>\n",
       "    </tr>\n",
       "  </tbody>\n",
       "</table>\n",
       "</div>"
      ],
      "text/plain": [
       "                event_name              user_id           date_time  group  \\\n",
       "0         MainScreenAppear  4575588528974610257 2019-07-25 04:43:36    246   \n",
       "1         MainScreenAppear  7416695313311560658 2019-07-25 11:11:42    246   \n",
       "2  PaymentScreenSuccessful  3518123091307005509 2019-07-25 11:28:47    248   \n",
       "3         CartScreenAppear  3518123091307005509 2019-07-25 11:28:47    248   \n",
       "4  PaymentScreenSuccessful  6217807653094995999 2019-07-25 11:48:42    248   \n",
       "\n",
       "  event_date  \n",
       "0 2019-07-25  \n",
       "1 2019-07-25  \n",
       "2 2019-07-25  \n",
       "3 2019-07-25  \n",
       "4 2019-07-25  "
      ]
     },
     "execution_count": 8,
     "metadata": {},
     "output_type": "execute_result"
    }
   ],
   "source": [
    "df.head()"
   ]
  },
  {
   "cell_type": "markdown",
   "metadata": {},
   "source": [
    "Проверю таблицу на явные дубликаты. Выведу долю дубликатов в исходном датафрейме."
   ]
  },
  {
   "cell_type": "code",
   "execution_count": 9,
   "metadata": {},
   "outputs": [
    {
     "name": "stdout",
     "output_type": "stream",
     "text": [
      "Процент дубликатов: 0.17%\n"
     ]
    }
   ],
   "source": [
    "print('Процент дубликатов:', \"{0:.2%}\".format(df.duplicated().mean()))"
   ]
  },
  {
   "cell_type": "markdown",
   "metadata": {},
   "source": [
    "Дубликаты составляют всего 0,17%. Их удаление не сильно повлияет на дальнейшее исследование. Удаляю их."
   ]
  },
  {
   "cell_type": "code",
   "execution_count": 10,
   "metadata": {},
   "outputs": [],
   "source": [
    "df = df.drop_duplicates().reset_index(drop=True)"
   ]
  },
  {
   "cell_type": "code",
   "execution_count": 11,
   "metadata": {},
   "outputs": [
    {
     "data": {
      "text/plain": [
       "array(['MainScreenAppear', 'PaymentScreenSuccessful', 'CartScreenAppear',\n",
       "       'OffersScreenAppear', 'Tutorial'], dtype=object)"
      ]
     },
     "execution_count": 11,
     "metadata": {},
     "output_type": "execute_result"
    }
   ],
   "source": [
    "# Проверю значения столбца event_name на предмет неявных дубликатов\n",
    "df['event_name'].unique()"
   ]
  },
  {
   "cell_type": "markdown",
   "metadata": {},
   "source": [
    "Всего 5 значений и все они уникальны. Для себя добавлю перевод значений:\n",
    "- `MainScreenAppear` - \"Главная страница\"\n",
    "- `PaymentScreenSuccessful` - \"Страница успешной оплаты\"\n",
    "- `CartScreenAppear` - \"Страница корзины\"\n",
    "- `OffersScreenAppear` - \"Страница предложений\"\n",
    "- `Tutorial` - \"Руководство\""
   ]
  },
  {
   "cell_type": "markdown",
   "metadata": {},
   "source": [
    "Проверю уникальные значения столбца group. Должно быть только 3 значения: 246, 247, 248"
   ]
  },
  {
   "cell_type": "code",
   "execution_count": 12,
   "metadata": {},
   "outputs": [
    {
     "data": {
      "text/plain": [
       "array([246, 247, 248], dtype=int64)"
      ]
     },
     "execution_count": 12,
     "metadata": {},
     "output_type": "execute_result"
    }
   ],
   "source": [
    "df['group'].sort_values().unique()"
   ]
  },
  {
   "cell_type": "markdown",
   "metadata": {},
   "source": [
    "Для удобства работы заменю номера групп на названия:\n",
    "- 246 - А1\n",
    "- 247 - А2\n",
    "- 248 - В"
   ]
  },
  {
   "cell_type": "code",
   "execution_count": 13,
   "metadata": {},
   "outputs": [],
   "source": [
    "df['group'] = df['group'].replace(246, 'A1')\n",
    "df['group'] = df['group'].replace(247, 'A2')\n",
    "df['group'] = df['group'].replace(248, 'B')"
   ]
  },
  {
   "cell_type": "code",
   "execution_count": 14,
   "metadata": {},
   "outputs": [
    {
     "data": {
      "text/html": [
       "<div>\n",
       "<style scoped>\n",
       "    .dataframe tbody tr th:only-of-type {\n",
       "        vertical-align: middle;\n",
       "    }\n",
       "\n",
       "    .dataframe tbody tr th {\n",
       "        vertical-align: top;\n",
       "    }\n",
       "\n",
       "    .dataframe thead th {\n",
       "        text-align: right;\n",
       "    }\n",
       "</style>\n",
       "<table border=\"1\" class=\"dataframe\">\n",
       "  <thead>\n",
       "    <tr style=\"text-align: right;\">\n",
       "      <th></th>\n",
       "      <th>event_name</th>\n",
       "      <th>user_id</th>\n",
       "      <th>date_time</th>\n",
       "      <th>group</th>\n",
       "      <th>event_date</th>\n",
       "    </tr>\n",
       "  </thead>\n",
       "  <tbody>\n",
       "    <tr>\n",
       "      <th>0</th>\n",
       "      <td>MainScreenAppear</td>\n",
       "      <td>4575588528974610257</td>\n",
       "      <td>2019-07-25 04:43:36</td>\n",
       "      <td>A1</td>\n",
       "      <td>2019-07-25</td>\n",
       "    </tr>\n",
       "    <tr>\n",
       "      <th>1</th>\n",
       "      <td>MainScreenAppear</td>\n",
       "      <td>7416695313311560658</td>\n",
       "      <td>2019-07-25 11:11:42</td>\n",
       "      <td>A1</td>\n",
       "      <td>2019-07-25</td>\n",
       "    </tr>\n",
       "    <tr>\n",
       "      <th>2</th>\n",
       "      <td>PaymentScreenSuccessful</td>\n",
       "      <td>3518123091307005509</td>\n",
       "      <td>2019-07-25 11:28:47</td>\n",
       "      <td>B</td>\n",
       "      <td>2019-07-25</td>\n",
       "    </tr>\n",
       "    <tr>\n",
       "      <th>3</th>\n",
       "      <td>CartScreenAppear</td>\n",
       "      <td>3518123091307005509</td>\n",
       "      <td>2019-07-25 11:28:47</td>\n",
       "      <td>B</td>\n",
       "      <td>2019-07-25</td>\n",
       "    </tr>\n",
       "    <tr>\n",
       "      <th>4</th>\n",
       "      <td>PaymentScreenSuccessful</td>\n",
       "      <td>6217807653094995999</td>\n",
       "      <td>2019-07-25 11:48:42</td>\n",
       "      <td>B</td>\n",
       "      <td>2019-07-25</td>\n",
       "    </tr>\n",
       "  </tbody>\n",
       "</table>\n",
       "</div>"
      ],
      "text/plain": [
       "                event_name              user_id           date_time group  \\\n",
       "0         MainScreenAppear  4575588528974610257 2019-07-25 04:43:36    A1   \n",
       "1         MainScreenAppear  7416695313311560658 2019-07-25 11:11:42    A1   \n",
       "2  PaymentScreenSuccessful  3518123091307005509 2019-07-25 11:28:47     B   \n",
       "3         CartScreenAppear  3518123091307005509 2019-07-25 11:28:47     B   \n",
       "4  PaymentScreenSuccessful  6217807653094995999 2019-07-25 11:48:42     B   \n",
       "\n",
       "  event_date  \n",
       "0 2019-07-25  \n",
       "1 2019-07-25  \n",
       "2 2019-07-25  \n",
       "3 2019-07-25  \n",
       "4 2019-07-25  "
      ]
     },
     "execution_count": 14,
     "metadata": {},
     "output_type": "execute_result"
    }
   ],
   "source": [
    "# Проверю, что значения в столбце изменились\n",
    "df.head()"
   ]
  },
  {
   "cell_type": "code",
   "execution_count": 15,
   "metadata": {},
   "outputs": [
    {
     "name": "stdout",
     "output_type": "stream",
     "text": [
      "Количество пользователей одновременно в группах A1 и A2: 0\n",
      "Количество пользователей одновременно в группах A1 и B или A2 и B: 0\n"
     ]
    }
   ],
   "source": [
    "# Создам переменную id пользователей в группе А1\n",
    "user_a1 = df[df['group'] == 'A1']['user_id']\n",
    "# Создам переменную id пользователей в группе А2\n",
    "user_a2 = df[df['group'] == 'A2']['user_id']\n",
    "# Создам переменную id пользователей в группе B\n",
    "user_b = df[df['group'] == 'B']['user_id']\n",
    "\n",
    "# Сделаю срез таблицы df , в котором id пользователей одновременно есть и в группе А1 и в группе A2. \n",
    "#Вынесу его в отдельную переменную\n",
    "id_a1a2 = df.query('user_id in @user_a1 and user_id in @user_a2')\n",
    "\n",
    "# Сделаю срез таблицы df , в котором id пользователей одновременно есть и в группах А1 и B или А2 и В. \n",
    "#Вынесу его в отдельную переменную\n",
    "id_a1a2b = df.query('(user_id in @user_a1 or user_id in @user_a2) and user_id in @user_b')\n",
    "\n",
    "\n",
    "print('Количество пользователей одновременно в группах A1 и A2:', id_a1a2['user_id'].nunique())\n",
    "print('Количество пользователей одновременно в группах A1 и B или A2 и B:', id_a1a2b['user_id'].nunique())\n"
   ]
  },
  {
   "cell_type": "markdown",
   "metadata": {},
   "source": [
    "Ни один пользователь не попал одновременно в несколько групп. Отлично!"
   ]
  },
  {
   "cell_type": "code",
   "execution_count": 16,
   "metadata": {},
   "outputs": [
    {
     "name": "stdout",
     "output_type": "stream",
     "text": [
      "Количество строк в датафрейме после обработки данных: 243713\n"
     ]
    }
   ],
   "source": [
    "# Выведу количество сктрок, которое осталось в датафрейме после предобработки данных\n",
    "print('Количество строк в датафрейме после обработки данных:', len(df))"
   ]
  },
  {
   "cell_type": "markdown",
   "metadata": {},
   "source": [
    "**Вывод**\n",
    "\n",
    "Во время подготовки данных сделала следующее:\n",
    "- Изменила названия столбцов на удоьные для понимания и для работы\n",
    "- Изменила тип данных столбца date_time, чтобы с ним было удобно работать\n",
    "- Создала отдельный столбец с датой\n",
    "- Нашла явные дубликаты. Т.к. их процент был небольшой, избавилась от них\n",
    "- Проверила на неявные дубликаты и убедилась, что их нет\n",
    "- Проверила какие группы входят в датафрейм, изменила их названия на удобные для работы\n",
    "- Проверила пользователей на попадание сразу в несколько групп и убедилась, что таких пользователей нет"
   ]
  },
  {
   "cell_type": "markdown",
   "metadata": {},
   "source": [
    "# 2 Изучение и проверка данных."
   ]
  },
  {
   "cell_type": "code",
   "execution_count": 17,
   "metadata": {},
   "outputs": [
    {
     "name": "stdout",
     "output_type": "stream",
     "text": [
      "Всего событий в логе: 243713\n",
      "--------------------------------------------------\n",
      "Всего пользователей в логе: 7551\n",
      "--------------------------------------------------\n",
      "Среднее количество событий на одного пользователя: 20.0\n",
      "--------------------------------------------------\n",
      "Располагаем данными с 2019-07-25 00:00:00 по 2019-08-07 00:00:00, что составляет 13 days 00:00:00 дней \n"
     ]
    }
   ],
   "source": [
    "print('Всего событий в логе:', len(df))\n",
    "print('-'*50)\n",
    "print('Всего пользователей в логе:', df['user_id'].nunique())\n",
    "print('-'*50)\n",
    "print('Среднее количество событий на одного пользователя:', df.groupby('user_id').agg({'event_name':'count'}).median()[0])\n",
    "print('-'*50)\n",
    "print(f\"Располагаем данными с {df['event_date'].min()} по {df['event_date'].max()}, что составляет {df['event_date'].max() - df['event_date'].min()} дней \")"
   ]
  },
  {
   "cell_type": "markdown",
   "metadata": {},
   "source": [
    "Посмотрю на распределение количества событий по датам, чтобы убедиться, что данные полные за вест период."
   ]
  },
  {
   "cell_type": "code",
   "execution_count": 18,
   "metadata": {},
   "outputs": [
    {
     "data": {
      "image/png": "[encoded data removed]",
      "text/plain": [
       "<Figure size 1500x600 with 1 Axes>"
      ]
     },
     "metadata": {},
     "output_type": "display_data"
    }
   ],
   "source": [
    "(\n",
    "    df\n",
    "    .groupby('event_date').agg({'event_name':'count'})\n",
    "    .plot(kind='bar',\n",
    "          grid=True,\n",
    "          figsize=(15,6)\n",
    "         )\n",
    ")\n",
    "plt.title('Число событий по датам')\n",
    "plt.xlabel('Дата')\n",
    "plt.ylabel('Число событий')\n",
    "plt.show()\n"
   ]
  },
  {
   "cell_type": "markdown",
   "metadata": {},
   "source": [
    "По гистограмме отчетливо видно, что данные с 2019-07-25 по 2019-07-31 включительно не полные. Это произошло по техническим причинам: в логи новых дней по некоторым пользователям \"доезжают\" события из прошлого, что приводит к перекосу данных.\n",
    "\n",
    "В распоряжении полные данные с 2019-08-01 по 2019-08-07"
   ]
  },
  {
   "cell_type": "markdown",
   "metadata": {},
   "source": [
    "Оставлю для исследования данные с 2019-08-01"
   ]
  },
  {
   "cell_type": "code",
   "execution_count": 19,
   "metadata": {},
   "outputs": [
    {
     "data": {
      "text/plain": [
       "2019-08-01    36141\n",
       "2019-08-05    36058\n",
       "2019-08-06    35788\n",
       "2019-08-02    35554\n",
       "2019-08-03    33282\n",
       "2019-08-04    32968\n",
       "2019-08-07    31096\n",
       "2019-07-31     2030\n",
       "2019-07-30      412\n",
       "2019-07-29      184\n",
       "2019-07-28      105\n",
       "2019-07-27       55\n",
       "2019-07-26       31\n",
       "2019-07-25        9\n",
       "Name: event_date, dtype: int64"
      ]
     },
     "execution_count": 19,
     "metadata": {},
     "output_type": "execute_result"
    }
   ],
   "source": [
    "df['event_date'].value_counts()"
   ]
  },
  {
   "cell_type": "code",
   "execution_count": 20,
   "metadata": {},
   "outputs": [],
   "source": [
    "df_new = df.copy()\n",
    "df_new = df_new.query('event_date >= \"2019-08-01\"')"
   ]
  },
  {
   "cell_type": "markdown",
   "metadata": {},
   "source": [
    "Посчитаю сколько данных осталось"
   ]
  },
  {
   "cell_type": "code",
   "execution_count": 21,
   "metadata": {},
   "outputs": [
    {
     "name": "stdout",
     "output_type": "stream",
     "text": [
      "Всего событий в логе: 240887\n",
      "Потеряно событий: 2826\n",
      "Потеряно событий в процентах: 1.16%\n",
      "==================================================\n",
      "Всего пользователей в логе: 7534\n",
      "Потеряно пользователей: 17\n",
      "Потеряно пользователей в процентах: 0.23%\n",
      "==================================================\n",
      "Среднее количество событий на одного пользователя: 19.0\n",
      "--------------------------------------------------\n",
      "Располагаем данными с 2019-08-01 00:00:00 по 2019-08-07 00:00:00, что составляет 6 days 00:00:00 дней \n"
     ]
    }
   ],
   "source": [
    "print('Всего событий в логе:', len(df_new))\n",
    "print('Потеряно событий:', len(df)-len(df_new))\n",
    "print('Потеряно событий в процентах:', \"{0:.2%}\".format((len(df)-len(df_new))/len(df)))\n",
    "print('='*50)\n",
    "print('Всего пользователей в логе:', df_new['user_id'].nunique())\n",
    "users_lose = df['user_id'].nunique()-df_new['user_id'].nunique()\n",
    "print('Потеряно пользователей:', users_lose)\n",
    "users_lose_pct = (df['user_id'].nunique()- df_new['user_id'].nunique())/df['user_id'].nunique()\n",
    "print('Потеряно пользователей в процентах:', \"{0:.2%}\".format(users_lose_pct))\n",
    "print('='*50)\n",
    "print('Среднее количество событий на одного пользователя:', df_new.groupby('user_id').agg({'event_name':'count'}).median()[0])\n",
    "print('-'*50)\n",
    "print(f\"Располагаем данными с {df_new['event_date'].min()} по {df_new['event_date'].max()}, что составляет {df_new['event_date'].max() - df_new['event_date'].min()} дней \")"
   ]
  },
  {
   "cell_type": "markdown",
   "metadata": {},
   "source": [
    "Данных потеряли немного. Это было видно и по гистограмме. Они не сильно повлияют на дальнейшее исследование."
   ]
  },
  {
   "cell_type": "markdown",
   "metadata": {},
   "source": [
    "Проверю количество пользователей в каждой группе. Для этого создам сводную таблицу"
   ]
  },
  {
   "cell_type": "code",
   "execution_count": 22,
   "metadata": {},
   "outputs": [
    {
     "data": {
      "text/plain": [
       "group\n",
       "A1    2484\n",
       "A2    2513\n",
       "B     2537\n",
       "Name: user_id, dtype: int64"
      ]
     },
     "execution_count": 22,
     "metadata": {},
     "output_type": "execute_result"
    }
   ],
   "source": [
    "df_new.groupby('group')['user_id'].nunique()"
   ]
  },
  {
   "cell_type": "markdown",
   "metadata": {},
   "source": [
    "Количество уникальных пользователей во всех группах примерно одинаковое."
   ]
  },
  {
   "cell_type": "markdown",
   "metadata": {},
   "source": [
    "**Вывод**\n",
    "После проверки данных в датасете оставили только полные данные за период с 2019-08-01 по 2019-08-07 включительно. Отбросили чуть больше 1% данных, которые искажали результаты. Выяснили, что пользователи присутствуют во всех 3-х группах и их количество примерно равное."
   ]
  },
  {
   "cell_type": "markdown",
   "metadata": {},
   "source": [
    "# 3 Изучение воронки событий"
   ]
  },
  {
   "cell_type": "markdown",
   "metadata": {},
   "source": [
    "Посмотрю как часто встречаются события в логах, отсортирую их по убыванию"
   ]
  },
  {
   "cell_type": "code",
   "execution_count": 23,
   "metadata": {},
   "outputs": [
    {
     "data": {
      "text/plain": [
       "MainScreenAppear           117328\n",
       "OffersScreenAppear          46333\n",
       "CartScreenAppear            42303\n",
       "PaymentScreenSuccessful     33918\n",
       "Tutorial                     1005\n",
       "Name: event_name, dtype: int64"
      ]
     },
     "execution_count": 23,
     "metadata": {},
     "output_type": "execute_result"
    }
   ],
   "source": [
    "df_new['event_name'].value_counts()"
   ]
  },
  {
   "cell_type": "markdown",
   "metadata": {},
   "source": [
    "По частоте события располагаются в следующем порядке:\n",
    "1. `MainScreenAppear` - открытие главного экрана\n",
    "2. `OffersScreenAppear` - открытие экрана с предложениями\n",
    "3. `CartScreenAppear` - открытие экрана корзины\n",
    "4. `PaymentScreenSuccessful` - открытие экрана с успешной оплатой\n",
    "5. `Tutorial` - открытие экрана с руководством по использованию приложения."
   ]
  },
  {
   "cell_type": "markdown",
   "metadata": {},
   "source": [
    "Посчитаю сколько уникальных пользователей совершали каждое из этих событий и выведу их долю от общего количества пользователей"
   ]
  },
  {
   "cell_type": "code",
   "execution_count": 24,
   "metadata": {},
   "outputs": [
    {
     "data": {
      "text/html": [
       "<div>\n",
       "<style scoped>\n",
       "    .dataframe tbody tr th:only-of-type {\n",
       "        vertical-align: middle;\n",
       "    }\n",
       "\n",
       "    .dataframe tbody tr th {\n",
       "        vertical-align: top;\n",
       "    }\n",
       "\n",
       "    .dataframe thead th {\n",
       "        text-align: right;\n",
       "    }\n",
       "</style>\n",
       "<table border=\"1\" class=\"dataframe\">\n",
       "  <thead>\n",
       "    <tr style=\"text-align: right;\">\n",
       "      <th></th>\n",
       "      <th>event_name</th>\n",
       "      <th>user_cnt</th>\n",
       "      <th>user_pct</th>\n",
       "    </tr>\n",
       "  </thead>\n",
       "  <tbody>\n",
       "    <tr>\n",
       "      <th>1</th>\n",
       "      <td>MainScreenAppear</td>\n",
       "      <td>7419</td>\n",
       "      <td>98.47</td>\n",
       "    </tr>\n",
       "    <tr>\n",
       "      <th>2</th>\n",
       "      <td>OffersScreenAppear</td>\n",
       "      <td>4593</td>\n",
       "      <td>60.96</td>\n",
       "    </tr>\n",
       "    <tr>\n",
       "      <th>0</th>\n",
       "      <td>CartScreenAppear</td>\n",
       "      <td>3734</td>\n",
       "      <td>49.56</td>\n",
       "    </tr>\n",
       "    <tr>\n",
       "      <th>3</th>\n",
       "      <td>PaymentScreenSuccessful</td>\n",
       "      <td>3539</td>\n",
       "      <td>46.97</td>\n",
       "    </tr>\n",
       "    <tr>\n",
       "      <th>4</th>\n",
       "      <td>Tutorial</td>\n",
       "      <td>840</td>\n",
       "      <td>11.15</td>\n",
       "    </tr>\n",
       "  </tbody>\n",
       "</table>\n",
       "</div>"
      ],
      "text/plain": [
       "                event_name  user_cnt  user_pct\n",
       "1         MainScreenAppear      7419     98.47\n",
       "2       OffersScreenAppear      4593     60.96\n",
       "0         CartScreenAppear      3734     49.56\n",
       "3  PaymentScreenSuccessful      3539     46.97\n",
       "4                 Tutorial       840     11.15"
      ]
     },
     "execution_count": 24,
     "metadata": {},
     "output_type": "execute_result"
    }
   ],
   "source": [
    "user_cnt = (\n",
    "    df_new\n",
    "    .groupby('event_name', as_index=False).agg({'user_id':'nunique'})\n",
    "    .sort_values(by='user_id', ascending=False)\n",
    "    .rename(columns={'user_id':'user_cnt'})\n",
    ")\n",
    "user_cnt['user_pct'] = (user_cnt['user_cnt']/df_new['user_id'].nunique()*100).round(2)\n",
    "user_cnt"
   ]
  },
  {
   "cell_type": "markdown",
   "metadata": {},
   "source": [
    "Было бы логичным предположить, что события должны идти в таком порядке:\n",
    "1. `Tutorial` - открытие экрана с руководством по использованию приложения.\n",
    "2. `MainScreenAppear` - открытие главного экрана\n",
    "3. `OffersScreenAppear` - открытие экрана с предложениями\n",
    "4. `CartScreenAppear` - открытие экрана корзины\n",
    "5. `PaymentScreenSuccessful` - открытие экрана с успешной оплатой\n",
    "\n",
    "Но экран с руководством по использованию приложения открывается меньше всего. Предположу, что руководство находится где-то в меню приложения и пользователи его не открывают. Остальные события идут в логическом порядке и выстраиваются в последовательную цепочку."
   ]
  },
  {
   "cell_type": "markdown",
   "metadata": {},
   "source": [
    "Удалю событие Tutorial из датафрейма для корректного расчета доли пользователей на каждом шаге"
   ]
  },
  {
   "cell_type": "code",
   "execution_count": 25,
   "metadata": {},
   "outputs": [],
   "source": [
    "user_cnt = user_cnt.query('event_name != \"Tutorial\"').copy()"
   ]
  },
  {
   "cell_type": "markdown",
   "metadata": {},
   "source": [
    "Добавлю столбец с долей пользователей на каждом следующем шаге воронки. Т.е. посчитаю отношение числа пользователей события OffersScreenAppear к MainScreenAppear, а события CartScreenAppear к OffersScreenAppear и т.д."
   ]
  },
  {
   "cell_type": "code",
   "execution_count": 26,
   "metadata": {},
   "outputs": [
    {
     "data": {
      "text/html": [
       "<div>\n",
       "<style scoped>\n",
       "    .dataframe tbody tr th:only-of-type {\n",
       "        vertical-align: middle;\n",
       "    }\n",
       "\n",
       "    .dataframe tbody tr th {\n",
       "        vertical-align: top;\n",
       "    }\n",
       "\n",
       "    .dataframe thead th {\n",
       "        text-align: right;\n",
       "    }\n",
       "</style>\n",
       "<table border=\"1\" class=\"dataframe\">\n",
       "  <thead>\n",
       "    <tr style=\"text-align: right;\">\n",
       "      <th></th>\n",
       "      <th>event_name</th>\n",
       "      <th>user_cnt</th>\n",
       "      <th>user_pct</th>\n",
       "      <th>user_step_pct</th>\n",
       "    </tr>\n",
       "  </thead>\n",
       "  <tbody>\n",
       "    <tr>\n",
       "      <th>1</th>\n",
       "      <td>MainScreenAppear</td>\n",
       "      <td>7419</td>\n",
       "      <td>98.47</td>\n",
       "      <td></td>\n",
       "    </tr>\n",
       "    <tr>\n",
       "      <th>2</th>\n",
       "      <td>OffersScreenAppear</td>\n",
       "      <td>4593</td>\n",
       "      <td>60.96</td>\n",
       "      <td>61.91</td>\n",
       "    </tr>\n",
       "    <tr>\n",
       "      <th>0</th>\n",
       "      <td>CartScreenAppear</td>\n",
       "      <td>3734</td>\n",
       "      <td>49.56</td>\n",
       "      <td>81.3</td>\n",
       "    </tr>\n",
       "    <tr>\n",
       "      <th>3</th>\n",
       "      <td>PaymentScreenSuccessful</td>\n",
       "      <td>3539</td>\n",
       "      <td>46.97</td>\n",
       "      <td>94.78</td>\n",
       "    </tr>\n",
       "  </tbody>\n",
       "</table>\n",
       "</div>"
      ],
      "text/plain": [
       "                event_name  user_cnt  user_pct user_step_pct\n",
       "1         MainScreenAppear      7419     98.47              \n",
       "2       OffersScreenAppear      4593     60.96         61.91\n",
       "0         CartScreenAppear      3734     49.56          81.3\n",
       "3  PaymentScreenSuccessful      3539     46.97         94.78"
      ]
     },
     "execution_count": 26,
     "metadata": {},
     "output_type": "execute_result"
    }
   ],
   "source": [
    "user_cnt['user_step_pct'] = (user_cnt['user_cnt']/user_cnt['user_cnt'].shift(1)*100).round(2)\n",
    "user_cnt.loc[:, 'user_step_pct'] = user_cnt.loc[:, 'user_step_pct'].fillna('')\n",
    "user_cnt"
   ]
  },
  {
   "cell_type": "markdown",
   "metadata": {},
   "source": [
    "При переходе с первого шага на второй теряется почти 40% пользователей. Это очень большой отток. \n",
    "\n",
    "От первого события до оплаты доходит почти 47% пользователей."
   ]
  },
  {
   "cell_type": "markdown",
   "metadata": {},
   "source": [
    "**Вывод** Воронка событий происходит в следующем порядке:\n",
    "- MainScreenAppear - открытие главного экрана\n",
    "- OffersScreenAppear - открытие экрана с предложениями\n",
    "- CartScreenAppear - открытие экрана корзины\n",
    "- PaymentScreenSuccessful - открытие экрана с успешной оплатой\n",
    "\n",
    "Событие Tutorial проходят не все пользователи\n",
    "\n",
    "При переходе с первого шага на второй теряется почти 40% пользователей. \n",
    "От первого события до оплаты доходит почти 47% пользователей."
   ]
  },
  {
   "cell_type": "markdown",
   "metadata": {},
   "source": [
    "# 4 Изучение результатов эксперимента"
   ]
  },
  {
   "cell_type": "markdown",
   "metadata": {},
   "source": [
    "Еще раз выведу количество пользователей в каждой экспериментальной группе. "
   ]
  },
  {
   "cell_type": "code",
   "execution_count": 27,
   "metadata": {
    "scrolled": true
   },
   "outputs": [
    {
     "data": {
      "text/plain": [
       "group\n",
       "A1    2484\n",
       "A2    2513\n",
       "B     2537\n",
       "Name: user_id, dtype: int64"
      ]
     },
     "execution_count": 27,
     "metadata": {},
     "output_type": "execute_result"
    }
   ],
   "source": [
    "user_by_group = df_new.groupby('group')['user_id'].nunique()\n",
    "user_by_group"
   ]
  },
  {
   "cell_type": "markdown",
   "metadata": {},
   "source": [
    "Создам таблицу, в которой будут отображены количество и доля пользователей каждого события по группам"
   ]
  },
  {
   "cell_type": "code",
   "execution_count": 28,
   "metadata": {},
   "outputs": [
    {
     "data": {
      "text/html": [
       "<div>\n",
       "<style scoped>\n",
       "    .dataframe tbody tr th:only-of-type {\n",
       "        vertical-align: middle;\n",
       "    }\n",
       "\n",
       "    .dataframe tbody tr th {\n",
       "        vertical-align: top;\n",
       "    }\n",
       "\n",
       "    .dataframe thead th {\n",
       "        text-align: right;\n",
       "    }\n",
       "</style>\n",
       "<table border=\"1\" class=\"dataframe\">\n",
       "  <thead>\n",
       "    <tr style=\"text-align: right;\">\n",
       "      <th>group</th>\n",
       "      <th>event_name</th>\n",
       "      <th>A1</th>\n",
       "      <th>%_us_a1</th>\n",
       "      <th>A2</th>\n",
       "      <th>%_us_a2</th>\n",
       "      <th>B</th>\n",
       "      <th>%_us_b</th>\n",
       "    </tr>\n",
       "  </thead>\n",
       "  <tbody>\n",
       "    <tr>\n",
       "      <th>1</th>\n",
       "      <td>MainScreenAppear</td>\n",
       "      <td>2450</td>\n",
       "      <td>98.63</td>\n",
       "      <td>2476</td>\n",
       "      <td>98.53</td>\n",
       "      <td>2493</td>\n",
       "      <td>98.27</td>\n",
       "    </tr>\n",
       "    <tr>\n",
       "      <th>2</th>\n",
       "      <td>OffersScreenAppear</td>\n",
       "      <td>1542</td>\n",
       "      <td>62.08</td>\n",
       "      <td>1520</td>\n",
       "      <td>60.49</td>\n",
       "      <td>1531</td>\n",
       "      <td>60.35</td>\n",
       "    </tr>\n",
       "    <tr>\n",
       "      <th>0</th>\n",
       "      <td>CartScreenAppear</td>\n",
       "      <td>1266</td>\n",
       "      <td>50.97</td>\n",
       "      <td>1238</td>\n",
       "      <td>49.26</td>\n",
       "      <td>1230</td>\n",
       "      <td>48.48</td>\n",
       "    </tr>\n",
       "    <tr>\n",
       "      <th>3</th>\n",
       "      <td>PaymentScreenSuccessful</td>\n",
       "      <td>1200</td>\n",
       "      <td>48.31</td>\n",
       "      <td>1158</td>\n",
       "      <td>46.08</td>\n",
       "      <td>1181</td>\n",
       "      <td>46.55</td>\n",
       "    </tr>\n",
       "    <tr>\n",
       "      <th>4</th>\n",
       "      <td>Tutorial</td>\n",
       "      <td>278</td>\n",
       "      <td>11.19</td>\n",
       "      <td>283</td>\n",
       "      <td>11.26</td>\n",
       "      <td>279</td>\n",
       "      <td>11.00</td>\n",
       "    </tr>\n",
       "  </tbody>\n",
       "</table>\n",
       "</div>"
      ],
      "text/plain": [
       "group               event_name    A1  %_us_a1    A2  %_us_a2     B  %_us_b\n",
       "1             MainScreenAppear  2450    98.63  2476    98.53  2493   98.27\n",
       "2           OffersScreenAppear  1542    62.08  1520    60.49  1531   60.35\n",
       "0             CartScreenAppear  1266    50.97  1238    49.26  1230   48.48\n",
       "3      PaymentScreenSuccessful  1200    48.31  1158    46.08  1181   46.55\n",
       "4                     Tutorial   278    11.19   283    11.26   279   11.00"
      ]
     },
     "execution_count": 28,
     "metadata": {},
     "output_type": "execute_result"
    }
   ],
   "source": [
    "event_by_user_group = (\n",
    "    df_new\n",
    "    .pivot_table(\n",
    "        index='event_name',\n",
    "        columns = 'group',\n",
    "        values = 'user_id',\n",
    "        aggfunc='nunique')\n",
    "    .reset_index()\n",
    "    .sort_values(by='A1', ascending=False)\n",
    ")\n",
    "event_by_user_group['%_us_a1'] = (event_by_user_group['A1']/user_by_group['A1']*100).round(2)\n",
    "event_by_user_group['%_us_a2'] = (event_by_user_group['A2']/user_by_group['A2']*100).round(2)\n",
    "event_by_user_group['%_us_b'] = (event_by_user_group['B']/user_by_group['B']*100).round(2)\n",
    "event_by_user_group[['event_name','A1','%_us_a1','A2','%_us_a2','B','%_us_b']]       "
   ]
  },
  {
   "cell_type": "code",
   "execution_count": 29,
   "metadata": {},
   "outputs": [
    {
     "ename": "ValueError",
     "evalue": "\nImage export using the \"kaleido\" engine requires the kaleido package,\nwhich can be installed using pip:\n    $ pip install -U kaleido\n",
     "output_type": "error",
     "traceback": [
      "\u001b[1;31m---------------------------------------------------------------------------\u001b[0m",
      "\u001b[1;31mValueError\u001b[0m                                Traceback (most recent call last)",
      "\u001b[1;32m~\\AppData\\Local\\Temp\\ipykernel_1064\\1665436116.py\u001b[0m in \u001b[0;36m<module>\u001b[1;34m\u001b[0m\n\u001b[0;32m     24\u001b[0m     textinfo = \"value+percent previous\"))\n\u001b[0;32m     25\u001b[0m \u001b[1;33m\u001b[0m\u001b[0m\n\u001b[1;32m---> 26\u001b[1;33m \u001b[0mfig\u001b[0m\u001b[1;33m.\u001b[0m\u001b[0mshow\u001b[0m\u001b[1;33m(\u001b[0m\u001b[1;33m)\u001b[0m\u001b[1;33m\u001b[0m\u001b[1;33m\u001b[0m\u001b[0m\n\u001b[0m",
      "\u001b[1;32m~\\anaconda3\\lib\\site-packages\\plotly\\basedatatypes.py\u001b[0m in \u001b[0;36mshow\u001b[1;34m(self, *args, **kwargs)\u001b[0m\n\u001b[0;32m   3396\u001b[0m         \u001b[1;32mimport\u001b[0m \u001b[0mplotly\u001b[0m\u001b[1;33m.\u001b[0m\u001b[0mio\u001b[0m \u001b[1;32mas\u001b[0m \u001b[0mpio\u001b[0m\u001b[1;33m\u001b[0m\u001b[1;33m\u001b[0m\u001b[0m\n\u001b[0;32m   3397\u001b[0m \u001b[1;33m\u001b[0m\u001b[0m\n\u001b[1;32m-> 3398\u001b[1;33m         \u001b[1;32mreturn\u001b[0m \u001b[0mpio\u001b[0m\u001b[1;33m.\u001b[0m\u001b[0mshow\u001b[0m\u001b[1;33m(\u001b[0m\u001b[0mself\u001b[0m\u001b[1;33m,\u001b[0m \u001b[1;33m*\u001b[0m\u001b[0margs\u001b[0m\u001b[1;33m,\u001b[0m \u001b[1;33m**\u001b[0m\u001b[0mkwargs\u001b[0m\u001b[1;33m)\u001b[0m\u001b[1;33m\u001b[0m\u001b[1;33m\u001b[0m\u001b[0m\n\u001b[0m\u001b[0;32m   3399\u001b[0m \u001b[1;33m\u001b[0m\u001b[0m\n\u001b[0;32m   3400\u001b[0m     \u001b[1;32mdef\u001b[0m \u001b[0mto_json\u001b[0m\u001b[1;33m(\u001b[0m\u001b[0mself\u001b[0m\u001b[1;33m,\u001b[0m \u001b[1;33m*\u001b[0m\u001b[0margs\u001b[0m\u001b[1;33m,\u001b[0m \u001b[1;33m**\u001b[0m\u001b[0mkwargs\u001b[0m\u001b[1;33m)\u001b[0m\u001b[1;33m:\u001b[0m\u001b[1;33m\u001b[0m\u001b[1;33m\u001b[0m\u001b[0m\n",
      "\u001b[1;32m~\\anaconda3\\lib\\site-packages\\plotly\\io\\_renderers.py\u001b[0m in \u001b[0;36mshow\u001b[1;34m(fig, renderer, validate, **kwargs)\u001b[0m\n\u001b[0;32m    386\u001b[0m \u001b[1;33m\u001b[0m\u001b[0m\n\u001b[0;32m    387\u001b[0m     \u001b[1;31m# Mimetype renderers\u001b[0m\u001b[1;33m\u001b[0m\u001b[1;33m\u001b[0m\u001b[0m\n\u001b[1;32m--> 388\u001b[1;33m     \u001b[0mbundle\u001b[0m \u001b[1;33m=\u001b[0m \u001b[0mrenderers\u001b[0m\u001b[1;33m.\u001b[0m\u001b[0m_build_mime_bundle\u001b[0m\u001b[1;33m(\u001b[0m\u001b[0mfig_dict\u001b[0m\u001b[1;33m,\u001b[0m \u001b[0mrenderers_string\u001b[0m\u001b[1;33m=\u001b[0m\u001b[0mrenderer\u001b[0m\u001b[1;33m,\u001b[0m \u001b[1;33m**\u001b[0m\u001b[0mkwargs\u001b[0m\u001b[1;33m)\u001b[0m\u001b[1;33m\u001b[0m\u001b[1;33m\u001b[0m\u001b[0m\n\u001b[0m\u001b[0;32m    389\u001b[0m     \u001b[1;32mif\u001b[0m \u001b[0mbundle\u001b[0m\u001b[1;33m:\u001b[0m\u001b[1;33m\u001b[0m\u001b[1;33m\u001b[0m\u001b[0m\n\u001b[0;32m    390\u001b[0m         \u001b[1;32mif\u001b[0m \u001b[1;32mnot\u001b[0m \u001b[0mipython_display\u001b[0m\u001b[1;33m:\u001b[0m\u001b[1;33m\u001b[0m\u001b[1;33m\u001b[0m\u001b[0m\n",
      "\u001b[1;32m~\\anaconda3\\lib\\site-packages\\plotly\\io\\_renderers.py\u001b[0m in \u001b[0;36m_build_mime_bundle\u001b[1;34m(self, fig_dict, renderers_string, **kwargs)\u001b[0m\n\u001b[0;32m    294\u001b[0m                         \u001b[0msetattr\u001b[0m\u001b[1;33m(\u001b[0m\u001b[0mrenderer\u001b[0m\u001b[1;33m,\u001b[0m \u001b[0mk\u001b[0m\u001b[1;33m,\u001b[0m \u001b[0mv\u001b[0m\u001b[1;33m)\u001b[0m\u001b[1;33m\u001b[0m\u001b[1;33m\u001b[0m\u001b[0m\n\u001b[0;32m    295\u001b[0m \u001b[1;33m\u001b[0m\u001b[0m\n\u001b[1;32m--> 296\u001b[1;33m                 \u001b[0mbundle\u001b[0m\u001b[1;33m.\u001b[0m\u001b[0mupdate\u001b[0m\u001b[1;33m(\u001b[0m\u001b[0mrenderer\u001b[0m\u001b[1;33m.\u001b[0m\u001b[0mto_mimebundle\u001b[0m\u001b[1;33m(\u001b[0m\u001b[0mfig_dict\u001b[0m\u001b[1;33m)\u001b[0m\u001b[1;33m)\u001b[0m\u001b[1;33m\u001b[0m\u001b[1;33m\u001b[0m\u001b[0m\n\u001b[0m\u001b[0;32m    297\u001b[0m \u001b[1;33m\u001b[0m\u001b[0m\n\u001b[0;32m    298\u001b[0m         \u001b[1;32mreturn\u001b[0m \u001b[0mbundle\u001b[0m\u001b[1;33m\u001b[0m\u001b[1;33m\u001b[0m\u001b[0m\n",
      "\u001b[1;32m~\\anaconda3\\lib\\site-packages\\plotly\\io\\_base_renderers.py\u001b[0m in \u001b[0;36mto_mimebundle\u001b[1;34m(self, fig_dict)\u001b[0m\n\u001b[0;32m    125\u001b[0m \u001b[1;33m\u001b[0m\u001b[0m\n\u001b[0;32m    126\u001b[0m     \u001b[1;32mdef\u001b[0m \u001b[0mto_mimebundle\u001b[0m\u001b[1;33m(\u001b[0m\u001b[0mself\u001b[0m\u001b[1;33m,\u001b[0m \u001b[0mfig_dict\u001b[0m\u001b[1;33m)\u001b[0m\u001b[1;33m:\u001b[0m\u001b[1;33m\u001b[0m\u001b[1;33m\u001b[0m\u001b[0m\n\u001b[1;32m--> 127\u001b[1;33m         image_bytes = to_image(\n\u001b[0m\u001b[0;32m    128\u001b[0m             \u001b[0mfig_dict\u001b[0m\u001b[1;33m,\u001b[0m\u001b[1;33m\u001b[0m\u001b[1;33m\u001b[0m\u001b[0m\n\u001b[0;32m    129\u001b[0m             \u001b[0mformat\u001b[0m\u001b[1;33m=\u001b[0m\u001b[0mself\u001b[0m\u001b[1;33m.\u001b[0m\u001b[0mformat\u001b[0m\u001b[1;33m,\u001b[0m\u001b[1;33m\u001b[0m\u001b[1;33m\u001b[0m\u001b[0m\n",
      "\u001b[1;32m~\\anaconda3\\lib\\site-packages\\plotly\\io\\_kaleido.py\u001b[0m in \u001b[0;36mto_image\u001b[1;34m(fig, format, width, height, scale, validate, engine)\u001b[0m\n\u001b[0;32m    131\u001b[0m     \u001b[1;31m# Raise informative error message if Kaleido is not installed\u001b[0m\u001b[1;33m\u001b[0m\u001b[1;33m\u001b[0m\u001b[0m\n\u001b[0;32m    132\u001b[0m     \u001b[1;32mif\u001b[0m \u001b[0mscope\u001b[0m \u001b[1;32mis\u001b[0m \u001b[1;32mNone\u001b[0m\u001b[1;33m:\u001b[0m\u001b[1;33m\u001b[0m\u001b[1;33m\u001b[0m\u001b[0m\n\u001b[1;32m--> 133\u001b[1;33m         raise ValueError(\n\u001b[0m\u001b[0;32m    134\u001b[0m             \"\"\"\n\u001b[0;32m    135\u001b[0m \u001b[0mImage\u001b[0m \u001b[0mexport\u001b[0m \u001b[0musing\u001b[0m \u001b[0mthe\u001b[0m \u001b[1;34m\"kaleido\"\u001b[0m \u001b[0mengine\u001b[0m \u001b[0mrequires\u001b[0m \u001b[0mthe\u001b[0m \u001b[0mkaleido\u001b[0m \u001b[0mpackage\u001b[0m\u001b[1;33m,\u001b[0m\u001b[1;33m\u001b[0m\u001b[1;33m\u001b[0m\u001b[0m\n",
      "\u001b[1;31mValueError\u001b[0m: \nImage export using the \"kaleido\" engine requires the kaleido package,\nwhich can be installed using pip:\n    $ pip install -U kaleido\n"
     ]
    }
   ],
   "source": [
    "# Визуализирую воронку\n",
    "fig = go.Figure(layout=dict(title=dict(text=\"Воронка событий по группам\")))\n",
    "\n",
    "fig.add_trace(go.Funnel(\n",
    "    name = 'A1',\n",
    "    y = event_by_user_group['event_name'],\n",
    "    x = event_by_user_group['A1'],\n",
    "    textinfo = \"value+percent previous\"))\n",
    "\n",
    "fig.add_trace(go.Funnel(\n",
    "    name = 'A2',\n",
    "    orientation = \"h\",\n",
    "    y = event_by_user_group['event_name'],\n",
    "    x = event_by_user_group['A2'],\n",
    "    textposition = \"inside\",\n",
    "    textinfo = \"value+percent previous\"))\n",
    "\n",
    "fig.add_trace(go.Funnel(\n",
    "    name = 'B',\n",
    "    orientation = \"h\",\n",
    "    y = event_by_user_group['event_name'],\n",
    "    x = event_by_user_group['B'],\n",
    "    textposition = \"inside\",\n",
    "    textinfo = \"value+percent previous\"))\n",
    "\n",
    "fig.show()"
   ]
  },
  {
   "cell_type": "markdown",
   "metadata": {},
   "source": [
    "На визуальном отображении воронки событий заменто, что доли пользователей в группах на каждом этапе примерно равны."
   ]
  },
  {
   "cell_type": "code",
   "execution_count": null,
   "metadata": {},
   "outputs": [],
   "source": [
    "def z_test(group_1, group_2, alpha):\n",
    "    for i in event_by_user_group.index:\n",
    "        # пропорция успехов в первой группе:\n",
    "        p1 = event_by_user_group[group_1][i]/user_by_group[group_1]\n",
    "\n",
    "        # пропорция успехов во второй группе:\n",
    "        p2 = event_by_user_group[group_2][i]/user_by_group[group_2]\n",
    "\n",
    "        # пропорция успехов в комбинированном датасете:\n",
    "        p_combined = (event_by_user_group[group_1][i] + event_by_user_group[group_2][i]) / (user_by_group[group_1] + user_by_group[group_2])\n",
    "\n",
    "        # разница пропорций в датасетах\n",
    "        difference = p1 - p2 \n",
    "        # считаем статистику в ст.отклонениях стандартного нормального распределения\n",
    "        z_value = difference / mth.sqrt(p_combined * (1 - p_combined) * (1/user_by_group[group_1] + 1/user_by_group[group_2]))\n",
    "\n",
    "        # задаем стандартное нормальное распределение (среднее 0, ст.отклонение 1)\n",
    "        distr = st.norm(0, 1)  \n",
    "        p_value = (1 - distr.cdf(abs(z_value))) * 2\n",
    "        \n",
    "        # Т.к. всего проведем 20 тестов, то посчитаем уровень статистической значимости с поправкой Боферрони\n",
    "        bonferroni_alpha = alpha/20 \n",
    "        \n",
    "        print('p-значение события {} между группами {} и {} равно {}'.format(event_by_user_group['event_name'][i], group_1, group_2, p_value))\n",
    "\n",
    "        if p_value < bonferroni_alpha:\n",
    "            print('Отвергаем нулевую гипотезу: между долями есть значимая разница')\n",
    "        else:\n",
    "            print(\n",
    "                'Не получилось отвергнуть нулевую гипотезу, нет оснований считать доли разными'\n",
    "            ) \n",
    "        print('='*50)"
   ]
  },
  {
   "cell_type": "markdown",
   "metadata": {},
   "source": [
    "**Проведу z-тест между группами А1 и А2 по всем событиям.**\n",
    "- H0 - доли между группами А1 и А2 равны\n",
    "- H1 - доли между группами А1 и А2 не равны\n",
    "\n",
    "Т.к. тест длился всего 6 дней то не буду к нему слишком строга и установлю уровень статистической значимости 0,05."
   ]
  },
  {
   "cell_type": "code",
   "execution_count": null,
   "metadata": {},
   "outputs": [],
   "source": [
    "z_test('A1', 'A2', 0.05)"
   ]
  },
  {
   "cell_type": "markdown",
   "metadata": {},
   "source": [
    "По результатам теста различие между группами А1 и А2 незначительное. Выбор контрольных групп сработал корректно."
   ]
  },
  {
   "cell_type": "markdown",
   "metadata": {},
   "source": [
    "**Проведу z-тест между группами А1 и В по всем событиям.**\n",
    "- H0 - доли между группами А1 и В равны\n",
    "- H1 - доли между группами А1 и В не равны"
   ]
  },
  {
   "cell_type": "code",
   "execution_count": null,
   "metadata": {},
   "outputs": [],
   "source": [
    "z_test('A1', 'B', 0.05)"
   ]
  },
  {
   "cell_type": "markdown",
   "metadata": {},
   "source": [
    "**Проведу z-тест между группами А2 и В по всем событиям.**\n",
    "- H0 - доли между группами А1 и В равны\n",
    "- H1 - доли между группами А1 и В не равны"
   ]
  },
  {
   "cell_type": "code",
   "execution_count": null,
   "metadata": {},
   "outputs": [],
   "source": [
    "z_test('A2', 'B', 0.05)"
   ]
  },
  {
   "cell_type": "markdown",
   "metadata": {},
   "source": [
    "Добавлю в таблицs **event_by_user_group** и **user_by_group** колонку **A**, которая объединит значения колонок A1 и A2"
   ]
  },
  {
   "cell_type": "code",
   "execution_count": null,
   "metadata": {},
   "outputs": [],
   "source": [
    "event_by_user_group['A'] = event_by_user_group['A1'] + event_by_user_group['A2']\n",
    "user_by_group['A'] = user_by_group['A1'] + user_by_group['A2']\n",
    "display(event_by_user_group)\n",
    "display(user_by_group)"
   ]
  },
  {
   "cell_type": "markdown",
   "metadata": {},
   "source": [
    "**Проведу z-тест между группами A и В по всем событиям.**\n",
    "- H0 - доли между группами A и В равны\n",
    "- H1 - доли между группами A и В не равны"
   ]
  },
  {
   "cell_type": "code",
   "execution_count": null,
   "metadata": {},
   "outputs": [],
   "source": [
    "z_test('A', 'B', 0.05)"
   ]
  },
  {
   "cell_type": "markdown",
   "metadata": {},
   "source": [
    "По результатам тестов выяснили, что статистические критерии не находят разницу  между экспериментальными группами. Было проведено 20 тестов и на их основании нельзя считать доли разными. Можно сделать вывод, что на пользователей никак не влияет изменение шрифта."
   ]
  },
  {
   "cell_type": "markdown",
   "metadata": {},
   "source": [
    "# Вывод"
   ]
  },
  {
   "cell_type": "markdown",
   "metadata": {},
   "source": [
    "После проверки данных в датасете оставили только полные данные за период с 2019-08-01 по 2019-08-07 включительно. Отбросили чуть больше 1% данных, которые искажали результаты. Выяснили, что пользователи присутствуют во всех 3-х группах и их количество примерно равное.\n",
    "\n",
    "Воронка событий происходит в следующем порядке:\n",
    "\n",
    "- MainScreenAppear - открытие главного экрана\n",
    "- OffersScreenAppear - открытие экрана с предложениями\n",
    "- CartScreenAppear - открытие экрана корзины\n",
    "- PaymentScreenSuccessful - открытие экрана с успешной оплатой\n",
    "\n",
    "Событие Tutorial проходят не все пользователи\n",
    "\n",
    "При переходе с первого шага на второй теряется почти 40% пользователей. Возможно одной из причин как раз является то, что не все пользователи открывают руководство по использованию приложением.\n",
    "От первого события до оплаты доходит почти 47% пользователей.\n",
    "\n",
    "По результатам тестирования, статистически значимых различий между А1, А2 и В группами мы не нашлось. Это означает, что гипотеза о том, что изменение шрифта на главной странице повлияет на пользователей, не подтвердилась.\n",
    "\n",
    "Рекомендации:\n",
    "- сделать страницу Tutorial обязательной к прохождению. Проверить влияние этого эксперимента на контрольных группах.\n",
    "- рассмотреть возможность увеличить период эксперимента по шрифтам, т.к. у нас данные за очень небольшой промежуток времени, и повторно провести z-тесты."
   ]
  }
 ],
 "metadata": {
  "ExecuteTimeLog": [
   {
    "duration": 440,
    "start_time": "2023-04-11T17:05:23.824Z"
   },
   {
    "duration": 3,
    "start_time": "2023-04-11T17:05:24.542Z"
   },
   {
    "duration": 653,
    "start_time": "2023-04-11T17:06:04.953Z"
   },
   {
    "duration": 327,
    "start_time": "2023-04-11T17:08:30.631Z"
   },
   {
    "duration": 295,
    "start_time": "2023-04-11T17:08:35.245Z"
   },
   {
    "duration": 173,
    "start_time": "2023-04-11T17:13:19.456Z"
   },
   {
    "duration": 368,
    "start_time": "2023-04-11T17:13:37.198Z"
   },
   {
    "duration": 199,
    "start_time": "2023-04-11T17:13:49.226Z"
   },
   {
    "duration": 160,
    "start_time": "2023-04-11T17:14:11.276Z"
   },
   {
    "duration": 68,
    "start_time": "2023-04-11T17:17:31.267Z"
   },
   {
    "duration": 4,
    "start_time": "2023-04-11T17:19:40.769Z"
   },
   {
    "duration": 7,
    "start_time": "2023-04-11T17:19:49.183Z"
   },
   {
    "duration": 5,
    "start_time": "2023-04-11T17:19:55.224Z"
   },
   {
    "duration": 4,
    "start_time": "2023-04-11T17:20:51.668Z"
   },
   {
    "duration": 21,
    "start_time": "2023-04-11T17:20:58.259Z"
   },
   {
    "duration": 22,
    "start_time": "2023-04-11T17:21:32.235Z"
   },
   {
    "duration": 4,
    "start_time": "2023-04-11T17:36:09.565Z"
   },
   {
    "duration": 4,
    "start_time": "2023-04-11T17:36:21.591Z"
   },
   {
    "duration": 5,
    "start_time": "2023-04-11T17:37:09.451Z"
   },
   {
    "duration": 5,
    "start_time": "2023-04-11T17:44:03.746Z"
   },
   {
    "duration": 471,
    "start_time": "2023-04-11T17:44:30.606Z"
   },
   {
    "duration": 196,
    "start_time": "2023-04-11T17:44:31.079Z"
   },
   {
    "duration": 4,
    "start_time": "2023-04-11T17:44:31.277Z"
   },
   {
    "duration": 46,
    "start_time": "2023-04-11T17:44:31.283Z"
   },
   {
    "duration": 60,
    "start_time": "2023-04-11T17:44:31.331Z"
   },
   {
    "duration": 16,
    "start_time": "2023-04-11T17:50:34.563Z"
   },
   {
    "duration": 117,
    "start_time": "2023-04-11T17:50:43.720Z"
   },
   {
    "duration": 18,
    "start_time": "2023-04-11T17:51:00.047Z"
   },
   {
    "duration": 14,
    "start_time": "2023-04-11T17:51:10.462Z"
   },
   {
    "duration": 14,
    "start_time": "2023-04-11T17:51:22.456Z"
   },
   {
    "duration": 2,
    "start_time": "2023-04-11T17:52:55.195Z"
   },
   {
    "duration": 86,
    "start_time": "2023-04-11T17:57:53.104Z"
   },
   {
    "duration": 9,
    "start_time": "2023-04-11T17:57:59.652Z"
   },
   {
    "duration": 30,
    "start_time": "2023-04-11T17:58:54.000Z"
   },
   {
    "duration": 429,
    "start_time": "2023-04-11T17:59:42.380Z"
   },
   {
    "duration": 188,
    "start_time": "2023-04-11T17:59:42.811Z"
   },
   {
    "duration": 5,
    "start_time": "2023-04-11T17:59:43.001Z"
   },
   {
    "duration": 9,
    "start_time": "2023-04-11T17:59:43.008Z"
   },
   {
    "duration": 45,
    "start_time": "2023-04-11T17:59:43.019Z"
   },
   {
    "duration": 18,
    "start_time": "2023-04-11T17:59:43.066Z"
   },
   {
    "duration": 111,
    "start_time": "2023-04-11T17:59:43.087Z"
   },
   {
    "duration": 12,
    "start_time": "2023-04-11T17:59:43.200Z"
   },
   {
    "duration": 14,
    "start_time": "2023-04-11T18:00:14.023Z"
   },
   {
    "duration": 96,
    "start_time": "2023-04-11T18:03:29.180Z"
   },
   {
    "duration": 182,
    "start_time": "2023-04-11T18:04:18.714Z"
   },
   {
    "duration": 261,
    "start_time": "2023-04-11T18:04:45.433Z"
   },
   {
    "duration": 144,
    "start_time": "2023-04-11T18:05:30.381Z"
   },
   {
    "duration": 181,
    "start_time": "2023-04-11T18:05:46.185Z"
   },
   {
    "duration": 197,
    "start_time": "2023-04-11T18:06:18.618Z"
   },
   {
    "duration": 95,
    "start_time": "2023-04-11T18:06:49.308Z"
   },
   {
    "duration": 88,
    "start_time": "2023-04-11T18:07:19.010Z"
   },
   {
    "duration": 118,
    "start_time": "2023-04-11T18:11:24.219Z"
   },
   {
    "duration": 98,
    "start_time": "2023-04-11T18:11:37.728Z"
   },
   {
    "duration": 83,
    "start_time": "2023-04-11T18:11:45.556Z"
   },
   {
    "duration": 93,
    "start_time": "2023-04-11T18:12:10.114Z"
   },
   {
    "duration": 88,
    "start_time": "2023-04-11T18:12:46.613Z"
   },
   {
    "duration": 20,
    "start_time": "2023-04-11T18:14:27.463Z"
   },
   {
    "duration": 24,
    "start_time": "2023-04-11T18:15:08.930Z"
   },
   {
    "duration": 20,
    "start_time": "2023-04-11T18:15:20.774Z"
   },
   {
    "duration": 25,
    "start_time": "2023-04-11T18:15:24.069Z"
   },
   {
    "duration": 6,
    "start_time": "2023-04-11T18:19:10.591Z"
   },
   {
    "duration": 9,
    "start_time": "2023-04-11T18:19:14.025Z"
   },
   {
    "duration": 5,
    "start_time": "2023-04-11T18:22:25.830Z"
   },
   {
    "duration": 4,
    "start_time": "2023-04-11T18:22:39.068Z"
   },
   {
    "duration": 4,
    "start_time": "2023-04-11T18:30:36.480Z"
   },
   {
    "duration": 3,
    "start_time": "2023-04-11T18:31:01.688Z"
   },
   {
    "duration": 60,
    "start_time": "2023-04-11T18:32:17.898Z"
   },
   {
    "duration": 3,
    "start_time": "2023-04-11T18:32:35.470Z"
   },
   {
    "duration": 67,
    "start_time": "2023-04-11T18:32:47.170Z"
   },
   {
    "duration": 77,
    "start_time": "2023-04-11T18:32:53.923Z"
   },
   {
    "duration": 69,
    "start_time": "2023-04-11T18:32:58.465Z"
   },
   {
    "duration": 79,
    "start_time": "2023-04-11T18:33:04.277Z"
   },
   {
    "duration": 75,
    "start_time": "2023-04-11T18:33:12.235Z"
   },
   {
    "duration": 3,
    "start_time": "2023-04-11T18:35:44.722Z"
   },
   {
    "duration": 74,
    "start_time": "2023-04-11T18:35:53.089Z"
   },
   {
    "duration": 64,
    "start_time": "2023-04-11T18:36:07.558Z"
   },
   {
    "duration": 85,
    "start_time": "2023-04-11T18:36:21.803Z"
   },
   {
    "duration": 122,
    "start_time": "2023-04-11T18:37:25.253Z"
   },
   {
    "duration": 3,
    "start_time": "2023-04-11T18:37:35.893Z"
   },
   {
    "duration": 80,
    "start_time": "2023-04-11T18:37:55.794Z"
   },
   {
    "duration": 406,
    "start_time": "2023-04-11T18:38:02.187Z"
   },
   {
    "duration": 197,
    "start_time": "2023-04-11T18:38:02.595Z"
   },
   {
    "duration": 4,
    "start_time": "2023-04-11T18:38:02.794Z"
   },
   {
    "duration": 22,
    "start_time": "2023-04-11T18:38:02.800Z"
   },
   {
    "duration": 38,
    "start_time": "2023-04-11T18:38:02.824Z"
   },
   {
    "duration": 17,
    "start_time": "2023-04-11T18:38:02.864Z"
   },
   {
    "duration": 83,
    "start_time": "2023-04-11T18:38:02.883Z"
   },
   {
    "duration": 14,
    "start_time": "2023-04-11T18:38:02.968Z"
   },
   {
    "duration": 119,
    "start_time": "2023-04-11T18:38:02.984Z"
   },
   {
    "duration": 157,
    "start_time": "2023-04-11T18:38:03.105Z"
   },
   {
    "duration": 20,
    "start_time": "2023-04-11T18:38:03.263Z"
   },
   {
    "duration": 12,
    "start_time": "2023-04-11T18:38:03.285Z"
   },
   {
    "duration": 12,
    "start_time": "2023-04-11T18:38:03.299Z"
   },
   {
    "duration": 21,
    "start_time": "2023-04-11T18:38:03.314Z"
   },
   {
    "duration": 55,
    "start_time": "2023-04-11T18:39:03.542Z"
   },
   {
    "duration": 65,
    "start_time": "2023-04-11T18:39:21.971Z"
   },
   {
    "duration": 50,
    "start_time": "2023-04-11T18:39:29.126Z"
   },
   {
    "duration": 68,
    "start_time": "2023-04-11T18:39:57.782Z"
   },
   {
    "duration": 78,
    "start_time": "2023-04-11T18:40:10.201Z"
   },
   {
    "duration": 446,
    "start_time": "2023-04-11T18:40:21.143Z"
   },
   {
    "duration": 194,
    "start_time": "2023-04-11T18:40:21.592Z"
   },
   {
    "duration": 6,
    "start_time": "2023-04-11T18:40:21.788Z"
   },
   {
    "duration": 10,
    "start_time": "2023-04-11T18:40:21.796Z"
   },
   {
    "duration": 38,
    "start_time": "2023-04-11T18:40:21.809Z"
   },
   {
    "duration": 18,
    "start_time": "2023-04-11T18:40:21.850Z"
   },
   {
    "duration": 104,
    "start_time": "2023-04-11T18:40:21.870Z"
   },
   {
    "duration": 10,
    "start_time": "2023-04-11T18:40:21.976Z"
   },
   {
    "duration": 125,
    "start_time": "2023-04-11T18:40:21.988Z"
   },
   {
    "duration": 147,
    "start_time": "2023-04-11T18:40:22.115Z"
   },
   {
    "duration": 21,
    "start_time": "2023-04-11T18:40:22.264Z"
   },
   {
    "duration": 43,
    "start_time": "2023-04-11T18:40:22.287Z"
   },
   {
    "duration": 38,
    "start_time": "2023-04-11T18:40:22.332Z"
   },
   {
    "duration": 17,
    "start_time": "2023-04-11T18:40:22.373Z"
   },
   {
    "duration": 76,
    "start_time": "2023-04-11T18:41:40.562Z"
   },
   {
    "duration": 156,
    "start_time": "2023-04-11T18:41:50.191Z"
   },
   {
    "duration": 411,
    "start_time": "2023-04-11T18:42:04.771Z"
   },
   {
    "duration": 193,
    "start_time": "2023-04-11T18:42:05.184Z"
   },
   {
    "duration": 4,
    "start_time": "2023-04-11T18:42:05.379Z"
   },
   {
    "duration": 10,
    "start_time": "2023-04-11T18:42:05.385Z"
   },
   {
    "duration": 29,
    "start_time": "2023-04-11T18:42:05.397Z"
   },
   {
    "duration": 20,
    "start_time": "2023-04-11T18:42:05.428Z"
   },
   {
    "duration": 69,
    "start_time": "2023-04-11T18:42:05.450Z"
   },
   {
    "duration": 20,
    "start_time": "2023-04-11T18:42:05.520Z"
   },
   {
    "duration": 191,
    "start_time": "2023-04-11T18:42:05.542Z"
   },
   {
    "duration": 152,
    "start_time": "2023-04-11T18:42:05.736Z"
   },
   {
    "duration": 17,
    "start_time": "2023-04-11T18:42:05.890Z"
   },
   {
    "duration": 10,
    "start_time": "2023-04-11T18:42:05.909Z"
   },
   {
    "duration": 14,
    "start_time": "2023-04-11T18:42:05.920Z"
   },
   {
    "duration": 9,
    "start_time": "2023-04-11T18:42:05.935Z"
   },
   {
    "duration": 68,
    "start_time": "2023-04-11T18:42:17.564Z"
   },
   {
    "duration": 397,
    "start_time": "2023-04-11T18:42:26.476Z"
   },
   {
    "duration": 196,
    "start_time": "2023-04-11T18:42:26.875Z"
   },
   {
    "duration": 4,
    "start_time": "2023-04-11T18:42:27.073Z"
   },
   {
    "duration": 17,
    "start_time": "2023-04-11T18:42:27.079Z"
   },
   {
    "duration": 44,
    "start_time": "2023-04-11T18:42:27.098Z"
   },
   {
    "duration": 14,
    "start_time": "2023-04-11T18:42:27.144Z"
   },
   {
    "duration": 77,
    "start_time": "2023-04-11T18:42:27.160Z"
   },
   {
    "duration": 9,
    "start_time": "2023-04-11T18:42:27.239Z"
   },
   {
    "duration": 108,
    "start_time": "2023-04-11T18:42:27.250Z"
   },
   {
    "duration": 122,
    "start_time": "2023-04-11T18:42:27.360Z"
   },
   {
    "duration": 19,
    "start_time": "2023-04-11T18:42:27.484Z"
   },
   {
    "duration": 16,
    "start_time": "2023-04-11T18:42:27.505Z"
   },
   {
    "duration": 3,
    "start_time": "2023-04-11T18:42:27.534Z"
   },
   {
    "duration": 23,
    "start_time": "2023-04-11T18:42:27.539Z"
   },
   {
    "duration": 11,
    "start_time": "2023-04-11T18:44:54.945Z"
   },
   {
    "duration": 11,
    "start_time": "2023-04-11T18:45:02.817Z"
   },
   {
    "duration": 61,
    "start_time": "2023-04-11T18:54:18.224Z"
   },
   {
    "duration": 83,
    "start_time": "2023-04-11T18:54:25.957Z"
   },
   {
    "duration": 57,
    "start_time": "2023-04-11T19:02:20.445Z"
   },
   {
    "duration": 53,
    "start_time": "2023-04-11T19:02:26.523Z"
   },
   {
    "duration": 4,
    "start_time": "2023-04-11T19:02:58.205Z"
   },
   {
    "duration": 5,
    "start_time": "2023-04-11T19:03:22.774Z"
   },
   {
    "duration": 50,
    "start_time": "2023-04-11T19:04:01.061Z"
   },
   {
    "duration": 4,
    "start_time": "2023-04-11T19:06:05.235Z"
   },
   {
    "duration": 31,
    "start_time": "2023-04-11T19:07:05.004Z"
   },
   {
    "duration": 42,
    "start_time": "2023-04-11T19:09:10.522Z"
   },
   {
    "duration": 43,
    "start_time": "2023-04-11T19:10:13.103Z"
   },
   {
    "duration": 36,
    "start_time": "2023-04-11T19:11:04.733Z"
   },
   {
    "duration": 27,
    "start_time": "2023-04-11T19:12:29.182Z"
   },
   {
    "duration": 28,
    "start_time": "2023-04-11T19:12:58.104Z"
   },
   {
    "duration": 29,
    "start_time": "2023-04-11T19:14:12.750Z"
   },
   {
    "duration": 26,
    "start_time": "2023-04-11T19:21:46.467Z"
   },
   {
    "duration": 62,
    "start_time": "2023-04-11T19:24:30.675Z"
   },
   {
    "duration": 101,
    "start_time": "2023-04-11T19:24:41.552Z"
   },
   {
    "duration": 104,
    "start_time": "2023-04-11T19:25:06.786Z"
   },
   {
    "duration": 50,
    "start_time": "2023-04-11T19:25:11.837Z"
   },
   {
    "duration": 52,
    "start_time": "2023-04-11T19:25:51.282Z"
   },
   {
    "duration": 383,
    "start_time": "2023-04-11T19:27:56.569Z"
   },
   {
    "duration": 214,
    "start_time": "2023-04-11T19:27:56.954Z"
   },
   {
    "duration": 7,
    "start_time": "2023-04-11T19:27:57.171Z"
   },
   {
    "duration": 12,
    "start_time": "2023-04-11T19:27:57.180Z"
   },
   {
    "duration": 37,
    "start_time": "2023-04-11T19:27:57.194Z"
   },
   {
    "duration": 14,
    "start_time": "2023-04-11T19:27:57.233Z"
   },
   {
    "duration": 67,
    "start_time": "2023-04-11T19:27:57.249Z"
   },
   {
    "duration": 20,
    "start_time": "2023-04-11T19:27:57.318Z"
   },
   {
    "duration": 95,
    "start_time": "2023-04-11T19:27:57.340Z"
   },
   {
    "duration": 120,
    "start_time": "2023-04-11T19:27:57.437Z"
   },
   {
    "duration": 18,
    "start_time": "2023-04-11T19:27:57.559Z"
   },
   {
    "duration": 11,
    "start_time": "2023-04-11T19:27:57.578Z"
   },
   {
    "duration": 21,
    "start_time": "2023-04-11T19:27:57.590Z"
   },
   {
    "duration": 64,
    "start_time": "2023-04-11T19:27:57.613Z"
   },
   {
    "duration": 75,
    "start_time": "2023-04-11T19:30:51.931Z"
   },
   {
    "duration": 60,
    "start_time": "2023-04-11T19:31:08.931Z"
   },
   {
    "duration": 167,
    "start_time": "2023-04-11T19:31:12.597Z"
   },
   {
    "duration": 47,
    "start_time": "2023-04-11T19:31:46.110Z"
   },
   {
    "duration": 21,
    "start_time": "2023-04-11T19:31:49.373Z"
   },
   {
    "duration": 19,
    "start_time": "2023-04-11T19:31:59.475Z"
   },
   {
    "duration": 159,
    "start_time": "2023-04-11T19:33:55.025Z"
   },
   {
    "duration": 47,
    "start_time": "2023-04-11T19:34:15.038Z"
   },
   {
    "duration": 160,
    "start_time": "2023-04-11T19:34:22.228Z"
   },
   {
    "duration": 17,
    "start_time": "2023-04-11T19:34:31.881Z"
   },
   {
    "duration": 56,
    "start_time": "2023-04-11T19:35:07.245Z"
   },
   {
    "duration": 50,
    "start_time": "2023-04-11T19:35:21.212Z"
   },
   {
    "duration": 62,
    "start_time": "2023-04-11T19:35:27.702Z"
   },
   {
    "duration": 392,
    "start_time": "2023-04-13T16:20:41.166Z"
   },
   {
    "duration": 570,
    "start_time": "2023-04-13T16:20:41.560Z"
   },
   {
    "duration": 5,
    "start_time": "2023-04-13T16:20:42.131Z"
   },
   {
    "duration": 23,
    "start_time": "2023-04-13T16:20:42.139Z"
   },
   {
    "duration": 53,
    "start_time": "2023-04-13T16:20:42.164Z"
   },
   {
    "duration": 23,
    "start_time": "2023-04-13T16:20:42.219Z"
   },
   {
    "duration": 100,
    "start_time": "2023-04-13T16:20:42.244Z"
   },
   {
    "duration": 10,
    "start_time": "2023-04-13T16:20:42.346Z"
   },
   {
    "duration": 153,
    "start_time": "2023-04-13T16:20:42.357Z"
   },
   {
    "duration": 149,
    "start_time": "2023-04-13T16:20:42.514Z"
   },
   {
    "duration": 25,
    "start_time": "2023-04-13T16:20:42.665Z"
   },
   {
    "duration": 30,
    "start_time": "2023-04-13T16:20:42.693Z"
   },
   {
    "duration": 43,
    "start_time": "2023-04-13T16:20:42.725Z"
   },
   {
    "duration": 65,
    "start_time": "2023-04-13T16:20:42.770Z"
   },
   {
    "duration": 997,
    "start_time": "2023-04-13T16:30:07.779Z"
   },
   {
    "duration": 1357,
    "start_time": "2023-04-13T16:30:12.926Z"
   },
   {
    "duration": 184,
    "start_time": "2023-04-13T16:30:14.286Z"
   },
   {
    "duration": 5,
    "start_time": "2023-04-13T16:30:14.472Z"
   },
   {
    "duration": 24,
    "start_time": "2023-04-13T16:30:14.479Z"
   },
   {
    "duration": 40,
    "start_time": "2023-04-13T16:30:14.505Z"
   },
   {
    "duration": 27,
    "start_time": "2023-04-13T16:30:14.547Z"
   },
   {
    "duration": 81,
    "start_time": "2023-04-13T16:30:14.576Z"
   },
   {
    "duration": 10,
    "start_time": "2023-04-13T16:30:14.659Z"
   },
   {
    "duration": 104,
    "start_time": "2023-04-13T16:30:14.670Z"
   },
   {
    "duration": 115,
    "start_time": "2023-04-13T16:30:14.776Z"
   },
   {
    "duration": 37,
    "start_time": "2023-04-13T16:30:14.893Z"
   },
   {
    "duration": 10,
    "start_time": "2023-04-13T16:30:14.932Z"
   },
   {
    "duration": 11,
    "start_time": "2023-04-13T16:30:14.944Z"
   },
   {
    "duration": 68,
    "start_time": "2023-04-13T16:30:14.957Z"
   },
   {
    "duration": 210,
    "start_time": "2023-04-13T16:31:21.906Z"
   },
   {
    "duration": 78,
    "start_time": "2023-04-13T16:33:05.608Z"
   },
   {
    "duration": 1461,
    "start_time": "2023-04-13T16:33:23.745Z"
   },
   {
    "duration": 645,
    "start_time": "2023-04-13T16:33:58.172Z"
   },
   {
    "duration": 1024,
    "start_time": "2023-04-13T16:46:34.635Z"
   },
   {
    "duration": 192,
    "start_time": "2023-04-13T16:46:35.661Z"
   },
   {
    "duration": 4,
    "start_time": "2023-04-13T16:46:35.855Z"
   },
   {
    "duration": 20,
    "start_time": "2023-04-13T16:46:35.861Z"
   },
   {
    "duration": 43,
    "start_time": "2023-04-13T16:46:35.883Z"
   },
   {
    "duration": 17,
    "start_time": "2023-04-13T16:46:35.928Z"
   },
   {
    "duration": 101,
    "start_time": "2023-04-13T16:46:35.946Z"
   },
   {
    "duration": 22,
    "start_time": "2023-04-13T16:46:36.049Z"
   },
   {
    "duration": 123,
    "start_time": "2023-04-13T16:46:36.072Z"
   },
   {
    "duration": 147,
    "start_time": "2023-04-13T16:46:36.197Z"
   },
   {
    "duration": 20,
    "start_time": "2023-04-13T16:46:36.346Z"
   },
   {
    "duration": 5,
    "start_time": "2023-04-13T16:46:36.368Z"
   },
   {
    "duration": 11,
    "start_time": "2023-04-13T16:46:36.375Z"
   },
   {
    "duration": 93,
    "start_time": "2023-04-13T16:46:36.387Z"
   },
   {
    "duration": 88,
    "start_time": "2023-04-13T16:46:36.483Z"
   },
   {
    "duration": 68,
    "start_time": "2023-04-13T16:49:36.113Z"
   },
   {
    "duration": 25,
    "start_time": "2023-04-13T16:49:47.580Z"
   },
   {
    "duration": 19,
    "start_time": "2023-04-13T16:50:07.674Z"
   },
   {
    "duration": 529,
    "start_time": "2023-04-13T16:50:17.326Z"
   },
   {
    "duration": 22,
    "start_time": "2023-04-13T16:50:31.574Z"
   },
   {
    "duration": 507,
    "start_time": "2023-04-13T16:50:44.876Z"
   },
   {
    "duration": 586,
    "start_time": "2023-04-13T16:51:45.308Z"
   },
   {
    "duration": 681,
    "start_time": "2023-04-13T16:52:26.028Z"
   },
   {
    "duration": 686,
    "start_time": "2023-04-13T16:52:44.094Z"
   },
   {
    "duration": 521,
    "start_time": "2023-04-13T16:55:35.987Z"
   },
   {
    "duration": 567,
    "start_time": "2023-04-13T16:55:42.174Z"
   },
   {
    "duration": 550,
    "start_time": "2023-04-13T16:56:06.072Z"
   },
   {
    "duration": 1375,
    "start_time": "2023-04-13T16:56:17.746Z"
   },
   {
    "duration": 745,
    "start_time": "2023-04-13T16:56:22.572Z"
   },
   {
    "duration": 606,
    "start_time": "2023-04-13T16:56:32.851Z"
   },
   {
    "duration": 1055,
    "start_time": "2023-04-13T16:56:42.659Z"
   },
   {
    "duration": 692,
    "start_time": "2023-04-13T16:56:48.244Z"
   },
   {
    "duration": 548,
    "start_time": "2023-04-13T16:56:59.446Z"
   },
   {
    "duration": 508,
    "start_time": "2023-04-13T16:57:03.942Z"
   },
   {
    "duration": 88,
    "start_time": "2023-04-13T16:57:29.183Z"
   },
   {
    "duration": 275,
    "start_time": "2023-04-13T16:57:59.311Z"
   },
   {
    "duration": 258,
    "start_time": "2023-04-13T16:58:14.778Z"
   },
   {
    "duration": 329,
    "start_time": "2023-04-13T16:58:21.215Z"
   },
   {
    "duration": 363,
    "start_time": "2023-04-13T16:58:28.190Z"
   },
   {
    "duration": 244,
    "start_time": "2023-04-13T17:04:25.172Z"
   },
   {
    "duration": 172,
    "start_time": "2023-04-13T17:04:54.432Z"
   },
   {
    "duration": 2,
    "start_time": "2023-04-13T17:05:48.196Z"
   },
   {
    "duration": 250,
    "start_time": "2023-04-13T17:05:53.932Z"
   },
   {
    "duration": 149,
    "start_time": "2023-04-13T17:06:19.508Z"
   },
   {
    "duration": 243,
    "start_time": "2023-04-13T17:06:50.229Z"
   },
   {
    "duration": 285,
    "start_time": "2023-04-13T17:07:57.656Z"
   },
   {
    "duration": 5,
    "start_time": "2023-04-13T18:10:18.268Z"
   },
   {
    "duration": 22,
    "start_time": "2023-04-13T18:11:45.873Z"
   },
   {
    "duration": 8,
    "start_time": "2023-04-13T18:17:08.134Z"
   },
   {
    "duration": 8,
    "start_time": "2023-04-13T18:17:16.911Z"
   },
   {
    "duration": 10,
    "start_time": "2023-04-13T18:17:31.770Z"
   },
   {
    "duration": 605,
    "start_time": "2023-04-13T18:17:40.760Z"
   },
   {
    "duration": 178,
    "start_time": "2023-04-13T18:17:41.367Z"
   },
   {
    "duration": 4,
    "start_time": "2023-04-13T18:17:41.547Z"
   },
   {
    "duration": 14,
    "start_time": "2023-04-13T18:17:41.553Z"
   },
   {
    "duration": 30,
    "start_time": "2023-04-13T18:17:41.569Z"
   },
   {
    "duration": 21,
    "start_time": "2023-04-13T18:17:41.600Z"
   },
   {
    "duration": 74,
    "start_time": "2023-04-13T18:17:41.623Z"
   },
   {
    "duration": 22,
    "start_time": "2023-04-13T18:17:41.699Z"
   },
   {
    "duration": 99,
    "start_time": "2023-04-13T18:17:41.723Z"
   },
   {
    "duration": 145,
    "start_time": "2023-04-13T18:17:41.824Z"
   },
   {
    "duration": 25,
    "start_time": "2023-04-13T18:17:41.971Z"
   },
   {
    "duration": 34,
    "start_time": "2023-04-13T18:17:41.997Z"
   },
   {
    "duration": 6,
    "start_time": "2023-04-13T18:17:42.033Z"
   },
   {
    "duration": 10,
    "start_time": "2023-04-13T18:17:42.041Z"
   },
   {
    "duration": 10,
    "start_time": "2023-04-13T18:17:42.052Z"
   },
   {
    "duration": 73,
    "start_time": "2023-04-13T18:17:42.064Z"
   },
   {
    "duration": 33,
    "start_time": "2023-04-13T18:18:04.803Z"
   },
   {
    "duration": 10,
    "start_time": "2023-04-13T18:18:06.052Z"
   },
   {
    "duration": 10,
    "start_time": "2023-04-13T18:18:26.427Z"
   },
   {
    "duration": 149,
    "start_time": "2023-04-13T18:19:40.724Z"
   },
   {
    "duration": 29,
    "start_time": "2023-04-13T18:20:00.870Z"
   },
   {
    "duration": 84,
    "start_time": "2023-04-13T18:27:32.056Z"
   },
   {
    "duration": 79,
    "start_time": "2023-04-13T18:27:51.530Z"
   },
   {
    "duration": 84,
    "start_time": "2023-04-13T18:28:29.201Z"
   },
   {
    "duration": 283,
    "start_time": "2023-04-13T18:29:32.515Z"
   },
   {
    "duration": 67,
    "start_time": "2023-04-13T18:29:55.745Z"
   },
   {
    "duration": 165,
    "start_time": "2023-04-13T18:30:02.608Z"
   },
   {
    "duration": 83,
    "start_time": "2023-04-13T18:30:08.853Z"
   },
   {
    "duration": 197,
    "start_time": "2023-04-13T18:30:13.634Z"
   },
   {
    "duration": 253,
    "start_time": "2023-04-13T18:30:39.396Z"
   },
   {
    "duration": 68,
    "start_time": "2023-04-13T18:32:35.003Z"
   },
   {
    "duration": 686,
    "start_time": "2023-04-13T18:34:38.629Z"
   },
   {
    "duration": 184,
    "start_time": "2023-04-13T18:34:39.318Z"
   },
   {
    "duration": 4,
    "start_time": "2023-04-13T18:34:39.504Z"
   },
   {
    "duration": 5,
    "start_time": "2023-04-13T18:34:39.517Z"
   },
   {
    "duration": 29,
    "start_time": "2023-04-13T18:34:39.524Z"
   },
   {
    "duration": 14,
    "start_time": "2023-04-13T18:34:39.555Z"
   },
   {
    "duration": 94,
    "start_time": "2023-04-13T18:34:39.571Z"
   },
   {
    "duration": 13,
    "start_time": "2023-04-13T18:34:39.667Z"
   },
   {
    "duration": 100,
    "start_time": "2023-04-13T18:34:39.681Z"
   },
   {
    "duration": 119,
    "start_time": "2023-04-13T18:34:39.783Z"
   },
   {
    "duration": 22,
    "start_time": "2023-04-13T18:34:39.904Z"
   },
   {
    "duration": 16,
    "start_time": "2023-04-13T18:34:39.927Z"
   },
   {
    "duration": 33,
    "start_time": "2023-04-13T18:34:39.945Z"
   },
   {
    "duration": 9,
    "start_time": "2023-04-13T18:34:39.981Z"
   },
   {
    "duration": 4,
    "start_time": "2023-04-13T18:34:40.018Z"
   },
   {
    "duration": 99,
    "start_time": "2023-04-13T18:34:40.023Z"
   },
   {
    "duration": 62,
    "start_time": "2023-04-13T18:34:40.123Z"
   },
   {
    "duration": 83,
    "start_time": "2023-04-13T18:37:13.867Z"
   },
   {
    "duration": 8,
    "start_time": "2023-04-13T18:37:39.553Z"
   },
   {
    "duration": 510,
    "start_time": "2023-04-13T18:39:23.937Z"
   },
   {
    "duration": 1151,
    "start_time": "2023-04-13T18:39:29.334Z"
   },
   {
    "duration": 184,
    "start_time": "2023-04-13T18:39:30.487Z"
   },
   {
    "duration": 5,
    "start_time": "2023-04-13T18:39:30.673Z"
   },
   {
    "duration": 33,
    "start_time": "2023-04-13T18:39:30.679Z"
   },
   {
    "duration": 53,
    "start_time": "2023-04-13T18:39:30.715Z"
   },
   {
    "duration": 55,
    "start_time": "2023-04-13T18:39:30.770Z"
   },
   {
    "duration": 109,
    "start_time": "2023-04-13T18:39:30.826Z"
   },
   {
    "duration": 9,
    "start_time": "2023-04-13T18:39:30.937Z"
   },
   {
    "duration": 118,
    "start_time": "2023-04-13T18:39:30.948Z"
   },
   {
    "duration": 133,
    "start_time": "2023-04-13T18:39:31.068Z"
   },
   {
    "duration": 30,
    "start_time": "2023-04-13T18:39:31.203Z"
   },
   {
    "duration": 61,
    "start_time": "2023-04-13T18:39:31.235Z"
   },
   {
    "duration": 66,
    "start_time": "2023-04-13T18:39:31.299Z"
   },
   {
    "duration": 10,
    "start_time": "2023-04-13T18:39:31.368Z"
   },
   {
    "duration": 52,
    "start_time": "2023-04-13T18:39:31.381Z"
   },
   {
    "duration": 109,
    "start_time": "2023-04-13T18:39:31.434Z"
   },
   {
    "duration": 0,
    "start_time": "2023-04-13T18:39:31.659Z"
   },
   {
    "duration": 9,
    "start_time": "2023-04-13T18:39:34.638Z"
   },
   {
    "duration": 1220,
    "start_time": "2023-04-13T18:39:50.794Z"
   },
   {
    "duration": 3272,
    "start_time": "2023-04-13T18:40:01.133Z"
   },
   {
    "duration": 582,
    "start_time": "2023-04-13T18:40:19.776Z"
   },
   {
    "duration": 594,
    "start_time": "2023-04-13T18:41:55.607Z"
   },
   {
    "duration": 26,
    "start_time": "2023-04-13T18:44:25.545Z"
   },
   {
    "duration": 219,
    "start_time": "2023-04-13T18:45:31.007Z"
   },
   {
    "duration": 208,
    "start_time": "2023-04-13T18:45:57.917Z"
   },
   {
    "duration": 224,
    "start_time": "2023-04-13T18:46:05.826Z"
   },
   {
    "duration": 202,
    "start_time": "2023-04-13T18:46:23.925Z"
   },
   {
    "duration": 224,
    "start_time": "2023-04-13T18:46:34.413Z"
   },
   {
    "duration": 281,
    "start_time": "2023-04-13T18:46:42.911Z"
   },
   {
    "duration": 268,
    "start_time": "2023-04-13T18:47:08.629Z"
   },
   {
    "duration": 1350,
    "start_time": "2023-04-13T18:49:53.880Z"
   },
   {
    "duration": 190,
    "start_time": "2023-04-13T18:49:55.233Z"
   },
   {
    "duration": 4,
    "start_time": "2023-04-13T18:49:55.425Z"
   },
   {
    "duration": 29,
    "start_time": "2023-04-13T18:49:55.431Z"
   },
   {
    "duration": 50,
    "start_time": "2023-04-13T18:49:55.463Z"
   },
   {
    "duration": 32,
    "start_time": "2023-04-13T18:49:55.515Z"
   },
   {
    "duration": 83,
    "start_time": "2023-04-13T18:49:55.550Z"
   },
   {
    "duration": 19,
    "start_time": "2023-04-13T18:49:55.635Z"
   },
   {
    "duration": 115,
    "start_time": "2023-04-13T18:49:55.656Z"
   },
   {
    "duration": 139,
    "start_time": "2023-04-13T18:49:55.773Z"
   },
   {
    "duration": 19,
    "start_time": "2023-04-13T18:49:55.914Z"
   },
   {
    "duration": 21,
    "start_time": "2023-04-13T18:49:55.935Z"
   },
   {
    "duration": 43,
    "start_time": "2023-04-13T18:49:55.958Z"
   },
   {
    "duration": 18,
    "start_time": "2023-04-13T18:49:56.004Z"
   },
   {
    "duration": 14,
    "start_time": "2023-04-13T18:49:56.024Z"
   },
   {
    "duration": 108,
    "start_time": "2023-04-13T18:49:56.040Z"
   },
   {
    "duration": 415,
    "start_time": "2023-04-13T18:49:56.150Z"
   },
   {
    "duration": 1290,
    "start_time": "2023-04-13T18:50:34.601Z"
   },
   {
    "duration": 187,
    "start_time": "2023-04-13T18:50:35.894Z"
   },
   {
    "duration": 6,
    "start_time": "2023-04-13T18:50:36.083Z"
   },
   {
    "duration": 16,
    "start_time": "2023-04-13T18:50:36.091Z"
   },
   {
    "duration": 24,
    "start_time": "2023-04-13T18:50:36.119Z"
   },
   {
    "duration": 16,
    "start_time": "2023-04-13T18:50:36.145Z"
   },
   {
    "duration": 102,
    "start_time": "2023-04-13T18:50:36.163Z"
   },
   {
    "duration": 13,
    "start_time": "2023-04-13T18:50:36.266Z"
   },
   {
    "duration": 106,
    "start_time": "2023-04-13T18:50:36.281Z"
   },
   {
    "duration": 131,
    "start_time": "2023-04-13T18:50:36.389Z"
   },
   {
    "duration": 19,
    "start_time": "2023-04-13T18:50:36.522Z"
   },
   {
    "duration": 19,
    "start_time": "2023-04-13T18:50:36.543Z"
   },
   {
    "duration": 54,
    "start_time": "2023-04-13T18:50:36.564Z"
   },
   {
    "duration": 10,
    "start_time": "2023-04-13T18:50:36.621Z"
   },
   {
    "duration": 12,
    "start_time": "2023-04-13T18:50:36.633Z"
   },
   {
    "duration": 97,
    "start_time": "2023-04-13T18:50:36.646Z"
   },
   {
    "duration": 1184,
    "start_time": "2023-04-13T18:52:50.521Z"
   },
   {
    "duration": 191,
    "start_time": "2023-04-13T18:52:51.707Z"
   },
   {
    "duration": 4,
    "start_time": "2023-04-13T18:52:51.900Z"
   },
   {
    "duration": 44,
    "start_time": "2023-04-13T18:52:51.906Z"
   },
   {
    "duration": 42,
    "start_time": "2023-04-13T18:52:51.952Z"
   },
   {
    "duration": 32,
    "start_time": "2023-04-13T18:52:51.996Z"
   },
   {
    "duration": 87,
    "start_time": "2023-04-13T18:52:52.031Z"
   },
   {
    "duration": 11,
    "start_time": "2023-04-13T18:52:52.120Z"
   },
   {
    "duration": 112,
    "start_time": "2023-04-13T18:52:52.133Z"
   },
   {
    "duration": 129,
    "start_time": "2023-04-13T18:52:52.248Z"
   },
   {
    "duration": 26,
    "start_time": "2023-04-13T18:52:52.379Z"
   },
   {
    "duration": 31,
    "start_time": "2023-04-13T18:52:52.417Z"
   },
   {
    "duration": 48,
    "start_time": "2023-04-13T18:52:52.450Z"
   },
   {
    "duration": 12,
    "start_time": "2023-04-13T18:52:52.500Z"
   },
   {
    "duration": 29,
    "start_time": "2023-04-13T18:52:52.517Z"
   },
   {
    "duration": 112,
    "start_time": "2023-04-13T18:52:52.548Z"
   },
   {
    "duration": 222,
    "start_time": "2023-04-13T18:52:52.662Z"
   },
   {
    "duration": 242,
    "start_time": "2023-04-13T18:55:28.569Z"
   },
   {
    "duration": 205,
    "start_time": "2023-04-13T18:55:57.426Z"
   },
   {
    "duration": 120,
    "start_time": "2023-04-13T18:56:09.206Z"
   },
   {
    "duration": 195,
    "start_time": "2023-04-13T19:02:32.989Z"
   },
   {
    "duration": 168,
    "start_time": "2023-04-13T19:03:04.015Z"
   },
   {
    "duration": 66,
    "start_time": "2023-04-13T19:03:42.616Z"
   },
   {
    "duration": 39,
    "start_time": "2023-04-13T19:03:54.643Z"
   },
   {
    "duration": 56,
    "start_time": "2023-04-13T19:03:59.876Z"
   },
   {
    "duration": 222,
    "start_time": "2023-04-13T19:04:04.397Z"
   },
   {
    "duration": 195,
    "start_time": "2023-04-13T19:04:11.732Z"
   },
   {
    "duration": 209,
    "start_time": "2023-04-13T19:04:18.222Z"
   },
   {
    "duration": 1094,
    "start_time": "2023-04-13T19:05:23.165Z"
   },
   {
    "duration": 184,
    "start_time": "2023-04-13T19:05:24.261Z"
   },
   {
    "duration": 5,
    "start_time": "2023-04-13T19:05:24.447Z"
   },
   {
    "duration": 5,
    "start_time": "2023-04-13T19:05:24.455Z"
   },
   {
    "duration": 26,
    "start_time": "2023-04-13T19:05:24.461Z"
   },
   {
    "duration": 39,
    "start_time": "2023-04-13T19:05:24.489Z"
   },
   {
    "duration": 88,
    "start_time": "2023-04-13T19:05:24.529Z"
   },
   {
    "duration": 12,
    "start_time": "2023-04-13T19:05:24.619Z"
   },
   {
    "duration": 102,
    "start_time": "2023-04-13T19:05:24.633Z"
   },
   {
    "duration": 122,
    "start_time": "2023-04-13T19:05:24.738Z"
   },
   {
    "duration": 19,
    "start_time": "2023-04-13T19:05:24.861Z"
   },
   {
    "duration": 17,
    "start_time": "2023-04-13T19:05:24.882Z"
   },
   {
    "duration": 33,
    "start_time": "2023-04-13T19:05:24.918Z"
   },
   {
    "duration": 9,
    "start_time": "2023-04-13T19:05:24.953Z"
   },
   {
    "duration": 10,
    "start_time": "2023-04-13T19:05:24.964Z"
   },
   {
    "duration": 94,
    "start_time": "2023-04-13T19:05:24.976Z"
   },
   {
    "duration": 247,
    "start_time": "2023-04-13T19:05:25.072Z"
   },
   {
    "duration": 57,
    "start_time": "2023-04-13T19:05:59.176Z"
   },
   {
    "duration": 177,
    "start_time": "2023-04-13T19:06:27.728Z"
   },
   {
    "duration": 115,
    "start_time": "2023-04-13T19:06:49.315Z"
   },
   {
    "duration": 106,
    "start_time": "2023-04-13T19:06:53.782Z"
   },
   {
    "duration": 85,
    "start_time": "2023-04-13T19:08:47.238Z"
   },
   {
    "duration": 50,
    "start_time": "2023-04-13T19:08:58.582Z"
   },
   {
    "duration": 46,
    "start_time": "2023-04-13T19:09:19.326Z"
   },
   {
    "duration": 66,
    "start_time": "2023-04-13T19:09:31.837Z"
   },
   {
    "duration": 238,
    "start_time": "2023-04-13T19:09:35.779Z"
   },
   {
    "duration": 257,
    "start_time": "2023-04-13T19:12:14.495Z"
   },
   {
    "duration": 286,
    "start_time": "2023-04-13T19:12:51.856Z"
   },
   {
    "duration": 220,
    "start_time": "2023-04-13T19:13:16.316Z"
   },
   {
    "duration": 273,
    "start_time": "2023-04-13T19:13:23.175Z"
   },
   {
    "duration": 270,
    "start_time": "2023-04-13T19:13:25.931Z"
   },
   {
    "duration": 302,
    "start_time": "2023-04-13T19:23:23.597Z"
   },
   {
    "duration": 3,
    "start_time": "2023-04-13T19:23:36.310Z"
   },
   {
    "duration": 225,
    "start_time": "2023-04-13T19:24:11.579Z"
   },
   {
    "duration": 212,
    "start_time": "2023-04-13T19:24:55.140Z"
   },
   {
    "duration": 3,
    "start_time": "2023-04-13T19:26:08.482Z"
   },
   {
    "duration": 46,
    "start_time": "2023-04-13T19:26:12.205Z"
   },
   {
    "duration": 257,
    "start_time": "2023-04-13T19:26:27.932Z"
   },
   {
    "duration": 102,
    "start_time": "2023-04-13T19:27:19.641Z"
   },
   {
    "duration": 56,
    "start_time": "2023-04-13T19:29:50.776Z"
   },
   {
    "duration": 50,
    "start_time": "2023-04-13T19:30:04.681Z"
   },
   {
    "duration": 273,
    "start_time": "2023-04-13T19:30:31.595Z"
   },
   {
    "duration": 2199,
    "start_time": "2023-04-13T19:34:41.799Z"
   },
   {
    "duration": 182,
    "start_time": "2023-04-13T19:34:44.000Z"
   },
   {
    "duration": 4,
    "start_time": "2023-04-13T19:34:44.183Z"
   },
   {
    "duration": 14,
    "start_time": "2023-04-13T19:34:44.189Z"
   },
   {
    "duration": 30,
    "start_time": "2023-04-13T19:34:44.207Z"
   },
   {
    "duration": 15,
    "start_time": "2023-04-13T19:34:44.239Z"
   },
   {
    "duration": 87,
    "start_time": "2023-04-13T19:34:44.255Z"
   },
   {
    "duration": 13,
    "start_time": "2023-04-13T19:34:44.343Z"
   },
   {
    "duration": 120,
    "start_time": "2023-04-13T19:34:44.357Z"
   },
   {
    "duration": 127,
    "start_time": "2023-04-13T19:34:44.480Z"
   },
   {
    "duration": 23,
    "start_time": "2023-04-13T19:34:44.608Z"
   },
   {
    "duration": 17,
    "start_time": "2023-04-13T19:34:44.633Z"
   },
   {
    "duration": 33,
    "start_time": "2023-04-13T19:34:44.652Z"
   },
   {
    "duration": 33,
    "start_time": "2023-04-13T19:34:44.688Z"
   },
   {
    "duration": 14,
    "start_time": "2023-04-13T19:34:44.723Z"
   },
   {
    "duration": 97,
    "start_time": "2023-04-13T19:34:44.739Z"
   },
   {
    "duration": 304,
    "start_time": "2023-04-13T19:34:44.838Z"
   },
   {
    "duration": 72,
    "start_time": "2023-04-13T19:34:45.144Z"
   },
   {
    "duration": 25,
    "start_time": "2023-04-13T19:36:22.040Z"
   },
   {
    "duration": 48,
    "start_time": "2023-04-13T19:36:46.801Z"
   },
   {
    "duration": 3,
    "start_time": "2023-04-13T19:38:21.307Z"
   },
   {
    "duration": 50,
    "start_time": "2023-04-13T19:38:25.041Z"
   },
   {
    "duration": 178,
    "start_time": "2023-04-13T19:38:32.205Z"
   },
   {
    "duration": 446,
    "start_time": "2023-04-13T19:38:41.378Z"
   },
   {
    "duration": 204,
    "start_time": "2023-04-13T19:41:07.507Z"
   },
   {
    "duration": 812,
    "start_time": "2023-04-13T19:42:16.914Z"
   },
   {
    "duration": 34,
    "start_time": "2023-04-13T19:42:50.676Z"
   },
   {
    "duration": 42,
    "start_time": "2023-04-13T19:43:39.791Z"
   },
   {
    "duration": 118,
    "start_time": "2023-04-13T19:45:04.855Z"
   },
   {
    "duration": 1204,
    "start_time": "2023-04-13T19:45:11.018Z"
   },
   {
    "duration": 195,
    "start_time": "2023-04-13T19:45:12.224Z"
   },
   {
    "duration": 6,
    "start_time": "2023-04-13T19:45:12.421Z"
   },
   {
    "duration": 16,
    "start_time": "2023-04-13T19:45:12.430Z"
   },
   {
    "duration": 40,
    "start_time": "2023-04-13T19:45:12.449Z"
   },
   {
    "duration": 24,
    "start_time": "2023-04-13T19:45:12.494Z"
   },
   {
    "duration": 149,
    "start_time": "2023-04-13T19:45:12.520Z"
   },
   {
    "duration": 12,
    "start_time": "2023-04-13T19:45:12.671Z"
   },
   {
    "duration": 93,
    "start_time": "2023-04-13T19:45:12.685Z"
   },
   {
    "duration": 99,
    "start_time": "2023-04-13T19:45:12.782Z"
   },
   {
    "duration": 20,
    "start_time": "2023-04-13T19:45:12.883Z"
   },
   {
    "duration": 27,
    "start_time": "2023-04-13T19:45:12.905Z"
   },
   {
    "duration": 33,
    "start_time": "2023-04-13T19:45:12.934Z"
   },
   {
    "duration": 9,
    "start_time": "2023-04-13T19:45:12.969Z"
   },
   {
    "duration": 24,
    "start_time": "2023-04-13T19:45:12.979Z"
   },
   {
    "duration": 48,
    "start_time": "2023-04-13T19:45:13.006Z"
   },
   {
    "duration": 300,
    "start_time": "2023-04-13T19:45:13.055Z"
   },
   {
    "duration": 7,
    "start_time": "2023-04-13T19:45:13.356Z"
   },
   {
    "duration": 35,
    "start_time": "2023-04-13T19:45:13.365Z"
   },
   {
    "duration": 41,
    "start_time": "2023-04-13T19:45:51.566Z"
   },
   {
    "duration": 47,
    "start_time": "2023-04-13T19:46:02.007Z"
   },
   {
    "duration": 42,
    "start_time": "2023-04-13T19:46:19.049Z"
   },
   {
    "duration": 45,
    "start_time": "2023-04-13T19:47:16.708Z"
   },
   {
    "duration": 5,
    "start_time": "2023-04-13T19:53:20.208Z"
   },
   {
    "duration": 108,
    "start_time": "2023-04-13T19:53:23.513Z"
   },
   {
    "duration": 45,
    "start_time": "2023-04-13T19:53:43.383Z"
   },
   {
    "duration": 1209,
    "start_time": "2023-04-13T19:53:59.729Z"
   },
   {
    "duration": 197,
    "start_time": "2023-04-13T19:54:00.942Z"
   },
   {
    "duration": 4,
    "start_time": "2023-04-13T19:54:01.143Z"
   },
   {
    "duration": 46,
    "start_time": "2023-04-13T19:54:01.149Z"
   },
   {
    "duration": 62,
    "start_time": "2023-04-13T19:54:01.197Z"
   },
   {
    "duration": 70,
    "start_time": "2023-04-13T19:54:01.261Z"
   },
   {
    "duration": 174,
    "start_time": "2023-04-13T19:54:01.333Z"
   },
   {
    "duration": 10,
    "start_time": "2023-04-13T19:54:01.509Z"
   },
   {
    "duration": 111,
    "start_time": "2023-04-13T19:54:01.521Z"
   },
   {
    "duration": 102,
    "start_time": "2023-04-13T19:54:01.635Z"
   },
   {
    "duration": 19,
    "start_time": "2023-04-13T19:54:01.739Z"
   },
   {
    "duration": 97,
    "start_time": "2023-04-13T19:54:01.760Z"
   },
   {
    "duration": 96,
    "start_time": "2023-04-13T19:54:01.861Z"
   },
   {
    "duration": 44,
    "start_time": "2023-04-13T19:54:01.959Z"
   },
   {
    "duration": 51,
    "start_time": "2023-04-13T19:54:02.005Z"
   },
   {
    "duration": 95,
    "start_time": "2023-04-13T19:54:02.057Z"
   },
   {
    "duration": 321,
    "start_time": "2023-04-13T19:54:02.154Z"
   },
   {
    "duration": 7,
    "start_time": "2023-04-13T19:54:02.476Z"
   },
   {
    "duration": 63,
    "start_time": "2023-04-13T19:54:02.485Z"
   },
   {
    "duration": 42,
    "start_time": "2023-04-13T19:54:02.550Z"
   },
   {
    "duration": 30,
    "start_time": "2023-04-13T19:54:30.691Z"
   },
   {
    "duration": 40,
    "start_time": "2023-04-13T19:54:33.573Z"
   },
   {
    "duration": 52,
    "start_time": "2023-04-13T19:54:57.894Z"
   },
   {
    "duration": 102,
    "start_time": "2023-04-13T19:55:10.686Z"
   },
   {
    "duration": 6,
    "start_time": "2023-04-13T19:56:11.426Z"
   },
   {
    "duration": 15,
    "start_time": "2023-04-13T19:56:14.309Z"
   },
   {
    "duration": 94,
    "start_time": "2023-04-13T19:56:19.853Z"
   },
   {
    "duration": 48,
    "start_time": "2023-04-13T19:56:28.782Z"
   },
   {
    "duration": 5,
    "start_time": "2023-04-13T19:57:08.095Z"
   },
   {
    "duration": 38,
    "start_time": "2023-04-13T19:57:17.627Z"
   },
   {
    "duration": 6,
    "start_time": "2023-04-13T19:58:28.242Z"
   },
   {
    "duration": 13,
    "start_time": "2023-04-13T19:58:30.924Z"
   },
   {
    "duration": 48,
    "start_time": "2023-04-13T19:58:37.241Z"
   },
   {
    "duration": 38,
    "start_time": "2023-04-13T19:58:57.875Z"
   },
   {
    "duration": 38,
    "start_time": "2023-04-13T19:59:18.803Z"
   },
   {
    "duration": 39,
    "start_time": "2023-04-13T20:00:07.053Z"
   },
   {
    "duration": 43,
    "start_time": "2023-04-13T20:01:25.359Z"
   },
   {
    "duration": 52,
    "start_time": "2023-04-13T20:01:51.053Z"
   },
   {
    "duration": 34,
    "start_time": "2023-04-13T20:01:56.778Z"
   },
   {
    "duration": 55,
    "start_time": "2023-04-13T20:02:59.077Z"
   },
   {
    "duration": 57,
    "start_time": "2023-04-13T20:03:03.924Z"
   },
   {
    "duration": 76,
    "start_time": "2023-04-13T20:04:26.478Z"
   },
   {
    "duration": 57,
    "start_time": "2023-04-13T20:04:30.210Z"
   },
   {
    "duration": 52,
    "start_time": "2023-04-13T20:05:52.238Z"
   },
   {
    "duration": 54,
    "start_time": "2023-04-13T20:07:34.026Z"
   },
   {
    "duration": 61,
    "start_time": "2023-04-13T20:08:50.231Z"
   },
   {
    "duration": 49,
    "start_time": "2023-04-13T20:09:11.535Z"
   },
   {
    "duration": 35,
    "start_time": "2023-04-13T20:13:16.042Z"
   },
   {
    "duration": 59,
    "start_time": "2023-04-13T20:13:40.693Z"
   },
   {
    "duration": 66,
    "start_time": "2023-04-13T20:13:51.096Z"
   },
   {
    "duration": 1334,
    "start_time": "2023-04-14T06:44:22.878Z"
   },
   {
    "duration": 700,
    "start_time": "2023-04-14T06:44:24.214Z"
   },
   {
    "duration": 4,
    "start_time": "2023-04-14T06:44:24.915Z"
   },
   {
    "duration": 6,
    "start_time": "2023-04-14T06:44:24.921Z"
   },
   {
    "duration": 19,
    "start_time": "2023-04-14T06:44:24.928Z"
   },
   {
    "duration": 12,
    "start_time": "2023-04-14T06:44:24.948Z"
   },
   {
    "duration": 111,
    "start_time": "2023-04-14T06:44:24.962Z"
   },
   {
    "duration": 9,
    "start_time": "2023-04-14T06:44:25.074Z"
   },
   {
    "duration": 61,
    "start_time": "2023-04-14T06:44:25.094Z"
   },
   {
    "duration": 98,
    "start_time": "2023-04-14T06:44:25.157Z"
   },
   {
    "duration": 16,
    "start_time": "2023-04-14T06:44:25.256Z"
   },
   {
    "duration": 30,
    "start_time": "2023-04-14T06:44:25.273Z"
   },
   {
    "duration": 38,
    "start_time": "2023-04-14T06:44:25.305Z"
   },
   {
    "duration": 11,
    "start_time": "2023-04-14T06:44:25.345Z"
   },
   {
    "duration": 4,
    "start_time": "2023-04-14T06:44:25.358Z"
   },
   {
    "duration": 45,
    "start_time": "2023-04-14T06:44:25.363Z"
   },
   {
    "duration": 261,
    "start_time": "2023-04-14T06:44:25.409Z"
   },
   {
    "duration": 6,
    "start_time": "2023-04-14T06:44:25.671Z"
   },
   {
    "duration": 37,
    "start_time": "2023-04-14T06:44:25.679Z"
   },
   {
    "duration": 39,
    "start_time": "2023-04-14T06:44:25.718Z"
   },
   {
    "duration": 66,
    "start_time": "2023-04-14T06:44:25.758Z"
   },
   {
    "duration": 1668,
    "start_time": "2023-04-14T08:35:18.178Z"
   },
   {
    "duration": 168,
    "start_time": "2023-04-14T08:35:19.848Z"
   },
   {
    "duration": 4,
    "start_time": "2023-04-14T08:35:20.018Z"
   },
   {
    "duration": 14,
    "start_time": "2023-04-14T08:35:20.024Z"
   },
   {
    "duration": 26,
    "start_time": "2023-04-14T08:35:20.040Z"
   },
   {
    "duration": 20,
    "start_time": "2023-04-14T08:35:20.069Z"
   },
   {
    "duration": 117,
    "start_time": "2023-04-14T08:35:20.091Z"
   },
   {
    "duration": 11,
    "start_time": "2023-04-14T08:35:20.210Z"
   },
   {
    "duration": 75,
    "start_time": "2023-04-14T08:35:20.223Z"
   },
   {
    "duration": 84,
    "start_time": "2023-04-14T08:35:20.300Z"
   },
   {
    "duration": 33,
    "start_time": "2023-04-14T08:35:20.386Z"
   },
   {
    "duration": 28,
    "start_time": "2023-04-14T08:35:20.420Z"
   },
   {
    "duration": 28,
    "start_time": "2023-04-14T08:35:20.449Z"
   },
   {
    "duration": 25,
    "start_time": "2023-04-14T08:35:20.479Z"
   },
   {
    "duration": 15,
    "start_time": "2023-04-14T08:35:20.505Z"
   },
   {
    "duration": 40,
    "start_time": "2023-04-14T08:35:20.522Z"
   },
   {
    "duration": 302,
    "start_time": "2023-04-14T08:35:20.564Z"
   },
   {
    "duration": 7,
    "start_time": "2023-04-14T08:35:20.868Z"
   },
   {
    "duration": 52,
    "start_time": "2023-04-14T08:35:20.877Z"
   },
   {
    "duration": 49,
    "start_time": "2023-04-14T08:35:20.932Z"
   },
   {
    "duration": 72,
    "start_time": "2023-04-14T08:35:20.994Z"
   },
   {
    "duration": 1214,
    "start_time": "2023-04-14T08:44:09.626Z"
   },
   {
    "duration": 171,
    "start_time": "2023-04-14T08:44:10.843Z"
   },
   {
    "duration": 5,
    "start_time": "2023-04-14T08:44:11.017Z"
   },
   {
    "duration": 5,
    "start_time": "2023-04-14T08:44:11.024Z"
   },
   {
    "duration": 26,
    "start_time": "2023-04-14T08:44:11.031Z"
   },
   {
    "duration": 43,
    "start_time": "2023-04-14T08:44:11.059Z"
   },
   {
    "duration": 159,
    "start_time": "2023-04-14T08:44:11.104Z"
   },
   {
    "duration": 12,
    "start_time": "2023-04-14T08:44:11.265Z"
   },
   {
    "duration": 90,
    "start_time": "2023-04-14T08:44:11.278Z"
   },
   {
    "duration": 114,
    "start_time": "2023-04-14T08:44:11.373Z"
   },
   {
    "duration": 25,
    "start_time": "2023-04-14T08:44:11.489Z"
   },
   {
    "duration": 19,
    "start_time": "2023-04-14T08:44:11.516Z"
   },
   {
    "duration": 57,
    "start_time": "2023-04-14T08:44:11.537Z"
   },
   {
    "duration": 15,
    "start_time": "2023-04-14T08:44:11.596Z"
   },
   {
    "duration": 28,
    "start_time": "2023-04-14T08:44:11.612Z"
   },
   {
    "duration": 37,
    "start_time": "2023-04-14T08:44:11.642Z"
   },
   {
    "duration": 341,
    "start_time": "2023-04-14T08:44:11.681Z"
   },
   {
    "duration": 9,
    "start_time": "2023-04-14T08:44:12.024Z"
   },
   {
    "duration": 37,
    "start_time": "2023-04-14T08:44:12.036Z"
   },
   {
    "duration": 53,
    "start_time": "2023-04-14T08:44:12.074Z"
   },
   {
    "duration": 62,
    "start_time": "2023-04-14T08:44:12.128Z"
   },
   {
    "duration": 33,
    "start_time": "2023-04-14T08:44:39.638Z"
   },
   {
    "duration": 28,
    "start_time": "2023-04-14T08:47:12.799Z"
   },
   {
    "duration": 52,
    "start_time": "2023-04-14T08:54:19.888Z"
   },
   {
    "duration": 139,
    "start_time": "2023-04-14T08:56:21.172Z"
   },
   {
    "duration": 90,
    "start_time": "2023-04-14T08:56:35.531Z"
   },
   {
    "duration": 64,
    "start_time": "2023-04-14T08:56:49.222Z"
   },
   {
    "duration": 5,
    "start_time": "2023-04-14T09:29:29.640Z"
   },
   {
    "duration": 54,
    "start_time": "2023-04-14T09:29:35.018Z"
   },
   {
    "duration": 94,
    "start_time": "2023-04-14T09:35:46.695Z"
   },
   {
    "duration": 96,
    "start_time": "2023-04-14T09:35:51.856Z"
   },
   {
    "duration": 61,
    "start_time": "2023-04-14T09:36:18.216Z"
   },
   {
    "duration": 70,
    "start_time": "2023-04-14T09:36:24.135Z"
   },
   {
    "duration": 113,
    "start_time": "2023-04-14T09:36:28.275Z"
   },
   {
    "duration": 86,
    "start_time": "2023-04-14T09:36:40.259Z"
   },
   {
    "duration": 51,
    "start_time": "2023-04-14T09:36:49.056Z"
   },
   {
    "duration": 1290,
    "start_time": "2023-04-14T09:36:56.764Z"
   },
   {
    "duration": 180,
    "start_time": "2023-04-14T09:36:58.058Z"
   },
   {
    "duration": 4,
    "start_time": "2023-04-14T09:36:58.240Z"
   },
   {
    "duration": 7,
    "start_time": "2023-04-14T09:36:58.246Z"
   },
   {
    "duration": 18,
    "start_time": "2023-04-14T09:36:58.255Z"
   },
   {
    "duration": 36,
    "start_time": "2023-04-14T09:36:58.275Z"
   },
   {
    "duration": 130,
    "start_time": "2023-04-14T09:36:58.313Z"
   },
   {
    "duration": 10,
    "start_time": "2023-04-14T09:36:58.445Z"
   },
   {
    "duration": 98,
    "start_time": "2023-04-14T09:36:58.456Z"
   },
   {
    "duration": 104,
    "start_time": "2023-04-14T09:36:58.557Z"
   },
   {
    "duration": 18,
    "start_time": "2023-04-14T09:36:58.662Z"
   },
   {
    "duration": 61,
    "start_time": "2023-04-14T09:36:58.682Z"
   },
   {
    "duration": 34,
    "start_time": "2023-04-14T09:36:58.744Z"
   },
   {
    "duration": 9,
    "start_time": "2023-04-14T09:36:58.780Z"
   },
   {
    "duration": 17,
    "start_time": "2023-04-14T09:36:58.791Z"
   },
   {
    "duration": 36,
    "start_time": "2023-04-14T09:36:58.810Z"
   },
   {
    "duration": 341,
    "start_time": "2023-04-14T09:36:58.848Z"
   },
   {
    "duration": 8,
    "start_time": "2023-04-14T09:36:59.190Z"
   },
   {
    "duration": 48,
    "start_time": "2023-04-14T09:36:59.200Z"
   },
   {
    "duration": 59,
    "start_time": "2023-04-14T09:36:59.250Z"
   },
   {
    "duration": 71,
    "start_time": "2023-04-14T09:36:59.311Z"
   },
   {
    "duration": 55,
    "start_time": "2023-04-14T09:36:59.384Z"
   },
   {
    "duration": 79,
    "start_time": "2023-04-14T09:36:59.441Z"
   },
   {
    "duration": 68,
    "start_time": "2023-04-14T09:37:37.075Z"
   },
   {
    "duration": 45,
    "start_time": "2023-04-14T09:37:38.036Z"
   },
   {
    "duration": 71,
    "start_time": "2023-04-14T09:37:38.720Z"
   },
   {
    "duration": 1234,
    "start_time": "2023-04-14T09:37:54.926Z"
   },
   {
    "duration": 228,
    "start_time": "2023-04-14T09:37:56.162Z"
   },
   {
    "duration": 4,
    "start_time": "2023-04-14T09:37:56.392Z"
   },
   {
    "duration": 16,
    "start_time": "2023-04-14T09:37:56.399Z"
   },
   {
    "duration": 32,
    "start_time": "2023-04-14T09:37:56.417Z"
   },
   {
    "duration": 14,
    "start_time": "2023-04-14T09:37:56.451Z"
   },
   {
    "duration": 120,
    "start_time": "2023-04-14T09:37:56.467Z"
   },
   {
    "duration": 16,
    "start_time": "2023-04-14T09:37:56.588Z"
   },
   {
    "duration": 113,
    "start_time": "2023-04-14T09:37:56.607Z"
   },
   {
    "duration": 117,
    "start_time": "2023-04-14T09:37:56.723Z"
   },
   {
    "duration": 26,
    "start_time": "2023-04-14T09:37:56.842Z"
   },
   {
    "duration": 37,
    "start_time": "2023-04-14T09:37:56.870Z"
   },
   {
    "duration": 33,
    "start_time": "2023-04-14T09:37:56.908Z"
   },
   {
    "duration": 9,
    "start_time": "2023-04-14T09:37:56.943Z"
   },
   {
    "duration": 9,
    "start_time": "2023-04-14T09:37:56.954Z"
   },
   {
    "duration": 59,
    "start_time": "2023-04-14T09:37:56.965Z"
   },
   {
    "duration": 347,
    "start_time": "2023-04-14T09:37:57.026Z"
   },
   {
    "duration": 7,
    "start_time": "2023-04-14T09:37:57.375Z"
   },
   {
    "duration": 53,
    "start_time": "2023-04-14T09:37:57.384Z"
   },
   {
    "duration": 65,
    "start_time": "2023-04-14T09:37:57.443Z"
   },
   {
    "duration": 65,
    "start_time": "2023-04-14T09:37:57.510Z"
   },
   {
    "duration": 54,
    "start_time": "2023-04-14T09:37:57.577Z"
   },
   {
    "duration": 69,
    "start_time": "2023-04-14T09:37:57.633Z"
   },
   {
    "duration": 83,
    "start_time": "2023-04-14T09:38:04.061Z"
   },
   {
    "duration": 100,
    "start_time": "2023-04-14T09:39:14.715Z"
   },
   {
    "duration": 54,
    "start_time": "2023-04-14T09:39:21.812Z"
   },
   {
    "duration": 83,
    "start_time": "2023-04-14T09:39:34.626Z"
   },
   {
    "duration": 114,
    "start_time": "2023-04-14T09:40:33.918Z"
   },
   {
    "duration": 101,
    "start_time": "2023-04-14T09:46:57.021Z"
   },
   {
    "duration": 103,
    "start_time": "2023-04-14T09:47:02.110Z"
   },
   {
    "duration": 66,
    "start_time": "2023-04-14T09:47:06.471Z"
   },
   {
    "duration": 63,
    "start_time": "2023-04-14T09:47:12.947Z"
   },
   {
    "duration": 6,
    "start_time": "2023-04-14T09:48:50.713Z"
   },
   {
    "duration": 3,
    "start_time": "2023-04-14T09:49:04.755Z"
   },
   {
    "duration": 114,
    "start_time": "2023-04-14T09:49:09.924Z"
   },
   {
    "duration": 77,
    "start_time": "2023-04-14T09:49:22.827Z"
   },
   {
    "duration": 55,
    "start_time": "2023-04-14T09:49:47.271Z"
   },
   {
    "duration": 168,
    "start_time": "2023-04-14T09:52:59.564Z"
   },
   {
    "duration": 69,
    "start_time": "2023-04-14T09:53:31.865Z"
   },
   {
    "duration": 103,
    "start_time": "2023-04-14T09:54:33.920Z"
   },
   {
    "duration": 70,
    "start_time": "2023-04-14T09:54:55.668Z"
   },
   {
    "duration": 88,
    "start_time": "2023-04-14T09:57:52.029Z"
   },
   {
    "duration": 1193,
    "start_time": "2023-04-14T11:03:43.709Z"
   },
   {
    "duration": 155,
    "start_time": "2023-04-14T11:03:44.904Z"
   },
   {
    "duration": 5,
    "start_time": "2023-04-14T11:03:45.060Z"
   },
   {
    "duration": 54,
    "start_time": "2023-04-14T11:03:45.067Z"
   },
   {
    "duration": 30,
    "start_time": "2023-04-14T11:03:45.123Z"
   },
   {
    "duration": 13,
    "start_time": "2023-04-14T11:03:45.154Z"
   },
   {
    "duration": 98,
    "start_time": "2023-04-14T11:03:45.169Z"
   },
   {
    "duration": 23,
    "start_time": "2023-04-14T11:03:45.269Z"
   },
   {
    "duration": 77,
    "start_time": "2023-04-14T11:03:45.294Z"
   },
   {
    "duration": 90,
    "start_time": "2023-04-14T11:03:45.374Z"
   },
   {
    "duration": 32,
    "start_time": "2023-04-14T11:03:45.466Z"
   },
   {
    "duration": 20,
    "start_time": "2023-04-14T11:03:45.500Z"
   },
   {
    "duration": 36,
    "start_time": "2023-04-14T11:03:45.522Z"
   },
   {
    "duration": 9,
    "start_time": "2023-04-14T11:03:45.561Z"
   },
   {
    "duration": 4,
    "start_time": "2023-04-14T11:03:45.595Z"
   },
   {
    "duration": 32,
    "start_time": "2023-04-14T11:03:45.600Z"
   },
   {
    "duration": 109,
    "start_time": "2023-04-14T11:03:45.634Z"
   },
   {
    "duration": 0,
    "start_time": "2023-04-14T11:03:45.745Z"
   },
   {
    "duration": 0,
    "start_time": "2023-04-14T11:03:45.747Z"
   },
   {
    "duration": 0,
    "start_time": "2023-04-14T11:03:45.748Z"
   },
   {
    "duration": 0,
    "start_time": "2023-04-14T11:03:45.750Z"
   },
   {
    "duration": 0,
    "start_time": "2023-04-14T11:03:45.751Z"
   },
   {
    "duration": 0,
    "start_time": "2023-04-14T11:03:45.752Z"
   },
   {
    "duration": 0,
    "start_time": "2023-04-14T11:03:45.753Z"
   },
   {
    "duration": 12,
    "start_time": "2023-04-14T11:04:02.967Z"
   },
   {
    "duration": 685,
    "start_time": "2023-04-14T11:04:07.074Z"
   },
   {
    "duration": 369,
    "start_time": "2023-04-14T11:04:22.307Z"
   },
   {
    "duration": 863,
    "start_time": "2023-04-14T11:04:38.476Z"
   },
   {
    "duration": 439,
    "start_time": "2023-04-14T11:04:43.527Z"
   },
   {
    "duration": 336,
    "start_time": "2023-04-14T11:04:53.260Z"
   },
   {
    "duration": 1121,
    "start_time": "2023-04-14T11:05:29.350Z"
   },
   {
    "duration": 158,
    "start_time": "2023-04-14T11:05:30.474Z"
   },
   {
    "duration": 8,
    "start_time": "2023-04-14T11:05:30.634Z"
   },
   {
    "duration": 18,
    "start_time": "2023-04-14T11:05:30.644Z"
   },
   {
    "duration": 35,
    "start_time": "2023-04-14T11:05:30.664Z"
   },
   {
    "duration": 21,
    "start_time": "2023-04-14T11:05:30.701Z"
   },
   {
    "duration": 110,
    "start_time": "2023-04-14T11:05:30.724Z"
   },
   {
    "duration": 42,
    "start_time": "2023-04-14T11:05:30.836Z"
   },
   {
    "duration": 114,
    "start_time": "2023-04-14T11:05:30.880Z"
   },
   {
    "duration": 111,
    "start_time": "2023-04-14T11:05:30.997Z"
   },
   {
    "duration": 17,
    "start_time": "2023-04-14T11:05:31.110Z"
   },
   {
    "duration": 38,
    "start_time": "2023-04-14T11:05:31.129Z"
   },
   {
    "duration": 63,
    "start_time": "2023-04-14T11:05:31.169Z"
   },
   {
    "duration": 9,
    "start_time": "2023-04-14T11:05:31.233Z"
   },
   {
    "duration": 33,
    "start_time": "2023-04-14T11:05:31.244Z"
   },
   {
    "duration": 106,
    "start_time": "2023-04-14T11:05:31.279Z"
   },
   {
    "duration": 909,
    "start_time": "2023-04-14T11:05:31.388Z"
   },
   {
    "duration": 23,
    "start_time": "2023-04-14T11:05:32.298Z"
   },
   {
    "duration": 459,
    "start_time": "2023-04-14T11:05:32.323Z"
   },
   {
    "duration": 1,
    "start_time": "2023-04-14T11:05:32.783Z"
   },
   {
    "duration": 0,
    "start_time": "2023-04-14T11:05:32.785Z"
   },
   {
    "duration": 0,
    "start_time": "2023-04-14T11:05:32.786Z"
   },
   {
    "duration": 0,
    "start_time": "2023-04-14T11:05:32.787Z"
   },
   {
    "duration": 123,
    "start_time": "2023-04-14T11:06:00.838Z"
   },
   {
    "duration": 1230,
    "start_time": "2023-04-14T11:06:06.501Z"
   },
   {
    "duration": 224,
    "start_time": "2023-04-14T11:06:07.734Z"
   },
   {
    "duration": 6,
    "start_time": "2023-04-14T11:06:07.960Z"
   },
   {
    "duration": 5,
    "start_time": "2023-04-14T11:06:07.968Z"
   },
   {
    "duration": 42,
    "start_time": "2023-04-14T11:06:07.976Z"
   },
   {
    "duration": 14,
    "start_time": "2023-04-14T11:06:08.020Z"
   },
   {
    "duration": 137,
    "start_time": "2023-04-14T11:06:08.036Z"
   },
   {
    "duration": 21,
    "start_time": "2023-04-14T11:06:08.174Z"
   },
   {
    "duration": 70,
    "start_time": "2023-04-14T11:06:08.197Z"
   },
   {
    "duration": 92,
    "start_time": "2023-04-14T11:06:08.269Z"
   },
   {
    "duration": 17,
    "start_time": "2023-04-14T11:06:08.363Z"
   },
   {
    "duration": 27,
    "start_time": "2023-04-14T11:06:08.381Z"
   },
   {
    "duration": 28,
    "start_time": "2023-04-14T11:06:08.409Z"
   },
   {
    "duration": 8,
    "start_time": "2023-04-14T11:06:08.440Z"
   },
   {
    "duration": 6,
    "start_time": "2023-04-14T11:06:08.450Z"
   },
   {
    "duration": 54,
    "start_time": "2023-04-14T11:06:08.458Z"
   },
   {
    "duration": 482,
    "start_time": "2023-04-14T11:06:08.513Z"
   },
   {
    "duration": 6,
    "start_time": "2023-04-14T11:06:08.997Z"
   },
   {
    "duration": 35,
    "start_time": "2023-04-14T11:06:09.005Z"
   },
   {
    "duration": 58,
    "start_time": "2023-04-14T11:06:09.042Z"
   },
   {
    "duration": 53,
    "start_time": "2023-04-14T11:06:09.101Z"
   },
   {
    "duration": 40,
    "start_time": "2023-04-14T11:06:09.156Z"
   },
   {
    "duration": 77,
    "start_time": "2023-04-14T11:06:09.197Z"
   },
   {
    "duration": 10,
    "start_time": "2023-04-14T11:31:19.297Z"
   },
   {
    "duration": 82,
    "start_time": "2023-04-14T11:31:37.499Z"
   },
   {
    "duration": 82,
    "start_time": "2023-04-14T11:31:45.028Z"
   },
   {
    "duration": 10,
    "start_time": "2023-04-14T11:31:48.549Z"
   },
   {
    "duration": 9,
    "start_time": "2023-04-14T11:32:02.947Z"
   },
   {
    "duration": 95,
    "start_time": "2023-04-14T11:37:32.441Z"
   },
   {
    "duration": 4,
    "start_time": "2023-04-14T11:37:41.349Z"
   },
   {
    "duration": 1218,
    "start_time": "2023-04-14T11:40:17.786Z"
   },
   {
    "duration": 147,
    "start_time": "2023-04-14T11:40:19.006Z"
   },
   {
    "duration": 5,
    "start_time": "2023-04-14T11:40:19.154Z"
   },
   {
    "duration": 4,
    "start_time": "2023-04-14T11:40:19.160Z"
   },
   {
    "duration": 31,
    "start_time": "2023-04-14T11:40:19.166Z"
   },
   {
    "duration": 12,
    "start_time": "2023-04-14T11:40:19.198Z"
   },
   {
    "duration": 107,
    "start_time": "2023-04-14T11:40:19.212Z"
   },
   {
    "duration": 9,
    "start_time": "2023-04-14T11:40:19.320Z"
   },
   {
    "duration": 67,
    "start_time": "2023-04-14T11:40:19.330Z"
   },
   {
    "duration": 79,
    "start_time": "2023-04-14T11:40:19.400Z"
   },
   {
    "duration": 28,
    "start_time": "2023-04-14T11:40:19.480Z"
   },
   {
    "duration": 34,
    "start_time": "2023-04-14T11:40:19.509Z"
   },
   {
    "duration": 38,
    "start_time": "2023-04-14T11:40:19.545Z"
   },
   {
    "duration": 8,
    "start_time": "2023-04-14T11:40:19.585Z"
   },
   {
    "duration": 9,
    "start_time": "2023-04-14T11:40:19.595Z"
   },
   {
    "duration": 25,
    "start_time": "2023-04-14T11:40:19.606Z"
   },
   {
    "duration": 461,
    "start_time": "2023-04-14T11:40:19.633Z"
   },
   {
    "duration": 7,
    "start_time": "2023-04-14T11:40:20.096Z"
   },
   {
    "duration": 45,
    "start_time": "2023-04-14T11:40:20.105Z"
   },
   {
    "duration": 42,
    "start_time": "2023-04-14T11:40:20.152Z"
   },
   {
    "duration": 52,
    "start_time": "2023-04-14T11:40:20.196Z"
   },
   {
    "duration": 19,
    "start_time": "2023-04-14T11:40:20.249Z"
   },
   {
    "duration": 74,
    "start_time": "2023-04-14T11:40:20.269Z"
   },
   {
    "duration": 3,
    "start_time": "2023-04-14T11:40:20.345Z"
   },
   {
    "duration": 18,
    "start_time": "2023-04-14T11:40:20.350Z"
   },
   {
    "duration": 10,
    "start_time": "2023-04-14T11:40:34.953Z"
   },
   {
    "duration": 4,
    "start_time": "2023-04-14T11:42:59.476Z"
   },
   {
    "duration": 11,
    "start_time": "2023-04-14T11:43:01.751Z"
   },
   {
    "duration": 1098,
    "start_time": "2023-04-14T11:43:08.804Z"
   },
   {
    "duration": 149,
    "start_time": "2023-04-14T11:43:09.904Z"
   },
   {
    "duration": 3,
    "start_time": "2023-04-14T11:43:10.055Z"
   },
   {
    "duration": 6,
    "start_time": "2023-04-14T11:43:10.060Z"
   },
   {
    "duration": 33,
    "start_time": "2023-04-14T11:43:10.068Z"
   },
   {
    "duration": 12,
    "start_time": "2023-04-14T11:43:10.102Z"
   },
   {
    "duration": 104,
    "start_time": "2023-04-14T11:43:10.116Z"
   },
   {
    "duration": 8,
    "start_time": "2023-04-14T11:43:10.222Z"
   },
   {
    "duration": 76,
    "start_time": "2023-04-14T11:43:10.231Z"
   },
   {
    "duration": 73,
    "start_time": "2023-04-14T11:43:10.309Z"
   },
   {
    "duration": 24,
    "start_time": "2023-04-14T11:43:10.384Z"
   },
   {
    "duration": 14,
    "start_time": "2023-04-14T11:43:10.410Z"
   },
   {
    "duration": 31,
    "start_time": "2023-04-14T11:43:10.426Z"
   },
   {
    "duration": 8,
    "start_time": "2023-04-14T11:43:10.460Z"
   },
   {
    "duration": 25,
    "start_time": "2023-04-14T11:43:10.470Z"
   },
   {
    "duration": 30,
    "start_time": "2023-04-14T11:43:10.497Z"
   },
   {
    "duration": 519,
    "start_time": "2023-04-14T11:43:10.529Z"
   },
   {
    "duration": 6,
    "start_time": "2023-04-14T11:43:11.049Z"
   },
   {
    "duration": 40,
    "start_time": "2023-04-14T11:43:11.056Z"
   },
   {
    "duration": 38,
    "start_time": "2023-04-14T11:43:11.098Z"
   },
   {
    "duration": 66,
    "start_time": "2023-04-14T11:43:11.138Z"
   },
   {
    "duration": 20,
    "start_time": "2023-04-14T11:43:11.205Z"
   },
   {
    "duration": 54,
    "start_time": "2023-04-14T11:43:11.226Z"
   },
   {
    "duration": 3,
    "start_time": "2023-04-14T11:43:11.295Z"
   },
   {
    "duration": 12,
    "start_time": "2023-04-14T11:43:11.300Z"
   },
   {
    "duration": 4,
    "start_time": "2023-04-14T11:43:14.696Z"
   },
   {
    "duration": 9,
    "start_time": "2023-04-14T11:43:21.211Z"
   },
   {
    "duration": 10,
    "start_time": "2023-04-14T11:43:50.742Z"
   },
   {
    "duration": 10,
    "start_time": "2023-04-14T11:48:04.867Z"
   },
   {
    "duration": 98,
    "start_time": "2023-04-14T11:51:47.588Z"
   },
   {
    "duration": 12,
    "start_time": "2023-04-14T11:51:54.182Z"
   },
   {
    "duration": 3,
    "start_time": "2023-04-14T11:54:10.626Z"
   },
   {
    "duration": 28,
    "start_time": "2023-04-14T11:54:14.799Z"
   },
   {
    "duration": 5,
    "start_time": "2023-04-14T11:54:20.799Z"
   },
   {
    "duration": 1053,
    "start_time": "2023-04-14T11:54:27.343Z"
   },
   {
    "duration": 149,
    "start_time": "2023-04-14T11:54:28.397Z"
   },
   {
    "duration": 5,
    "start_time": "2023-04-14T11:54:28.548Z"
   },
   {
    "duration": 8,
    "start_time": "2023-04-14T11:54:28.555Z"
   },
   {
    "duration": 31,
    "start_time": "2023-04-14T11:54:28.564Z"
   },
   {
    "duration": 12,
    "start_time": "2023-04-14T11:54:28.597Z"
   },
   {
    "duration": 106,
    "start_time": "2023-04-14T11:54:28.611Z"
   },
   {
    "duration": 15,
    "start_time": "2023-04-14T11:54:28.719Z"
   },
   {
    "duration": 64,
    "start_time": "2023-04-14T11:54:28.736Z"
   },
   {
    "duration": 77,
    "start_time": "2023-04-14T11:54:28.802Z"
   },
   {
    "duration": 24,
    "start_time": "2023-04-14T11:54:28.880Z"
   },
   {
    "duration": 14,
    "start_time": "2023-04-14T11:54:28.905Z"
   },
   {
    "duration": 25,
    "start_time": "2023-04-14T11:54:28.921Z"
   },
   {
    "duration": 8,
    "start_time": "2023-04-14T11:54:28.948Z"
   },
   {
    "duration": 4,
    "start_time": "2023-04-14T11:54:28.957Z"
   },
   {
    "duration": 55,
    "start_time": "2023-04-14T11:54:28.963Z"
   },
   {
    "duration": 466,
    "start_time": "2023-04-14T11:54:29.019Z"
   },
   {
    "duration": 9,
    "start_time": "2023-04-14T11:54:29.487Z"
   },
   {
    "duration": 27,
    "start_time": "2023-04-14T11:54:29.497Z"
   },
   {
    "duration": 41,
    "start_time": "2023-04-14T11:54:29.526Z"
   },
   {
    "duration": 69,
    "start_time": "2023-04-14T11:54:29.569Z"
   },
   {
    "duration": 19,
    "start_time": "2023-04-14T11:54:29.640Z"
   },
   {
    "duration": 87,
    "start_time": "2023-04-14T11:54:29.660Z"
   },
   {
    "duration": 4,
    "start_time": "2023-04-14T11:54:29.748Z"
   },
   {
    "duration": 12,
    "start_time": "2023-04-14T11:54:29.754Z"
   },
   {
    "duration": 11,
    "start_time": "2023-04-14T12:10:23.501Z"
   },
   {
    "duration": 10,
    "start_time": "2023-04-14T12:10:43.579Z"
   },
   {
    "duration": 6,
    "start_time": "2023-04-14T12:12:57.873Z"
   },
   {
    "duration": 11,
    "start_time": "2023-04-14T12:13:00.061Z"
   },
   {
    "duration": 1114,
    "start_time": "2023-04-14T12:13:07.980Z"
   },
   {
    "duration": 157,
    "start_time": "2023-04-14T12:13:09.096Z"
   },
   {
    "duration": 5,
    "start_time": "2023-04-14T12:13:09.255Z"
   },
   {
    "duration": 21,
    "start_time": "2023-04-14T12:13:09.262Z"
   },
   {
    "duration": 21,
    "start_time": "2023-04-14T12:13:09.285Z"
   },
   {
    "duration": 12,
    "start_time": "2023-04-14T12:13:09.307Z"
   },
   {
    "duration": 100,
    "start_time": "2023-04-14T12:13:09.321Z"
   },
   {
    "duration": 14,
    "start_time": "2023-04-14T12:13:09.423Z"
   },
   {
    "duration": 70,
    "start_time": "2023-04-14T12:13:09.438Z"
   },
   {
    "duration": 78,
    "start_time": "2023-04-14T12:13:09.509Z"
   },
   {
    "duration": 16,
    "start_time": "2023-04-14T12:13:09.595Z"
   },
   {
    "duration": 23,
    "start_time": "2023-04-14T12:13:09.612Z"
   },
   {
    "duration": 30,
    "start_time": "2023-04-14T12:13:09.637Z"
   },
   {
    "duration": 8,
    "start_time": "2023-04-14T12:13:09.670Z"
   },
   {
    "duration": 16,
    "start_time": "2023-04-14T12:13:09.680Z"
   },
   {
    "duration": 26,
    "start_time": "2023-04-14T12:13:09.697Z"
   },
   {
    "duration": 475,
    "start_time": "2023-04-14T12:13:09.725Z"
   },
   {
    "duration": 7,
    "start_time": "2023-04-14T12:13:10.202Z"
   },
   {
    "duration": 46,
    "start_time": "2023-04-14T12:13:10.210Z"
   },
   {
    "duration": 45,
    "start_time": "2023-04-14T12:13:10.258Z"
   },
   {
    "duration": 50,
    "start_time": "2023-04-14T12:13:10.304Z"
   },
   {
    "duration": 17,
    "start_time": "2023-04-14T12:13:10.355Z"
   },
   {
    "duration": 73,
    "start_time": "2023-04-14T12:13:10.374Z"
   },
   {
    "duration": 5,
    "start_time": "2023-04-14T12:13:10.448Z"
   },
   {
    "duration": 13,
    "start_time": "2023-04-14T12:13:10.454Z"
   },
   {
    "duration": 318,
    "start_time": "2023-04-14T12:15:41.785Z"
   },
   {
    "duration": 78,
    "start_time": "2023-04-14T12:27:40.760Z"
   },
   {
    "duration": 49,
    "start_time": "2023-04-14T12:27:50.029Z"
   },
   {
    "duration": 47,
    "start_time": "2023-04-14T12:28:06.284Z"
   },
   {
    "duration": 1108,
    "start_time": "2023-04-14T15:31:38.190Z"
   },
   {
    "duration": 151,
    "start_time": "2023-04-14T15:31:39.299Z"
   },
   {
    "duration": 4,
    "start_time": "2023-04-14T15:31:39.452Z"
   },
   {
    "duration": 15,
    "start_time": "2023-04-14T15:31:39.458Z"
   },
   {
    "duration": 22,
    "start_time": "2023-04-14T15:31:39.474Z"
   },
   {
    "duration": 12,
    "start_time": "2023-04-14T15:31:39.498Z"
   },
   {
    "duration": 106,
    "start_time": "2023-04-14T15:31:39.512Z"
   },
   {
    "duration": 8,
    "start_time": "2023-04-14T15:31:39.620Z"
   },
   {
    "duration": 82,
    "start_time": "2023-04-14T15:31:39.630Z"
   },
   {
    "duration": 89,
    "start_time": "2023-04-14T15:31:39.715Z"
   },
   {
    "duration": 18,
    "start_time": "2023-04-14T15:31:39.805Z"
   },
   {
    "duration": 15,
    "start_time": "2023-04-14T15:31:39.824Z"
   },
   {
    "duration": 27,
    "start_time": "2023-04-14T15:31:39.841Z"
   },
   {
    "duration": 28,
    "start_time": "2023-04-14T15:31:39.869Z"
   },
   {
    "duration": 16,
    "start_time": "2023-04-14T15:31:39.899Z"
   },
   {
    "duration": 30,
    "start_time": "2023-04-14T15:31:39.917Z"
   },
   {
    "duration": 405,
    "start_time": "2023-04-14T15:31:39.949Z"
   },
   {
    "duration": 6,
    "start_time": "2023-04-14T15:31:40.355Z"
   },
   {
    "duration": 39,
    "start_time": "2023-04-14T15:31:40.362Z"
   },
   {
    "duration": 40,
    "start_time": "2023-04-14T15:31:40.403Z"
   },
   {
    "duration": 66,
    "start_time": "2023-04-14T15:31:40.444Z"
   },
   {
    "duration": 17,
    "start_time": "2023-04-14T15:31:40.512Z"
   },
   {
    "duration": 73,
    "start_time": "2023-04-14T15:31:40.530Z"
   },
   {
    "duration": 6,
    "start_time": "2023-04-14T15:31:40.605Z"
   },
   {
    "duration": 27,
    "start_time": "2023-04-14T15:31:40.612Z"
   },
   {
    "duration": 41,
    "start_time": "2023-04-14T15:31:40.641Z"
   },
   {
    "duration": 1160,
    "start_time": "2023-04-14T15:33:05.666Z"
   },
   {
    "duration": 153,
    "start_time": "2023-04-14T15:33:06.827Z"
   },
   {
    "duration": 4,
    "start_time": "2023-04-14T15:33:06.982Z"
   },
   {
    "duration": 11,
    "start_time": "2023-04-14T15:33:06.993Z"
   },
   {
    "duration": 21,
    "start_time": "2023-04-14T15:33:07.005Z"
   },
   {
    "duration": 13,
    "start_time": "2023-04-14T15:33:07.027Z"
   },
   {
    "duration": 103,
    "start_time": "2023-04-14T15:33:07.041Z"
   },
   {
    "duration": 10,
    "start_time": "2023-04-14T15:33:07.146Z"
   },
   {
    "duration": 88,
    "start_time": "2023-04-14T15:33:07.158Z"
   },
   {
    "duration": 86,
    "start_time": "2023-04-14T15:33:07.249Z"
   },
   {
    "duration": 18,
    "start_time": "2023-04-14T15:33:07.337Z"
   },
   {
    "duration": 16,
    "start_time": "2023-04-14T15:33:07.356Z"
   },
   {
    "duration": 28,
    "start_time": "2023-04-14T15:33:07.393Z"
   },
   {
    "duration": 10,
    "start_time": "2023-04-14T15:33:07.423Z"
   },
   {
    "duration": 6,
    "start_time": "2023-04-14T15:33:07.434Z"
   },
   {
    "duration": 26,
    "start_time": "2023-04-14T15:33:07.441Z"
   },
   {
    "duration": 419,
    "start_time": "2023-04-14T15:33:07.468Z"
   },
   {
    "duration": 7,
    "start_time": "2023-04-14T15:33:07.893Z"
   },
   {
    "duration": 30,
    "start_time": "2023-04-14T15:33:07.901Z"
   },
   {
    "duration": 40,
    "start_time": "2023-04-14T15:33:07.933Z"
   },
   {
    "duration": 3,
    "start_time": "2023-04-14T15:33:07.994Z"
   },
   {
    "duration": 0,
    "start_time": "2023-04-14T15:33:07.999Z"
   },
   {
    "duration": 0,
    "start_time": "2023-04-14T15:33:08.000Z"
   },
   {
    "duration": 0,
    "start_time": "2023-04-14T15:33:08.002Z"
   },
   {
    "duration": 0,
    "start_time": "2023-04-14T15:33:08.003Z"
   },
   {
    "duration": 0,
    "start_time": "2023-04-14T15:33:08.004Z"
   },
   {
    "duration": 45,
    "start_time": "2023-04-14T15:33:20.224Z"
   },
   {
    "duration": 1127,
    "start_time": "2023-04-14T15:33:26.707Z"
   },
   {
    "duration": 149,
    "start_time": "2023-04-14T15:33:27.836Z"
   },
   {
    "duration": 8,
    "start_time": "2023-04-14T15:33:27.988Z"
   },
   {
    "duration": 19,
    "start_time": "2023-04-14T15:33:27.998Z"
   },
   {
    "duration": 29,
    "start_time": "2023-04-14T15:33:28.019Z"
   },
   {
    "duration": 13,
    "start_time": "2023-04-14T15:33:28.049Z"
   },
   {
    "duration": 98,
    "start_time": "2023-04-14T15:33:28.063Z"
   },
   {
    "duration": 9,
    "start_time": "2023-04-14T15:33:28.162Z"
   },
   {
    "duration": 81,
    "start_time": "2023-04-14T15:33:28.174Z"
   },
   {
    "duration": 93,
    "start_time": "2023-04-14T15:33:28.257Z"
   },
   {
    "duration": 17,
    "start_time": "2023-04-14T15:33:28.352Z"
   },
   {
    "duration": 28,
    "start_time": "2023-04-14T15:33:28.371Z"
   },
   {
    "duration": 30,
    "start_time": "2023-04-14T15:33:28.400Z"
   },
   {
    "duration": 8,
    "start_time": "2023-04-14T15:33:28.432Z"
   },
   {
    "duration": 16,
    "start_time": "2023-04-14T15:33:28.441Z"
   },
   {
    "duration": 42,
    "start_time": "2023-04-14T15:33:28.458Z"
   },
   {
    "duration": 441,
    "start_time": "2023-04-14T15:33:28.504Z"
   },
   {
    "duration": 6,
    "start_time": "2023-04-14T15:33:28.947Z"
   },
   {
    "duration": 41,
    "start_time": "2023-04-14T15:33:28.954Z"
   },
   {
    "duration": 43,
    "start_time": "2023-04-14T15:33:28.997Z"
   },
   {
    "duration": 61,
    "start_time": "2023-04-14T15:33:29.042Z"
   },
   {
    "duration": 19,
    "start_time": "2023-04-14T15:33:29.108Z"
   },
   {
    "duration": 83,
    "start_time": "2023-04-14T15:33:29.129Z"
   },
   {
    "duration": 4,
    "start_time": "2023-04-14T15:33:29.214Z"
   },
   {
    "duration": 14,
    "start_time": "2023-04-14T15:33:29.220Z"
   },
   {
    "duration": 60,
    "start_time": "2023-04-14T15:33:29.235Z"
   },
   {
    "duration": 1118,
    "start_time": "2023-04-14T15:34:27.980Z"
   },
   {
    "duration": 147,
    "start_time": "2023-04-14T15:34:29.099Z"
   },
   {
    "duration": 4,
    "start_time": "2023-04-14T15:34:29.247Z"
   },
   {
    "duration": 13,
    "start_time": "2023-04-14T15:34:29.253Z"
   },
   {
    "duration": 27,
    "start_time": "2023-04-14T15:34:29.268Z"
   },
   {
    "duration": 13,
    "start_time": "2023-04-14T15:34:29.297Z"
   },
   {
    "duration": 102,
    "start_time": "2023-04-14T15:34:29.312Z"
   },
   {
    "duration": 11,
    "start_time": "2023-04-14T15:34:29.416Z"
   },
   {
    "duration": 78,
    "start_time": "2023-04-14T15:34:29.428Z"
   },
   {
    "duration": 92,
    "start_time": "2023-04-14T15:34:29.508Z"
   },
   {
    "duration": 20,
    "start_time": "2023-04-14T15:34:29.602Z"
   },
   {
    "duration": 15,
    "start_time": "2023-04-14T15:34:29.623Z"
   },
   {
    "duration": 28,
    "start_time": "2023-04-14T15:34:29.639Z"
   },
   {
    "duration": 32,
    "start_time": "2023-04-14T15:34:29.670Z"
   },
   {
    "duration": 3,
    "start_time": "2023-04-14T15:34:29.704Z"
   },
   {
    "duration": 26,
    "start_time": "2023-04-14T15:34:29.709Z"
   },
   {
    "duration": 448,
    "start_time": "2023-04-14T15:34:29.736Z"
   },
   {
    "duration": 8,
    "start_time": "2023-04-14T15:34:30.186Z"
   },
   {
    "duration": 68,
    "start_time": "2023-04-14T15:34:30.196Z"
   },
   {
    "duration": 42,
    "start_time": "2023-04-14T15:34:30.266Z"
   },
   {
    "duration": 48,
    "start_time": "2023-04-14T15:34:30.309Z"
   },
   {
    "duration": 17,
    "start_time": "2023-04-14T15:34:30.359Z"
   },
   {
    "duration": 100,
    "start_time": "2023-04-14T15:34:30.378Z"
   },
   {
    "duration": 4,
    "start_time": "2023-04-14T15:34:30.480Z"
   },
   {
    "duration": 33,
    "start_time": "2023-04-14T15:34:30.485Z"
   },
   {
    "duration": 74,
    "start_time": "2023-04-14T15:34:30.519Z"
   },
   {
    "duration": 1366,
    "start_time": "2023-04-14T16:22:07.235Z"
   },
   {
    "duration": 1308,
    "start_time": "2023-04-14T16:23:02.410Z"
   },
   {
    "duration": 1202,
    "start_time": "2023-04-14T16:23:33.943Z"
   },
   {
    "duration": 37,
    "start_time": "2023-04-14T16:24:44.460Z"
   },
   {
    "duration": 39,
    "start_time": "2023-04-14T16:24:47.554Z"
   },
   {
    "duration": 41,
    "start_time": "2023-04-14T16:24:51.609Z"
   },
   {
    "duration": 6,
    "start_time": "2023-04-14T16:35:10.540Z"
   },
   {
    "duration": 6,
    "start_time": "2023-04-14T16:46:20.792Z"
   },
   {
    "duration": 11,
    "start_time": "2023-04-14T16:48:16.760Z"
   },
   {
    "duration": 9,
    "start_time": "2023-04-14T16:48:30.063Z"
   },
   {
    "duration": 8,
    "start_time": "2023-04-14T16:48:34.422Z"
   },
   {
    "duration": 30,
    "start_time": "2023-04-14T16:48:39.373Z"
   },
   {
    "duration": 7,
    "start_time": "2023-04-14T16:51:13.987Z"
   },
   {
    "duration": 30,
    "start_time": "2023-04-14T16:51:17.134Z"
   },
   {
    "duration": 47,
    "start_time": "2023-04-14T16:52:28.554Z"
   },
   {
    "duration": 68,
    "start_time": "2023-04-14T16:53:49.525Z"
   },
   {
    "duration": 42,
    "start_time": "2023-04-14T16:54:02.574Z"
   },
   {
    "duration": 1527,
    "start_time": "2023-04-15T07:24:04.158Z"
   },
   {
    "duration": 597,
    "start_time": "2023-04-15T07:24:05.687Z"
   },
   {
    "duration": 21,
    "start_time": "2023-04-15T07:24:06.285Z"
   },
   {
    "duration": 10,
    "start_time": "2023-04-15T07:24:06.308Z"
   },
   {
    "duration": 26,
    "start_time": "2023-04-15T07:24:06.320Z"
   },
   {
    "duration": 16,
    "start_time": "2023-04-15T07:24:06.347Z"
   },
   {
    "duration": 153,
    "start_time": "2023-04-15T07:24:06.365Z"
   },
   {
    "duration": 14,
    "start_time": "2023-04-15T07:24:06.522Z"
   },
   {
    "duration": 101,
    "start_time": "2023-04-15T07:24:06.538Z"
   },
   {
    "duration": 118,
    "start_time": "2023-04-15T07:24:06.642Z"
   },
   {
    "duration": 22,
    "start_time": "2023-04-15T07:24:06.762Z"
   },
   {
    "duration": 26,
    "start_time": "2023-04-15T07:24:06.790Z"
   },
   {
    "duration": 52,
    "start_time": "2023-04-15T07:24:06.818Z"
   },
   {
    "duration": 10,
    "start_time": "2023-04-15T07:24:06.872Z"
   },
   {
    "duration": 21,
    "start_time": "2023-04-15T07:24:06.884Z"
   },
   {
    "duration": 39,
    "start_time": "2023-04-15T07:24:06.906Z"
   },
   {
    "duration": 536,
    "start_time": "2023-04-15T07:24:06.947Z"
   },
   {
    "duration": 10,
    "start_time": "2023-04-15T07:24:07.485Z"
   },
   {
    "duration": 54,
    "start_time": "2023-04-15T07:24:07.497Z"
   },
   {
    "duration": 67,
    "start_time": "2023-04-15T07:24:07.553Z"
   },
   {
    "duration": 52,
    "start_time": "2023-04-15T07:24:07.622Z"
   },
   {
    "duration": 34,
    "start_time": "2023-04-15T07:24:07.690Z"
   },
   {
    "duration": 87,
    "start_time": "2023-04-15T07:24:07.726Z"
   },
   {
    "duration": 5,
    "start_time": "2023-04-15T07:24:07.815Z"
   },
   {
    "duration": 15,
    "start_time": "2023-04-15T07:24:07.822Z"
   },
   {
    "duration": 82,
    "start_time": "2023-04-15T07:24:07.839Z"
   },
   {
    "duration": 7,
    "start_time": "2023-04-15T07:24:07.923Z"
   },
   {
    "duration": 153,
    "start_time": "2023-04-15T07:24:07.933Z"
   },
   {
    "duration": 1233,
    "start_time": "2023-04-15T07:27:41.452Z"
   },
   {
    "duration": 225,
    "start_time": "2023-04-15T07:27:42.687Z"
   },
   {
    "duration": 5,
    "start_time": "2023-04-15T07:27:42.914Z"
   },
   {
    "duration": 16,
    "start_time": "2023-04-15T07:27:42.922Z"
   },
   {
    "duration": 28,
    "start_time": "2023-04-15T07:27:42.940Z"
   },
   {
    "duration": 28,
    "start_time": "2023-04-15T07:27:42.970Z"
   },
   {
    "duration": 149,
    "start_time": "2023-04-15T07:27:43.000Z"
   },
   {
    "duration": 13,
    "start_time": "2023-04-15T07:27:43.151Z"
   },
   {
    "duration": 93,
    "start_time": "2023-04-15T07:27:43.166Z"
   },
   {
    "duration": 104,
    "start_time": "2023-04-15T07:27:43.262Z"
   },
   {
    "duration": 35,
    "start_time": "2023-04-15T07:27:43.368Z"
   },
   {
    "duration": 20,
    "start_time": "2023-04-15T07:27:43.406Z"
   },
   {
    "duration": 34,
    "start_time": "2023-04-15T07:27:43.428Z"
   },
   {
    "duration": 31,
    "start_time": "2023-04-15T07:27:43.464Z"
   },
   {
    "duration": 12,
    "start_time": "2023-04-15T07:27:43.497Z"
   },
   {
    "duration": 35,
    "start_time": "2023-04-15T07:27:43.511Z"
   },
   {
    "duration": 482,
    "start_time": "2023-04-15T07:27:43.548Z"
   },
   {
    "duration": 8,
    "start_time": "2023-04-15T07:27:44.032Z"
   },
   {
    "duration": 46,
    "start_time": "2023-04-15T07:27:44.041Z"
   },
   {
    "duration": 51,
    "start_time": "2023-04-15T07:27:44.090Z"
   },
   {
    "duration": 64,
    "start_time": "2023-04-15T07:27:44.142Z"
   },
   {
    "duration": 26,
    "start_time": "2023-04-15T07:27:44.207Z"
   },
   {
    "duration": 88,
    "start_time": "2023-04-15T07:27:44.235Z"
   },
   {
    "duration": 5,
    "start_time": "2023-04-15T07:27:44.325Z"
   },
   {
    "duration": 35,
    "start_time": "2023-04-15T07:27:44.332Z"
   },
   {
    "duration": 65,
    "start_time": "2023-04-15T07:27:44.369Z"
   },
   {
    "duration": 28,
    "start_time": "2023-04-15T07:27:44.436Z"
   },
   {
    "duration": 176,
    "start_time": "2023-04-15T07:27:44.468Z"
   },
   {
    "duration": 10,
    "start_time": "2023-04-15T07:28:27.305Z"
   },
   {
    "duration": 64,
    "start_time": "2023-04-15T07:29:41.443Z"
   },
   {
    "duration": 18,
    "start_time": "2023-04-15T07:29:45.986Z"
   },
   {
    "duration": 59,
    "start_time": "2023-04-15T07:30:45.849Z"
   },
   {
    "duration": 51,
    "start_time": "2023-04-15T07:31:32.203Z"
   },
   {
    "duration": 121,
    "start_time": "2023-04-15T07:32:03.958Z"
   },
   {
    "duration": 8,
    "start_time": "2023-04-15T07:32:38.603Z"
   },
   {
    "duration": 51,
    "start_time": "2023-04-15T07:32:45.224Z"
   },
   {
    "duration": 8,
    "start_time": "2023-04-15T07:33:17.108Z"
   },
   {
    "duration": 70,
    "start_time": "2023-04-15T07:33:20.404Z"
   },
   {
    "duration": 14,
    "start_time": "2023-04-15T07:35:09.287Z"
   },
   {
    "duration": 44,
    "start_time": "2023-04-15T07:35:11.828Z"
   },
   {
    "duration": 1257,
    "start_time": "2023-04-15T07:36:36.018Z"
   },
   {
    "duration": 198,
    "start_time": "2023-04-15T07:36:37.277Z"
   },
   {
    "duration": 5,
    "start_time": "2023-04-15T07:36:37.477Z"
   },
   {
    "duration": 39,
    "start_time": "2023-04-15T07:36:37.489Z"
   },
   {
    "duration": 34,
    "start_time": "2023-04-15T07:36:37.530Z"
   },
   {
    "duration": 17,
    "start_time": "2023-04-15T07:36:37.567Z"
   },
   {
    "duration": 138,
    "start_time": "2023-04-15T07:36:37.586Z"
   },
   {
    "duration": 12,
    "start_time": "2023-04-15T07:36:37.726Z"
   },
   {
    "duration": 95,
    "start_time": "2023-04-15T07:36:37.740Z"
   },
   {
    "duration": 106,
    "start_time": "2023-04-15T07:36:37.838Z"
   },
   {
    "duration": 20,
    "start_time": "2023-04-15T07:36:37.946Z"
   },
   {
    "duration": 44,
    "start_time": "2023-04-15T07:36:37.968Z"
   },
   {
    "duration": 36,
    "start_time": "2023-04-15T07:36:38.014Z"
   },
   {
    "duration": 10,
    "start_time": "2023-04-15T07:36:38.051Z"
   },
   {
    "duration": 54,
    "start_time": "2023-04-15T07:36:38.062Z"
   },
   {
    "duration": 36,
    "start_time": "2023-04-15T07:36:38.118Z"
   },
   {
    "duration": 537,
    "start_time": "2023-04-15T07:36:38.156Z"
   },
   {
    "duration": 12,
    "start_time": "2023-04-15T07:36:38.696Z"
   },
   {
    "duration": 36,
    "start_time": "2023-04-15T07:36:38.711Z"
   },
   {
    "duration": 89,
    "start_time": "2023-04-15T07:36:38.749Z"
   },
   {
    "duration": 60,
    "start_time": "2023-04-15T07:36:38.840Z"
   },
   {
    "duration": 28,
    "start_time": "2023-04-15T07:36:38.902Z"
   },
   {
    "duration": 95,
    "start_time": "2023-04-15T07:36:38.932Z"
   },
   {
    "duration": 6,
    "start_time": "2023-04-15T07:36:39.029Z"
   },
   {
    "duration": 15,
    "start_time": "2023-04-15T07:36:39.037Z"
   },
   {
    "duration": 82,
    "start_time": "2023-04-15T07:36:39.054Z"
   },
   {
    "duration": 9,
    "start_time": "2023-04-15T07:36:39.139Z"
   },
   {
    "duration": 67,
    "start_time": "2023-04-15T07:36:39.151Z"
   },
   {
    "duration": 7,
    "start_time": "2023-04-15T07:38:51.796Z"
   },
   {
    "duration": 52,
    "start_time": "2023-04-15T07:38:56.471Z"
   },
   {
    "duration": 9,
    "start_time": "2023-04-15T07:40:11.587Z"
   },
   {
    "duration": 10,
    "start_time": "2023-04-15T07:40:16.192Z"
   },
   {
    "duration": 56,
    "start_time": "2023-04-15T07:40:19.417Z"
   },
   {
    "duration": 59,
    "start_time": "2023-04-15T07:44:34.453Z"
   },
   {
    "duration": 45,
    "start_time": "2023-04-15T08:01:53.883Z"
   },
   {
    "duration": 45,
    "start_time": "2023-04-15T08:02:04.989Z"
   },
   {
    "duration": 48,
    "start_time": "2023-04-15T08:02:20.203Z"
   },
   {
    "duration": 46,
    "start_time": "2023-04-15T08:02:27.545Z"
   },
   {
    "duration": 46,
    "start_time": "2023-04-15T08:02:32.271Z"
   },
   {
    "duration": 61,
    "start_time": "2023-04-15T08:03:00.383Z"
   },
   {
    "duration": 48,
    "start_time": "2023-04-15T08:03:08.979Z"
   },
   {
    "duration": 1251,
    "start_time": "2023-04-15T08:06:43.434Z"
   },
   {
    "duration": 195,
    "start_time": "2023-04-15T08:06:44.687Z"
   },
   {
    "duration": 8,
    "start_time": "2023-04-15T08:06:44.883Z"
   },
   {
    "duration": 22,
    "start_time": "2023-04-15T08:06:44.895Z"
   },
   {
    "duration": 27,
    "start_time": "2023-04-15T08:06:44.919Z"
   },
   {
    "duration": 17,
    "start_time": "2023-04-15T08:06:44.948Z"
   },
   {
    "duration": 141,
    "start_time": "2023-04-15T08:06:44.967Z"
   },
   {
    "duration": 12,
    "start_time": "2023-04-15T08:06:45.111Z"
   },
   {
    "duration": 102,
    "start_time": "2023-04-15T08:06:45.125Z"
   },
   {
    "duration": 95,
    "start_time": "2023-04-15T08:06:45.230Z"
   },
   {
    "duration": 22,
    "start_time": "2023-04-15T08:06:45.327Z"
   },
   {
    "duration": 16,
    "start_time": "2023-04-15T08:06:45.352Z"
   },
   {
    "duration": 40,
    "start_time": "2023-04-15T08:06:45.388Z"
   },
   {
    "duration": 9,
    "start_time": "2023-04-15T08:06:45.430Z"
   },
   {
    "duration": 7,
    "start_time": "2023-04-15T08:06:45.441Z"
   },
   {
    "duration": 65,
    "start_time": "2023-04-15T08:06:45.450Z"
   },
   {
    "duration": 542,
    "start_time": "2023-04-15T08:06:45.517Z"
   },
   {
    "duration": 7,
    "start_time": "2023-04-15T08:06:46.062Z"
   },
   {
    "duration": 55,
    "start_time": "2023-04-15T08:06:46.071Z"
   },
   {
    "duration": 48,
    "start_time": "2023-04-15T08:06:46.128Z"
   },
   {
    "duration": 55,
    "start_time": "2023-04-15T08:06:46.188Z"
   },
   {
    "duration": 49,
    "start_time": "2023-04-15T08:06:46.245Z"
   },
   {
    "duration": 84,
    "start_time": "2023-04-15T08:06:46.297Z"
   },
   {
    "duration": 9,
    "start_time": "2023-04-15T08:06:46.384Z"
   },
   {
    "duration": 32,
    "start_time": "2023-04-15T08:06:46.396Z"
   },
   {
    "duration": 54,
    "start_time": "2023-04-15T08:06:46.430Z"
   },
   {
    "duration": 532,
    "start_time": "2023-04-15T08:30:06.592Z"
   },
   {
    "duration": 106,
    "start_time": "2023-04-15T08:30:17.763Z"
   },
   {
    "duration": 11,
    "start_time": "2023-04-15T08:30:34.524Z"
   },
   {
    "duration": 16,
    "start_time": "2023-04-15T08:30:41.603Z"
   },
   {
    "duration": 67,
    "start_time": "2023-04-15T08:30:52.915Z"
   },
   {
    "duration": 72,
    "start_time": "2023-04-15T08:31:04.185Z"
   },
   {
    "duration": 32,
    "start_time": "2023-04-15T08:31:47.279Z"
   },
   {
    "duration": 107,
    "start_time": "2023-04-15T08:33:41.256Z"
   },
   {
    "duration": 106,
    "start_time": "2023-04-15T08:34:44.944Z"
   },
   {
    "duration": 775,
    "start_time": "2023-04-15T08:35:07.211Z"
   },
   {
    "duration": 101,
    "start_time": "2023-04-15T08:35:14.718Z"
   },
   {
    "duration": 121,
    "start_time": "2023-04-15T08:35:25.610Z"
   },
   {
    "duration": 111,
    "start_time": "2023-04-15T08:35:41.234Z"
   },
   {
    "duration": 63,
    "start_time": "2023-04-15T08:37:55.492Z"
   },
   {
    "duration": 67,
    "start_time": "2023-04-15T08:38:10.396Z"
   },
   {
    "duration": 2996,
    "start_time": "2023-04-15T08:43:52.644Z"
   },
   {
    "duration": 2793,
    "start_time": "2023-04-15T08:43:59.023Z"
   },
   {
    "duration": 4,
    "start_time": "2023-04-15T08:50:26.075Z"
   },
   {
    "duration": 117,
    "start_time": "2023-04-15T08:50:52.023Z"
   },
   {
    "duration": 137,
    "start_time": "2023-04-15T08:51:36.192Z"
   },
   {
    "duration": 63,
    "start_time": "2023-04-15T08:52:44.142Z"
   },
   {
    "duration": 174,
    "start_time": "2023-04-15T08:53:19.375Z"
   },
   {
    "duration": 153,
    "start_time": "2023-04-15T08:54:20.920Z"
   },
   {
    "duration": 159,
    "start_time": "2023-04-15T08:56:19.028Z"
   },
   {
    "duration": 103,
    "start_time": "2023-04-15T08:56:59.335Z"
   },
   {
    "duration": 172,
    "start_time": "2023-04-15T08:57:11.817Z"
   },
   {
    "duration": 169,
    "start_time": "2023-04-15T08:58:05.107Z"
   },
   {
    "duration": 11,
    "start_time": "2023-04-15T08:58:37.630Z"
   },
   {
    "duration": 154,
    "start_time": "2023-04-15T08:59:25.176Z"
   },
   {
    "duration": 1196,
    "start_time": "2023-04-15T09:00:42.162Z"
   },
   {
    "duration": 169,
    "start_time": "2023-04-15T09:00:43.360Z"
   },
   {
    "duration": 4,
    "start_time": "2023-04-15T09:00:43.531Z"
   },
   {
    "duration": 13,
    "start_time": "2023-04-15T09:00:43.537Z"
   },
   {
    "duration": 30,
    "start_time": "2023-04-15T09:00:43.552Z"
   },
   {
    "duration": 14,
    "start_time": "2023-04-15T09:00:43.584Z"
   },
   {
    "duration": 116,
    "start_time": "2023-04-15T09:00:43.600Z"
   },
   {
    "duration": 9,
    "start_time": "2023-04-15T09:00:43.717Z"
   },
   {
    "duration": 80,
    "start_time": "2023-04-15T09:00:43.728Z"
   },
   {
    "duration": 92,
    "start_time": "2023-04-15T09:00:43.811Z"
   },
   {
    "duration": 18,
    "start_time": "2023-04-15T09:00:43.904Z"
   },
   {
    "duration": 18,
    "start_time": "2023-04-15T09:00:43.924Z"
   },
   {
    "duration": 51,
    "start_time": "2023-04-15T09:00:43.944Z"
   },
   {
    "duration": 9,
    "start_time": "2023-04-15T09:00:43.997Z"
   },
   {
    "duration": 12,
    "start_time": "2023-04-15T09:00:44.008Z"
   },
   {
    "duration": 32,
    "start_time": "2023-04-15T09:00:44.021Z"
   },
   {
    "duration": 475,
    "start_time": "2023-04-15T09:00:44.054Z"
   },
   {
    "duration": 7,
    "start_time": "2023-04-15T09:00:44.531Z"
   },
   {
    "duration": 33,
    "start_time": "2023-04-15T09:00:44.540Z"
   },
   {
    "duration": 57,
    "start_time": "2023-04-15T09:00:44.575Z"
   },
   {
    "duration": 68,
    "start_time": "2023-04-15T09:00:44.633Z"
   },
   {
    "duration": 23,
    "start_time": "2023-04-15T09:00:44.702Z"
   },
   {
    "duration": 78,
    "start_time": "2023-04-15T09:00:44.726Z"
   },
   {
    "duration": 5,
    "start_time": "2023-04-15T09:00:44.806Z"
   },
   {
    "duration": 20,
    "start_time": "2023-04-15T09:00:44.812Z"
   },
   {
    "duration": 74,
    "start_time": "2023-04-15T09:00:44.834Z"
   },
   {
    "duration": 205,
    "start_time": "2023-04-15T09:00:44.910Z"
   },
   {
    "duration": 151,
    "start_time": "2023-04-15T09:01:17.341Z"
   },
   {
    "duration": 154,
    "start_time": "2023-04-15T09:02:03.080Z"
   },
   {
    "duration": 60,
    "start_time": "2023-04-15T09:03:45.769Z"
   },
   {
    "duration": 89,
    "start_time": "2023-04-15T09:03:55.422Z"
   },
   {
    "duration": 95,
    "start_time": "2023-04-15T09:05:51.484Z"
   },
   {
    "duration": 59,
    "start_time": "2023-04-15T09:08:36.903Z"
   },
   {
    "duration": 116,
    "start_time": "2023-04-15T09:09:05.615Z"
   },
   {
    "duration": 147,
    "start_time": "2023-04-15T09:09:13.784Z"
   },
   {
    "duration": 129,
    "start_time": "2023-04-15T09:13:25.480Z"
   },
   {
    "duration": 1236,
    "start_time": "2023-04-15T09:14:51.815Z"
   },
   {
    "duration": 193,
    "start_time": "2023-04-15T09:14:53.054Z"
   },
   {
    "duration": 4,
    "start_time": "2023-04-15T09:14:53.249Z"
   },
   {
    "duration": 36,
    "start_time": "2023-04-15T09:14:53.255Z"
   },
   {
    "duration": 38,
    "start_time": "2023-04-15T09:14:53.293Z"
   },
   {
    "duration": 14,
    "start_time": "2023-04-15T09:14:53.333Z"
   },
   {
    "duration": 132,
    "start_time": "2023-04-15T09:14:53.349Z"
   },
   {
    "duration": 10,
    "start_time": "2023-04-15T09:14:53.482Z"
   },
   {
    "duration": 95,
    "start_time": "2023-04-15T09:14:53.494Z"
   },
   {
    "duration": 103,
    "start_time": "2023-04-15T09:14:53.594Z"
   },
   {
    "duration": 27,
    "start_time": "2023-04-15T09:14:53.699Z"
   },
   {
    "duration": 45,
    "start_time": "2023-04-15T09:14:53.728Z"
   },
   {
    "duration": 49,
    "start_time": "2023-04-15T09:14:53.775Z"
   },
   {
    "duration": 13,
    "start_time": "2023-04-15T09:14:53.826Z"
   },
   {
    "duration": 17,
    "start_time": "2023-04-15T09:14:53.841Z"
   },
   {
    "duration": 63,
    "start_time": "2023-04-15T09:14:53.860Z"
   },
   {
    "duration": 506,
    "start_time": "2023-04-15T09:14:53.926Z"
   },
   {
    "duration": 9,
    "start_time": "2023-04-15T09:14:54.435Z"
   },
   {
    "duration": 44,
    "start_time": "2023-04-15T09:14:54.445Z"
   },
   {
    "duration": 49,
    "start_time": "2023-04-15T09:14:54.491Z"
   },
   {
    "duration": 67,
    "start_time": "2023-04-15T09:14:54.542Z"
   },
   {
    "duration": 27,
    "start_time": "2023-04-15T09:14:54.611Z"
   },
   {
    "duration": 78,
    "start_time": "2023-04-15T09:14:54.639Z"
   },
   {
    "duration": 7,
    "start_time": "2023-04-15T09:14:54.719Z"
   },
   {
    "duration": 56,
    "start_time": "2023-04-15T09:14:54.728Z"
   },
   {
    "duration": 103,
    "start_time": "2023-04-15T09:14:54.787Z"
   },
   {
    "duration": 106,
    "start_time": "2023-04-15T09:14:54.892Z"
   },
   {
    "duration": 124,
    "start_time": "2023-04-15T09:14:55.002Z"
   },
   {
    "duration": 116,
    "start_time": "2023-04-15T09:41:36.655Z"
   },
   {
    "duration": 8,
    "start_time": "2023-04-15T09:41:48.595Z"
   },
   {
    "duration": 100,
    "start_time": "2023-04-15T09:42:02.346Z"
   },
   {
    "duration": 7,
    "start_time": "2023-04-15T09:42:17.326Z"
   },
   {
    "duration": 4,
    "start_time": "2023-04-15T09:42:21.501Z"
   },
   {
    "duration": 111,
    "start_time": "2023-04-15T09:43:06.744Z"
   },
   {
    "duration": 51,
    "start_time": "2023-04-15T09:43:44.946Z"
   },
   {
    "duration": 8,
    "start_time": "2023-04-15T09:43:49.524Z"
   },
   {
    "duration": 5,
    "start_time": "2023-04-15T09:44:04.499Z"
   },
   {
    "duration": 13,
    "start_time": "2023-04-15T09:44:07.523Z"
   },
   {
    "duration": 10,
    "start_time": "2023-04-15T09:45:04.715Z"
   },
   {
    "duration": 13,
    "start_time": "2023-04-15T09:45:07.093Z"
   },
   {
    "duration": 12,
    "start_time": "2023-04-15T09:45:54.665Z"
   },
   {
    "duration": 13,
    "start_time": "2023-04-15T09:45:58.300Z"
   },
   {
    "duration": 7,
    "start_time": "2023-04-15T09:46:26.416Z"
   },
   {
    "duration": 12,
    "start_time": "2023-04-15T09:46:30.024Z"
   },
   {
    "duration": 10,
    "start_time": "2023-04-15T10:09:48.374Z"
   },
   {
    "duration": 13,
    "start_time": "2023-04-15T10:09:51.689Z"
   },
   {
    "duration": 7,
    "start_time": "2023-04-15T10:11:13.451Z"
   },
   {
    "duration": 13,
    "start_time": "2023-04-15T10:11:16.823Z"
   },
   {
    "duration": 8,
    "start_time": "2023-04-15T10:13:18.372Z"
   },
   {
    "duration": 13,
    "start_time": "2023-04-15T10:13:23.900Z"
   },
   {
    "duration": 10,
    "start_time": "2023-04-15T10:14:55.652Z"
   },
   {
    "duration": 24,
    "start_time": "2023-04-15T10:14:58.784Z"
   },
   {
    "duration": 11,
    "start_time": "2023-04-15T10:15:18.733Z"
   },
   {
    "duration": 1421,
    "start_time": "2023-04-15T10:20:17.225Z"
   },
   {
    "duration": 481,
    "start_time": "2023-04-15T10:20:18.649Z"
   },
   {
    "duration": 9,
    "start_time": "2023-04-15T10:20:19.139Z"
   },
   {
    "duration": 23,
    "start_time": "2023-04-15T10:20:19.151Z"
   },
   {
    "duration": 49,
    "start_time": "2023-04-15T10:20:19.177Z"
   },
   {
    "duration": 34,
    "start_time": "2023-04-15T10:20:19.228Z"
   },
   {
    "duration": 153,
    "start_time": "2023-04-15T10:20:19.264Z"
   },
   {
    "duration": 13,
    "start_time": "2023-04-15T10:20:19.420Z"
   },
   {
    "duration": 111,
    "start_time": "2023-04-15T10:20:19.436Z"
   },
   {
    "duration": 212,
    "start_time": "2023-04-15T10:20:19.550Z"
   },
   {
    "duration": 23,
    "start_time": "2023-04-15T10:20:19.764Z"
   },
   {
    "duration": 30,
    "start_time": "2023-04-15T10:20:19.797Z"
   },
   {
    "duration": 73,
    "start_time": "2023-04-15T10:20:19.830Z"
   },
   {
    "duration": 17,
    "start_time": "2023-04-15T10:20:19.905Z"
   },
   {
    "duration": 34,
    "start_time": "2023-04-15T10:20:19.924Z"
   },
   {
    "duration": 51,
    "start_time": "2023-04-15T10:20:19.960Z"
   },
   {
    "duration": 799,
    "start_time": "2023-04-15T10:20:20.015Z"
   },
   {
    "duration": 12,
    "start_time": "2023-04-15T10:20:20.816Z"
   },
   {
    "duration": 81,
    "start_time": "2023-04-15T10:20:20.831Z"
   },
   {
    "duration": 109,
    "start_time": "2023-04-15T10:20:20.914Z"
   },
   {
    "duration": 97,
    "start_time": "2023-04-15T10:20:21.025Z"
   },
   {
    "duration": 53,
    "start_time": "2023-04-15T10:20:21.124Z"
   },
   {
    "duration": 165,
    "start_time": "2023-04-15T10:20:21.180Z"
   },
   {
    "duration": 8,
    "start_time": "2023-04-15T10:20:21.355Z"
   },
   {
    "duration": 79,
    "start_time": "2023-04-15T10:20:21.365Z"
   },
   {
    "duration": 115,
    "start_time": "2023-04-15T10:20:21.447Z"
   },
   {
    "duration": 5,
    "start_time": "2023-04-15T10:20:21.564Z"
   },
   {
    "duration": 1,
    "start_time": "2023-04-15T10:20:21.571Z"
   },
   {
    "duration": 0,
    "start_time": "2023-04-15T10:20:21.573Z"
   },
   {
    "duration": 150,
    "start_time": "2023-04-15T10:20:38.420Z"
   },
   {
    "duration": 161,
    "start_time": "2023-04-15T10:21:24.005Z"
   },
   {
    "duration": 143,
    "start_time": "2023-04-15T10:21:55.042Z"
   },
   {
    "duration": 121,
    "start_time": "2023-04-15T10:23:50.292Z"
   },
   {
    "duration": 6,
    "start_time": "2023-04-15T10:23:57.194Z"
   },
   {
    "duration": 130,
    "start_time": "2023-04-15T10:24:00.782Z"
   },
   {
    "duration": 6,
    "start_time": "2023-04-15T10:25:26.187Z"
   },
   {
    "duration": 14,
    "start_time": "2023-04-15T10:25:29.051Z"
   },
   {
    "duration": 115,
    "start_time": "2023-04-15T10:26:48.352Z"
   },
   {
    "duration": 1455,
    "start_time": "2023-04-15T10:26:58.422Z"
   },
   {
    "duration": 187,
    "start_time": "2023-04-15T10:26:59.880Z"
   },
   {
    "duration": 6,
    "start_time": "2023-04-15T10:27:00.069Z"
   },
   {
    "duration": 18,
    "start_time": "2023-04-15T10:27:00.078Z"
   },
   {
    "duration": 37,
    "start_time": "2023-04-15T10:27:00.098Z"
   },
   {
    "duration": 16,
    "start_time": "2023-04-15T10:27:00.137Z"
   },
   {
    "duration": 145,
    "start_time": "2023-04-15T10:27:00.156Z"
   },
   {
    "duration": 10,
    "start_time": "2023-04-15T10:27:00.304Z"
   },
   {
    "duration": 112,
    "start_time": "2023-04-15T10:27:00.317Z"
   },
   {
    "duration": 150,
    "start_time": "2023-04-15T10:27:00.433Z"
   },
   {
    "duration": 31,
    "start_time": "2023-04-15T10:27:00.586Z"
   },
   {
    "duration": 61,
    "start_time": "2023-04-15T10:27:00.620Z"
   },
   {
    "duration": 98,
    "start_time": "2023-04-15T10:27:00.683Z"
   },
   {
    "duration": 47,
    "start_time": "2023-04-15T10:27:00.786Z"
   },
   {
    "duration": 59,
    "start_time": "2023-04-15T10:27:00.835Z"
   },
   {
    "duration": 104,
    "start_time": "2023-04-15T10:27:00.898Z"
   },
   {
    "duration": 512,
    "start_time": "2023-04-15T10:27:01.004Z"
   },
   {
    "duration": 10,
    "start_time": "2023-04-15T10:27:01.518Z"
   },
   {
    "duration": 72,
    "start_time": "2023-04-15T10:27:01.531Z"
   },
   {
    "duration": 120,
    "start_time": "2023-04-15T10:27:01.606Z"
   },
   {
    "duration": 64,
    "start_time": "2023-04-15T10:27:01.729Z"
   },
   {
    "duration": 40,
    "start_time": "2023-04-15T10:27:01.796Z"
   },
   {
    "duration": 142,
    "start_time": "2023-04-15T10:27:01.838Z"
   },
   {
    "duration": 6,
    "start_time": "2023-04-15T10:27:01.982Z"
   },
   {
    "duration": 51,
    "start_time": "2023-04-15T10:27:01.990Z"
   },
   {
    "duration": 101,
    "start_time": "2023-04-15T10:27:02.044Z"
   },
   {
    "duration": 167,
    "start_time": "2023-04-15T10:27:02.147Z"
   },
   {
    "duration": 7,
    "start_time": "2023-04-15T10:27:02.317Z"
   },
   {
    "duration": 204,
    "start_time": "2023-04-15T10:27:02.326Z"
   },
   {
    "duration": 159,
    "start_time": "2023-04-15T10:27:12.126Z"
   },
   {
    "duration": 152,
    "start_time": "2023-04-15T10:27:19.293Z"
   },
   {
    "duration": 6,
    "start_time": "2023-04-15T10:27:48.817Z"
   },
   {
    "duration": 1004,
    "start_time": "2023-04-15T10:28:38.424Z"
   },
   {
    "duration": 84,
    "start_time": "2023-04-15T10:29:18.144Z"
   },
   {
    "duration": 13,
    "start_time": "2023-04-15T10:29:23.621Z"
   },
   {
    "duration": 1192,
    "start_time": "2023-04-15T10:29:49.654Z"
   },
   {
    "duration": 112,
    "start_time": "2023-04-15T10:33:27.380Z"
   },
   {
    "duration": 114,
    "start_time": "2023-04-15T10:33:35.220Z"
   },
   {
    "duration": 164,
    "start_time": "2023-04-15T10:33:42.111Z"
   },
   {
    "duration": 11,
    "start_time": "2023-04-15T10:34:41.979Z"
   },
   {
    "duration": 11,
    "start_time": "2023-04-15T10:34:56.418Z"
   },
   {
    "duration": 14,
    "start_time": "2023-04-15T10:35:49.980Z"
   },
   {
    "duration": 1453,
    "start_time": "2023-04-15T10:39:01.929Z"
   },
   {
    "duration": 188,
    "start_time": "2023-04-15T10:39:03.385Z"
   },
   {
    "duration": 6,
    "start_time": "2023-04-15T10:39:03.575Z"
   },
   {
    "duration": 12,
    "start_time": "2023-04-15T10:39:03.588Z"
   },
   {
    "duration": 40,
    "start_time": "2023-04-15T10:39:03.603Z"
   },
   {
    "duration": 19,
    "start_time": "2023-04-15T10:39:03.645Z"
   },
   {
    "duration": 159,
    "start_time": "2023-04-15T10:39:03.666Z"
   },
   {
    "duration": 14,
    "start_time": "2023-04-15T10:39:03.827Z"
   },
   {
    "duration": 133,
    "start_time": "2023-04-15T10:39:03.844Z"
   },
   {
    "duration": 111,
    "start_time": "2023-04-15T10:39:03.979Z"
   },
   {
    "duration": 21,
    "start_time": "2023-04-15T10:39:04.092Z"
   },
   {
    "duration": 44,
    "start_time": "2023-04-15T10:39:04.115Z"
   },
   {
    "duration": 60,
    "start_time": "2023-04-15T10:39:04.161Z"
   },
   {
    "duration": 14,
    "start_time": "2023-04-15T10:39:04.225Z"
   },
   {
    "duration": 16,
    "start_time": "2023-04-15T10:39:04.241Z"
   },
   {
    "duration": 62,
    "start_time": "2023-04-15T10:39:04.259Z"
   },
   {
    "duration": 628,
    "start_time": "2023-04-15T10:39:04.323Z"
   },
   {
    "duration": 7,
    "start_time": "2023-04-15T10:39:04.954Z"
   },
   {
    "duration": 46,
    "start_time": "2023-04-15T10:39:04.963Z"
   },
   {
    "duration": 51,
    "start_time": "2023-04-15T10:39:05.011Z"
   },
   {
    "duration": 64,
    "start_time": "2023-04-15T10:39:05.064Z"
   },
   {
    "duration": 25,
    "start_time": "2023-04-15T10:39:05.130Z"
   },
   {
    "duration": 92,
    "start_time": "2023-04-15T10:39:05.157Z"
   },
   {
    "duration": 5,
    "start_time": "2023-04-15T10:39:05.251Z"
   },
   {
    "duration": 30,
    "start_time": "2023-04-15T10:39:05.258Z"
   },
   {
    "duration": 63,
    "start_time": "2023-04-15T10:39:05.290Z"
   },
   {
    "duration": 143,
    "start_time": "2023-04-15T10:39:05.356Z"
   },
   {
    "duration": 0,
    "start_time": "2023-04-15T10:39:05.501Z"
   },
   {
    "duration": 0,
    "start_time": "2023-04-15T10:39:05.502Z"
   },
   {
    "duration": 0,
    "start_time": "2023-04-15T10:39:05.503Z"
   },
   {
    "duration": 74,
    "start_time": "2023-04-15T10:40:52.019Z"
   },
   {
    "duration": 69,
    "start_time": "2023-04-15T10:40:58.969Z"
   },
   {
    "duration": 15,
    "start_time": "2023-04-15T10:41:06.932Z"
   },
   {
    "duration": 142,
    "start_time": "2023-04-15T10:42:54.515Z"
   },
   {
    "duration": 1772,
    "start_time": "2023-04-15T12:20:26.017Z"
   },
   {
    "duration": 1238,
    "start_time": "2023-04-15T12:20:27.792Z"
   },
   {
    "duration": 11,
    "start_time": "2023-04-15T12:20:29.033Z"
   },
   {
    "duration": 6,
    "start_time": "2023-04-15T12:20:29.046Z"
   },
   {
    "duration": 63,
    "start_time": "2023-04-15T12:20:29.060Z"
   },
   {
    "duration": 86,
    "start_time": "2023-04-15T12:20:29.126Z"
   },
   {
    "duration": 266,
    "start_time": "2023-04-15T12:20:29.230Z"
   },
   {
    "duration": 80,
    "start_time": "2023-04-15T12:20:29.500Z"
   },
   {
    "duration": 265,
    "start_time": "2023-04-15T12:20:29.600Z"
   },
   {
    "duration": 225,
    "start_time": "2023-04-15T12:20:29.885Z"
   },
   {
    "duration": 37,
    "start_time": "2023-04-15T12:20:30.115Z"
   },
   {
    "duration": 50,
    "start_time": "2023-04-15T12:20:30.156Z"
   },
   {
    "duration": 113,
    "start_time": "2023-04-15T12:20:30.208Z"
   },
   {
    "duration": 145,
    "start_time": "2023-04-15T12:20:30.335Z"
   },
   {
    "duration": 89,
    "start_time": "2023-04-15T12:20:30.483Z"
   },
   {
    "duration": 164,
    "start_time": "2023-04-15T12:20:30.575Z"
   },
   {
    "duration": 941,
    "start_time": "2023-04-15T12:20:30.741Z"
   },
   {
    "duration": 16,
    "start_time": "2023-04-15T12:20:31.689Z"
   },
   {
    "duration": 244,
    "start_time": "2023-04-15T12:20:31.707Z"
   },
   {
    "duration": 222,
    "start_time": "2023-04-15T12:20:31.955Z"
   },
   {
    "duration": 177,
    "start_time": "2023-04-15T12:20:32.181Z"
   },
   {
    "duration": 122,
    "start_time": "2023-04-15T12:20:32.364Z"
   },
   {
    "duration": 397,
    "start_time": "2023-04-15T12:20:32.492Z"
   },
   {
    "duration": 20,
    "start_time": "2023-04-15T12:20:32.896Z"
   },
   {
    "duration": 118,
    "start_time": "2023-04-15T12:20:32.923Z"
   },
   {
    "duration": 204,
    "start_time": "2023-04-15T12:20:33.048Z"
   },
   {
    "duration": 154,
    "start_time": "2023-04-15T12:20:33.256Z"
   },
   {
    "duration": 58,
    "start_time": "2023-04-15T12:20:33.416Z"
   },
   {
    "duration": 23,
    "start_time": "2023-04-15T12:20:33.480Z"
   },
   {
    "duration": 262,
    "start_time": "2023-04-15T12:20:33.510Z"
   },
   {
    "duration": 1571,
    "start_time": "2023-04-15T12:43:04.381Z"
   },
   {
    "duration": 264,
    "start_time": "2023-04-15T12:43:05.955Z"
   },
   {
    "duration": 5,
    "start_time": "2023-04-15T12:43:06.221Z"
   },
   {
    "duration": 18,
    "start_time": "2023-04-15T12:43:06.228Z"
   },
   {
    "duration": 46,
    "start_time": "2023-04-15T12:43:06.249Z"
   },
   {
    "duration": 30,
    "start_time": "2023-04-15T12:43:06.297Z"
   },
   {
    "duration": 196,
    "start_time": "2023-04-15T12:43:06.329Z"
   },
   {
    "duration": 13,
    "start_time": "2023-04-15T12:43:06.529Z"
   },
   {
    "duration": 107,
    "start_time": "2023-04-15T12:43:06.548Z"
   },
   {
    "duration": 142,
    "start_time": "2023-04-15T12:43:06.658Z"
   },
   {
    "duration": 40,
    "start_time": "2023-04-15T12:43:06.805Z"
   },
   {
    "duration": 35,
    "start_time": "2023-04-15T12:43:06.847Z"
   },
   {
    "duration": 89,
    "start_time": "2023-04-15T12:43:06.884Z"
   },
   {
    "duration": 18,
    "start_time": "2023-04-15T12:43:06.978Z"
   },
   {
    "duration": 80,
    "start_time": "2023-04-15T12:43:06.998Z"
   },
   {
    "duration": 97,
    "start_time": "2023-04-15T12:43:07.080Z"
   },
   {
    "duration": 737,
    "start_time": "2023-04-15T12:43:07.180Z"
   },
   {
    "duration": 10,
    "start_time": "2023-04-15T12:43:07.919Z"
   },
   {
    "duration": 43,
    "start_time": "2023-04-15T12:43:07.931Z"
   },
   {
    "duration": 87,
    "start_time": "2023-04-15T12:43:07.977Z"
   },
   {
    "duration": 84,
    "start_time": "2023-04-15T12:43:08.065Z"
   },
   {
    "duration": 47,
    "start_time": "2023-04-15T12:43:08.151Z"
   },
   {
    "duration": 130,
    "start_time": "2023-04-15T12:43:08.200Z"
   },
   {
    "duration": 7,
    "start_time": "2023-04-15T12:43:08.332Z"
   },
   {
    "duration": 30,
    "start_time": "2023-04-15T12:43:08.341Z"
   },
   {
    "duration": 96,
    "start_time": "2023-04-15T12:43:08.373Z"
   },
   {
    "duration": 161,
    "start_time": "2023-04-15T12:47:32.264Z"
   },
   {
    "duration": 182,
    "start_time": "2023-04-15T12:51:40.128Z"
   },
   {
    "duration": 181,
    "start_time": "2023-04-15T12:52:20.650Z"
   },
   {
    "duration": 162,
    "start_time": "2023-04-15T12:53:09.623Z"
   },
   {
    "duration": 8,
    "start_time": "2023-04-15T13:14:39.931Z"
   },
   {
    "duration": 172,
    "start_time": "2023-04-15T13:17:01.572Z"
   },
   {
    "duration": 59,
    "start_time": "2023-04-15T13:22:18.015Z"
   },
   {
    "duration": 25,
    "start_time": "2023-04-15T13:23:12.115Z"
   },
   {
    "duration": 6,
    "start_time": "2023-04-15T13:25:47.747Z"
   },
   {
    "duration": 47,
    "start_time": "2023-04-15T13:25:49.582Z"
   },
   {
    "duration": 12,
    "start_time": "2023-04-15T13:26:16.311Z"
   },
   {
    "duration": 9,
    "start_time": "2023-04-15T13:26:36.779Z"
   },
   {
    "duration": 23,
    "start_time": "2023-04-15T13:26:39.091Z"
   },
   {
    "duration": 10,
    "start_time": "2023-04-15T13:27:03.136Z"
   },
   {
    "duration": 18,
    "start_time": "2023-04-15T13:27:05.412Z"
   },
   {
    "duration": 17,
    "start_time": "2023-04-15T13:29:40.747Z"
   },
   {
    "duration": 12,
    "start_time": "2023-04-15T13:29:44.895Z"
   },
   {
    "duration": 15,
    "start_time": "2023-04-15T13:29:46.203Z"
   },
   {
    "duration": 29,
    "start_time": "2023-04-15T13:31:53.736Z"
   },
   {
    "duration": 16,
    "start_time": "2023-04-15T13:31:55.958Z"
   },
   {
    "duration": 29,
    "start_time": "2023-04-15T13:32:49.216Z"
   },
   {
    "duration": 42,
    "start_time": "2023-04-15T13:32:51.834Z"
   },
   {
    "duration": 2046,
    "start_time": "2023-04-15T13:39:44.102Z"
   },
   {
    "duration": 21,
    "start_time": "2023-04-15T13:39:59.199Z"
   },
   {
    "duration": 23,
    "start_time": "2023-04-15T13:41:03.326Z"
   },
   {
    "duration": 5,
    "start_time": "2023-04-15T13:42:31.082Z"
   },
   {
    "duration": 30,
    "start_time": "2023-04-15T13:42:36.680Z"
   },
   {
    "duration": 20,
    "start_time": "2023-04-15T13:43:26.245Z"
   },
   {
    "duration": 291,
    "start_time": "2023-04-15T13:47:44.938Z"
   },
   {
    "duration": 43,
    "start_time": "2023-04-15T13:50:21.710Z"
   },
   {
    "duration": 3146,
    "start_time": "2023-04-15T13:51:58.678Z"
   },
   {
    "duration": 2035,
    "start_time": "2023-04-15T13:52:41.802Z"
   },
   {
    "duration": 362,
    "start_time": "2023-04-15T13:52:43.840Z"
   },
   {
    "duration": 9,
    "start_time": "2023-04-15T13:52:44.204Z"
   },
   {
    "duration": 8,
    "start_time": "2023-04-15T13:52:44.229Z"
   },
   {
    "duration": 207,
    "start_time": "2023-04-15T13:52:44.243Z"
   },
   {
    "duration": 109,
    "start_time": "2023-04-15T13:52:44.460Z"
   },
   {
    "duration": 502,
    "start_time": "2023-04-15T13:52:44.572Z"
   },
   {
    "duration": 20,
    "start_time": "2023-04-15T13:52:45.081Z"
   },
   {
    "duration": 334,
    "start_time": "2023-04-15T13:52:45.107Z"
   },
   {
    "duration": 263,
    "start_time": "2023-04-15T13:52:45.454Z"
   },
   {
    "duration": 59,
    "start_time": "2023-04-15T13:52:45.725Z"
   },
   {
    "duration": 219,
    "start_time": "2023-04-15T13:52:45.801Z"
   },
   {
    "duration": 214,
    "start_time": "2023-04-15T13:52:46.027Z"
   },
   {
    "duration": 224,
    "start_time": "2023-04-15T13:52:46.247Z"
   },
   {
    "duration": 187,
    "start_time": "2023-04-15T13:52:46.478Z"
   },
   {
    "duration": 294,
    "start_time": "2023-04-15T13:52:46.683Z"
   },
   {
    "duration": 1087,
    "start_time": "2023-04-15T13:52:46.989Z"
   },
   {
    "duration": 33,
    "start_time": "2023-04-15T13:52:48.083Z"
   },
   {
    "duration": 186,
    "start_time": "2023-04-15T13:52:48.123Z"
   },
   {
    "duration": 185,
    "start_time": "2023-04-15T13:52:48.329Z"
   },
   {
    "duration": 177,
    "start_time": "2023-04-15T13:52:48.521Z"
   },
   {
    "duration": 220,
    "start_time": "2023-04-15T13:52:48.704Z"
   },
   {
    "duration": 156,
    "start_time": "2023-04-15T13:52:48.931Z"
   },
   {
    "duration": 9,
    "start_time": "2023-04-15T13:52:49.094Z"
   },
   {
    "duration": 46,
    "start_time": "2023-04-15T13:52:49.109Z"
   },
   {
    "duration": 87,
    "start_time": "2023-04-15T13:52:49.165Z"
   },
   {
    "duration": 184,
    "start_time": "2023-04-15T13:52:49.259Z"
   },
   {
    "duration": 12,
    "start_time": "2023-04-15T13:52:49.452Z"
   },
   {
    "duration": 178,
    "start_time": "2023-04-15T13:52:49.471Z"
   },
   {
    "duration": 142,
    "start_time": "2023-04-15T13:52:49.651Z"
   },
   {
    "duration": 126,
    "start_time": "2023-04-15T13:52:49.795Z"
   },
   {
    "duration": 146,
    "start_time": "2023-04-15T13:52:49.923Z"
   },
   {
    "duration": 3377,
    "start_time": "2023-04-15T13:52:50.071Z"
   },
   {
    "duration": 32,
    "start_time": "2023-04-15T13:57:12.253Z"
   },
   {
    "duration": 44,
    "start_time": "2023-04-15T13:57:24.913Z"
   },
   {
    "duration": 66,
    "start_time": "2023-04-15T13:57:42.135Z"
   },
   {
    "duration": 251,
    "start_time": "2023-04-15T14:06:33.374Z"
   },
   {
    "duration": 20,
    "start_time": "2023-04-15T14:06:50.085Z"
   },
   {
    "duration": 3678,
    "start_time": "2023-04-15T17:01:39.618Z"
   },
   {
    "duration": 670,
    "start_time": "2023-04-15T17:01:43.298Z"
   },
   {
    "duration": 5,
    "start_time": "2023-04-15T17:01:43.970Z"
   },
   {
    "duration": 22,
    "start_time": "2023-04-15T17:01:43.978Z"
   },
   {
    "duration": 79,
    "start_time": "2023-04-15T17:01:44.005Z"
   },
   {
    "duration": 61,
    "start_time": "2023-04-15T17:01:44.086Z"
   },
   {
    "duration": 136,
    "start_time": "2023-04-15T17:01:44.149Z"
   },
   {
    "duration": 11,
    "start_time": "2023-04-15T17:01:44.287Z"
   },
   {
    "duration": 132,
    "start_time": "2023-04-15T17:01:44.300Z"
   },
   {
    "duration": 149,
    "start_time": "2023-04-15T17:01:44.434Z"
   },
   {
    "duration": 35,
    "start_time": "2023-04-15T17:01:44.585Z"
   },
   {
    "duration": 28,
    "start_time": "2023-04-15T17:01:44.624Z"
   },
   {
    "duration": 64,
    "start_time": "2023-04-15T17:01:44.655Z"
   },
   {
    "duration": 19,
    "start_time": "2023-04-15T17:01:44.722Z"
   },
   {
    "duration": 22,
    "start_time": "2023-04-15T17:01:44.743Z"
   },
   {
    "duration": 58,
    "start_time": "2023-04-15T17:01:44.767Z"
   },
   {
    "duration": 752,
    "start_time": "2023-04-15T17:01:44.827Z"
   },
   {
    "duration": 23,
    "start_time": "2023-04-15T17:01:45.581Z"
   },
   {
    "duration": 188,
    "start_time": "2023-04-15T17:01:45.610Z"
   },
   {
    "duration": 84,
    "start_time": "2023-04-15T17:01:45.807Z"
   },
   {
    "duration": 87,
    "start_time": "2023-04-15T17:01:45.897Z"
   },
   {
    "duration": 44,
    "start_time": "2023-04-15T17:01:45.986Z"
   },
   {
    "duration": 110,
    "start_time": "2023-04-15T17:01:46.032Z"
   },
   {
    "duration": 7,
    "start_time": "2023-04-15T17:01:46.146Z"
   },
   {
    "duration": 28,
    "start_time": "2023-04-15T17:01:46.155Z"
   },
   {
    "duration": 97,
    "start_time": "2023-04-15T17:01:46.185Z"
   },
   {
    "duration": 257,
    "start_time": "2023-04-15T17:01:46.284Z"
   },
   {
    "duration": 6,
    "start_time": "2023-04-15T17:01:46.545Z"
   },
   {
    "duration": 24,
    "start_time": "2023-04-15T17:01:46.553Z"
   },
   {
    "duration": 35,
    "start_time": "2023-04-15T17:01:46.579Z"
   },
   {
    "duration": 33,
    "start_time": "2023-04-15T17:01:46.618Z"
   },
   {
    "duration": 20,
    "start_time": "2023-04-15T17:01:46.653Z"
   },
   {
    "duration": 23,
    "start_time": "2023-04-15T17:01:46.675Z"
   },
   {
    "duration": 515,
    "start_time": "2023-04-15T17:15:12.962Z"
   },
   {
    "duration": 1344,
    "start_time": "2023-04-15T17:15:34.824Z"
   },
   {
    "duration": 747,
    "start_time": "2023-04-15T17:15:36.171Z"
   },
   {
    "duration": 6,
    "start_time": "2023-04-15T17:15:36.920Z"
   },
   {
    "duration": 5,
    "start_time": "2023-04-15T17:15:36.928Z"
   },
   {
    "duration": 28,
    "start_time": "2023-04-15T17:15:36.936Z"
   },
   {
    "duration": 14,
    "start_time": "2023-04-15T17:15:36.966Z"
   },
   {
    "duration": 152,
    "start_time": "2023-04-15T17:15:36.982Z"
   },
   {
    "duration": 10,
    "start_time": "2023-04-15T17:15:37.136Z"
   },
   {
    "duration": 93,
    "start_time": "2023-04-15T17:15:37.148Z"
   },
   {
    "duration": 105,
    "start_time": "2023-04-15T17:15:37.243Z"
   },
   {
    "duration": 21,
    "start_time": "2023-04-15T17:15:37.350Z"
   },
   {
    "duration": 36,
    "start_time": "2023-04-15T17:15:37.373Z"
   },
   {
    "duration": 54,
    "start_time": "2023-04-15T17:15:37.410Z"
   },
   {
    "duration": 9,
    "start_time": "2023-04-15T17:15:37.467Z"
   },
   {
    "duration": 14,
    "start_time": "2023-04-15T17:15:37.477Z"
   },
   {
    "duration": 60,
    "start_time": "2023-04-15T17:15:37.498Z"
   },
   {
    "duration": 562,
    "start_time": "2023-04-15T17:15:37.560Z"
   },
   {
    "duration": 8,
    "start_time": "2023-04-15T17:15:38.126Z"
   },
   {
    "duration": 37,
    "start_time": "2023-04-15T17:15:38.135Z"
   },
   {
    "duration": 61,
    "start_time": "2023-04-15T17:15:38.174Z"
   },
   {
    "duration": 75,
    "start_time": "2023-04-15T17:15:38.236Z"
   },
   {
    "duration": 30,
    "start_time": "2023-04-15T17:15:38.314Z"
   },
   {
    "duration": 90,
    "start_time": "2023-04-15T17:15:38.346Z"
   },
   {
    "duration": 5,
    "start_time": "2023-04-15T17:15:38.438Z"
   },
   {
    "duration": 27,
    "start_time": "2023-04-15T17:15:38.445Z"
   },
   {
    "duration": 77,
    "start_time": "2023-04-15T17:15:38.474Z"
   },
   {
    "duration": 121,
    "start_time": "2023-04-15T17:15:38.553Z"
   },
   {
    "duration": 19,
    "start_time": "2023-04-15T17:15:38.677Z"
   },
   {
    "duration": 40,
    "start_time": "2023-04-15T17:15:38.701Z"
   },
   {
    "duration": 16,
    "start_time": "2023-04-15T17:15:38.743Z"
   },
   {
    "duration": 24,
    "start_time": "2023-04-15T17:15:38.760Z"
   },
   {
    "duration": 57,
    "start_time": "2023-04-15T17:15:38.786Z"
   },
   {
    "duration": 16,
    "start_time": "2023-04-15T17:15:38.845Z"
   },
   {
    "duration": 1528,
    "start_time": "2023-04-15T17:41:29.328Z"
   },
   {
    "duration": 302,
    "start_time": "2023-04-15T17:41:30.859Z"
   },
   {
    "duration": 12,
    "start_time": "2023-04-15T17:41:31.164Z"
   },
   {
    "duration": 58,
    "start_time": "2023-04-15T17:41:31.200Z"
   },
   {
    "duration": 131,
    "start_time": "2023-04-15T17:41:31.267Z"
   },
   {
    "duration": 82,
    "start_time": "2023-04-15T17:41:31.401Z"
   },
   {
    "duration": 274,
    "start_time": "2023-04-15T17:41:31.486Z"
   },
   {
    "duration": 17,
    "start_time": "2023-04-15T17:41:31.764Z"
   },
   {
    "duration": 211,
    "start_time": "2023-04-15T17:41:31.784Z"
   },
   {
    "duration": 144,
    "start_time": "2023-04-15T17:41:31.998Z"
   },
   {
    "duration": 33,
    "start_time": "2023-04-15T17:41:32.147Z"
   },
   {
    "duration": 97,
    "start_time": "2023-04-15T17:41:32.182Z"
   },
   {
    "duration": 116,
    "start_time": "2023-04-15T17:41:32.282Z"
   },
   {
    "duration": 12,
    "start_time": "2023-04-15T17:41:32.400Z"
   },
   {
    "duration": 51,
    "start_time": "2023-04-15T17:41:32.414Z"
   },
   {
    "duration": 93,
    "start_time": "2023-04-15T17:41:32.467Z"
   },
   {
    "duration": 799,
    "start_time": "2023-04-15T17:41:32.563Z"
   },
   {
    "duration": 11,
    "start_time": "2023-04-15T17:41:33.364Z"
   },
   {
    "duration": 73,
    "start_time": "2023-04-15T17:41:33.390Z"
   },
   {
    "duration": 76,
    "start_time": "2023-04-15T17:41:33.466Z"
   },
   {
    "duration": 87,
    "start_time": "2023-04-15T17:41:33.544Z"
   },
   {
    "duration": 48,
    "start_time": "2023-04-15T17:41:33.637Z"
   },
   {
    "duration": 150,
    "start_time": "2023-04-15T17:41:33.687Z"
   },
   {
    "duration": 7,
    "start_time": "2023-04-15T17:41:33.840Z"
   },
   {
    "duration": 29,
    "start_time": "2023-04-15T17:41:33.849Z"
   },
   {
    "duration": 102,
    "start_time": "2023-04-15T17:41:33.880Z"
   },
   {
    "duration": 176,
    "start_time": "2023-04-15T17:41:33.984Z"
   },
   {
    "duration": 9,
    "start_time": "2023-04-15T17:41:34.164Z"
   },
   {
    "duration": 89,
    "start_time": "2023-04-15T17:41:34.175Z"
   },
   {
    "duration": 83,
    "start_time": "2023-04-15T17:41:34.267Z"
   },
   {
    "duration": 46,
    "start_time": "2023-04-15T17:41:34.352Z"
   },
   {
    "duration": 63,
    "start_time": "2023-04-15T17:41:34.402Z"
   },
   {
    "duration": 60,
    "start_time": "2023-04-15T17:41:34.467Z"
   },
   {
    "duration": 1304,
    "start_time": "2023-04-15T17:53:11.041Z"
   },
   {
    "duration": 183,
    "start_time": "2023-04-15T17:53:12.347Z"
   },
   {
    "duration": 5,
    "start_time": "2023-04-15T17:53:12.532Z"
   },
   {
    "duration": 9,
    "start_time": "2023-04-15T17:53:12.541Z"
   },
   {
    "duration": 49,
    "start_time": "2023-04-15T17:53:12.553Z"
   },
   {
    "duration": 17,
    "start_time": "2023-04-15T17:53:12.604Z"
   },
   {
    "duration": 124,
    "start_time": "2023-04-15T17:53:12.623Z"
   },
   {
    "duration": 13,
    "start_time": "2023-04-15T17:53:12.749Z"
   },
   {
    "duration": 100,
    "start_time": "2023-04-15T17:53:12.764Z"
   },
   {
    "duration": 115,
    "start_time": "2023-04-15T17:53:12.866Z"
   },
   {
    "duration": 20,
    "start_time": "2023-04-15T17:53:12.983Z"
   },
   {
    "duration": 22,
    "start_time": "2023-04-15T17:53:13.005Z"
   },
   {
    "duration": 47,
    "start_time": "2023-04-15T17:53:13.042Z"
   },
   {
    "duration": 10,
    "start_time": "2023-04-15T17:53:13.092Z"
   },
   {
    "duration": 13,
    "start_time": "2023-04-15T17:53:13.104Z"
   },
   {
    "duration": 52,
    "start_time": "2023-04-15T17:53:13.120Z"
   },
   {
    "duration": 505,
    "start_time": "2023-04-15T17:53:13.174Z"
   },
   {
    "duration": 8,
    "start_time": "2023-04-15T17:53:13.681Z"
   },
   {
    "duration": 51,
    "start_time": "2023-04-15T17:53:13.690Z"
   },
   {
    "duration": 50,
    "start_time": "2023-04-15T17:53:13.743Z"
   },
   {
    "duration": 62,
    "start_time": "2023-04-15T17:53:13.795Z"
   },
   {
    "duration": 24,
    "start_time": "2023-04-15T17:53:13.859Z"
   },
   {
    "duration": 84,
    "start_time": "2023-04-15T17:53:13.885Z"
   },
   {
    "duration": 6,
    "start_time": "2023-04-15T17:53:13.971Z"
   },
   {
    "duration": 20,
    "start_time": "2023-04-15T17:53:13.979Z"
   },
   {
    "duration": 62,
    "start_time": "2023-04-15T17:53:14.001Z"
   },
   {
    "duration": 116,
    "start_time": "2023-04-15T17:53:14.064Z"
   },
   {
    "duration": 6,
    "start_time": "2023-04-15T17:53:14.182Z"
   },
   {
    "duration": 26,
    "start_time": "2023-04-15T17:53:14.189Z"
   },
   {
    "duration": 14,
    "start_time": "2023-04-15T17:53:14.217Z"
   },
   {
    "duration": 14,
    "start_time": "2023-04-15T17:53:14.233Z"
   },
   {
    "duration": 20,
    "start_time": "2023-04-15T17:53:14.249Z"
   },
   {
    "duration": 17,
    "start_time": "2023-04-15T17:53:14.271Z"
   },
   {
    "duration": 1284,
    "start_time": "2023-04-15T18:22:53.871Z"
   },
   {
    "duration": 187,
    "start_time": "2023-04-15T18:22:55.157Z"
   },
   {
    "duration": 5,
    "start_time": "2023-04-15T18:22:55.345Z"
   },
   {
    "duration": 10,
    "start_time": "2023-04-15T18:22:55.352Z"
   },
   {
    "duration": 31,
    "start_time": "2023-04-15T18:22:55.365Z"
   },
   {
    "duration": 18,
    "start_time": "2023-04-15T18:22:55.398Z"
   },
   {
    "duration": 124,
    "start_time": "2023-04-15T18:22:55.442Z"
   },
   {
    "duration": 11,
    "start_time": "2023-04-15T18:22:55.568Z"
   },
   {
    "duration": 236,
    "start_time": "2023-04-15T18:22:55.582Z"
   },
   {
    "duration": 114,
    "start_time": "2023-04-15T18:22:55.820Z"
   },
   {
    "duration": 27,
    "start_time": "2023-04-15T18:22:55.940Z"
   },
   {
    "duration": 23,
    "start_time": "2023-04-15T18:22:55.969Z"
   },
   {
    "duration": 64,
    "start_time": "2023-04-15T18:22:55.995Z"
   },
   {
    "duration": 13,
    "start_time": "2023-04-15T18:22:56.062Z"
   },
   {
    "duration": 20,
    "start_time": "2023-04-15T18:22:56.078Z"
   },
   {
    "duration": 68,
    "start_time": "2023-04-15T18:22:56.100Z"
   },
   {
    "duration": 521,
    "start_time": "2023-04-15T18:22:56.171Z"
   },
   {
    "duration": 8,
    "start_time": "2023-04-15T18:22:56.695Z"
   },
   {
    "duration": 58,
    "start_time": "2023-04-15T18:22:56.704Z"
   },
   {
    "duration": 59,
    "start_time": "2023-04-15T18:22:56.764Z"
   },
   {
    "duration": 60,
    "start_time": "2023-04-15T18:22:56.824Z"
   },
   {
    "duration": 30,
    "start_time": "2023-04-15T18:22:56.887Z"
   },
   {
    "duration": 70,
    "start_time": "2023-04-15T18:22:56.942Z"
   },
   {
    "duration": 7,
    "start_time": "2023-04-15T18:22:57.014Z"
   },
   {
    "duration": 14,
    "start_time": "2023-04-15T18:22:57.042Z"
   },
   {
    "duration": 52,
    "start_time": "2023-04-15T18:22:57.059Z"
   },
   {
    "duration": 137,
    "start_time": "2023-04-15T18:22:57.113Z"
   },
   {
    "duration": 6,
    "start_time": "2023-04-15T18:22:57.253Z"
   },
   {
    "duration": 26,
    "start_time": "2023-04-15T18:22:57.261Z"
   },
   {
    "duration": 25,
    "start_time": "2023-04-15T18:22:57.290Z"
   },
   {
    "duration": 15,
    "start_time": "2023-04-15T18:22:57.317Z"
   },
   {
    "duration": 16,
    "start_time": "2023-04-15T18:22:57.341Z"
   },
   {
    "duration": 26,
    "start_time": "2023-04-15T18:22:57.359Z"
   },
   {
    "duration": 1337,
    "start_time": "2023-04-15T18:25:35.233Z"
   },
   {
    "duration": 201,
    "start_time": "2023-04-15T18:25:36.572Z"
   },
   {
    "duration": 5,
    "start_time": "2023-04-15T18:25:36.774Z"
   },
   {
    "duration": 18,
    "start_time": "2023-04-15T18:25:36.781Z"
   },
   {
    "duration": 37,
    "start_time": "2023-04-15T18:25:36.802Z"
   },
   {
    "duration": 17,
    "start_time": "2023-04-15T18:25:36.840Z"
   },
   {
    "duration": 126,
    "start_time": "2023-04-15T18:25:36.859Z"
   },
   {
    "duration": 9,
    "start_time": "2023-04-15T18:25:36.987Z"
   },
   {
    "duration": 94,
    "start_time": "2023-04-15T18:25:36.998Z"
   },
   {
    "duration": 108,
    "start_time": "2023-04-15T18:25:37.094Z"
   },
   {
    "duration": 37,
    "start_time": "2023-04-15T18:25:37.204Z"
   },
   {
    "duration": 21,
    "start_time": "2023-04-15T18:25:37.243Z"
   },
   {
    "duration": 47,
    "start_time": "2023-04-15T18:25:37.267Z"
   },
   {
    "duration": 23,
    "start_time": "2023-04-15T18:25:37.318Z"
   },
   {
    "duration": 4,
    "start_time": "2023-04-15T18:25:37.344Z"
   },
   {
    "duration": 38,
    "start_time": "2023-04-15T18:25:37.350Z"
   },
   {
    "duration": 509,
    "start_time": "2023-04-15T18:25:37.390Z"
   },
   {
    "duration": 9,
    "start_time": "2023-04-15T18:25:37.901Z"
   },
   {
    "duration": 55,
    "start_time": "2023-04-15T18:25:37.912Z"
   },
   {
    "duration": 50,
    "start_time": "2023-04-15T18:25:37.969Z"
   },
   {
    "duration": 65,
    "start_time": "2023-04-15T18:25:38.021Z"
   },
   {
    "duration": 23,
    "start_time": "2023-04-15T18:25:38.088Z"
   },
   {
    "duration": 94,
    "start_time": "2023-04-15T18:25:38.114Z"
   },
   {
    "duration": 6,
    "start_time": "2023-04-15T18:25:38.210Z"
   },
   {
    "duration": 30,
    "start_time": "2023-04-15T18:25:38.217Z"
   },
   {
    "duration": 71,
    "start_time": "2023-04-15T18:25:38.249Z"
   },
   {
    "duration": 108,
    "start_time": "2023-04-15T18:25:38.322Z"
   },
   {
    "duration": 9,
    "start_time": "2023-04-15T18:25:38.432Z"
   },
   {
    "duration": 24,
    "start_time": "2023-04-15T18:25:38.443Z"
   },
   {
    "duration": 13,
    "start_time": "2023-04-15T18:25:38.469Z"
   },
   {
    "duration": 12,
    "start_time": "2023-04-15T18:25:38.485Z"
   },
   {
    "duration": 42,
    "start_time": "2023-04-15T18:25:38.499Z"
   },
   {
    "duration": 13,
    "start_time": "2023-04-15T18:25:38.544Z"
   },
   {
    "duration": 30,
    "start_time": "2023-04-15T18:29:08.329Z"
   },
   {
    "duration": 1301,
    "start_time": "2023-04-15T18:29:16.924Z"
   },
   {
    "duration": 179,
    "start_time": "2023-04-15T18:29:18.228Z"
   },
   {
    "duration": 4,
    "start_time": "2023-04-15T18:29:18.409Z"
   },
   {
    "duration": 5,
    "start_time": "2023-04-15T18:29:18.416Z"
   },
   {
    "duration": 31,
    "start_time": "2023-04-15T18:29:18.440Z"
   },
   {
    "duration": 17,
    "start_time": "2023-04-15T18:29:18.473Z"
   },
   {
    "duration": 121,
    "start_time": "2023-04-15T18:29:18.492Z"
   },
   {
    "duration": 11,
    "start_time": "2023-04-15T18:29:18.615Z"
   },
   {
    "duration": 93,
    "start_time": "2023-04-15T18:29:18.629Z"
   },
   {
    "duration": 107,
    "start_time": "2023-04-15T18:29:18.740Z"
   },
   {
    "duration": 20,
    "start_time": "2023-04-15T18:29:18.849Z"
   },
   {
    "duration": 18,
    "start_time": "2023-04-15T18:29:18.871Z"
   },
   {
    "duration": 56,
    "start_time": "2023-04-15T18:29:18.890Z"
   },
   {
    "duration": 11,
    "start_time": "2023-04-15T18:29:18.949Z"
   },
   {
    "duration": 11,
    "start_time": "2023-04-15T18:29:18.962Z"
   },
   {
    "duration": 52,
    "start_time": "2023-04-15T18:29:18.975Z"
   },
   {
    "duration": 475,
    "start_time": "2023-04-15T18:29:19.029Z"
   },
   {
    "duration": 8,
    "start_time": "2023-04-15T18:29:19.506Z"
   },
   {
    "duration": 52,
    "start_time": "2023-04-15T18:29:19.516Z"
   },
   {
    "duration": 49,
    "start_time": "2023-04-15T18:29:19.570Z"
   },
   {
    "duration": 63,
    "start_time": "2023-04-15T18:29:19.621Z"
   },
   {
    "duration": 21,
    "start_time": "2023-04-15T18:29:19.686Z"
   },
   {
    "duration": 86,
    "start_time": "2023-04-15T18:29:19.709Z"
   },
   {
    "duration": 6,
    "start_time": "2023-04-15T18:29:19.797Z"
   },
   {
    "duration": 24,
    "start_time": "2023-04-15T18:29:19.805Z"
   },
   {
    "duration": 49,
    "start_time": "2023-04-15T18:29:19.842Z"
   },
   {
    "duration": 126,
    "start_time": "2023-04-15T18:29:19.894Z"
   },
   {
    "duration": 6,
    "start_time": "2023-04-15T18:29:20.021Z"
   },
   {
    "duration": 22,
    "start_time": "2023-04-15T18:29:20.029Z"
   },
   {
    "duration": 21,
    "start_time": "2023-04-15T18:29:20.053Z"
   },
   {
    "duration": 19,
    "start_time": "2023-04-15T18:29:20.076Z"
   },
   {
    "duration": 42,
    "start_time": "2023-04-15T18:29:20.097Z"
   },
   {
    "duration": 20,
    "start_time": "2023-04-15T18:29:20.142Z"
   },
   {
    "duration": 1316,
    "start_time": "2023-04-15T18:40:49.463Z"
   },
   {
    "duration": 182,
    "start_time": "2023-04-15T18:40:50.781Z"
   },
   {
    "duration": 5,
    "start_time": "2023-04-15T18:40:50.965Z"
   },
   {
    "duration": 34,
    "start_time": "2023-04-15T18:40:50.972Z"
   },
   {
    "duration": 33,
    "start_time": "2023-04-15T18:40:51.009Z"
   },
   {
    "duration": 17,
    "start_time": "2023-04-15T18:40:51.043Z"
   },
   {
    "duration": 122,
    "start_time": "2023-04-15T18:40:51.062Z"
   },
   {
    "duration": 11,
    "start_time": "2023-04-15T18:40:51.185Z"
   },
   {
    "duration": 101,
    "start_time": "2023-04-15T18:40:51.198Z"
   },
   {
    "duration": 114,
    "start_time": "2023-04-15T18:40:51.300Z"
   },
   {
    "duration": 26,
    "start_time": "2023-04-15T18:40:51.416Z"
   },
   {
    "duration": 23,
    "start_time": "2023-04-15T18:40:51.444Z"
   },
   {
    "duration": 32,
    "start_time": "2023-04-15T18:40:51.469Z"
   },
   {
    "duration": 37,
    "start_time": "2023-04-15T18:40:51.504Z"
   },
   {
    "duration": 15,
    "start_time": "2023-04-15T18:40:51.543Z"
   },
   {
    "duration": 44,
    "start_time": "2023-04-15T18:40:51.560Z"
   },
   {
    "duration": 499,
    "start_time": "2023-04-15T18:40:51.606Z"
   },
   {
    "duration": 8,
    "start_time": "2023-04-15T18:40:52.107Z"
   },
   {
    "duration": 49,
    "start_time": "2023-04-15T18:40:52.117Z"
   },
   {
    "duration": 53,
    "start_time": "2023-04-15T18:40:52.168Z"
   },
   {
    "duration": 61,
    "start_time": "2023-04-15T18:40:52.223Z"
   },
   {
    "duration": 23,
    "start_time": "2023-04-15T18:40:52.286Z"
   },
   {
    "duration": 93,
    "start_time": "2023-04-15T18:40:52.311Z"
   },
   {
    "duration": 6,
    "start_time": "2023-04-15T18:40:52.407Z"
   },
   {
    "duration": 29,
    "start_time": "2023-04-15T18:40:52.415Z"
   },
   {
    "duration": 57,
    "start_time": "2023-04-15T18:40:52.447Z"
   },
   {
    "duration": 117,
    "start_time": "2023-04-15T18:40:52.506Z"
   },
   {
    "duration": 6,
    "start_time": "2023-04-15T18:40:52.625Z"
   },
   {
    "duration": 43,
    "start_time": "2023-04-15T18:40:52.633Z"
   },
   {
    "duration": 35,
    "start_time": "2023-04-15T18:40:52.678Z"
   },
   {
    "duration": 38,
    "start_time": "2023-04-15T18:40:52.714Z"
   },
   {
    "duration": 21,
    "start_time": "2023-04-15T18:40:52.755Z"
   },
   {
    "duration": 30,
    "start_time": "2023-04-15T18:40:52.778Z"
   },
   {
    "duration": 1353,
    "start_time": "2023-04-15T18:41:14.222Z"
   },
   {
    "duration": 187,
    "start_time": "2023-04-15T18:41:15.577Z"
   },
   {
    "duration": 5,
    "start_time": "2023-04-15T18:41:15.766Z"
   },
   {
    "duration": 7,
    "start_time": "2023-04-15T18:41:15.773Z"
   },
   {
    "duration": 30,
    "start_time": "2023-04-15T18:41:15.784Z"
   },
   {
    "duration": 36,
    "start_time": "2023-04-15T18:41:15.816Z"
   },
   {
    "duration": 127,
    "start_time": "2023-04-15T18:41:15.854Z"
   },
   {
    "duration": 13,
    "start_time": "2023-04-15T18:41:15.983Z"
   },
   {
    "duration": 98,
    "start_time": "2023-04-15T18:41:15.998Z"
   },
   {
    "duration": 127,
    "start_time": "2023-04-15T18:41:16.098Z"
   },
   {
    "duration": 25,
    "start_time": "2023-04-15T18:41:16.228Z"
   },
   {
    "duration": 22,
    "start_time": "2023-04-15T18:41:16.255Z"
   },
   {
    "duration": 66,
    "start_time": "2023-04-15T18:41:16.279Z"
   },
   {
    "duration": 12,
    "start_time": "2023-04-15T18:41:16.348Z"
   },
   {
    "duration": 7,
    "start_time": "2023-04-15T18:41:16.362Z"
   },
   {
    "duration": 36,
    "start_time": "2023-04-15T18:41:16.373Z"
   },
   {
    "duration": 537,
    "start_time": "2023-04-15T18:41:16.411Z"
   },
   {
    "duration": 9,
    "start_time": "2023-04-15T18:41:16.951Z"
   },
   {
    "duration": 39,
    "start_time": "2023-04-15T18:41:16.962Z"
   },
   {
    "duration": 77,
    "start_time": "2023-04-15T18:41:17.004Z"
   },
   {
    "duration": 59,
    "start_time": "2023-04-15T18:41:17.083Z"
   },
   {
    "duration": 23,
    "start_time": "2023-04-15T18:41:17.144Z"
   },
   {
    "duration": 92,
    "start_time": "2023-04-15T18:41:17.169Z"
   },
   {
    "duration": 7,
    "start_time": "2023-04-15T18:41:17.263Z"
   },
   {
    "duration": 16,
    "start_time": "2023-04-15T18:41:17.272Z"
   },
   {
    "duration": 65,
    "start_time": "2023-04-15T18:41:17.290Z"
   },
   {
    "duration": 122,
    "start_time": "2023-04-15T18:41:17.357Z"
   },
   {
    "duration": 6,
    "start_time": "2023-04-15T18:41:17.481Z"
   },
   {
    "duration": 25,
    "start_time": "2023-04-15T18:41:17.490Z"
   },
   {
    "duration": 24,
    "start_time": "2023-04-15T18:41:17.518Z"
   },
   {
    "duration": 10,
    "start_time": "2023-04-15T18:41:17.545Z"
   },
   {
    "duration": 37,
    "start_time": "2023-04-15T18:41:17.557Z"
   },
   {
    "duration": 37,
    "start_time": "2023-04-15T18:41:17.596Z"
   },
   {
    "duration": 1442,
    "start_time": "2023-04-15T18:42:05.719Z"
   },
   {
    "duration": 208,
    "start_time": "2023-04-15T18:42:07.164Z"
   },
   {
    "duration": 6,
    "start_time": "2023-04-15T18:42:07.374Z"
   },
   {
    "duration": 16,
    "start_time": "2023-04-15T18:42:07.383Z"
   },
   {
    "duration": 39,
    "start_time": "2023-04-15T18:42:07.402Z"
   },
   {
    "duration": 29,
    "start_time": "2023-04-15T18:42:07.444Z"
   },
   {
    "duration": 125,
    "start_time": "2023-04-15T18:42:07.475Z"
   },
   {
    "duration": 10,
    "start_time": "2023-04-15T18:42:07.602Z"
   },
   {
    "duration": 111,
    "start_time": "2023-04-15T18:42:07.614Z"
   },
   {
    "duration": 114,
    "start_time": "2023-04-15T18:42:07.727Z"
   },
   {
    "duration": 20,
    "start_time": "2023-04-15T18:42:07.843Z"
   },
   {
    "duration": 19,
    "start_time": "2023-04-15T18:42:07.865Z"
   },
   {
    "duration": 57,
    "start_time": "2023-04-15T18:42:07.886Z"
   },
   {
    "duration": 10,
    "start_time": "2023-04-15T18:42:07.946Z"
   },
   {
    "duration": 17,
    "start_time": "2023-04-15T18:42:07.958Z"
   },
   {
    "duration": 43,
    "start_time": "2023-04-15T18:42:07.977Z"
   },
   {
    "duration": 512,
    "start_time": "2023-04-15T18:42:08.021Z"
   },
   {
    "duration": 8,
    "start_time": "2023-04-15T18:42:08.541Z"
   },
   {
    "duration": 45,
    "start_time": "2023-04-15T18:42:08.551Z"
   },
   {
    "duration": 64,
    "start_time": "2023-04-15T18:42:08.598Z"
   },
   {
    "duration": 49,
    "start_time": "2023-04-15T18:42:08.664Z"
   },
   {
    "duration": 37,
    "start_time": "2023-04-15T18:42:08.715Z"
   },
   {
    "duration": 70,
    "start_time": "2023-04-15T18:42:08.754Z"
   },
   {
    "duration": 6,
    "start_time": "2023-04-15T18:42:08.842Z"
   },
   {
    "duration": 26,
    "start_time": "2023-04-15T18:42:08.850Z"
   },
   {
    "duration": 63,
    "start_time": "2023-04-15T18:42:08.878Z"
   },
   {
    "duration": 120,
    "start_time": "2023-04-15T18:42:08.943Z"
   },
   {
    "duration": 7,
    "start_time": "2023-04-15T18:42:09.065Z"
   },
   {
    "duration": 24,
    "start_time": "2023-04-15T18:42:09.073Z"
   },
   {
    "duration": 13,
    "start_time": "2023-04-15T18:42:09.099Z"
   },
   {
    "duration": 28,
    "start_time": "2023-04-15T18:42:09.114Z"
   },
   {
    "duration": 17,
    "start_time": "2023-04-15T18:42:09.144Z"
   },
   {
    "duration": 14,
    "start_time": "2023-04-15T18:42:09.163Z"
   },
   {
    "duration": 1443,
    "start_time": "2023-04-16T09:11:48.910Z"
   },
   {
    "duration": 595,
    "start_time": "2023-04-16T09:11:50.355Z"
   },
   {
    "duration": 10,
    "start_time": "2023-04-16T09:11:50.951Z"
   },
   {
    "duration": 3,
    "start_time": "2023-04-16T09:11:50.963Z"
   },
   {
    "duration": 29,
    "start_time": "2023-04-16T09:11:50.968Z"
   },
   {
    "duration": 1025,
    "start_time": "2023-04-16T09:11:50.999Z"
   },
   {
    "duration": 0,
    "start_time": "2023-04-16T09:11:52.027Z"
   },
   {
    "duration": 0,
    "start_time": "2023-04-16T09:11:52.028Z"
   },
   {
    "duration": 0,
    "start_time": "2023-04-16T09:11:52.030Z"
   },
   {
    "duration": 0,
    "start_time": "2023-04-16T09:11:52.033Z"
   },
   {
    "duration": 0,
    "start_time": "2023-04-16T09:11:52.034Z"
   },
   {
    "duration": 0,
    "start_time": "2023-04-16T09:11:52.036Z"
   },
   {
    "duration": 0,
    "start_time": "2023-04-16T09:11:52.038Z"
   },
   {
    "duration": 0,
    "start_time": "2023-04-16T09:11:52.039Z"
   },
   {
    "duration": 0,
    "start_time": "2023-04-16T09:11:52.041Z"
   },
   {
    "duration": 0,
    "start_time": "2023-04-16T09:11:52.042Z"
   },
   {
    "duration": 0,
    "start_time": "2023-04-16T09:11:52.043Z"
   },
   {
    "duration": 0,
    "start_time": "2023-04-16T09:11:52.044Z"
   },
   {
    "duration": 0,
    "start_time": "2023-04-16T09:11:52.046Z"
   },
   {
    "duration": 0,
    "start_time": "2023-04-16T09:11:52.047Z"
   },
   {
    "duration": 0,
    "start_time": "2023-04-16T09:11:52.048Z"
   },
   {
    "duration": 0,
    "start_time": "2023-04-16T09:11:52.049Z"
   },
   {
    "duration": 0,
    "start_time": "2023-04-16T09:11:52.050Z"
   },
   {
    "duration": 0,
    "start_time": "2023-04-16T09:11:52.052Z"
   },
   {
    "duration": 0,
    "start_time": "2023-04-16T09:11:52.053Z"
   },
   {
    "duration": 0,
    "start_time": "2023-04-16T09:11:52.054Z"
   },
   {
    "duration": 0,
    "start_time": "2023-04-16T09:11:52.055Z"
   },
   {
    "duration": 0,
    "start_time": "2023-04-16T09:11:52.056Z"
   },
   {
    "duration": 0,
    "start_time": "2023-04-16T09:11:52.058Z"
   },
   {
    "duration": 0,
    "start_time": "2023-04-16T09:11:52.059Z"
   },
   {
    "duration": 0,
    "start_time": "2023-04-16T09:11:52.060Z"
   },
   {
    "duration": 0,
    "start_time": "2023-04-16T09:11:52.061Z"
   },
   {
    "duration": 0,
    "start_time": "2023-04-16T09:11:52.087Z"
   },
   {
    "duration": 9,
    "start_time": "2023-04-16T09:12:53.437Z"
   },
   {
    "duration": 12,
    "start_time": "2023-04-16T09:12:59.767Z"
   },
   {
    "duration": 9,
    "start_time": "2023-04-16T09:13:17.236Z"
   },
   {
    "duration": 2,
    "start_time": "2023-04-16T09:13:46.927Z"
   },
   {
    "duration": 196,
    "start_time": "2023-04-16T09:13:50.966Z"
   },
   {
    "duration": 7,
    "start_time": "2023-04-16T09:13:55.546Z"
   },
   {
    "duration": 1401,
    "start_time": "2023-04-16T09:14:15.877Z"
   },
   {
    "duration": 190,
    "start_time": "2023-04-16T09:14:17.280Z"
   },
   {
    "duration": 10,
    "start_time": "2023-04-16T09:14:17.472Z"
   },
   {
    "duration": 4,
    "start_time": "2023-04-16T09:14:17.488Z"
   },
   {
    "duration": 36,
    "start_time": "2023-04-16T09:14:17.494Z"
   },
   {
    "duration": 14,
    "start_time": "2023-04-16T09:14:17.531Z"
   },
   {
    "duration": 132,
    "start_time": "2023-04-16T09:14:17.547Z"
   },
   {
    "duration": 13,
    "start_time": "2023-04-16T09:14:17.680Z"
   },
   {
    "duration": 73,
    "start_time": "2023-04-16T09:14:17.696Z"
   },
   {
    "duration": 83,
    "start_time": "2023-04-16T09:14:17.787Z"
   },
   {
    "duration": 24,
    "start_time": "2023-04-16T09:14:17.872Z"
   },
   {
    "duration": 30,
    "start_time": "2023-04-16T09:14:17.898Z"
   },
   {
    "duration": 30,
    "start_time": "2023-04-16T09:14:17.930Z"
   },
   {
    "duration": 9,
    "start_time": "2023-04-16T09:14:17.962Z"
   },
   {
    "duration": 16,
    "start_time": "2023-04-16T09:14:17.973Z"
   },
   {
    "duration": 46,
    "start_time": "2023-04-16T09:14:17.991Z"
   },
   {
    "duration": 539,
    "start_time": "2023-04-16T09:14:18.038Z"
   },
   {
    "duration": 16,
    "start_time": "2023-04-16T09:14:18.579Z"
   },
   {
    "duration": 43,
    "start_time": "2023-04-16T09:14:18.598Z"
   },
   {
    "duration": 66,
    "start_time": "2023-04-16T09:14:18.643Z"
   },
   {
    "duration": 43,
    "start_time": "2023-04-16T09:14:18.711Z"
   },
   {
    "duration": 49,
    "start_time": "2023-04-16T09:14:18.756Z"
   },
   {
    "duration": 107,
    "start_time": "2023-04-16T09:14:18.810Z"
   },
   {
    "duration": 5,
    "start_time": "2023-04-16T09:14:18.919Z"
   },
   {
    "duration": 36,
    "start_time": "2023-04-16T09:14:18.925Z"
   },
   {
    "duration": 72,
    "start_time": "2023-04-16T09:14:18.963Z"
   },
   {
    "duration": 102,
    "start_time": "2023-04-16T09:14:19.037Z"
   },
   {
    "duration": 6,
    "start_time": "2023-04-16T09:14:19.143Z"
   },
   {
    "duration": 45,
    "start_time": "2023-04-16T09:14:19.150Z"
   },
   {
    "duration": 16,
    "start_time": "2023-04-16T09:14:19.197Z"
   },
   {
    "duration": 32,
    "start_time": "2023-04-16T09:14:19.215Z"
   },
   {
    "duration": 26,
    "start_time": "2023-04-16T09:14:19.249Z"
   },
   {
    "duration": 54,
    "start_time": "2023-04-16T09:14:19.277Z"
   },
   {
    "duration": 13,
    "start_time": "2023-04-16T09:17:49.876Z"
   },
   {
    "duration": 1229,
    "start_time": "2023-04-16T09:33:42.730Z"
   },
   {
    "duration": 174,
    "start_time": "2023-04-16T09:33:43.961Z"
   },
   {
    "duration": 11,
    "start_time": "2023-04-16T09:33:44.137Z"
   },
   {
    "duration": 4,
    "start_time": "2023-04-16T09:33:44.149Z"
   },
   {
    "duration": 44,
    "start_time": "2023-04-16T09:33:44.155Z"
   },
   {
    "duration": 16,
    "start_time": "2023-04-16T09:33:44.205Z"
   },
   {
    "duration": 114,
    "start_time": "2023-04-16T09:33:44.223Z"
   },
   {
    "duration": 8,
    "start_time": "2023-04-16T09:33:44.339Z"
   },
   {
    "duration": 83,
    "start_time": "2023-04-16T09:33:44.348Z"
   },
   {
    "duration": 102,
    "start_time": "2023-04-16T09:33:44.433Z"
   },
   {
    "duration": 19,
    "start_time": "2023-04-16T09:33:44.537Z"
   },
   {
    "duration": 34,
    "start_time": "2023-04-16T09:33:44.557Z"
   },
   {
    "duration": 45,
    "start_time": "2023-04-16T09:33:44.597Z"
   },
   {
    "duration": 9,
    "start_time": "2023-04-16T09:33:44.646Z"
   },
   {
    "duration": 193,
    "start_time": "2023-04-16T09:33:44.657Z"
   },
   {
    "duration": 0,
    "start_time": "2023-04-16T09:33:44.852Z"
   },
   {
    "duration": 0,
    "start_time": "2023-04-16T09:33:44.853Z"
   },
   {
    "duration": 0,
    "start_time": "2023-04-16T09:33:44.854Z"
   },
   {
    "duration": 0,
    "start_time": "2023-04-16T09:33:44.855Z"
   },
   {
    "duration": 0,
    "start_time": "2023-04-16T09:33:44.856Z"
   },
   {
    "duration": 0,
    "start_time": "2023-04-16T09:33:44.856Z"
   },
   {
    "duration": 0,
    "start_time": "2023-04-16T09:33:44.857Z"
   },
   {
    "duration": 0,
    "start_time": "2023-04-16T09:33:44.859Z"
   },
   {
    "duration": 0,
    "start_time": "2023-04-16T09:33:44.860Z"
   },
   {
    "duration": 0,
    "start_time": "2023-04-16T09:33:44.861Z"
   },
   {
    "duration": 0,
    "start_time": "2023-04-16T09:33:44.862Z"
   },
   {
    "duration": 0,
    "start_time": "2023-04-16T09:33:44.864Z"
   },
   {
    "duration": 0,
    "start_time": "2023-04-16T09:33:44.864Z"
   },
   {
    "duration": 0,
    "start_time": "2023-04-16T09:33:44.888Z"
   },
   {
    "duration": 0,
    "start_time": "2023-04-16T09:33:44.889Z"
   },
   {
    "duration": 0,
    "start_time": "2023-04-16T09:33:44.891Z"
   },
   {
    "duration": 0,
    "start_time": "2023-04-16T09:33:44.893Z"
   },
   {
    "duration": 0,
    "start_time": "2023-04-16T09:33:44.895Z"
   },
   {
    "duration": 0,
    "start_time": "2023-04-16T09:33:44.898Z"
   },
   {
    "duration": 73,
    "start_time": "2023-04-16T09:34:06.320Z"
   },
   {
    "duration": 92,
    "start_time": "2023-04-16T09:38:48.277Z"
   },
   {
    "duration": 1254,
    "start_time": "2023-04-16T09:39:13.613Z"
   },
   {
    "duration": 194,
    "start_time": "2023-04-16T09:39:14.869Z"
   },
   {
    "duration": 12,
    "start_time": "2023-04-16T09:39:15.064Z"
   },
   {
    "duration": 10,
    "start_time": "2023-04-16T09:39:15.078Z"
   },
   {
    "duration": 28,
    "start_time": "2023-04-16T09:39:15.091Z"
   },
   {
    "duration": 16,
    "start_time": "2023-04-16T09:39:15.121Z"
   },
   {
    "duration": 121,
    "start_time": "2023-04-16T09:39:15.139Z"
   },
   {
    "duration": 11,
    "start_time": "2023-04-16T09:39:15.261Z"
   },
   {
    "duration": 80,
    "start_time": "2023-04-16T09:39:15.288Z"
   },
   {
    "duration": 107,
    "start_time": "2023-04-16T09:39:15.370Z"
   },
   {
    "duration": 32,
    "start_time": "2023-04-16T09:39:15.478Z"
   },
   {
    "duration": 17,
    "start_time": "2023-04-16T09:39:15.512Z"
   },
   {
    "duration": 33,
    "start_time": "2023-04-16T09:39:15.531Z"
   },
   {
    "duration": 12,
    "start_time": "2023-04-16T09:39:15.586Z"
   },
   {
    "duration": 114,
    "start_time": "2023-04-16T09:39:15.600Z"
   },
   {
    "duration": 3,
    "start_time": "2023-04-16T09:39:15.716Z"
   },
   {
    "duration": 37,
    "start_time": "2023-04-16T09:39:15.721Z"
   },
   {
    "duration": 534,
    "start_time": "2023-04-16T09:39:15.760Z"
   },
   {
    "duration": 12,
    "start_time": "2023-04-16T09:39:16.299Z"
   },
   {
    "duration": 30,
    "start_time": "2023-04-16T09:39:16.312Z"
   },
   {
    "duration": 68,
    "start_time": "2023-04-16T09:39:16.343Z"
   },
   {
    "duration": 46,
    "start_time": "2023-04-16T09:39:16.412Z"
   },
   {
    "duration": 39,
    "start_time": "2023-04-16T09:39:16.460Z"
   },
   {
    "duration": 70,
    "start_time": "2023-04-16T09:39:16.501Z"
   },
   {
    "duration": 22,
    "start_time": "2023-04-16T09:39:16.572Z"
   },
   {
    "duration": 29,
    "start_time": "2023-04-16T09:39:16.597Z"
   },
   {
    "duration": 44,
    "start_time": "2023-04-16T09:39:16.628Z"
   },
   {
    "duration": 107,
    "start_time": "2023-04-16T09:39:16.674Z"
   },
   {
    "duration": 23,
    "start_time": "2023-04-16T09:39:16.787Z"
   },
   {
    "duration": 26,
    "start_time": "2023-04-16T09:39:16.813Z"
   },
   {
    "duration": 9,
    "start_time": "2023-04-16T09:39:16.841Z"
   },
   {
    "duration": 14,
    "start_time": "2023-04-16T09:39:16.851Z"
   },
   {
    "duration": 28,
    "start_time": "2023-04-16T09:39:16.867Z"
   },
   {
    "duration": 33,
    "start_time": "2023-04-16T09:39:16.897Z"
   },
   {
    "duration": 175,
    "start_time": "2023-04-16T09:45:23.517Z"
   },
   {
    "duration": 91,
    "start_time": "2023-04-16T09:45:31.480Z"
   },
   {
    "duration": 76,
    "start_time": "2023-04-16T09:47:25.719Z"
   },
   {
    "duration": 21,
    "start_time": "2023-04-16T10:13:39.209Z"
   },
   {
    "duration": 65,
    "start_time": "2023-04-16T10:15:53.483Z"
   },
   {
    "duration": 54,
    "start_time": "2023-04-16T10:16:09.914Z"
   },
   {
    "duration": 231,
    "start_time": "2023-04-16T10:16:24.814Z"
   },
   {
    "duration": 218,
    "start_time": "2023-04-16T10:23:56.913Z"
   },
   {
    "duration": 226,
    "start_time": "2023-04-16T10:24:15.582Z"
   },
   {
    "duration": 94,
    "start_time": "2023-04-16T10:25:04.682Z"
   },
   {
    "duration": 258,
    "start_time": "2023-04-16T10:25:10.102Z"
   },
   {
    "duration": 248,
    "start_time": "2023-04-16T10:25:21.714Z"
   },
   {
    "duration": 61,
    "start_time": "2023-04-16T10:25:56.233Z"
   },
   {
    "duration": 100,
    "start_time": "2023-04-16T10:26:10.114Z"
   },
   {
    "duration": 255,
    "start_time": "2023-04-16T10:26:54.047Z"
   },
   {
    "duration": 1202,
    "start_time": "2023-04-16T10:29:07.254Z"
   },
   {
    "duration": 192,
    "start_time": "2023-04-16T10:29:08.458Z"
   },
   {
    "duration": 11,
    "start_time": "2023-04-16T10:29:08.651Z"
   },
   {
    "duration": 3,
    "start_time": "2023-04-16T10:29:08.664Z"
   },
   {
    "duration": 40,
    "start_time": "2023-04-16T10:29:08.668Z"
   },
   {
    "duration": 14,
    "start_time": "2023-04-16T10:29:08.710Z"
   },
   {
    "duration": 131,
    "start_time": "2023-04-16T10:29:08.726Z"
   },
   {
    "duration": 9,
    "start_time": "2023-04-16T10:29:08.859Z"
   },
   {
    "duration": 84,
    "start_time": "2023-04-16T10:29:08.870Z"
   },
   {
    "duration": 100,
    "start_time": "2023-04-16T10:29:08.956Z"
   },
   {
    "duration": 19,
    "start_time": "2023-04-16T10:29:09.058Z"
   },
   {
    "duration": 27,
    "start_time": "2023-04-16T10:29:09.079Z"
   },
   {
    "duration": 31,
    "start_time": "2023-04-16T10:29:09.108Z"
   },
   {
    "duration": 10,
    "start_time": "2023-04-16T10:29:09.141Z"
   },
   {
    "duration": 119,
    "start_time": "2023-04-16T10:29:09.152Z"
   },
   {
    "duration": 4,
    "start_time": "2023-04-16T10:29:09.272Z"
   },
   {
    "duration": 40,
    "start_time": "2023-04-16T10:29:09.286Z"
   },
   {
    "duration": 307,
    "start_time": "2023-04-16T10:29:09.328Z"
   },
   {
    "duration": 9,
    "start_time": "2023-04-16T10:29:09.637Z"
   },
   {
    "duration": 56,
    "start_time": "2023-04-16T10:29:09.648Z"
   },
   {
    "duration": 51,
    "start_time": "2023-04-16T10:29:09.706Z"
   },
   {
    "duration": 67,
    "start_time": "2023-04-16T10:29:09.759Z"
   },
   {
    "duration": 23,
    "start_time": "2023-04-16T10:29:09.828Z"
   },
   {
    "duration": 80,
    "start_time": "2023-04-16T10:29:09.853Z"
   },
   {
    "duration": 5,
    "start_time": "2023-04-16T10:29:09.934Z"
   },
   {
    "duration": 38,
    "start_time": "2023-04-16T10:29:09.940Z"
   },
   {
    "duration": 65,
    "start_time": "2023-04-16T10:29:09.979Z"
   },
   {
    "duration": 104,
    "start_time": "2023-04-16T10:29:10.047Z"
   },
   {
    "duration": 6,
    "start_time": "2023-04-16T10:29:10.152Z"
   },
   {
    "duration": 23,
    "start_time": "2023-04-16T10:29:10.159Z"
   },
   {
    "duration": 38,
    "start_time": "2023-04-16T10:29:10.184Z"
   },
   {
    "duration": 14,
    "start_time": "2023-04-16T10:29:10.223Z"
   },
   {
    "duration": 13,
    "start_time": "2023-04-16T10:29:10.239Z"
   },
   {
    "duration": 21,
    "start_time": "2023-04-16T10:29:10.253Z"
   },
   {
    "duration": 285,
    "start_time": "2023-04-16T10:35:03.583Z"
   },
   {
    "duration": 1341,
    "start_time": "2023-04-16T14:15:57.018Z"
   },
   {
    "duration": 659,
    "start_time": "2023-04-16T14:15:58.361Z"
   },
   {
    "duration": 11,
    "start_time": "2023-04-16T14:15:59.022Z"
   },
   {
    "duration": 10,
    "start_time": "2023-04-16T14:15:59.034Z"
   },
   {
    "duration": 37,
    "start_time": "2023-04-16T14:15:59.047Z"
   },
   {
    "duration": 15,
    "start_time": "2023-04-16T14:15:59.087Z"
   },
   {
    "duration": 181,
    "start_time": "2023-04-16T14:15:59.105Z"
   },
   {
    "duration": 10,
    "start_time": "2023-04-16T14:15:59.294Z"
   },
   {
    "duration": 83,
    "start_time": "2023-04-16T14:15:59.306Z"
   },
   {
    "duration": 115,
    "start_time": "2023-04-16T14:15:59.391Z"
   },
   {
    "duration": 18,
    "start_time": "2023-04-16T14:15:59.508Z"
   },
   {
    "duration": 16,
    "start_time": "2023-04-16T14:15:59.528Z"
   },
   {
    "duration": 59,
    "start_time": "2023-04-16T14:15:59.546Z"
   },
   {
    "duration": 11,
    "start_time": "2023-04-16T14:15:59.609Z"
   },
   {
    "duration": 104,
    "start_time": "2023-04-16T14:15:59.622Z"
   },
   {
    "duration": 4,
    "start_time": "2023-04-16T14:15:59.727Z"
   },
   {
    "duration": 46,
    "start_time": "2023-04-16T14:15:59.733Z"
   },
   {
    "duration": 350,
    "start_time": "2023-04-16T14:15:59.784Z"
   },
   {
    "duration": 7,
    "start_time": "2023-04-16T14:16:00.136Z"
   },
   {
    "duration": 59,
    "start_time": "2023-04-16T14:16:00.145Z"
   },
   {
    "duration": 64,
    "start_time": "2023-04-16T14:16:00.206Z"
   },
   {
    "duration": 58,
    "start_time": "2023-04-16T14:16:00.272Z"
   },
   {
    "duration": 24,
    "start_time": "2023-04-16T14:16:00.332Z"
   },
   {
    "duration": 103,
    "start_time": "2023-04-16T14:16:00.358Z"
   },
   {
    "duration": 5,
    "start_time": "2023-04-16T14:16:00.463Z"
   },
   {
    "duration": 60,
    "start_time": "2023-04-16T14:16:00.469Z"
   },
   {
    "duration": 83,
    "start_time": "2023-04-16T14:16:00.531Z"
   },
   {
    "duration": 139,
    "start_time": "2023-04-16T14:16:00.616Z"
   },
   {
    "duration": 9,
    "start_time": "2023-04-16T14:16:00.757Z"
   },
   {
    "duration": 73,
    "start_time": "2023-04-16T14:16:00.769Z"
   },
   {
    "duration": 67,
    "start_time": "2023-04-16T14:16:00.844Z"
   },
   {
    "duration": 45,
    "start_time": "2023-04-16T14:16:00.913Z"
   },
   {
    "duration": 72,
    "start_time": "2023-04-16T14:16:00.960Z"
   },
   {
    "duration": 46,
    "start_time": "2023-04-16T14:16:01.034Z"
   },
   {
    "duration": 5,
    "start_time": "2023-04-16T14:17:39.673Z"
   },
   {
    "duration": 6,
    "start_time": "2023-04-16T14:20:55.636Z"
   },
   {
    "duration": 229,
    "start_time": "2023-04-16T14:21:39.498Z"
   },
   {
    "duration": 12,
    "start_time": "2023-04-16T14:21:59.234Z"
   },
   {
    "duration": 15,
    "start_time": "2023-04-16T14:25:55.857Z"
   },
   {
    "duration": 13,
    "start_time": "2023-04-16T14:27:52.930Z"
   },
   {
    "duration": 1423,
    "start_time": "2023-04-16T14:28:04.074Z"
   },
   {
    "duration": 216,
    "start_time": "2023-04-16T14:28:05.505Z"
   },
   {
    "duration": 11,
    "start_time": "2023-04-16T14:28:05.723Z"
   },
   {
    "duration": 20,
    "start_time": "2023-04-16T14:28:05.736Z"
   },
   {
    "duration": 74,
    "start_time": "2023-04-16T14:28:05.759Z"
   },
   {
    "duration": 28,
    "start_time": "2023-04-16T14:28:05.835Z"
   },
   {
    "duration": 150,
    "start_time": "2023-04-16T14:28:05.865Z"
   },
   {
    "duration": 24,
    "start_time": "2023-04-16T14:28:06.017Z"
   },
   {
    "duration": 146,
    "start_time": "2023-04-16T14:28:06.042Z"
   },
   {
    "duration": 88,
    "start_time": "2023-04-16T14:28:06.190Z"
   },
   {
    "duration": 29,
    "start_time": "2023-04-16T14:28:06.283Z"
   },
   {
    "duration": 38,
    "start_time": "2023-04-16T14:28:06.314Z"
   },
   {
    "duration": 38,
    "start_time": "2023-04-16T14:28:06.358Z"
   },
   {
    "duration": 11,
    "start_time": "2023-04-16T14:28:06.400Z"
   },
   {
    "duration": 124,
    "start_time": "2023-04-16T14:28:06.415Z"
   },
   {
    "duration": 4,
    "start_time": "2023-04-16T14:28:06.541Z"
   },
   {
    "duration": 68,
    "start_time": "2023-04-16T14:28:06.548Z"
   },
   {
    "duration": 433,
    "start_time": "2023-04-16T14:28:06.618Z"
   },
   {
    "duration": 10,
    "start_time": "2023-04-16T14:28:07.053Z"
   },
   {
    "duration": 45,
    "start_time": "2023-04-16T14:28:07.064Z"
   },
   {
    "duration": 86,
    "start_time": "2023-04-16T14:28:07.112Z"
   },
   {
    "duration": 65,
    "start_time": "2023-04-16T14:28:07.202Z"
   },
   {
    "duration": 39,
    "start_time": "2023-04-16T14:28:07.269Z"
   },
   {
    "duration": 96,
    "start_time": "2023-04-16T14:28:07.310Z"
   },
   {
    "duration": 7,
    "start_time": "2023-04-16T14:28:07.409Z"
   },
   {
    "duration": 33,
    "start_time": "2023-04-16T14:28:07.418Z"
   },
   {
    "duration": 59,
    "start_time": "2023-04-16T14:28:07.453Z"
   },
   {
    "duration": 116,
    "start_time": "2023-04-16T14:28:07.513Z"
   },
   {
    "duration": 247,
    "start_time": "2023-04-16T14:28:07.632Z"
   },
   {
    "duration": 20,
    "start_time": "2023-04-16T14:28:07.883Z"
   },
   {
    "duration": 83,
    "start_time": "2023-04-16T14:28:07.905Z"
   },
   {
    "duration": 16,
    "start_time": "2023-04-16T14:28:07.992Z"
   },
   {
    "duration": 27,
    "start_time": "2023-04-16T14:28:08.011Z"
   },
   {
    "duration": 46,
    "start_time": "2023-04-16T14:28:08.039Z"
   },
   {
    "duration": 62,
    "start_time": "2023-04-16T14:28:08.086Z"
   },
   {
    "duration": 134,
    "start_time": "2023-04-16T14:29:33.710Z"
   },
   {
    "duration": 5,
    "start_time": "2023-04-16T14:32:52.376Z"
   },
   {
    "duration": 195,
    "start_time": "2023-04-16T14:32:56.459Z"
   },
   {
    "duration": 18,
    "start_time": "2023-04-16T14:35:27.459Z"
   },
   {
    "duration": 12,
    "start_time": "2023-04-16T14:36:52.650Z"
   },
   {
    "duration": 27,
    "start_time": "2023-04-16T14:38:28.290Z"
   },
   {
    "duration": 1380,
    "start_time": "2023-04-16T14:50:53.667Z"
   },
   {
    "duration": 251,
    "start_time": "2023-04-16T14:50:55.049Z"
   },
   {
    "duration": 15,
    "start_time": "2023-04-16T14:50:55.302Z"
   },
   {
    "duration": 25,
    "start_time": "2023-04-16T14:50:55.328Z"
   },
   {
    "duration": 56,
    "start_time": "2023-04-16T14:50:55.357Z"
   },
   {
    "duration": 20,
    "start_time": "2023-04-16T14:50:55.425Z"
   },
   {
    "duration": 144,
    "start_time": "2023-04-16T14:50:55.448Z"
   },
   {
    "duration": 20,
    "start_time": "2023-04-16T14:50:55.597Z"
   },
   {
    "duration": 133,
    "start_time": "2023-04-16T14:50:55.622Z"
   },
   {
    "duration": 111,
    "start_time": "2023-04-16T14:50:55.763Z"
   },
   {
    "duration": 41,
    "start_time": "2023-04-16T14:50:55.878Z"
   },
   {
    "duration": 41,
    "start_time": "2023-04-16T14:50:55.924Z"
   },
   {
    "duration": 106,
    "start_time": "2023-04-16T14:50:55.967Z"
   },
   {
    "duration": 40,
    "start_time": "2023-04-16T14:50:56.076Z"
   },
   {
    "duration": 198,
    "start_time": "2023-04-16T14:50:56.119Z"
   },
   {
    "duration": 10,
    "start_time": "2023-04-16T14:50:56.320Z"
   },
   {
    "duration": 97,
    "start_time": "2023-04-16T14:50:56.334Z"
   },
   {
    "duration": 595,
    "start_time": "2023-04-16T14:50:56.434Z"
   },
   {
    "duration": 9,
    "start_time": "2023-04-16T14:50:57.031Z"
   },
   {
    "duration": 99,
    "start_time": "2023-04-16T14:50:57.042Z"
   },
   {
    "duration": 216,
    "start_time": "2023-04-16T14:50:57.143Z"
   },
   {
    "duration": 83,
    "start_time": "2023-04-16T14:50:57.361Z"
   },
   {
    "duration": 101,
    "start_time": "2023-04-16T14:50:57.448Z"
   },
   {
    "duration": 89,
    "start_time": "2023-04-16T14:50:57.551Z"
   },
   {
    "duration": 7,
    "start_time": "2023-04-16T14:50:57.645Z"
   },
   {
    "duration": 30,
    "start_time": "2023-04-16T14:50:57.654Z"
   },
   {
    "duration": 112,
    "start_time": "2023-04-16T14:50:57.686Z"
   },
   {
    "duration": 144,
    "start_time": "2023-04-16T14:50:57.804Z"
   },
   {
    "duration": 214,
    "start_time": "2023-04-16T14:50:57.951Z"
   },
   {
    "duration": 13,
    "start_time": "2023-04-16T14:50:58.167Z"
   },
   {
    "duration": 164,
    "start_time": "2023-04-16T14:50:58.191Z"
   },
   {
    "duration": 62,
    "start_time": "2023-04-16T14:50:58.357Z"
   },
   {
    "duration": 66,
    "start_time": "2023-04-16T14:50:58.421Z"
   },
   {
    "duration": 114,
    "start_time": "2023-04-16T14:50:58.492Z"
   },
   {
    "duration": 78,
    "start_time": "2023-04-16T14:50:58.612Z"
   },
   {
    "duration": 9,
    "start_time": "2023-04-16T14:51:34.309Z"
   },
   {
    "duration": 1470,
    "start_time": "2023-04-16T14:51:41.169Z"
   },
   {
    "duration": 208,
    "start_time": "2023-04-16T14:51:42.641Z"
   },
   {
    "duration": 13,
    "start_time": "2023-04-16T14:51:42.852Z"
   },
   {
    "duration": 19,
    "start_time": "2023-04-16T14:51:42.867Z"
   },
   {
    "duration": 63,
    "start_time": "2023-04-16T14:51:42.888Z"
   },
   {
    "duration": 22,
    "start_time": "2023-04-16T14:51:42.953Z"
   },
   {
    "duration": 184,
    "start_time": "2023-04-16T14:51:42.978Z"
   },
   {
    "duration": 10,
    "start_time": "2023-04-16T14:51:43.163Z"
   },
   {
    "duration": 103,
    "start_time": "2023-04-16T14:51:43.184Z"
   },
   {
    "duration": 122,
    "start_time": "2023-04-16T14:51:43.292Z"
   },
   {
    "duration": 34,
    "start_time": "2023-04-16T14:51:43.417Z"
   },
   {
    "duration": 17,
    "start_time": "2023-04-16T14:51:43.453Z"
   },
   {
    "duration": 66,
    "start_time": "2023-04-16T14:51:43.472Z"
   },
   {
    "duration": 13,
    "start_time": "2023-04-16T14:51:43.540Z"
   },
   {
    "duration": 117,
    "start_time": "2023-04-16T14:51:43.555Z"
   },
   {
    "duration": 11,
    "start_time": "2023-04-16T14:51:43.675Z"
   },
   {
    "duration": 108,
    "start_time": "2023-04-16T14:51:43.689Z"
   },
   {
    "duration": 391,
    "start_time": "2023-04-16T14:51:43.799Z"
   },
   {
    "duration": 27,
    "start_time": "2023-04-16T14:51:44.201Z"
   },
   {
    "duration": 34,
    "start_time": "2023-04-16T14:51:44.230Z"
   },
   {
    "duration": 67,
    "start_time": "2023-04-16T14:51:44.266Z"
   },
   {
    "duration": 75,
    "start_time": "2023-04-16T14:51:44.336Z"
   },
   {
    "duration": 33,
    "start_time": "2023-04-16T14:51:44.413Z"
   },
   {
    "duration": 104,
    "start_time": "2023-04-16T14:51:44.451Z"
   },
   {
    "duration": 6,
    "start_time": "2023-04-16T14:51:44.557Z"
   },
   {
    "duration": 27,
    "start_time": "2023-04-16T14:51:44.565Z"
   },
   {
    "duration": 77,
    "start_time": "2023-04-16T14:51:44.594Z"
   },
   {
    "duration": 118,
    "start_time": "2023-04-16T14:51:44.675Z"
   },
   {
    "duration": 185,
    "start_time": "2023-04-16T14:51:44.795Z"
   },
   {
    "duration": 9,
    "start_time": "2023-04-16T14:51:44.982Z"
   },
   {
    "duration": 61,
    "start_time": "2023-04-16T14:51:44.996Z"
   },
   {
    "duration": 71,
    "start_time": "2023-04-16T14:51:45.059Z"
   },
   {
    "duration": 17,
    "start_time": "2023-04-16T14:51:45.131Z"
   },
   {
    "duration": 24,
    "start_time": "2023-04-16T14:51:45.150Z"
   },
   {
    "duration": 21,
    "start_time": "2023-04-16T14:51:45.176Z"
   },
   {
    "duration": 8,
    "start_time": "2023-04-16T14:53:49.130Z"
   },
   {
    "duration": 11,
    "start_time": "2023-04-16T14:53:52.716Z"
   },
   {
    "duration": 1091,
    "start_time": "2023-04-17T03:12:08.621Z"
   },
   {
    "duration": 148,
    "start_time": "2023-04-17T03:12:09.714Z"
   },
   {
    "duration": 10,
    "start_time": "2023-04-17T03:12:09.864Z"
   },
   {
    "duration": 14,
    "start_time": "2023-04-17T03:12:09.876Z"
   },
   {
    "duration": 21,
    "start_time": "2023-04-17T03:12:09.891Z"
   },
   {
    "duration": 44,
    "start_time": "2023-04-17T03:12:09.913Z"
   },
   {
    "duration": 118,
    "start_time": "2023-04-17T03:12:09.959Z"
   },
   {
    "duration": 9,
    "start_time": "2023-04-17T03:12:10.078Z"
   },
   {
    "duration": 111,
    "start_time": "2023-04-17T03:12:10.088Z"
   },
   {
    "duration": 88,
    "start_time": "2023-04-17T03:12:10.201Z"
   },
   {
    "duration": 19,
    "start_time": "2023-04-17T03:12:10.291Z"
   },
   {
    "duration": 20,
    "start_time": "2023-04-17T03:12:10.312Z"
   },
   {
    "duration": 46,
    "start_time": "2023-04-17T03:12:10.334Z"
   },
   {
    "duration": 9,
    "start_time": "2023-04-17T03:12:10.382Z"
   },
   {
    "duration": 94,
    "start_time": "2023-04-17T03:12:10.393Z"
   },
   {
    "duration": 3,
    "start_time": "2023-04-17T03:12:10.489Z"
   },
   {
    "duration": 34,
    "start_time": "2023-04-17T03:12:10.493Z"
   },
   {
    "duration": 281,
    "start_time": "2023-04-17T03:12:10.528Z"
   },
   {
    "duration": 6,
    "start_time": "2023-04-17T03:12:10.810Z"
   },
   {
    "duration": 38,
    "start_time": "2023-04-17T03:12:10.818Z"
   },
   {
    "duration": 43,
    "start_time": "2023-04-17T03:12:10.858Z"
   },
   {
    "duration": 55,
    "start_time": "2023-04-17T03:12:10.902Z"
   },
   {
    "duration": 20,
    "start_time": "2023-04-17T03:12:10.959Z"
   },
   {
    "duration": 61,
    "start_time": "2023-04-17T03:12:10.980Z"
   },
   {
    "duration": 5,
    "start_time": "2023-04-17T03:12:11.056Z"
   },
   {
    "duration": 15,
    "start_time": "2023-04-17T03:12:11.063Z"
   },
   {
    "duration": 40,
    "start_time": "2023-04-17T03:12:11.079Z"
   },
   {
    "duration": 111,
    "start_time": "2023-04-17T03:12:11.122Z"
   },
   {
    "duration": 229,
    "start_time": "2023-04-17T03:12:11.234Z"
   },
   {
    "duration": 5,
    "start_time": "2023-04-17T03:12:11.465Z"
   },
   {
    "duration": 14,
    "start_time": "2023-04-17T03:12:11.472Z"
   },
   {
    "duration": 8,
    "start_time": "2023-04-17T03:12:11.488Z"
   },
   {
    "duration": 61,
    "start_time": "2023-04-17T03:12:11.498Z"
   },
   {
    "duration": 14,
    "start_time": "2023-04-17T03:12:11.561Z"
   },
   {
    "duration": 13,
    "start_time": "2023-04-17T03:12:11.576Z"
   },
   {
    "duration": 1196,
    "start_time": "2023-04-17T03:15:53.128Z"
   },
   {
    "duration": 166,
    "start_time": "2023-04-17T03:15:54.326Z"
   },
   {
    "duration": 12,
    "start_time": "2023-04-17T03:15:54.493Z"
   },
   {
    "duration": 4,
    "start_time": "2023-04-17T03:15:54.507Z"
   },
   {
    "duration": 21,
    "start_time": "2023-04-17T03:15:54.513Z"
   },
   {
    "duration": 33,
    "start_time": "2023-04-17T03:15:54.535Z"
   },
   {
    "duration": 109,
    "start_time": "2023-04-17T03:15:54.570Z"
   },
   {
    "duration": 8,
    "start_time": "2023-04-17T03:15:54.681Z"
   },
   {
    "duration": 73,
    "start_time": "2023-04-17T03:15:54.691Z"
   },
   {
    "duration": 90,
    "start_time": "2023-04-17T03:15:54.766Z"
   },
   {
    "duration": 19,
    "start_time": "2023-04-17T03:15:54.857Z"
   },
   {
    "duration": 16,
    "start_time": "2023-04-17T03:15:54.877Z"
   },
   {
    "duration": 28,
    "start_time": "2023-04-17T03:15:54.895Z"
   },
   {
    "duration": 31,
    "start_time": "2023-04-17T03:15:54.926Z"
   },
   {
    "duration": 70,
    "start_time": "2023-04-17T03:15:54.958Z"
   },
   {
    "duration": 3,
    "start_time": "2023-04-17T03:15:55.029Z"
   },
   {
    "duration": 45,
    "start_time": "2023-04-17T03:15:55.034Z"
   },
   {
    "duration": 257,
    "start_time": "2023-04-17T03:15:55.081Z"
   },
   {
    "duration": 7,
    "start_time": "2023-04-17T03:15:55.340Z"
   },
   {
    "duration": 26,
    "start_time": "2023-04-17T03:15:55.355Z"
   },
   {
    "duration": 45,
    "start_time": "2023-04-17T03:15:55.383Z"
   },
   {
    "duration": 54,
    "start_time": "2023-04-17T03:15:55.429Z"
   },
   {
    "duration": 20,
    "start_time": "2023-04-17T03:15:55.485Z"
   },
   {
    "duration": 73,
    "start_time": "2023-04-17T03:15:55.507Z"
   },
   {
    "duration": 5,
    "start_time": "2023-04-17T03:15:55.582Z"
   },
   {
    "duration": 44,
    "start_time": "2023-04-17T03:15:55.589Z"
   },
   {
    "duration": 48,
    "start_time": "2023-04-17T03:15:55.635Z"
   },
   {
    "duration": 93,
    "start_time": "2023-04-17T03:15:55.684Z"
   },
   {
    "duration": 228,
    "start_time": "2023-04-17T03:15:55.778Z"
   },
   {
    "duration": 6,
    "start_time": "2023-04-17T03:15:56.007Z"
   },
   {
    "duration": 13,
    "start_time": "2023-04-17T03:15:56.014Z"
   },
   {
    "duration": 10,
    "start_time": "2023-04-17T03:15:56.055Z"
   },
   {
    "duration": 14,
    "start_time": "2023-04-17T03:15:56.067Z"
   },
   {
    "duration": 22,
    "start_time": "2023-04-17T03:15:56.083Z"
   },
   {
    "duration": 11,
    "start_time": "2023-04-17T03:15:56.157Z"
   },
   {
    "duration": 1230,
    "start_time": "2023-04-17T03:38:39.228Z"
   },
   {
    "duration": 159,
    "start_time": "2023-04-17T03:38:40.460Z"
   },
   {
    "duration": 11,
    "start_time": "2023-04-17T03:38:40.621Z"
   },
   {
    "duration": 9,
    "start_time": "2023-04-17T03:38:40.634Z"
   },
   {
    "duration": 31,
    "start_time": "2023-04-17T03:38:40.644Z"
   },
   {
    "duration": 15,
    "start_time": "2023-04-17T03:38:40.677Z"
   },
   {
    "duration": 113,
    "start_time": "2023-04-17T03:38:40.694Z"
   },
   {
    "duration": 10,
    "start_time": "2023-04-17T03:38:40.809Z"
   },
   {
    "duration": 84,
    "start_time": "2023-04-17T03:38:40.820Z"
   },
   {
    "duration": 98,
    "start_time": "2023-04-17T03:38:40.908Z"
   },
   {
    "duration": 19,
    "start_time": "2023-04-17T03:38:41.008Z"
   },
   {
    "duration": 27,
    "start_time": "2023-04-17T03:38:41.029Z"
   },
   {
    "duration": 28,
    "start_time": "2023-04-17T03:38:41.058Z"
   },
   {
    "duration": 9,
    "start_time": "2023-04-17T03:38:41.088Z"
   },
   {
    "duration": 96,
    "start_time": "2023-04-17T03:38:41.099Z"
   },
   {
    "duration": 3,
    "start_time": "2023-04-17T03:38:41.196Z"
   },
   {
    "duration": 31,
    "start_time": "2023-04-17T03:38:41.201Z"
   },
   {
    "duration": 296,
    "start_time": "2023-04-17T03:38:41.234Z"
   },
   {
    "duration": 7,
    "start_time": "2023-04-17T03:38:41.532Z"
   },
   {
    "duration": 37,
    "start_time": "2023-04-17T03:38:41.541Z"
   },
   {
    "duration": 44,
    "start_time": "2023-04-17T03:38:41.580Z"
   },
   {
    "duration": 58,
    "start_time": "2023-04-17T03:38:41.626Z"
   },
   {
    "duration": 21,
    "start_time": "2023-04-17T03:38:41.685Z"
   },
   {
    "duration": 79,
    "start_time": "2023-04-17T03:38:41.707Z"
   },
   {
    "duration": 5,
    "start_time": "2023-04-17T03:38:41.788Z"
   },
   {
    "duration": 18,
    "start_time": "2023-04-17T03:38:41.795Z"
   },
   {
    "duration": 51,
    "start_time": "2023-04-17T03:38:41.815Z"
   },
   {
    "duration": 109,
    "start_time": "2023-04-17T03:38:41.869Z"
   },
   {
    "duration": 243,
    "start_time": "2023-04-17T03:38:41.979Z"
   },
   {
    "duration": 9,
    "start_time": "2023-04-17T03:38:42.224Z"
   },
   {
    "duration": 29,
    "start_time": "2023-04-17T03:38:42.235Z"
   },
   {
    "duration": 16,
    "start_time": "2023-04-17T03:38:42.266Z"
   },
   {
    "duration": 11,
    "start_time": "2023-04-17T03:38:42.284Z"
   },
   {
    "duration": 68,
    "start_time": "2023-04-17T03:38:42.296Z"
   },
   {
    "duration": 13,
    "start_time": "2023-04-17T03:38:42.367Z"
   },
   {
    "duration": 1328,
    "start_time": "2023-04-17T04:37:44.688Z"
   },
   {
    "duration": 748,
    "start_time": "2023-04-17T04:37:46.019Z"
   },
   {
    "duration": 12,
    "start_time": "2023-04-17T04:37:46.773Z"
   },
   {
    "duration": 31,
    "start_time": "2023-04-17T04:37:46.787Z"
   },
   {
    "duration": 65,
    "start_time": "2023-04-17T04:37:46.819Z"
   },
   {
    "duration": 32,
    "start_time": "2023-04-17T04:37:46.886Z"
   },
   {
    "duration": 105,
    "start_time": "2023-04-17T04:37:46.920Z"
   },
   {
    "duration": 10,
    "start_time": "2023-04-17T04:37:47.028Z"
   },
   {
    "duration": 93,
    "start_time": "2023-04-17T04:37:47.040Z"
   },
   {
    "duration": 95,
    "start_time": "2023-04-17T04:37:47.136Z"
   },
   {
    "duration": 28,
    "start_time": "2023-04-17T04:37:47.234Z"
   },
   {
    "duration": 28,
    "start_time": "2023-04-17T04:37:47.264Z"
   },
   {
    "duration": 39,
    "start_time": "2023-04-17T04:37:47.295Z"
   },
   {
    "duration": 10,
    "start_time": "2023-04-17T04:37:47.336Z"
   },
   {
    "duration": 82,
    "start_time": "2023-04-17T04:37:47.356Z"
   },
   {
    "duration": 21,
    "start_time": "2023-04-17T04:37:47.440Z"
   },
   {
    "duration": 42,
    "start_time": "2023-04-17T04:37:47.464Z"
   },
   {
    "duration": 295,
    "start_time": "2023-04-17T04:37:47.508Z"
   },
   {
    "duration": 7,
    "start_time": "2023-04-17T04:37:47.805Z"
   },
   {
    "duration": 25,
    "start_time": "2023-04-17T04:37:47.813Z"
   },
   {
    "duration": 48,
    "start_time": "2023-04-17T04:37:47.856Z"
   },
   {
    "duration": 63,
    "start_time": "2023-04-17T04:37:47.905Z"
   },
   {
    "duration": 33,
    "start_time": "2023-04-17T04:37:47.970Z"
   },
   {
    "duration": 70,
    "start_time": "2023-04-17T04:37:48.006Z"
   },
   {
    "duration": 6,
    "start_time": "2023-04-17T04:37:48.078Z"
   },
   {
    "duration": 20,
    "start_time": "2023-04-17T04:37:48.087Z"
   },
   {
    "duration": 64,
    "start_time": "2023-04-17T04:37:48.109Z"
   },
   {
    "duration": 102,
    "start_time": "2023-04-17T04:37:48.176Z"
   },
   {
    "duration": 184,
    "start_time": "2023-04-17T04:37:48.280Z"
   },
   {
    "duration": 7,
    "start_time": "2023-04-17T04:37:48.466Z"
   },
   {
    "duration": 12,
    "start_time": "2023-04-17T04:37:48.478Z"
   },
   {
    "duration": 14,
    "start_time": "2023-04-17T04:37:48.492Z"
   },
   {
    "duration": 66,
    "start_time": "2023-04-17T04:37:48.508Z"
   },
   {
    "duration": 18,
    "start_time": "2023-04-17T04:37:48.581Z"
   },
   {
    "duration": 60,
    "start_time": "2023-04-17T04:37:48.601Z"
   },
   {
    "duration": 12,
    "start_time": "2023-04-17T04:38:21.318Z"
   },
   {
    "duration": 1019,
    "start_time": "2023-06-03T12:23:40.654Z"
   },
   {
    "duration": 508,
    "start_time": "2023-06-03T12:23:41.675Z"
   },
   {
    "duration": 8,
    "start_time": "2023-06-03T12:23:42.184Z"
   },
   {
    "duration": 3,
    "start_time": "2023-06-03T12:23:42.193Z"
   },
   {
    "duration": 25,
    "start_time": "2023-06-03T12:23:42.197Z"
   },
   {
    "duration": 11,
    "start_time": "2023-06-03T12:23:42.223Z"
   },
   {
    "duration": 93,
    "start_time": "2023-06-03T12:23:42.235Z"
   },
   {
    "duration": 33,
    "start_time": "2023-06-03T12:23:42.329Z"
   },
   {
    "duration": 74,
    "start_time": "2023-06-03T12:23:42.363Z"
   },
   {
    "duration": 71,
    "start_time": "2023-06-03T12:23:42.440Z"
   },
   {
    "duration": 17,
    "start_time": "2023-06-03T12:23:42.512Z"
   },
   {
    "duration": 17,
    "start_time": "2023-06-03T12:23:42.531Z"
   },
   {
    "duration": 40,
    "start_time": "2023-06-03T12:23:42.550Z"
   },
   {
    "duration": 7,
    "start_time": "2023-06-03T12:23:42.592Z"
   },
   {
    "duration": 86,
    "start_time": "2023-06-03T12:23:42.601Z"
   },
   {
    "duration": 3,
    "start_time": "2023-06-03T12:23:42.688Z"
   },
   {
    "duration": 26,
    "start_time": "2023-06-03T12:23:42.692Z"
   },
   {
    "duration": 239,
    "start_time": "2023-06-03T12:23:42.720Z"
   },
   {
    "duration": 5,
    "start_time": "2023-06-03T12:23:42.961Z"
   },
   {
    "duration": 47,
    "start_time": "2023-06-03T12:23:42.968Z"
   },
   {
    "duration": 35,
    "start_time": "2023-06-03T12:23:43.017Z"
   },
   {
    "duration": 37,
    "start_time": "2023-06-03T12:23:43.054Z"
   },
   {
    "duration": 18,
    "start_time": "2023-06-03T12:23:43.093Z"
   },
   {
    "duration": 64,
    "start_time": "2023-06-03T12:23:43.112Z"
   },
   {
    "duration": 4,
    "start_time": "2023-06-03T12:23:43.184Z"
   },
   {
    "duration": 43,
    "start_time": "2023-06-03T12:23:43.190Z"
   },
   {
    "duration": 42,
    "start_time": "2023-06-03T12:23:43.235Z"
   },
   {
    "duration": 84,
    "start_time": "2023-06-03T12:23:43.280Z"
   },
   {
    "duration": 132,
    "start_time": "2023-06-03T12:23:43.365Z"
   },
   {
    "duration": 5,
    "start_time": "2023-06-03T12:23:43.498Z"
   },
   {
    "duration": 38,
    "start_time": "2023-06-03T12:23:43.504Z"
   },
   {
    "duration": 48,
    "start_time": "2023-06-03T12:23:43.543Z"
   },
   {
    "duration": 16,
    "start_time": "2023-06-03T12:23:43.592Z"
   },
   {
    "duration": 19,
    "start_time": "2023-06-03T12:23:43.610Z"
   },
   {
    "duration": 17,
    "start_time": "2023-06-03T12:23:43.630Z"
   },
   {
    "duration": 1096,
    "start_time": "2023-06-08T03:54:00.338Z"
   },
   {
    "duration": 528,
    "start_time": "2023-06-08T03:54:01.436Z"
   },
   {
    "duration": 13,
    "start_time": "2023-06-08T03:54:01.966Z"
   },
   {
    "duration": 40,
    "start_time": "2023-06-08T03:54:01.980Z"
   },
   {
    "duration": 30,
    "start_time": "2023-06-08T03:54:02.022Z"
   },
   {
    "duration": 15,
    "start_time": "2023-06-08T03:54:02.053Z"
   },
   {
    "duration": 107,
    "start_time": "2023-06-08T03:54:02.070Z"
   },
   {
    "duration": 9,
    "start_time": "2023-06-08T03:54:02.179Z"
   },
   {
    "duration": 97,
    "start_time": "2023-06-08T03:54:02.189Z"
   },
   {
    "duration": 81,
    "start_time": "2023-06-08T03:54:02.287Z"
   },
   {
    "duration": 19,
    "start_time": "2023-06-08T03:54:02.369Z"
   },
   {
    "duration": 27,
    "start_time": "2023-06-08T03:54:02.390Z"
   },
   {
    "duration": 31,
    "start_time": "2023-06-08T03:54:02.419Z"
   },
   {
    "duration": 23,
    "start_time": "2023-06-08T03:54:02.453Z"
   },
   {
    "duration": 76,
    "start_time": "2023-06-08T03:54:02.478Z"
   },
   {
    "duration": 2,
    "start_time": "2023-06-08T03:54:02.556Z"
   },
   {
    "duration": 29,
    "start_time": "2023-06-08T03:54:02.577Z"
   },
   {
    "duration": 311,
    "start_time": "2023-06-08T03:54:02.607Z"
   },
   {
    "duration": 7,
    "start_time": "2023-06-08T03:54:02.920Z"
   },
   {
    "duration": 28,
    "start_time": "2023-06-08T03:54:02.928Z"
   },
   {
    "duration": 49,
    "start_time": "2023-06-08T03:54:02.958Z"
   },
   {
    "duration": 42,
    "start_time": "2023-06-08T03:54:03.009Z"
   },
   {
    "duration": 36,
    "start_time": "2023-06-08T03:54:03.053Z"
   },
   {
    "duration": 64,
    "start_time": "2023-06-08T03:54:03.090Z"
   },
   {
    "duration": 5,
    "start_time": "2023-06-08T03:54:03.156Z"
   },
   {
    "duration": 25,
    "start_time": "2023-06-08T03:54:03.162Z"
   },
   {
    "duration": 54,
    "start_time": "2023-06-08T03:54:03.188Z"
   },
   {
    "duration": 94,
    "start_time": "2023-06-08T03:54:03.244Z"
   },
   {
    "duration": 180,
    "start_time": "2023-06-08T03:54:03.339Z"
   },
   {
    "duration": 5,
    "start_time": "2023-06-08T03:54:03.521Z"
   },
   {
    "duration": 19,
    "start_time": "2023-06-08T03:54:03.527Z"
   },
   {
    "duration": 38,
    "start_time": "2023-06-08T03:54:03.548Z"
   },
   {
    "duration": 9,
    "start_time": "2023-06-08T03:54:03.588Z"
   },
   {
    "duration": 77,
    "start_time": "2023-06-08T03:54:03.599Z"
   },
   {
    "duration": 13,
    "start_time": "2023-06-08T03:54:03.679Z"
   }
  ],
  "kernelspec": {
   "display_name": "Python 3 (ipykernel)",
   "language": "python",
   "name": "python3"
  },
  "language_info": {
   "codemirror_mode": {
    "name": "ipython",
    "version": 3
   },
   "file_extension": ".py",
   "mimetype": "text/x-python",
   "name": "python",
   "nbconvert_exporter": "python",
   "pygments_lexer": "ipython3",
   "version": "3.9.13"
  },
  "toc": {
   "base_numbering": 1,
   "nav_menu": {},
   "number_sections": true,
   "sideBar": true,
   "skip_h1_title": true,
   "title_cell": "Table of Contents",
   "title_sidebar": "Contents",
   "toc_cell": false,
   "toc_position": {},
   "toc_section_display": true,
   "toc_window_display": true
  }
 },
 "nbformat": 4,
 "nbformat_minor": 2
}
