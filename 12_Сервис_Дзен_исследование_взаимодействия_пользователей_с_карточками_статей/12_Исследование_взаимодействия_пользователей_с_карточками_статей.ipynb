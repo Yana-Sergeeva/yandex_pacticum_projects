{
 "cells": [
  {
   "cell_type": "markdown",
   "id": "9cee7bd4",
   "metadata": {
    "toc": true
   },
   "source": [
    "<h1>Содержание<span class=\"tocSkip\"></span></h1>\n",
    "<div class=\"toc\"><ul class=\"toc-item\"><li><span><a href=\"#Презентация\" data-toc-modified-id=\"Презентация-1\">Презентация</a></span></li><li><span><a href=\"#Дашборд\" data-toc-modified-id=\"Дашборд-2\">Дашборд</a></span></li></ul></div>"
   ]
  },
  {
   "cell_type": "markdown",
   "id": "ea461b30",
   "metadata": {},
   "source": [
    "# Исследование взаимодействия пользователей с карточками статей"
   ]
  },
  {
   "cell_type": "markdown",
   "id": "2dc0174e",
   "metadata": {},
   "source": [
    "## Презентация "
   ]
  },
  {
   "cell_type": "markdown",
   "id": "49fdc272",
   "metadata": {},
   "source": [
    "Презентация находится [тут](https://drive.google.com/file/d/117LbBCkUFi7WyNkPr_YY5J4Pqpkvumk1/view?usp=share_link)"
   ]
  },
  {
   "cell_type": "markdown",
   "id": "e3c38b3f",
   "metadata": {},
   "source": [
    "## Дашборд"
   ]
  },
  {
   "cell_type": "markdown",
   "id": "eb7249de",
   "metadata": {},
   "source": [
    "Дашборд [здесь](https://public.tableau.com/app/profile/yana.sergeeva/viz/dash_visits_16844214106340/Dashboard1?publish=yes)"
   ]
  }
 ],
 "metadata": {
  "kernelspec": {
   "display_name": "Python 3 (ipykernel)",
   "language": "python",
   "name": "python3"
  },
  "language_info": {
   "codemirror_mode": {
    "name": "ipython",
    "version": 3
   },
   "file_extension": ".py",
   "mimetype": "text/x-python",
   "name": "python",
   "nbconvert_exporter": "python",
   "pygments_lexer": "ipython3",
   "version": "3.10.9"
  },
  "toc": {
   "base_numbering": 1,
   "nav_menu": {},
   "number_sections": false,
   "sideBar": true,
   "skip_h1_title": true,
   "title_cell": "Содержание",
   "title_sidebar": "Contents",
   "toc_cell": true,
   "toc_position": {},
   "toc_section_display": true,
   "toc_window_display": true
  }
 },
 "nbformat": 4,
 "nbformat_minor": 5
}
