{
 "cells": [
  {
   "cell_type": "markdown",
   "metadata": {},
   "source": [
    "# Анализ базы данных сервиса для чтения книг по подписке"
   ]
  },
  {
   "cell_type": "markdown",
   "metadata": {},
   "source": [
    "## Цель исследования"
   ]
  },
  {
   "cell_type": "markdown",
   "metadata": {},
   "source": [
    "Цель — проанализировать базу данных с информация о книгах, издательствах, авторах, а также пользовательские обзоры книг. Эти данные помогут сформулировать ценностное предложение для нового продукта."
   ]
  },
  {
   "cell_type": "markdown",
   "metadata": {},
   "source": [
    "## Описание данных"
   ]
  },
  {
   "cell_type": "markdown",
   "metadata": {},
   "source": [
    "Таблица **`books`**\n",
    "Содержит данные о книгах:\n",
    "\n",
    "- `book_id` — идентификатор книги;\n",
    "- `author_id` — идентификатор автора;\n",
    "- `title` — название книги;\n",
    "- `num_pages` — количество страниц;\n",
    "- `publication_date` — дата публикации книги;\n",
    "- `publisher_id` — идентификатор издателя.\n",
    "\n",
    "Таблица **`authors`**\n",
    "Содержит данные об авторах:\n",
    "- `author_id` — идентификатор автора;\n",
    "- `author` — имя автора.\n",
    "\n",
    "Таблица **`publishers`**\n",
    "Содержит данные об издательствах:\n",
    "- `publisher_id` — идентификатор издательства;\n",
    "- `publisher` — название издательства;\n",
    "\n",
    "Таблица **`ratings`**\n",
    "Содержит данные о пользовательских оценках книг:\n",
    "- `rating_id` — идентификатор оценки;\n",
    "- `book_id` — идентификатор книги;\n",
    "- `username` — имя пользователя, оставившего оценку;\n",
    "- `rating` — оценка книги.\n",
    "\n",
    "Таблица **`reviews`**\n",
    "Содержит данные о пользовательских обзорах:\n",
    "- `review_id` — идентификатор обзора;\n",
    "- `book_id` — идентификатор книги;\n",
    "- `username` — имя автора обзора;\n",
    "- `text` — текст обзора."
   ]
  },
  {
   "cell_type": "code",
   "execution_count": 1,
   "metadata": {},
   "outputs": [],
   "source": [
    "# импортируем библиотеки\n",
    "import pandas as pd\n",
    "from sqlalchemy import text, create_engine\n",
    "\n",
    "# устанавливаем параметры\n",
    "db_config = {'user': 'praktikum_student', # имя пользователя\n",
    "'pwd': 'Sdf4$2;d-d30pp', # пароль\n",
    "'host': 'rc1b-wcoijxj3yxfsf3fs.mdb.yandexcloud.net',\n",
    "'port': 6432, # порт подключения\n",
    "'db': 'data-analyst-final-project-db'} # название базы данных\n",
    "connection_string = 'postgresql://{user}:{pwd}@{host}:{port}/{db}'.format(**db_config)\n",
    "\n",
    "# сохраняем коннектор\n",
    "engine = create_engine(connection_string, connect_args={'sslmode':'require'})"
   ]
  },
  {
   "cell_type": "markdown",
   "metadata": {},
   "source": [
    "## Вывод первых 5 строк каждой таблицы"
   ]
  },
  {
   "cell_type": "code",
   "execution_count": 2,
   "metadata": {},
   "outputs": [
    {
     "name": "stdout",
     "output_type": "stream",
     "text": [
      "\n",
      "Первые 5 строк таблицы books\n"
     ]
    },
    {
     "data": {
      "text/html": [
       "<div>\n",
       "<style scoped>\n",
       "    .dataframe tbody tr th:only-of-type {\n",
       "        vertical-align: middle;\n",
       "    }\n",
       "\n",
       "    .dataframe tbody tr th {\n",
       "        vertical-align: top;\n",
       "    }\n",
       "\n",
       "    .dataframe thead th {\n",
       "        text-align: right;\n",
       "    }\n",
       "</style>\n",
       "<table border=\"1\" class=\"dataframe\">\n",
       "  <thead>\n",
       "    <tr style=\"text-align: right;\">\n",
       "      <th></th>\n",
       "      <th>book_id</th>\n",
       "      <th>author_id</th>\n",
       "      <th>title</th>\n",
       "      <th>num_pages</th>\n",
       "      <th>publication_date</th>\n",
       "      <th>publisher_id</th>\n",
       "    </tr>\n",
       "  </thead>\n",
       "  <tbody>\n",
       "    <tr>\n",
       "      <th>0</th>\n",
       "      <td>1</td>\n",
       "      <td>546</td>\n",
       "      <td>'Salem's Lot</td>\n",
       "      <td>594</td>\n",
       "      <td>2005-11-01</td>\n",
       "      <td>93</td>\n",
       "    </tr>\n",
       "    <tr>\n",
       "      <th>1</th>\n",
       "      <td>2</td>\n",
       "      <td>465</td>\n",
       "      <td>1 000 Places to See Before You Die</td>\n",
       "      <td>992</td>\n",
       "      <td>2003-05-22</td>\n",
       "      <td>336</td>\n",
       "    </tr>\n",
       "    <tr>\n",
       "      <th>2</th>\n",
       "      <td>3</td>\n",
       "      <td>407</td>\n",
       "      <td>13 Little Blue Envelopes (Little Blue Envelope...</td>\n",
       "      <td>322</td>\n",
       "      <td>2010-12-21</td>\n",
       "      <td>135</td>\n",
       "    </tr>\n",
       "    <tr>\n",
       "      <th>3</th>\n",
       "      <td>4</td>\n",
       "      <td>82</td>\n",
       "      <td>1491: New Revelations of the Americas Before C...</td>\n",
       "      <td>541</td>\n",
       "      <td>2006-10-10</td>\n",
       "      <td>309</td>\n",
       "    </tr>\n",
       "    <tr>\n",
       "      <th>4</th>\n",
       "      <td>5</td>\n",
       "      <td>125</td>\n",
       "      <td>1776</td>\n",
       "      <td>386</td>\n",
       "      <td>2006-07-04</td>\n",
       "      <td>268</td>\n",
       "    </tr>\n",
       "  </tbody>\n",
       "</table>\n",
       "</div>"
      ],
      "text/plain": [
       "   book_id  author_id                                              title  \\\n",
       "0        1        546                                       'Salem's Lot   \n",
       "1        2        465                 1 000 Places to See Before You Die   \n",
       "2        3        407  13 Little Blue Envelopes (Little Blue Envelope...   \n",
       "3        4         82  1491: New Revelations of the Americas Before C...   \n",
       "4        5        125                                               1776   \n",
       "\n",
       "   num_pages publication_date  publisher_id  \n",
       "0        594       2005-11-01            93  \n",
       "1        992       2003-05-22           336  \n",
       "2        322       2010-12-21           135  \n",
       "3        541       2006-10-10           309  \n",
       "4        386       2006-07-04           268  "
      ]
     },
     "execution_count": 2,
     "metadata": {},
     "output_type": "execute_result"
    }
   ],
   "source": [
    "# Первые 5 строк таблицы books\n",
    "print()\n",
    "print('Первые 5 строк таблицы books')\n",
    "books_limit_5 = ''' SELECT *\n",
    "                    FROM books\n",
    "                    LIMIT 5\n",
    "                '''\n",
    "\n",
    "con=engine.connect()\n",
    "\n",
    "pd.io.sql.read_sql(sql=text(books_limit_5), con = con)"
   ]
  },
  {
   "cell_type": "code",
   "execution_count": 3,
   "metadata": {},
   "outputs": [
    {
     "name": "stdout",
     "output_type": "stream",
     "text": [
      "\n",
      "Первые 5 строк таблицы authors\n"
     ]
    },
    {
     "data": {
      "text/html": [
       "<div>\n",
       "<style scoped>\n",
       "    .dataframe tbody tr th:only-of-type {\n",
       "        vertical-align: middle;\n",
       "    }\n",
       "\n",
       "    .dataframe tbody tr th {\n",
       "        vertical-align: top;\n",
       "    }\n",
       "\n",
       "    .dataframe thead th {\n",
       "        text-align: right;\n",
       "    }\n",
       "</style>\n",
       "<table border=\"1\" class=\"dataframe\">\n",
       "  <thead>\n",
       "    <tr style=\"text-align: right;\">\n",
       "      <th></th>\n",
       "      <th>author_id</th>\n",
       "      <th>author</th>\n",
       "    </tr>\n",
       "  </thead>\n",
       "  <tbody>\n",
       "    <tr>\n",
       "      <th>0</th>\n",
       "      <td>1</td>\n",
       "      <td>A.S. Byatt</td>\n",
       "    </tr>\n",
       "    <tr>\n",
       "      <th>1</th>\n",
       "      <td>2</td>\n",
       "      <td>Aesop/Laura Harris/Laura Gibbs</td>\n",
       "    </tr>\n",
       "    <tr>\n",
       "      <th>2</th>\n",
       "      <td>3</td>\n",
       "      <td>Agatha Christie</td>\n",
       "    </tr>\n",
       "    <tr>\n",
       "      <th>3</th>\n",
       "      <td>4</td>\n",
       "      <td>Alan Brennert</td>\n",
       "    </tr>\n",
       "    <tr>\n",
       "      <th>4</th>\n",
       "      <td>5</td>\n",
       "      <td>Alan Moore/David   Lloyd</td>\n",
       "    </tr>\n",
       "  </tbody>\n",
       "</table>\n",
       "</div>"
      ],
      "text/plain": [
       "   author_id                          author\n",
       "0          1                      A.S. Byatt\n",
       "1          2  Aesop/Laura Harris/Laura Gibbs\n",
       "2          3                 Agatha Christie\n",
       "3          4                   Alan Brennert\n",
       "4          5        Alan Moore/David   Lloyd"
      ]
     },
     "execution_count": 3,
     "metadata": {},
     "output_type": "execute_result"
    }
   ],
   "source": [
    "# Первые 5 строк таблицы authors\n",
    "print()\n",
    "print('Первые 5 строк таблицы authors')\n",
    "authors_limit_5 = '''SELECT *\n",
    "                     FROM authors\n",
    "                     LIMIT 5\n",
    "                  '''\n",
    "con=engine.connect()\n",
    "pd.io.sql.read_sql(sql=text(authors_limit_5), con = con)"
   ]
  },
  {
   "cell_type": "code",
   "execution_count": 4,
   "metadata": {},
   "outputs": [
    {
     "name": "stdout",
     "output_type": "stream",
     "text": [
      "\n",
      "Первые 5 строк таблицы ratings\n"
     ]
    },
    {
     "data": {
      "text/html": [
       "<div>\n",
       "<style scoped>\n",
       "    .dataframe tbody tr th:only-of-type {\n",
       "        vertical-align: middle;\n",
       "    }\n",
       "\n",
       "    .dataframe tbody tr th {\n",
       "        vertical-align: top;\n",
       "    }\n",
       "\n",
       "    .dataframe thead th {\n",
       "        text-align: right;\n",
       "    }\n",
       "</style>\n",
       "<table border=\"1\" class=\"dataframe\">\n",
       "  <thead>\n",
       "    <tr style=\"text-align: right;\">\n",
       "      <th></th>\n",
       "      <th>rating_id</th>\n",
       "      <th>book_id</th>\n",
       "      <th>username</th>\n",
       "      <th>rating</th>\n",
       "    </tr>\n",
       "  </thead>\n",
       "  <tbody>\n",
       "    <tr>\n",
       "      <th>0</th>\n",
       "      <td>1</td>\n",
       "      <td>1</td>\n",
       "      <td>ryanfranco</td>\n",
       "      <td>4</td>\n",
       "    </tr>\n",
       "    <tr>\n",
       "      <th>1</th>\n",
       "      <td>2</td>\n",
       "      <td>1</td>\n",
       "      <td>grantpatricia</td>\n",
       "      <td>2</td>\n",
       "    </tr>\n",
       "    <tr>\n",
       "      <th>2</th>\n",
       "      <td>3</td>\n",
       "      <td>1</td>\n",
       "      <td>brandtandrea</td>\n",
       "      <td>5</td>\n",
       "    </tr>\n",
       "    <tr>\n",
       "      <th>3</th>\n",
       "      <td>4</td>\n",
       "      <td>2</td>\n",
       "      <td>lorichen</td>\n",
       "      <td>3</td>\n",
       "    </tr>\n",
       "    <tr>\n",
       "      <th>4</th>\n",
       "      <td>5</td>\n",
       "      <td>2</td>\n",
       "      <td>mariokeller</td>\n",
       "      <td>2</td>\n",
       "    </tr>\n",
       "  </tbody>\n",
       "</table>\n",
       "</div>"
      ],
      "text/plain": [
       "   rating_id  book_id       username  rating\n",
       "0          1        1     ryanfranco       4\n",
       "1          2        1  grantpatricia       2\n",
       "2          3        1   brandtandrea       5\n",
       "3          4        2       lorichen       3\n",
       "4          5        2    mariokeller       2"
      ]
     },
     "execution_count": 4,
     "metadata": {},
     "output_type": "execute_result"
    }
   ],
   "source": [
    "# Первые 5 строк таблицы ratings\n",
    "print()\n",
    "print('Первые 5 строк таблицы ratings')\n",
    "ratings_limit_5 = '''SELECT *\n",
    "                     FROM ratings\n",
    "                     LIMIT 5\n",
    "                  '''\n",
    "con=engine.connect()\n",
    "pd.io.sql.read_sql(sql=text(ratings_limit_5), con = con)"
   ]
  },
  {
   "cell_type": "code",
   "execution_count": 5,
   "metadata": {},
   "outputs": [
    {
     "name": "stdout",
     "output_type": "stream",
     "text": [
      "\n",
      "Первые 5 строк таблицы reviews\n"
     ]
    },
    {
     "data": {
      "text/html": [
       "<div>\n",
       "<style scoped>\n",
       "    .dataframe tbody tr th:only-of-type {\n",
       "        vertical-align: middle;\n",
       "    }\n",
       "\n",
       "    .dataframe tbody tr th {\n",
       "        vertical-align: top;\n",
       "    }\n",
       "\n",
       "    .dataframe thead th {\n",
       "        text-align: right;\n",
       "    }\n",
       "</style>\n",
       "<table border=\"1\" class=\"dataframe\">\n",
       "  <thead>\n",
       "    <tr style=\"text-align: right;\">\n",
       "      <th></th>\n",
       "      <th>review_id</th>\n",
       "      <th>book_id</th>\n",
       "      <th>username</th>\n",
       "      <th>text</th>\n",
       "    </tr>\n",
       "  </thead>\n",
       "  <tbody>\n",
       "    <tr>\n",
       "      <th>0</th>\n",
       "      <td>1</td>\n",
       "      <td>1</td>\n",
       "      <td>brandtandrea</td>\n",
       "      <td>Mention society tell send professor analysis. ...</td>\n",
       "    </tr>\n",
       "    <tr>\n",
       "      <th>1</th>\n",
       "      <td>2</td>\n",
       "      <td>1</td>\n",
       "      <td>ryanfranco</td>\n",
       "      <td>Foot glass pretty audience hit themselves. Amo...</td>\n",
       "    </tr>\n",
       "    <tr>\n",
       "      <th>2</th>\n",
       "      <td>3</td>\n",
       "      <td>2</td>\n",
       "      <td>lorichen</td>\n",
       "      <td>Listen treat keep worry. Miss husband tax but ...</td>\n",
       "    </tr>\n",
       "    <tr>\n",
       "      <th>3</th>\n",
       "      <td>4</td>\n",
       "      <td>3</td>\n",
       "      <td>johnsonamanda</td>\n",
       "      <td>Finally month interesting blue could nature cu...</td>\n",
       "    </tr>\n",
       "    <tr>\n",
       "      <th>4</th>\n",
       "      <td>5</td>\n",
       "      <td>3</td>\n",
       "      <td>scotttamara</td>\n",
       "      <td>Nation purpose heavy give wait song will. List...</td>\n",
       "    </tr>\n",
       "  </tbody>\n",
       "</table>\n",
       "</div>"
      ],
      "text/plain": [
       "   review_id  book_id       username  \\\n",
       "0          1        1   brandtandrea   \n",
       "1          2        1     ryanfranco   \n",
       "2          3        2       lorichen   \n",
       "3          4        3  johnsonamanda   \n",
       "4          5        3    scotttamara   \n",
       "\n",
       "                                                text  \n",
       "0  Mention society tell send professor analysis. ...  \n",
       "1  Foot glass pretty audience hit themselves. Amo...  \n",
       "2  Listen treat keep worry. Miss husband tax but ...  \n",
       "3  Finally month interesting blue could nature cu...  \n",
       "4  Nation purpose heavy give wait song will. List...  "
      ]
     },
     "execution_count": 5,
     "metadata": {},
     "output_type": "execute_result"
    }
   ],
   "source": [
    "# Первые 5 строк таблицы reviews\n",
    "print()\n",
    "print('Первые 5 строк таблицы reviews')\n",
    "reviews_limit_5 = '''SELECT *\n",
    "                     FROM reviews\n",
    "                     LIMIT 5\n",
    "                  '''\n",
    "con=engine.connect()\n",
    "pd.io.sql.read_sql(sql=text(reviews_limit_5), con = con)"
   ]
  },
  {
   "cell_type": "code",
   "execution_count": 6,
   "metadata": {
    "scrolled": true
   },
   "outputs": [
    {
     "name": "stdout",
     "output_type": "stream",
     "text": [
      "\n",
      "Первые 5 строк таблицы publishers\n"
     ]
    },
    {
     "data": {
      "text/html": [
       "<div>\n",
       "<style scoped>\n",
       "    .dataframe tbody tr th:only-of-type {\n",
       "        vertical-align: middle;\n",
       "    }\n",
       "\n",
       "    .dataframe tbody tr th {\n",
       "        vertical-align: top;\n",
       "    }\n",
       "\n",
       "    .dataframe thead th {\n",
       "        text-align: right;\n",
       "    }\n",
       "</style>\n",
       "<table border=\"1\" class=\"dataframe\">\n",
       "  <thead>\n",
       "    <tr style=\"text-align: right;\">\n",
       "      <th></th>\n",
       "      <th>publisher_id</th>\n",
       "      <th>publisher</th>\n",
       "    </tr>\n",
       "  </thead>\n",
       "  <tbody>\n",
       "    <tr>\n",
       "      <th>0</th>\n",
       "      <td>1</td>\n",
       "      <td>Ace</td>\n",
       "    </tr>\n",
       "    <tr>\n",
       "      <th>1</th>\n",
       "      <td>2</td>\n",
       "      <td>Ace Book</td>\n",
       "    </tr>\n",
       "    <tr>\n",
       "      <th>2</th>\n",
       "      <td>3</td>\n",
       "      <td>Ace Books</td>\n",
       "    </tr>\n",
       "    <tr>\n",
       "      <th>3</th>\n",
       "      <td>4</td>\n",
       "      <td>Ace Hardcover</td>\n",
       "    </tr>\n",
       "    <tr>\n",
       "      <th>4</th>\n",
       "      <td>5</td>\n",
       "      <td>Addison Wesley Publishing Company</td>\n",
       "    </tr>\n",
       "  </tbody>\n",
       "</table>\n",
       "</div>"
      ],
      "text/plain": [
       "   publisher_id                          publisher\n",
       "0             1                                Ace\n",
       "1             2                           Ace Book\n",
       "2             3                          Ace Books\n",
       "3             4                      Ace Hardcover\n",
       "4             5  Addison Wesley Publishing Company"
      ]
     },
     "execution_count": 6,
     "metadata": {},
     "output_type": "execute_result"
    }
   ],
   "source": [
    "# Первые 5 строк таблицы publishers\n",
    "print()\n",
    "print('Первые 5 строк таблицы publishers')\n",
    "publishers_limit_5 = '''SELECT *\n",
    "                        FROM publishers\n",
    "                        LIMIT 5\n",
    "                     '''\n",
    "con=engine.connect()\n",
    "pd.io.sql.read_sql(sql=text(publishers_limit_5), con = con)"
   ]
  },
  {
   "cell_type": "markdown",
   "metadata": {},
   "source": [
    "## Задание 1 - Посчитайте, сколько книг вышло после 1 января 2000 года"
   ]
  },
  {
   "cell_type": "code",
   "execution_count": 7,
   "metadata": {
    "scrolled": true
   },
   "outputs": [
    {
     "data": {
      "text/html": [
       "<div>\n",
       "<style scoped>\n",
       "    .dataframe tbody tr th:only-of-type {\n",
       "        vertical-align: middle;\n",
       "    }\n",
       "\n",
       "    .dataframe tbody tr th {\n",
       "        vertical-align: top;\n",
       "    }\n",
       "\n",
       "    .dataframe thead th {\n",
       "        text-align: right;\n",
       "    }\n",
       "</style>\n",
       "<table border=\"1\" class=\"dataframe\">\n",
       "  <thead>\n",
       "    <tr style=\"text-align: right;\">\n",
       "      <th></th>\n",
       "      <th>count</th>\n",
       "    </tr>\n",
       "  </thead>\n",
       "  <tbody>\n",
       "    <tr>\n",
       "      <th>0</th>\n",
       "      <td>819</td>\n",
       "    </tr>\n",
       "  </tbody>\n",
       "</table>\n",
       "</div>"
      ],
      "text/plain": [
       "   count\n",
       "0    819"
      ]
     },
     "execution_count": 7,
     "metadata": {},
     "output_type": "execute_result"
    }
   ],
   "source": [
    "books_cnt = '''SELECT COUNT(book_id)\n",
    "               FROM books\n",
    "               WHERE publication_date > '2000-01-01'\n",
    "            '''\n",
    "con=engine.connect()\n",
    "pd.io.sql.read_sql(sql=text(books_cnt), con = con)"
   ]
  },
  {
   "cell_type": "markdown",
   "metadata": {},
   "source": [
    "После 1 января 2000 года вышло 819 книг"
   ]
  },
  {
   "cell_type": "markdown",
   "metadata": {},
   "source": [
    "## Задание 2 - Для каждой книги посчитайте количество обзоров и среднюю оценку"
   ]
  },
  {
   "cell_type": "code",
   "execution_count": 8,
   "metadata": {},
   "outputs": [
    {
     "data": {
      "text/html": [
       "<div>\n",
       "<style scoped>\n",
       "    .dataframe tbody tr th:only-of-type {\n",
       "        vertical-align: middle;\n",
       "    }\n",
       "\n",
       "    .dataframe tbody tr th {\n",
       "        vertical-align: top;\n",
       "    }\n",
       "\n",
       "    .dataframe thead th {\n",
       "        text-align: right;\n",
       "    }\n",
       "</style>\n",
       "<table border=\"1\" class=\"dataframe\">\n",
       "  <thead>\n",
       "    <tr style=\"text-align: right;\">\n",
       "      <th></th>\n",
       "      <th>book_id</th>\n",
       "      <th>title</th>\n",
       "      <th>reviews_cnt</th>\n",
       "      <th>rating_avg</th>\n",
       "    </tr>\n",
       "  </thead>\n",
       "  <tbody>\n",
       "    <tr>\n",
       "      <th>0</th>\n",
       "      <td>1</td>\n",
       "      <td>'Salem's Lot</td>\n",
       "      <td>2</td>\n",
       "      <td>3.67</td>\n",
       "    </tr>\n",
       "    <tr>\n",
       "      <th>1</th>\n",
       "      <td>2</td>\n",
       "      <td>1 000 Places to See Before You Die</td>\n",
       "      <td>1</td>\n",
       "      <td>2.50</td>\n",
       "    </tr>\n",
       "    <tr>\n",
       "      <th>2</th>\n",
       "      <td>3</td>\n",
       "      <td>13 Little Blue Envelopes (Little Blue Envelope...</td>\n",
       "      <td>3</td>\n",
       "      <td>4.67</td>\n",
       "    </tr>\n",
       "    <tr>\n",
       "      <th>3</th>\n",
       "      <td>4</td>\n",
       "      <td>1491: New Revelations of the Americas Before C...</td>\n",
       "      <td>2</td>\n",
       "      <td>4.50</td>\n",
       "    </tr>\n",
       "    <tr>\n",
       "      <th>4</th>\n",
       "      <td>5</td>\n",
       "      <td>1776</td>\n",
       "      <td>4</td>\n",
       "      <td>4.00</td>\n",
       "    </tr>\n",
       "    <tr>\n",
       "      <th>...</th>\n",
       "      <td>...</td>\n",
       "      <td>...</td>\n",
       "      <td>...</td>\n",
       "      <td>...</td>\n",
       "    </tr>\n",
       "    <tr>\n",
       "      <th>995</th>\n",
       "      <td>996</td>\n",
       "      <td>Wyrd Sisters (Discworld  #6; Witches #2)</td>\n",
       "      <td>3</td>\n",
       "      <td>3.67</td>\n",
       "    </tr>\n",
       "    <tr>\n",
       "      <th>996</th>\n",
       "      <td>997</td>\n",
       "      <td>Xenocide (Ender's Saga  #3)</td>\n",
       "      <td>3</td>\n",
       "      <td>3.40</td>\n",
       "    </tr>\n",
       "    <tr>\n",
       "      <th>997</th>\n",
       "      <td>998</td>\n",
       "      <td>Year of Wonders</td>\n",
       "      <td>4</td>\n",
       "      <td>3.20</td>\n",
       "    </tr>\n",
       "    <tr>\n",
       "      <th>998</th>\n",
       "      <td>999</td>\n",
       "      <td>You Suck (A Love Story  #2)</td>\n",
       "      <td>2</td>\n",
       "      <td>4.50</td>\n",
       "    </tr>\n",
       "    <tr>\n",
       "      <th>999</th>\n",
       "      <td>1000</td>\n",
       "      <td>Zen and the Art of Motorcycle Maintenance: An ...</td>\n",
       "      <td>4</td>\n",
       "      <td>3.83</td>\n",
       "    </tr>\n",
       "  </tbody>\n",
       "</table>\n",
       "<p>1000 rows × 4 columns</p>\n",
       "</div>"
      ],
      "text/plain": [
       "     book_id                                              title  reviews_cnt  \\\n",
       "0          1                                       'Salem's Lot            2   \n",
       "1          2                 1 000 Places to See Before You Die            1   \n",
       "2          3  13 Little Blue Envelopes (Little Blue Envelope...            3   \n",
       "3          4  1491: New Revelations of the Americas Before C...            2   \n",
       "4          5                                               1776            4   \n",
       "..       ...                                                ...          ...   \n",
       "995      996           Wyrd Sisters (Discworld  #6; Witches #2)            3   \n",
       "996      997                        Xenocide (Ender's Saga  #3)            3   \n",
       "997      998                                    Year of Wonders            4   \n",
       "998      999                        You Suck (A Love Story  #2)            2   \n",
       "999     1000  Zen and the Art of Motorcycle Maintenance: An ...            4   \n",
       "\n",
       "     rating_avg  \n",
       "0          3.67  \n",
       "1          2.50  \n",
       "2          4.67  \n",
       "3          4.50  \n",
       "4          4.00  \n",
       "..          ...  \n",
       "995        3.67  \n",
       "996        3.40  \n",
       "997        3.20  \n",
       "998        4.50  \n",
       "999        3.83  \n",
       "\n",
       "[1000 rows x 4 columns]"
      ]
     },
     "execution_count": 8,
     "metadata": {},
     "output_type": "execute_result"
    }
   ],
   "source": [
    "books_rev_cnt_rat_avg = '''SELECT b.book_id,\n",
    "                                 b.title,\n",
    "                                COUNT(DISTINCT rev.review_id) AS reviews_cnt,\n",
    "                                ROUND(AVG(rat.rating),2) AS rating_avg\n",
    "                           FROM books AS b\n",
    "                           LEFT JOIN ratings AS rat ON b.book_id = rat.book_id\n",
    "                           LEFT JOIN reviews AS rev ON b.book_id = rev.book_id\n",
    "                           GROUP BY b.book_id\n",
    "            '''\n",
    "con=engine.connect()\n",
    "pd.io.sql.read_sql(sql=text(books_rev_cnt_rat_avg), con = con)"
   ]
  },
  {
   "cell_type": "markdown",
   "metadata": {},
   "source": [
    "Количество обзоров и средний рейтинг для каждой книги посчитан"
   ]
  },
  {
   "cell_type": "markdown",
   "metadata": {},
   "source": [
    "## Задание 3 - Определите издательство, которое выпустило наибольшее число книг толще 50 страниц - так вы исключите из анализа брошюры"
   ]
  },
  {
   "cell_type": "code",
   "execution_count": 9,
   "metadata": {},
   "outputs": [
    {
     "data": {
      "text/html": [
       "<div>\n",
       "<style scoped>\n",
       "    .dataframe tbody tr th:only-of-type {\n",
       "        vertical-align: middle;\n",
       "    }\n",
       "\n",
       "    .dataframe tbody tr th {\n",
       "        vertical-align: top;\n",
       "    }\n",
       "\n",
       "    .dataframe thead th {\n",
       "        text-align: right;\n",
       "    }\n",
       "</style>\n",
       "<table border=\"1\" class=\"dataframe\">\n",
       "  <thead>\n",
       "    <tr style=\"text-align: right;\">\n",
       "      <th></th>\n",
       "      <th>publisher</th>\n",
       "    </tr>\n",
       "  </thead>\n",
       "  <tbody>\n",
       "    <tr>\n",
       "      <th>0</th>\n",
       "      <td>Penguin Books</td>\n",
       "    </tr>\n",
       "  </tbody>\n",
       "</table>\n",
       "</div>"
      ],
      "text/plain": [
       "       publisher\n",
       "0  Penguin Books"
      ]
     },
     "execution_count": 9,
     "metadata": {},
     "output_type": "execute_result"
    }
   ],
   "source": [
    "publisher_top_1 = '''WITH\n",
    "                     publishers_top_1 AS (SELECT p.publisher,\n",
    "                                          COUNT(b.book_id) as books_cnt\n",
    "                                          FROM publishers AS p\n",
    "                                          LEFT JOIN books AS b ON p.publisher_id=b.publisher_id\n",
    "                                          WHERE b.num_pages > 50\n",
    "                                          GROUP BY p.publisher\n",
    "                                          ORDER BY books_cnt DESC\n",
    "                                          LIMIT 1\n",
    "                                          )\n",
    "                    SELECT publisher\n",
    "                    FROM publishers_top_1\n",
    "                        '''\n",
    "con=engine.connect()\n",
    "pd.io.sql.read_sql(sql=text(publisher_top_1), con = con)"
   ]
  },
  {
   "cell_type": "markdown",
   "metadata": {},
   "source": [
    "Издательство Penguin Books выпустило больше всех книг толще 50 страниц"
   ]
  },
  {
   "cell_type": "markdown",
   "metadata": {},
   "source": []
  },
  {
   "cell_type": "markdown",
   "metadata": {},
   "source": [
    "## Задание 4 - Определите автора с самой высокой средней оценкой книг - учитывайте только книги с 50 и более оценками"
   ]
  },
  {
   "cell_type": "code",
   "execution_count": 10,
   "metadata": {},
   "outputs": [
    {
     "data": {
      "text/html": [
       "<div>\n",
       "<style scoped>\n",
       "    .dataframe tbody tr th:only-of-type {\n",
       "        vertical-align: middle;\n",
       "    }\n",
       "\n",
       "    .dataframe tbody tr th {\n",
       "        vertical-align: top;\n",
       "    }\n",
       "\n",
       "    .dataframe thead th {\n",
       "        text-align: right;\n",
       "    }\n",
       "</style>\n",
       "<table border=\"1\" class=\"dataframe\">\n",
       "  <thead>\n",
       "    <tr style=\"text-align: right;\">\n",
       "      <th></th>\n",
       "      <th>author</th>\n",
       "    </tr>\n",
       "  </thead>\n",
       "  <tbody>\n",
       "    <tr>\n",
       "      <th>0</th>\n",
       "      <td>J.K. Rowling/Mary GrandPré</td>\n",
       "    </tr>\n",
       "  </tbody>\n",
       "</table>\n",
       "</div>"
      ],
      "text/plain": [
       "                       author\n",
       "0  J.K. Rowling/Mary GrandPré"
      ]
     },
     "execution_count": 10,
     "metadata": {},
     "output_type": "execute_result"
    }
   ],
   "source": [
    "author_top_1 = '''WITH\n",
    "                  book_rating AS (SELECT b.book_id,\n",
    "                                             b.author_id,\n",
    "                                             AVG(r.rating) AS rating_avg,\n",
    "                                             COUNT(r.rating_id) AS rating_cnt\n",
    "                                      FROM books AS b\n",
    "                                      LEFT JOIN ratings AS r ON b.book_id = r.book_id\n",
    "                                      GROUP BY b.book_id\n",
    "                                      HAVING COUNT(r.rating_id) >=50\n",
    "                                      ORDER BY rating_avg DESC\n",
    "                                      ),\n",
    "                                      \n",
    "                   author_rating_avg AS (SELECT author_id,\n",
    "                                               AVG(rating_avg) AS author_rating_avg\n",
    "                                        FROM book_rating\n",
    "                                        GROUP BY author_id\n",
    "                                        ORDER BY author_rating_avg DESC\n",
    "                                        LIMIT 1)\n",
    "                  SELECT a.author\n",
    "                  FROM authors AS a\n",
    "                  JOIN author_rating_avg AS ar ON a.author_id = ar.author_id\n",
    "\n",
    "                '''\n",
    "con=engine.connect()\n",
    "pd.io.sql.read_sql(sql=text(author_top_1), con = con)"
   ]
  },
  {
   "cell_type": "markdown",
   "metadata": {},
   "source": [
    "Авторами с самой высокой средней оценкой книг являются J.K. Rowling/Mary GrandPré"
   ]
  },
  {
   "cell_type": "markdown",
   "metadata": {},
   "source": []
  },
  {
   "cell_type": "markdown",
   "metadata": {},
   "source": [
    "## Задание 5 - Посчитайте среднее количество обзоров от пользователей, которые поставили больше 48 оценок."
   ]
  },
  {
   "cell_type": "code",
   "execution_count": 11,
   "metadata": {},
   "outputs": [
    {
     "data": {
      "text/html": [
       "<div>\n",
       "<style scoped>\n",
       "    .dataframe tbody tr th:only-of-type {\n",
       "        vertical-align: middle;\n",
       "    }\n",
       "\n",
       "    .dataframe tbody tr th {\n",
       "        vertical-align: top;\n",
       "    }\n",
       "\n",
       "    .dataframe thead th {\n",
       "        text-align: right;\n",
       "    }\n",
       "</style>\n",
       "<table border=\"1\" class=\"dataframe\">\n",
       "  <thead>\n",
       "    <tr style=\"text-align: right;\">\n",
       "      <th></th>\n",
       "      <th>reviews_avg</th>\n",
       "    </tr>\n",
       "  </thead>\n",
       "  <tbody>\n",
       "    <tr>\n",
       "      <th>0</th>\n",
       "      <td>24.0</td>\n",
       "    </tr>\n",
       "  </tbody>\n",
       "</table>\n",
       "</div>"
      ],
      "text/plain": [
       "   reviews_avg\n",
       "0         24.0"
      ]
     },
     "execution_count": 11,
     "metadata": {},
     "output_type": "execute_result"
    }
   ],
   "source": [
    "user_review_avg = '''WITH\n",
    "                     cnt_rev_by_user AS (SELECT COUNT(reviews.review_id) AS reviews_cnt\n",
    "                                         FROM reviews\n",
    "                                         WHERE username IN (SELECT username\n",
    "                                                            FROM ratings\n",
    "                                                            GROUP BY username\n",
    "                                                            HAVING COUNT(rating_id) > 48)\n",
    "                                         GROUP BY username)\n",
    "             \n",
    "                     SELECT AVG(reviews_cnt) AS reviews_avg\n",
    "                     FROM cnt_rev_by_user\n",
    "                     \n",
    "                 '''\n",
    "                      \n",
    "                      \n",
    "                    \n",
    "con=engine.connect()\n",
    "pd.io.sql.read_sql(sql=text(user_review_avg), con = con)"
   ]
  },
  {
   "cell_type": "markdown",
   "metadata": {},
   "source": [
    "Среднее количество обзоров от пользователей, которые поставили больше 48 оценок - 24"
   ]
  },
  {
   "cell_type": "markdown",
   "metadata": {},
   "source": [
    "## Вывод"
   ]
  },
  {
   "cell_type": "markdown",
   "metadata": {},
   "source": [
    "После решения поставленных садач можно сделать вывод:\n",
    "\n",
    "- После 1 января 2000 года вышло 819 книг\n",
    "- Посчитали количество обзоров и средний рейтинг для каждой книги\n",
    "- Издательство Penguin Books выпустило больше всех книг толще 50 страниц\n",
    "- Авторами с самой высокой средней оценкой книг являются J.K. Rowling/Mary GrandPré\n",
    "- Среднее количество обзоров от пользователей, которые поставили больше 48 оценок - 24"
   ]
  },
  {
   "cell_type": "code",
   "execution_count": null,
   "metadata": {},
   "outputs": [],
   "source": []
  }
 ],
 "metadata": {
  "ExecuteTimeLog": [
   {
    "duration": 13133,
    "start_time": "2023-06-09T16:22:03.476Z"
   },
   {
    "duration": 2,
    "start_time": "2023-06-09T16:23:35.165Z"
   },
   {
    "duration": 24,
    "start_time": "2023-06-09T16:23:44.366Z"
   },
   {
    "duration": 10,
    "start_time": "2023-06-09T16:23:53.085Z"
   },
   {
    "duration": 3,
    "start_time": "2023-06-09T16:25:08.256Z"
   },
   {
    "duration": 48,
    "start_time": "2023-06-09T16:26:48.605Z"
   },
   {
    "duration": 37,
    "start_time": "2023-06-09T16:28:19.205Z"
   },
   {
    "duration": 11,
    "start_time": "2023-06-09T16:29:58.564Z"
   },
   {
    "duration": 13,
    "start_time": "2023-06-09T16:31:35.934Z"
   },
   {
    "duration": 11,
    "start_time": "2023-06-09T16:32:04.224Z"
   },
   {
    "duration": 11,
    "start_time": "2023-06-09T16:34:50.354Z"
   },
   {
    "duration": 13,
    "start_time": "2023-06-09T16:39:14.733Z"
   },
   {
    "duration": 12632,
    "start_time": "2023-06-09T16:40:31.172Z"
   },
   {
    "duration": 47,
    "start_time": "2023-06-09T16:40:43.806Z"
   },
   {
    "duration": 27,
    "start_time": "2023-06-09T16:40:43.855Z"
   },
   {
    "duration": 11,
    "start_time": "2023-06-09T16:40:43.884Z"
   },
   {
    "duration": 11,
    "start_time": "2023-06-09T16:40:43.897Z"
   },
   {
    "duration": 10,
    "start_time": "2023-06-09T16:40:43.909Z"
   },
   {
    "duration": 12,
    "start_time": "2023-06-09T16:45:30.982Z"
   },
   {
    "duration": 10,
    "start_time": "2023-06-09T16:46:49.391Z"
   },
   {
    "duration": 9,
    "start_time": "2023-06-09T16:47:03.451Z"
   },
   {
    "duration": 3,
    "start_time": "2023-06-09T16:47:57.141Z"
   },
   {
    "duration": 10,
    "start_time": "2023-06-09T16:48:16.181Z"
   },
   {
    "duration": 59,
    "start_time": "2023-06-09T16:49:32.380Z"
   },
   {
    "duration": 10,
    "start_time": "2023-06-09T16:50:09.380Z"
   },
   {
    "duration": 19,
    "start_time": "2023-06-09T16:50:22.670Z"
   },
   {
    "duration": 4,
    "start_time": "2023-06-09T16:50:28.730Z"
   },
   {
    "duration": 10,
    "start_time": "2023-06-09T17:51:57.258Z"
   },
   {
    "duration": 17,
    "start_time": "2023-06-09T17:52:13.138Z"
   },
   {
    "duration": 16,
    "start_time": "2023-06-09T17:52:57.648Z"
   },
   {
    "duration": 21,
    "start_time": "2023-06-09T17:57:06.322Z"
   },
   {
    "duration": 21,
    "start_time": "2023-06-09T17:57:13.883Z"
   },
   {
    "duration": 52,
    "start_time": "2023-06-09T18:02:38.648Z"
   },
   {
    "duration": 19,
    "start_time": "2023-06-09T18:43:20.236Z"
   },
   {
    "duration": 20,
    "start_time": "2023-06-09T18:44:35.176Z"
   },
   {
    "duration": 87,
    "start_time": "2023-06-09T18:46:30.705Z"
   },
   {
    "duration": 82,
    "start_time": "2023-06-09T18:47:14.626Z"
   },
   {
    "duration": 102,
    "start_time": "2023-06-09T18:47:30.085Z"
   },
   {
    "duration": 45,
    "start_time": "2023-06-09T18:48:12.056Z"
   },
   {
    "duration": 11,
    "start_time": "2023-06-09T18:48:35.695Z"
   },
   {
    "duration": 19,
    "start_time": "2023-06-09T18:49:37.825Z"
   },
   {
    "duration": 24,
    "start_time": "2023-06-09T18:50:05.484Z"
   },
   {
    "duration": 14,
    "start_time": "2023-06-09T18:50:15.684Z"
   },
   {
    "duration": 19,
    "start_time": "2023-06-09T19:06:40.640Z"
   },
   {
    "duration": 21,
    "start_time": "2023-06-09T19:06:50.581Z"
   },
   {
    "duration": 20,
    "start_time": "2023-06-09T19:09:49.123Z"
   },
   {
    "duration": 20,
    "start_time": "2023-06-09T19:10:45.780Z"
   },
   {
    "duration": 33,
    "start_time": "2023-06-09T19:11:06.520Z"
   },
   {
    "duration": 21,
    "start_time": "2023-06-09T19:12:18.369Z"
   },
   {
    "duration": 65,
    "start_time": "2023-06-09T19:12:45.318Z"
   },
   {
    "duration": 59,
    "start_time": "2023-06-09T19:13:18.010Z"
   },
   {
    "duration": 20,
    "start_time": "2023-06-09T19:15:52.259Z"
   },
   {
    "duration": 19,
    "start_time": "2023-06-09T19:16:30.849Z"
   },
   {
    "duration": 15,
    "start_time": "2023-06-09T19:16:50.438Z"
   },
   {
    "duration": 15,
    "start_time": "2023-06-09T19:19:08.647Z"
   },
   {
    "duration": 19,
    "start_time": "2023-06-09T19:19:23.168Z"
   },
   {
    "duration": 15,
    "start_time": "2023-06-09T19:22:17.628Z"
   },
   {
    "duration": 19,
    "start_time": "2023-06-09T19:24:22.577Z"
   },
   {
    "duration": 15,
    "start_time": "2023-06-09T19:26:34.566Z"
   },
   {
    "duration": 23,
    "start_time": "2023-06-09T19:31:18.095Z"
   },
   {
    "duration": 13,
    "start_time": "2023-06-09T19:31:32.865Z"
   },
   {
    "duration": 12,
    "start_time": "2023-06-09T19:33:29.995Z"
   },
   {
    "duration": 17,
    "start_time": "2023-06-09T19:34:07.935Z"
   },
   {
    "duration": 20,
    "start_time": "2023-06-09T19:35:13.555Z"
   },
   {
    "duration": 36,
    "start_time": "2023-06-09T19:35:39.684Z"
   },
   {
    "duration": 19,
    "start_time": "2023-06-09T19:36:30.954Z"
   },
   {
    "duration": 17,
    "start_time": "2023-06-09T19:37:07.944Z"
   },
   {
    "duration": 26,
    "start_time": "2023-06-09T19:37:39.796Z"
   },
   {
    "duration": 33,
    "start_time": "2023-06-09T19:39:11.754Z"
   },
   {
    "duration": 58,
    "start_time": "2023-06-09T19:39:44.318Z"
   },
   {
    "duration": 21,
    "start_time": "2023-06-09T19:39:53.284Z"
   },
   {
    "duration": 20,
    "start_time": "2023-06-09T19:40:37.883Z"
   },
   {
    "duration": 20,
    "start_time": "2023-06-09T19:40:50.343Z"
   },
   {
    "duration": 25,
    "start_time": "2023-06-09T19:41:20.543Z"
   },
   {
    "duration": 21,
    "start_time": "2023-06-09T19:42:25.742Z"
   },
   {
    "duration": 25,
    "start_time": "2023-06-09T19:44:20.124Z"
   },
   {
    "duration": 18,
    "start_time": "2023-06-09T19:45:00.442Z"
   },
   {
    "duration": 18,
    "start_time": "2023-06-09T19:45:20.833Z"
   },
   {
    "duration": 19,
    "start_time": "2023-06-09T19:46:31.434Z"
   },
   {
    "duration": 18,
    "start_time": "2023-06-09T19:47:12.732Z"
   },
   {
    "duration": 26,
    "start_time": "2023-06-09T19:47:22.672Z"
   },
   {
    "duration": 14,
    "start_time": "2023-06-09T19:48:00.071Z"
   },
   {
    "duration": 17,
    "start_time": "2023-06-09T19:48:26.461Z"
   },
   {
    "duration": 21,
    "start_time": "2023-06-09T19:51:40.724Z"
   },
   {
    "duration": 16,
    "start_time": "2023-06-09T19:51:56.680Z"
   },
   {
    "duration": 15,
    "start_time": "2023-06-09T19:52:13.490Z"
   },
   {
    "duration": 13,
    "start_time": "2023-06-09T19:55:49.360Z"
   },
   {
    "duration": 19,
    "start_time": "2023-06-09T20:20:52.884Z"
   },
   {
    "duration": 12,
    "start_time": "2023-06-09T20:21:26.084Z"
   },
   {
    "duration": 14,
    "start_time": "2023-06-09T20:21:43.433Z"
   },
   {
    "duration": 14,
    "start_time": "2023-06-09T20:24:28.813Z"
   },
   {
    "duration": 19,
    "start_time": "2023-06-09T20:26:49.853Z"
   },
   {
    "duration": 11,
    "start_time": "2023-06-09T20:27:06.173Z"
   },
   {
    "duration": 18,
    "start_time": "2023-06-09T20:31:10.432Z"
   },
   {
    "duration": 18,
    "start_time": "2023-06-09T20:31:49.752Z"
   },
   {
    "duration": 17,
    "start_time": "2023-06-09T20:32:15.791Z"
   },
   {
    "duration": 19,
    "start_time": "2023-06-09T20:33:32.611Z"
   },
   {
    "duration": 18,
    "start_time": "2023-06-09T20:34:05.842Z"
   },
   {
    "duration": 45,
    "start_time": "2023-06-09T20:34:24.241Z"
   },
   {
    "duration": 17,
    "start_time": "2023-06-09T20:35:40.660Z"
   },
   {
    "duration": 109,
    "start_time": "2023-06-09T20:44:38.259Z"
   },
   {
    "duration": 20,
    "start_time": "2023-06-09T20:45:14.936Z"
   },
   {
    "duration": 21,
    "start_time": "2023-06-09T20:45:59.909Z"
   },
   {
    "duration": 18,
    "start_time": "2023-06-09T20:47:57.758Z"
   },
   {
    "duration": 19,
    "start_time": "2023-06-09T20:48:29.228Z"
   },
   {
    "duration": 19,
    "start_time": "2023-06-09T20:48:46.298Z"
   },
   {
    "duration": 10,
    "start_time": "2023-06-09T20:52:13.127Z"
   },
   {
    "duration": 13,
    "start_time": "2023-06-09T20:52:28.027Z"
   },
   {
    "duration": 19,
    "start_time": "2023-06-09T20:54:30.556Z"
   },
   {
    "duration": 9,
    "start_time": "2023-06-09T20:55:36.146Z"
   },
   {
    "duration": 35,
    "start_time": "2023-06-09T20:56:29.286Z"
   },
   {
    "duration": 14,
    "start_time": "2023-06-09T20:56:49.716Z"
   },
   {
    "duration": 14,
    "start_time": "2023-06-09T20:57:07.785Z"
   },
   {
    "duration": 18,
    "start_time": "2023-06-09T20:57:48.776Z"
   },
   {
    "duration": 18,
    "start_time": "2023-06-09T20:58:10.525Z"
   },
   {
    "duration": 12,
    "start_time": "2023-06-09T20:59:07.336Z"
   },
   {
    "duration": 10,
    "start_time": "2023-06-09T20:59:30.095Z"
   },
   {
    "duration": 25,
    "start_time": "2023-06-09T21:02:27.265Z"
   },
   {
    "duration": 27,
    "start_time": "2023-06-09T21:02:49.175Z"
   },
   {
    "duration": 20,
    "start_time": "2023-06-09T21:03:05.714Z"
   },
   {
    "duration": 10676,
    "start_time": "2023-06-09T21:33:49.206Z"
   },
   {
    "duration": 234,
    "start_time": "2023-06-09T21:33:59.883Z"
   },
   {
    "duration": 124,
    "start_time": "2023-06-09T21:34:00.119Z"
   },
   {
    "duration": 53,
    "start_time": "2023-06-09T21:34:00.244Z"
   },
   {
    "duration": 53,
    "start_time": "2023-06-09T21:34:00.299Z"
   },
   {
    "duration": 53,
    "start_time": "2023-06-09T21:34:00.353Z"
   },
   {
    "duration": 52,
    "start_time": "2023-06-09T21:34:00.407Z"
   },
   {
    "duration": 88,
    "start_time": "2023-06-09T21:34:00.460Z"
   },
   {
    "duration": 54,
    "start_time": "2023-06-09T21:34:00.549Z"
   },
   {
    "duration": 55,
    "start_time": "2023-06-09T21:34:00.604Z"
   },
   {
    "duration": 64,
    "start_time": "2023-06-09T21:34:00.660Z"
   },
   {
    "duration": 55,
    "start_time": "2023-06-09T21:34:29.722Z"
   },
   {
    "duration": 157,
    "start_time": "2023-06-09T21:34:31.383Z"
   },
   {
    "duration": 61,
    "start_time": "2023-06-09T21:34:36.582Z"
   },
   {
    "duration": 128,
    "start_time": "2023-06-09T21:34:38.551Z"
   },
   {
    "duration": 11427,
    "start_time": "2023-06-10T08:00:33.569Z"
   },
   {
    "duration": 254,
    "start_time": "2023-06-10T08:00:44.998Z"
   },
   {
    "duration": 121,
    "start_time": "2023-06-10T08:00:45.254Z"
   },
   {
    "duration": 53,
    "start_time": "2023-06-10T08:00:45.377Z"
   },
   {
    "duration": 53,
    "start_time": "2023-06-10T08:00:45.432Z"
   },
   {
    "duration": 53,
    "start_time": "2023-06-10T08:00:45.487Z"
   },
   {
    "duration": 52,
    "start_time": "2023-06-10T08:00:45.541Z"
   },
   {
    "duration": 88,
    "start_time": "2023-06-10T08:00:45.595Z"
   },
   {
    "duration": 52,
    "start_time": "2023-06-10T08:00:45.684Z"
   },
   {
    "duration": 54,
    "start_time": "2023-06-10T08:00:45.737Z"
   },
   {
    "duration": 59,
    "start_time": "2023-06-10T08:00:45.792Z"
   },
   {
    "duration": 57,
    "start_time": "2023-06-10T08:11:23.218Z"
   },
   {
    "duration": 241,
    "start_time": "2023-06-10T08:11:38.396Z"
   },
   {
    "duration": 75,
    "start_time": "2023-06-10T08:11:55.406Z"
   },
   {
    "duration": 176,
    "start_time": "2023-06-10T08:12:21.287Z"
   },
   {
    "duration": 10161,
    "start_time": "2023-06-10T08:12:54.808Z"
   },
   {
    "duration": 232,
    "start_time": "2023-06-10T08:13:04.972Z"
   },
   {
    "duration": 130,
    "start_time": "2023-06-10T08:13:05.206Z"
   },
   {
    "duration": 59,
    "start_time": "2023-06-10T08:13:05.337Z"
   },
   {
    "duration": 60,
    "start_time": "2023-06-10T08:13:05.398Z"
   },
   {
    "duration": 53,
    "start_time": "2023-06-10T08:13:05.460Z"
   },
   {
    "duration": 56,
    "start_time": "2023-06-10T08:13:05.515Z"
   },
   {
    "duration": 96,
    "start_time": "2023-06-10T08:13:05.573Z"
   },
   {
    "duration": 52,
    "start_time": "2023-06-10T08:13:05.670Z"
   },
   {
    "duration": 62,
    "start_time": "2023-06-10T08:13:05.723Z"
   },
   {
    "duration": 70,
    "start_time": "2023-06-10T08:13:05.787Z"
   },
   {
    "duration": 95,
    "start_time": "2023-06-10T08:14:30.106Z"
   },
   {
    "duration": 148,
    "start_time": "2023-06-10T08:14:45.986Z"
   },
   {
    "duration": 41,
    "start_time": "2023-06-10T08:14:56.856Z"
   },
   {
    "duration": 150,
    "start_time": "2023-06-10T08:16:08.645Z"
   },
   {
    "duration": 52,
    "start_time": "2023-06-10T08:17:48.655Z"
   },
   {
    "duration": 72,
    "start_time": "2023-06-10T08:18:10.695Z"
   },
   {
    "duration": 65,
    "start_time": "2023-06-10T08:23:14.885Z"
   },
   {
    "duration": 60,
    "start_time": "2023-06-10T08:23:39.163Z"
   },
   {
    "duration": 61,
    "start_time": "2023-06-10T08:23:45.774Z"
   },
   {
    "duration": 60,
    "start_time": "2023-06-10T08:23:53.964Z"
   },
   {
    "duration": 83,
    "start_time": "2023-06-10T08:25:08.353Z"
   },
   {
    "duration": 88,
    "start_time": "2023-06-10T08:26:09.714Z"
   },
   {
    "duration": 88,
    "start_time": "2023-06-10T08:26:29.754Z"
   },
   {
    "duration": 77,
    "start_time": "2023-06-10T08:27:21.004Z"
   },
   {
    "duration": 40,
    "start_time": "2023-06-10T08:27:38.874Z"
   },
   {
    "duration": 139,
    "start_time": "2023-06-10T08:27:46.303Z"
   },
   {
    "duration": 88,
    "start_time": "2023-06-10T08:28:29.534Z"
   },
   {
    "duration": 68,
    "start_time": "2023-06-10T08:29:12.485Z"
   },
   {
    "duration": 91,
    "start_time": "2023-06-10T08:29:48.523Z"
   },
   {
    "duration": 68,
    "start_time": "2023-06-10T08:40:16.310Z"
   },
   {
    "duration": 85,
    "start_time": "2023-06-10T08:41:16.481Z"
   },
   {
    "duration": 49,
    "start_time": "2023-06-10T08:41:41.200Z"
   },
   {
    "duration": 157,
    "start_time": "2023-06-10T08:42:51.870Z"
   },
   {
    "duration": 68,
    "start_time": "2023-06-10T09:00:39.306Z"
   },
   {
    "duration": 64,
    "start_time": "2023-06-10T09:01:15.572Z"
   },
   {
    "duration": 61,
    "start_time": "2023-06-10T09:01:40.876Z"
   },
   {
    "duration": 54,
    "start_time": "2023-06-10T09:06:56.784Z"
   },
   {
    "duration": 58,
    "start_time": "2023-06-10T09:07:24.694Z"
   },
   {
    "duration": 12572,
    "start_time": "2023-06-10T09:17:46.564Z"
   },
   {
    "duration": 234,
    "start_time": "2023-06-10T09:17:59.138Z"
   },
   {
    "duration": 164,
    "start_time": "2023-06-10T09:17:59.374Z"
   },
   {
    "duration": 54,
    "start_time": "2023-06-10T09:17:59.539Z"
   },
   {
    "duration": 53,
    "start_time": "2023-06-10T09:17:59.595Z"
   },
   {
    "duration": 53,
    "start_time": "2023-06-10T09:17:59.649Z"
   },
   {
    "duration": 50,
    "start_time": "2023-06-10T09:17:59.704Z"
   },
   {
    "duration": 83,
    "start_time": "2023-06-10T09:17:59.756Z"
   },
   {
    "duration": 52,
    "start_time": "2023-06-10T09:17:59.841Z"
   },
   {
    "duration": 56,
    "start_time": "2023-06-10T09:17:59.895Z"
   },
   {
    "duration": 52,
    "start_time": "2023-06-10T09:17:59.953Z"
   },
   {
    "duration": 11112,
    "start_time": "2023-06-10T09:20:19.161Z"
   },
   {
    "duration": 247,
    "start_time": "2023-06-10T09:20:30.276Z"
   },
   {
    "duration": 163,
    "start_time": "2023-06-10T09:20:30.524Z"
   },
   {
    "duration": 53,
    "start_time": "2023-06-10T09:20:30.689Z"
   },
   {
    "duration": 70,
    "start_time": "2023-06-10T09:20:30.744Z"
   },
   {
    "duration": 62,
    "start_time": "2023-06-10T09:20:30.816Z"
   },
   {
    "duration": 50,
    "start_time": "2023-06-10T09:20:30.880Z"
   },
   {
    "duration": 97,
    "start_time": "2023-06-10T09:20:30.932Z"
   },
   {
    "duration": 56,
    "start_time": "2023-06-10T09:20:31.031Z"
   },
   {
    "duration": 90,
    "start_time": "2023-06-10T09:20:31.088Z"
   },
   {
    "duration": 64,
    "start_time": "2023-06-10T09:20:31.180Z"
   }
  ],
  "kernelspec": {
   "display_name": "Python 3 (ipykernel)",
   "language": "python",
   "name": "python3"
  },
  "language_info": {
   "codemirror_mode": {
    "name": "ipython",
    "version": 3
   },
   "file_extension": ".py",
   "mimetype": "text/x-python",
   "name": "python",
   "nbconvert_exporter": "python",
   "pygments_lexer": "ipython3",
   "version": "3.10.9"
  },
  "toc": {
   "base_numbering": 1,
   "nav_menu": {},
   "number_sections": true,
   "sideBar": true,
   "skip_h1_title": true,
   "title_cell": "Table of Contents",
   "title_sidebar": "Contents",
   "toc_cell": false,
   "toc_position": {},
   "toc_section_display": true,
   "toc_window_display": true
  }
 },
 "nbformat": 4,
 "nbformat_minor": 2
}
