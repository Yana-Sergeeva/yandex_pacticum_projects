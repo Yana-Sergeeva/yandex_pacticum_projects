{
 "cells": [
  {
   "cell_type": "markdown",
   "metadata": {},
   "source": [
    "# Анализ результатов А/В-теста"
   ]
  },
  {
   "cell_type": "markdown",
   "metadata": {},
   "source": [
    "## Цель, техническое задание, описание данных"
   ]
  },
  {
   "cell_type": "markdown",
   "metadata": {},
   "source": [
    "### Цель"
   ]
  },
  {
   "cell_type": "markdown",
   "metadata": {},
   "source": [
    "Главная ззадача — провести оценку результатов A/B-теста:\n",
    "\n",
    "- Оценить корректность проведения теста\n",
    "- Проанализировать его результаты.\n",
    "\n",
    "Чтобы оценить корректность проведения теста, необходимо:\n",
    "- Удостовериться, что нет пересечений с конкурирующим тестом и нет пользователей, участвующих в двух группах теста одновременно;\n",
    "- Проверить равномерность распределения пользователей по тестовым группам и правильность их формирования.\n"
   ]
  },
  {
   "cell_type": "markdown",
   "metadata": {},
   "source": [
    "### Техническое задание"
   ]
  },
  {
   "cell_type": "markdown",
   "metadata": {},
   "source": [
    "- Название теста: recommender_system_test;\n",
    "- Группы: А (контрольная), B (новая платёжная воронка);\n",
    "- Дата запуска: 2020-12-07;\n",
    "- Дата остановки набора новых пользователей: 2020-12-21;\n",
    "- Дата остановки: 2021-01-04;\n",
    "- Аудитория: 15% новых пользователей из региона EU;\n",
    "- Назначение теста: тестирование изменений, связанных с внедрением улучшенной рекомендательной системы;\n",
    "- Ожидаемое количество участников теста: 6000.\n",
    "- Ожидаемый эффект: за 14 дней с момента регистрации в системе пользователи покажут улучшение каждой метрики не менее, чем на 10%: \n",
    "    - конверсии в просмотр карточек товаров — событие product_page\n",
    "    - просмотры корзины — product_cart\n",
    "    - покупки — purchase.\n"
   ]
  },
  {
   "cell_type": "markdown",
   "metadata": {},
   "source": [
    "### Описание данных"
   ]
  },
  {
   "cell_type": "markdown",
   "metadata": {},
   "source": [
    "**`ab_project_marketing_events.csv`** — календарь маркетинговых событий на 2020 год.\n",
    "\n",
    "Структура файла:\n",
    "\n",
    "- `name` — название маркетингового события;\n",
    "- `regions` — регионы, в которых будет проводиться рекламная кампания;\n",
    "- `start_dt` — дата начала кампании;\n",
    "- `finish_dt` — дата завершения кампании.\n",
    "\n",
    "**`final_ab_new_users.csv`** — пользователи, зарегистрировавшиеся с 7 до 21 декабря 2020 года.\n",
    "\n",
    "Структура файла:\n",
    "\n",
    "- `user_id` — идентификатор пользователя;\n",
    "- `first_date` — дата регистрации;\n",
    "- `region` — регион пользователя;\n",
    "- `device` — устройство, с которого происходила регистрация.\n",
    "\n",
    "**`final_ab_events.csv`** — действия новых пользователей в период с 7 декабря 2020 по 4 января 2021 года.\n",
    "\n",
    "Структура файла:\n",
    "\n",
    "- `user_id` — идентификатор пользователя;\n",
    "- `event_dt` — дата и время события;\n",
    "- `event_name` — тип события;\n",
    "- `details` — дополнительные данные о событии. Например, для покупок, `purchase,` в этом поле хранится стоимость покупки в долларах.\n",
    "\n",
    "**`final_ab_participants.csv`** — таблица участников тестов.\n",
    "\n",
    "Структура файла:\n",
    "\n",
    "- `user_id` — идентификатор пользователя;\n",
    "- `ab_test` — название теста;\n",
    "- `group` — группа пользователя."
   ]
  },
  {
   "cell_type": "markdown",
   "metadata": {},
   "source": [
    "## Декомпозиция задач"
   ]
  },
  {
   "cell_type": "markdown",
   "metadata": {},
   "source": [
    "1) Импорт необходимых библиотек и загрузка данных\n",
    "\n",
    "2) Предобработка данных:\n",
    "    - проверка названий столбцов\n",
    "    - проверка типов данных\n",
    "    - проверка пропусков\n",
    "    - проверка дубликатов\n",
    "    \n",
    "3) Анализ корректности сбора данных\n",
    "    - исследование дат регистраций пользователей\n",
    "    \n",
    "    - исследование количества участников и доли пользователей из Европы\n",
    "    \n",
    "    - исследование на пересечение в группах\n",
    "    \n",
    "    - исследование равномерности распределения пользователей по группам\n",
    "    \n",
    "    - исследование событий\n",
    "    \n",
    "    - исследование пользователей, которые не совершали действий\n",
    "    \n",
    "    - исследование лайфтайма каждого пользователя\n",
    "    \n",
    "    - исследование маркетинговых кампаний\n",
    "    \n",
    "4) Исследовательский анализ\n",
    "\n",
    "    - анализ количества событий на пользователя\n",
    "    \n",
    "    - анализ количества событий в группах по дням\n",
    "    \n",
    "5) Оценка результатов А/В-теста"
   ]
  },
  {
   "cell_type": "markdown",
   "metadata": {},
   "source": [
    "## Импорт необходимых библиотек и загрузка данных"
   ]
  },
  {
   "cell_type": "code",
   "execution_count": 1,
   "metadata": {},
   "outputs": [],
   "source": [
    "import pandas as pd\n",
    "import plotly.express as px\n",
    "import numpy as np\n",
    "import seaborn as sns\n",
    "import matplotlib.pyplot as plt\n",
    "from scipy import stats as st\n",
    "import numpy as np\n",
    "import math as mth\n",
    "from plotly import graph_objects as go"
   ]
  },
  {
   "cell_type": "code",
   "execution_count": 2,
   "metadata": {},
   "outputs": [],
   "source": [
    "events = pd.read_csv('final_ab_events.csv')\n",
    "project_marketing_events = pd.read_csv('ab_project_marketing_events.csv')\n",
    "new_users = pd.read_csv('final_ab_new_users.csv')\n",
    "participants = pd.read_csv('final_ab_participants.csv')"
   ]
  },
  {
   "cell_type": "markdown",
   "metadata": {},
   "source": [
    "## Предобработка данных"
   ]
  },
  {
   "cell_type": "code",
   "execution_count": 3,
   "metadata": {},
   "outputs": [],
   "source": [
    "# Создам функцию для просмотра информации по каждой таблице\n",
    "def df_info(table):\n",
    "    print()\n",
    "    print('Первые 3 строки таблицы:')\n",
    "    display(table.head(3))\n",
    "    print('-'*100)\n",
    "    print()\n",
    "    print('Общая информация по таблице:')\n",
    "    print()\n",
    "    display(table.info())\n",
    "    print('-'*100)\n",
    "    print()\n",
    "    print('Доля пропусков в таблице:')\n",
    "    display(table.isna().mean())\n",
    "    print('-'*100)\n",
    "    print()\n",
    "    print('Доля явных дубликатов в таблице:', table.duplicated().mean())\n",
    "    print('-'*100)"
   ]
  },
  {
   "cell_type": "markdown",
   "metadata": {},
   "source": [
    "### Таблица project_marketing_events"
   ]
  },
  {
   "cell_type": "code",
   "execution_count": 4,
   "metadata": {},
   "outputs": [
    {
     "name": "stdout",
     "output_type": "stream",
     "text": [
      "\n",
      "Количество строк в таблице project_marketing_events до обработки данных: 14\n"
     ]
    }
   ],
   "source": [
    "# Зафиксирую количество строк в таблице project_marketing_events до обработки данных\n",
    "cnt_str_mark_ev = project_marketing_events.shape[0]\n",
    "print()\n",
    "print('Количество строк в таблице project_marketing_events до обработки данных:', cnt_str_mark_ev)"
   ]
  },
  {
   "cell_type": "code",
   "execution_count": 5,
   "metadata": {},
   "outputs": [
    {
     "name": "stdout",
     "output_type": "stream",
     "text": [
      "\n",
      "Первые 3 строки таблицы:\n"
     ]
    },
    {
     "data": {
      "text/html": [
       "<div>\n",
       "<style scoped>\n",
       "    .dataframe tbody tr th:only-of-type {\n",
       "        vertical-align: middle;\n",
       "    }\n",
       "\n",
       "    .dataframe tbody tr th {\n",
       "        vertical-align: top;\n",
       "    }\n",
       "\n",
       "    .dataframe thead th {\n",
       "        text-align: right;\n",
       "    }\n",
       "</style>\n",
       "<table border=\"1\" class=\"dataframe\">\n",
       "  <thead>\n",
       "    <tr style=\"text-align: right;\">\n",
       "      <th></th>\n",
       "      <th>name</th>\n",
       "      <th>regions</th>\n",
       "      <th>start_dt</th>\n",
       "      <th>finish_dt</th>\n",
       "    </tr>\n",
       "  </thead>\n",
       "  <tbody>\n",
       "    <tr>\n",
       "      <th>0</th>\n",
       "      <td>Christmas&amp;New Year Promo</td>\n",
       "      <td>EU, N.America</td>\n",
       "      <td>2020-12-25</td>\n",
       "      <td>2021-01-03</td>\n",
       "    </tr>\n",
       "    <tr>\n",
       "      <th>1</th>\n",
       "      <td>St. Valentine's Day Giveaway</td>\n",
       "      <td>EU, CIS, APAC, N.America</td>\n",
       "      <td>2020-02-14</td>\n",
       "      <td>2020-02-16</td>\n",
       "    </tr>\n",
       "    <tr>\n",
       "      <th>2</th>\n",
       "      <td>St. Patric's Day Promo</td>\n",
       "      <td>EU, N.America</td>\n",
       "      <td>2020-03-17</td>\n",
       "      <td>2020-03-19</td>\n",
       "    </tr>\n",
       "  </tbody>\n",
       "</table>\n",
       "</div>"
      ],
      "text/plain": [
       "                           name                   regions    start_dt  \\\n",
       "0      Christmas&New Year Promo             EU, N.America  2020-12-25   \n",
       "1  St. Valentine's Day Giveaway  EU, CIS, APAC, N.America  2020-02-14   \n",
       "2        St. Patric's Day Promo             EU, N.America  2020-03-17   \n",
       "\n",
       "    finish_dt  \n",
       "0  2021-01-03  \n",
       "1  2020-02-16  \n",
       "2  2020-03-19  "
      ]
     },
     "metadata": {},
     "output_type": "display_data"
    },
    {
     "name": "stdout",
     "output_type": "stream",
     "text": [
      "----------------------------------------------------------------------------------------------------\n",
      "\n",
      "Общая информация по таблице:\n",
      "\n",
      "<class 'pandas.core.frame.DataFrame'>\n",
      "RangeIndex: 14 entries, 0 to 13\n",
      "Data columns (total 4 columns):\n",
      " #   Column     Non-Null Count  Dtype \n",
      "---  ------     --------------  ----- \n",
      " 0   name       14 non-null     object\n",
      " 1   regions    14 non-null     object\n",
      " 2   start_dt   14 non-null     object\n",
      " 3   finish_dt  14 non-null     object\n",
      "dtypes: object(4)\n",
      "memory usage: 576.0+ bytes\n"
     ]
    },
    {
     "data": {
      "text/plain": [
       "None"
      ]
     },
     "metadata": {},
     "output_type": "display_data"
    },
    {
     "name": "stdout",
     "output_type": "stream",
     "text": [
      "----------------------------------------------------------------------------------------------------\n",
      "\n",
      "Доля пропусков в таблице:\n"
     ]
    },
    {
     "data": {
      "text/plain": [
       "name         0.0\n",
       "regions      0.0\n",
       "start_dt     0.0\n",
       "finish_dt    0.0\n",
       "dtype: float64"
      ]
     },
     "metadata": {},
     "output_type": "display_data"
    },
    {
     "name": "stdout",
     "output_type": "stream",
     "text": [
      "----------------------------------------------------------------------------------------------------\n",
      "\n",
      "Доля явных дубликатов в таблице: 0.0\n",
      "----------------------------------------------------------------------------------------------------\n"
     ]
    }
   ],
   "source": [
    "# Выведу всю необходимую информацию по таблице project_marketing_events\n",
    "df_info(project_marketing_events)"
   ]
  },
  {
   "cell_type": "markdown",
   "metadata": {},
   "source": [
    "<font color='DarkMagenta'>\n",
    "    - Названия столбцов корректны<br>\n",
    "<font color='DarkMagenta'>   \n",
    "    - Пропусков нет<br>\n",
    "<font color='DarkMagenta'>    \n",
    "    - Дубликатов нет<br>\n",
    "<font color='DarkMagenta'>    \n",
    "    - Изменить тип данных колонок start_dt и finish_dt на datetime<br></font>"
   ]
  },
  {
   "cell_type": "code",
   "execution_count": 6,
   "metadata": {},
   "outputs": [
    {
     "name": "stdout",
     "output_type": "stream",
     "text": [
      "start_dt     datetime64[ns]\n",
      "finish_dt    datetime64[ns]\n",
      "dtype: object\n"
     ]
    }
   ],
   "source": [
    "# Поменяю тип данных столбцов start_dt и finish_dt\n",
    "project_marketing_events['start_dt'] = pd.to_datetime(project_marketing_events['start_dt'])\n",
    "project_marketing_events['finish_dt'] = pd.to_datetime(project_marketing_events['finish_dt'])\n",
    "\n",
    "# Проверю, что типы колонок изменились\n",
    "print(project_marketing_events[['start_dt', 'finish_dt']].dtypes)"
   ]
  },
  {
   "cell_type": "code",
   "execution_count": 7,
   "metadata": {},
   "outputs": [
    {
     "name": "stdout",
     "output_type": "stream",
     "text": [
      "\n",
      "Значения колонки name\n"
     ]
    },
    {
     "data": {
      "text/plain": [
       "array(['4th of July Promo', 'Black Friday Ads Campaign',\n",
       "       'CIS New Year Gift Lottery', 'Chinese Moon Festival',\n",
       "       'Chinese New Year Promo', 'Christmas&New Year Promo',\n",
       "       'Dragon Boat Festival Giveaway', 'Easter Promo',\n",
       "       \"International Women's Day Promo\",\n",
       "       'Labor day (May 1st) Ads Campaign', \"Single's Day Gift Promo\",\n",
       "       \"St. Patric's Day Promo\", \"St. Valentine's Day Giveaway\",\n",
       "       'Victory Day CIS (May 9th) Event'], dtype=object)"
      ]
     },
     "metadata": {},
     "output_type": "display_data"
    },
    {
     "name": "stdout",
     "output_type": "stream",
     "text": [
      "----------------------------------------------------------------------------------------------------\n",
      "\n",
      "Значения колонки regions\n"
     ]
    },
    {
     "data": {
      "text/plain": [
       "array(['APAC', 'CIS', 'EU, CIS, APAC', 'EU, CIS, APAC, N.America',\n",
       "       'EU, N.America', 'N.America'], dtype=object)"
      ]
     },
     "metadata": {},
     "output_type": "display_data"
    },
    {
     "name": "stdout",
     "output_type": "stream",
     "text": [
      "----------------------------------------------------------------------------------------------------\n"
     ]
    }
   ],
   "source": [
    "# Проверю на неявные дубликаты: посмотрю на уникальные значения колонок name и regions\n",
    "print()\n",
    "print('Значения колонки name')\n",
    "display(project_marketing_events['name'].sort_values().unique())\n",
    "print('-'*100)\n",
    "print()\n",
    "print('Значения колонки regions')\n",
    "display(project_marketing_events['regions'].sort_values().unique())\n",
    "print('-'*100)"
   ]
  },
  {
   "cell_type": "markdown",
   "metadata": {},
   "source": [
    "<font color='DarkMagenta'>Неявных дубликатов нет"
   ]
  },
  {
   "cell_type": "code",
   "execution_count": 8,
   "metadata": {},
   "outputs": [
    {
     "name": "stdout",
     "output_type": "stream",
     "text": [
      "\n",
      "Количество строк в таблице project_marketing_events после обработки данных: 14\n",
      "Удалили 0 строк\n"
     ]
    }
   ],
   "source": [
    "# Зафиксирую количество строк после обработки данных\n",
    "cnt_str_mark_ev_proces = project_marketing_events.shape[0]\n",
    "\n",
    "print()\n",
    "print('Количество строк в таблице project_marketing_events после обработки данных:', cnt_str_mark_ev_proces)\n",
    "print(f'Удалили {cnt_str_mark_ev - cnt_str_mark_ev_proces} строк')"
   ]
  },
  {
   "cell_type": "markdown",
   "metadata": {},
   "source": [
    "### Таблица events\n"
   ]
  },
  {
   "cell_type": "code",
   "execution_count": 9,
   "metadata": {},
   "outputs": [
    {
     "name": "stdout",
     "output_type": "stream",
     "text": [
      "\n",
      "Количество строк в таблице events до обработки данных: 440317\n"
     ]
    }
   ],
   "source": [
    "# Зафиксирую количество строк в таблице events до обработки данных\n",
    "cnt_str_ev = events.shape[0]\n",
    "print()\n",
    "print('Количество строк в таблице events до обработки данных:', cnt_str_ev)"
   ]
  },
  {
   "cell_type": "code",
   "execution_count": 10,
   "metadata": {},
   "outputs": [
    {
     "name": "stdout",
     "output_type": "stream",
     "text": [
      "\n",
      "Первые 3 строки таблицы:\n"
     ]
    },
    {
     "data": {
      "text/html": [
       "<div>\n",
       "<style scoped>\n",
       "    .dataframe tbody tr th:only-of-type {\n",
       "        vertical-align: middle;\n",
       "    }\n",
       "\n",
       "    .dataframe tbody tr th {\n",
       "        vertical-align: top;\n",
       "    }\n",
       "\n",
       "    .dataframe thead th {\n",
       "        text-align: right;\n",
       "    }\n",
       "</style>\n",
       "<table border=\"1\" class=\"dataframe\">\n",
       "  <thead>\n",
       "    <tr style=\"text-align: right;\">\n",
       "      <th></th>\n",
       "      <th>user_id</th>\n",
       "      <th>event_dt</th>\n",
       "      <th>event_name</th>\n",
       "      <th>details</th>\n",
       "    </tr>\n",
       "  </thead>\n",
       "  <tbody>\n",
       "    <tr>\n",
       "      <th>0</th>\n",
       "      <td>E1BDDCE0DAFA2679</td>\n",
       "      <td>2020-12-07 20:22:03</td>\n",
       "      <td>purchase</td>\n",
       "      <td>99.99</td>\n",
       "    </tr>\n",
       "    <tr>\n",
       "      <th>1</th>\n",
       "      <td>7B6452F081F49504</td>\n",
       "      <td>2020-12-07 09:22:53</td>\n",
       "      <td>purchase</td>\n",
       "      <td>9.99</td>\n",
       "    </tr>\n",
       "    <tr>\n",
       "      <th>2</th>\n",
       "      <td>9CD9F34546DF254C</td>\n",
       "      <td>2020-12-07 12:59:29</td>\n",
       "      <td>purchase</td>\n",
       "      <td>4.99</td>\n",
       "    </tr>\n",
       "  </tbody>\n",
       "</table>\n",
       "</div>"
      ],
      "text/plain": [
       "            user_id             event_dt event_name  details\n",
       "0  E1BDDCE0DAFA2679  2020-12-07 20:22:03   purchase    99.99\n",
       "1  7B6452F081F49504  2020-12-07 09:22:53   purchase     9.99\n",
       "2  9CD9F34546DF254C  2020-12-07 12:59:29   purchase     4.99"
      ]
     },
     "metadata": {},
     "output_type": "display_data"
    },
    {
     "name": "stdout",
     "output_type": "stream",
     "text": [
      "----------------------------------------------------------------------------------------------------\n",
      "\n",
      "Общая информация по таблице:\n",
      "\n",
      "<class 'pandas.core.frame.DataFrame'>\n",
      "RangeIndex: 440317 entries, 0 to 440316\n",
      "Data columns (total 4 columns):\n",
      " #   Column      Non-Null Count   Dtype  \n",
      "---  ------      --------------   -----  \n",
      " 0   user_id     440317 non-null  object \n",
      " 1   event_dt    440317 non-null  object \n",
      " 2   event_name  440317 non-null  object \n",
      " 3   details     62740 non-null   float64\n",
      "dtypes: float64(1), object(3)\n",
      "memory usage: 13.4+ MB\n"
     ]
    },
    {
     "data": {
      "text/plain": [
       "None"
      ]
     },
     "metadata": {},
     "output_type": "display_data"
    },
    {
     "name": "stdout",
     "output_type": "stream",
     "text": [
      "----------------------------------------------------------------------------------------------------\n",
      "\n",
      "Доля пропусков в таблице:\n"
     ]
    },
    {
     "data": {
      "text/plain": [
       "user_id       0.000000\n",
       "event_dt      0.000000\n",
       "event_name    0.000000\n",
       "details       0.857512\n",
       "dtype: float64"
      ]
     },
     "metadata": {},
     "output_type": "display_data"
    },
    {
     "name": "stdout",
     "output_type": "stream",
     "text": [
      "----------------------------------------------------------------------------------------------------\n",
      "\n",
      "Доля явных дубликатов в таблице: 0.0\n",
      "----------------------------------------------------------------------------------------------------\n"
     ]
    }
   ],
   "source": [
    "# Выведу всю необходимую информацию по таблице events\n",
    "df_info(events)"
   ]
  },
  {
   "cell_type": "markdown",
   "metadata": {},
   "source": [
    "<font color='DarkMagenta'>\n",
    "    - Названия столбцов корректны<br>\n",
    "    <font color='DarkMagenta'>\n",
    "    - Дубликатов нет<br>\n",
    "      <font color='DarkMagenta'>\n",
    "    - В столбце details почти 86% пропусков. Ничего с этими пропусками делать не буду, т.к. по условию проекта колонка details содержит дополнительные данные. Значит на месте пропусков нет дополнительных данных.<br>\n",
    "          <font color='DarkMagenta'>  \n",
    "    - Столбец event_dt привести к формату datetime<br></font>"
   ]
  },
  {
   "cell_type": "markdown",
   "metadata": {},
   "source": []
  },
  {
   "cell_type": "code",
   "execution_count": 11,
   "metadata": {},
   "outputs": [
    {
     "name": "stdout",
     "output_type": "stream",
     "text": [
      "datetime64[ns]\n"
     ]
    }
   ],
   "source": [
    "# Поменяю тип данных столбцов event_dt\n",
    "events['event_dt'] = pd.to_datetime(events['event_dt'])\n",
    "\n",
    "# Проверю, что тип колонки изменился\n",
    "print(events['event_dt'].dtypes)"
   ]
  },
  {
   "cell_type": "code",
   "execution_count": 12,
   "metadata": {},
   "outputs": [
    {
     "name": "stdout",
     "output_type": "stream",
     "text": [
      "\n",
      "Значения колонки event_name\n"
     ]
    },
    {
     "data": {
      "text/plain": [
       "array(['login', 'product_cart', 'product_page', 'purchase'], dtype=object)"
      ]
     },
     "metadata": {},
     "output_type": "display_data"
    },
    {
     "name": "stdout",
     "output_type": "stream",
     "text": [
      "----------------------------------------------------------------------------------------------------\n"
     ]
    }
   ],
   "source": [
    "# Проверю на неявные дубликаты: посмотрю на уникальные значения колонки event_name\n",
    "print()\n",
    "print('Значения колонки event_name')\n",
    "display(events['event_name'].sort_values().unique())\n",
    "print('-'*100)"
   ]
  },
  {
   "cell_type": "markdown",
   "metadata": {},
   "source": [
    "<font color='DarkMagenta'>Неявных дубликатов нет"
   ]
  },
  {
   "cell_type": "code",
   "execution_count": 13,
   "metadata": {},
   "outputs": [
    {
     "name": "stdout",
     "output_type": "stream",
     "text": [
      "\n",
      "Количество строк в таблице events после обработки данных: 440317\n",
      "Удалили 0 строк\n"
     ]
    }
   ],
   "source": [
    "# Зафиксирую количество строк после обработки данных\n",
    "cnt_str_ev_proces = events.shape[0]\n",
    "\n",
    "print()\n",
    "print('Количество строк в таблице events после обработки данных:', cnt_str_ev_proces)\n",
    "print(f'Удалили {cnt_str_ev - cnt_str_ev_proces} строк')"
   ]
  },
  {
   "cell_type": "markdown",
   "metadata": {},
   "source": [
    "### Таблица new_users"
   ]
  },
  {
   "cell_type": "code",
   "execution_count": 14,
   "metadata": {},
   "outputs": [
    {
     "name": "stdout",
     "output_type": "stream",
     "text": [
      "\n",
      "Количество строк в таблице new_users до обработки данных: 61733\n"
     ]
    }
   ],
   "source": [
    "# Зафиксирую количество строк в таблице new_users до обработки данных\n",
    "cnt_str_new_us = new_users.shape[0]\n",
    "print()\n",
    "print('Количество строк в таблице new_users до обработки данных:', cnt_str_new_us)"
   ]
  },
  {
   "cell_type": "code",
   "execution_count": 15,
   "metadata": {},
   "outputs": [
    {
     "name": "stdout",
     "output_type": "stream",
     "text": [
      "\n",
      "Первые 3 строки таблицы:\n"
     ]
    },
    {
     "data": {
      "text/html": [
       "<div>\n",
       "<style scoped>\n",
       "    .dataframe tbody tr th:only-of-type {\n",
       "        vertical-align: middle;\n",
       "    }\n",
       "\n",
       "    .dataframe tbody tr th {\n",
       "        vertical-align: top;\n",
       "    }\n",
       "\n",
       "    .dataframe thead th {\n",
       "        text-align: right;\n",
       "    }\n",
       "</style>\n",
       "<table border=\"1\" class=\"dataframe\">\n",
       "  <thead>\n",
       "    <tr style=\"text-align: right;\">\n",
       "      <th></th>\n",
       "      <th>user_id</th>\n",
       "      <th>first_date</th>\n",
       "      <th>region</th>\n",
       "      <th>device</th>\n",
       "    </tr>\n",
       "  </thead>\n",
       "  <tbody>\n",
       "    <tr>\n",
       "      <th>0</th>\n",
       "      <td>D72A72121175D8BE</td>\n",
       "      <td>2020-12-07</td>\n",
       "      <td>EU</td>\n",
       "      <td>PC</td>\n",
       "    </tr>\n",
       "    <tr>\n",
       "      <th>1</th>\n",
       "      <td>F1C668619DFE6E65</td>\n",
       "      <td>2020-12-07</td>\n",
       "      <td>N.America</td>\n",
       "      <td>Android</td>\n",
       "    </tr>\n",
       "    <tr>\n",
       "      <th>2</th>\n",
       "      <td>2E1BF1D4C37EA01F</td>\n",
       "      <td>2020-12-07</td>\n",
       "      <td>EU</td>\n",
       "      <td>PC</td>\n",
       "    </tr>\n",
       "  </tbody>\n",
       "</table>\n",
       "</div>"
      ],
      "text/plain": [
       "            user_id  first_date     region   device\n",
       "0  D72A72121175D8BE  2020-12-07         EU       PC\n",
       "1  F1C668619DFE6E65  2020-12-07  N.America  Android\n",
       "2  2E1BF1D4C37EA01F  2020-12-07         EU       PC"
      ]
     },
     "metadata": {},
     "output_type": "display_data"
    },
    {
     "name": "stdout",
     "output_type": "stream",
     "text": [
      "----------------------------------------------------------------------------------------------------\n",
      "\n",
      "Общая информация по таблице:\n",
      "\n",
      "<class 'pandas.core.frame.DataFrame'>\n",
      "RangeIndex: 61733 entries, 0 to 61732\n",
      "Data columns (total 4 columns):\n",
      " #   Column      Non-Null Count  Dtype \n",
      "---  ------      --------------  ----- \n",
      " 0   user_id     61733 non-null  object\n",
      " 1   first_date  61733 non-null  object\n",
      " 2   region      61733 non-null  object\n",
      " 3   device      61733 non-null  object\n",
      "dtypes: object(4)\n",
      "memory usage: 1.9+ MB\n"
     ]
    },
    {
     "data": {
      "text/plain": [
       "None"
      ]
     },
     "metadata": {},
     "output_type": "display_data"
    },
    {
     "name": "stdout",
     "output_type": "stream",
     "text": [
      "----------------------------------------------------------------------------------------------------\n",
      "\n",
      "Доля пропусков в таблице:\n"
     ]
    },
    {
     "data": {
      "text/plain": [
       "user_id       0.0\n",
       "first_date    0.0\n",
       "region        0.0\n",
       "device        0.0\n",
       "dtype: float64"
      ]
     },
     "metadata": {},
     "output_type": "display_data"
    },
    {
     "name": "stdout",
     "output_type": "stream",
     "text": [
      "----------------------------------------------------------------------------------------------------\n",
      "\n",
      "Доля явных дубликатов в таблице: 0.0\n",
      "----------------------------------------------------------------------------------------------------\n"
     ]
    }
   ],
   "source": [
    "# Выведу всю необходимую информацию по таблице new_users\n",
    "df_info(new_users)"
   ]
  },
  {
   "cell_type": "markdown",
   "metadata": {},
   "source": [
    "<font color='DarkMagenta'>\n",
    "    - Названия столбцов корректны<br>\n",
    "<font color='DarkMagenta'>\n",
    "    - Пропусков нет<br>\n",
    "<font color='DarkMagenta'>\n",
    "    - Дубликатов нет<br>\n",
    "<font color='DarkMagenta'>\n",
    "    - Столбец first_date привести к типу данных datetime<br></font>"
   ]
  },
  {
   "cell_type": "code",
   "execution_count": 16,
   "metadata": {},
   "outputs": [
    {
     "name": "stdout",
     "output_type": "stream",
     "text": [
      "datetime64[ns]\n"
     ]
    }
   ],
   "source": [
    "# Поменяю тип данных столбца first_date\n",
    "new_users['first_date'] = pd.to_datetime(new_users['first_date'])\n",
    "\n",
    "# Проверю, что тип колонки изменился\n",
    "print(new_users['first_date'].dtypes)"
   ]
  },
  {
   "cell_type": "code",
   "execution_count": 17,
   "metadata": {},
   "outputs": [
    {
     "name": "stdout",
     "output_type": "stream",
     "text": [
      "\n",
      "Значения колонки region\n"
     ]
    },
    {
     "data": {
      "text/plain": [
       "array(['APAC', 'CIS', 'EU', 'N.America'], dtype=object)"
      ]
     },
     "metadata": {},
     "output_type": "display_data"
    },
    {
     "name": "stdout",
     "output_type": "stream",
     "text": [
      "----------------------------------------------------------------------------------------------------\n",
      "\n",
      "Значения колонки device\n"
     ]
    },
    {
     "data": {
      "text/plain": [
       "array(['Android', 'Mac', 'PC', 'iPhone'], dtype=object)"
      ]
     },
     "metadata": {},
     "output_type": "display_data"
    },
    {
     "name": "stdout",
     "output_type": "stream",
     "text": [
      "----------------------------------------------------------------------------------------------------\n"
     ]
    }
   ],
   "source": [
    "# Проверю на неявные дубликаты: посмотрю на уникальные значения колонок region и device\n",
    "print()\n",
    "print('Значения колонки region')\n",
    "display(new_users['region'].sort_values().unique())\n",
    "print('-'*100)\n",
    "print()\n",
    "print('Значения колонки device')\n",
    "display(new_users['device'].sort_values().unique())\n",
    "print('-'*100)"
   ]
  },
  {
   "cell_type": "markdown",
   "metadata": {},
   "source": [
    "<font color='DarkMagenta'>Неявных дубликатов нет. Названия регионов идентичны названию регионов в таблице events"
   ]
  },
  {
   "cell_type": "code",
   "execution_count": 18,
   "metadata": {},
   "outputs": [
    {
     "name": "stdout",
     "output_type": "stream",
     "text": [
      "\n",
      "Количество строк в таблице new_users после обработки данных: 61733\n",
      "Удалили 0 строк\n"
     ]
    }
   ],
   "source": [
    "# Зафиксирую количество строк после обработки данных\n",
    "cnt_str_new_us_proces = new_users.shape[0]\n",
    "\n",
    "print()\n",
    "print('Количество строк в таблице new_users после обработки данных:', cnt_str_new_us_proces)\n",
    "print(f'Удалили {cnt_str_new_us - cnt_str_new_us_proces} строк')"
   ]
  },
  {
   "cell_type": "markdown",
   "metadata": {},
   "source": [
    "### Таблица participants"
   ]
  },
  {
   "cell_type": "code",
   "execution_count": 19,
   "metadata": {},
   "outputs": [
    {
     "name": "stdout",
     "output_type": "stream",
     "text": [
      "\n",
      "Количество строк в таблице new_users до обработки данных: 18268\n"
     ]
    }
   ],
   "source": [
    "# Зафиксирую количество строк в таблице participants до обработки данных\n",
    "cnt_str_part = participants.shape[0]\n",
    "print()\n",
    "print('Количество строк в таблице new_users до обработки данных:', cnt_str_part)"
   ]
  },
  {
   "cell_type": "code",
   "execution_count": 20,
   "metadata": {},
   "outputs": [
    {
     "name": "stdout",
     "output_type": "stream",
     "text": [
      "\n",
      "Первые 3 строки таблицы:\n"
     ]
    },
    {
     "data": {
      "text/html": [
       "<div>\n",
       "<style scoped>\n",
       "    .dataframe tbody tr th:only-of-type {\n",
       "        vertical-align: middle;\n",
       "    }\n",
       "\n",
       "    .dataframe tbody tr th {\n",
       "        vertical-align: top;\n",
       "    }\n",
       "\n",
       "    .dataframe thead th {\n",
       "        text-align: right;\n",
       "    }\n",
       "</style>\n",
       "<table border=\"1\" class=\"dataframe\">\n",
       "  <thead>\n",
       "    <tr style=\"text-align: right;\">\n",
       "      <th></th>\n",
       "      <th>user_id</th>\n",
       "      <th>group</th>\n",
       "      <th>ab_test</th>\n",
       "    </tr>\n",
       "  </thead>\n",
       "  <tbody>\n",
       "    <tr>\n",
       "      <th>0</th>\n",
       "      <td>D1ABA3E2887B6A73</td>\n",
       "      <td>A</td>\n",
       "      <td>recommender_system_test</td>\n",
       "    </tr>\n",
       "    <tr>\n",
       "      <th>1</th>\n",
       "      <td>A7A3664BD6242119</td>\n",
       "      <td>A</td>\n",
       "      <td>recommender_system_test</td>\n",
       "    </tr>\n",
       "    <tr>\n",
       "      <th>2</th>\n",
       "      <td>DABC14FDDFADD29E</td>\n",
       "      <td>A</td>\n",
       "      <td>recommender_system_test</td>\n",
       "    </tr>\n",
       "  </tbody>\n",
       "</table>\n",
       "</div>"
      ],
      "text/plain": [
       "            user_id group                  ab_test\n",
       "0  D1ABA3E2887B6A73     A  recommender_system_test\n",
       "1  A7A3664BD6242119     A  recommender_system_test\n",
       "2  DABC14FDDFADD29E     A  recommender_system_test"
      ]
     },
     "metadata": {},
     "output_type": "display_data"
    },
    {
     "name": "stdout",
     "output_type": "stream",
     "text": [
      "----------------------------------------------------------------------------------------------------\n",
      "\n",
      "Общая информация по таблице:\n",
      "\n",
      "<class 'pandas.core.frame.DataFrame'>\n",
      "RangeIndex: 18268 entries, 0 to 18267\n",
      "Data columns (total 3 columns):\n",
      " #   Column   Non-Null Count  Dtype \n",
      "---  ------   --------------  ----- \n",
      " 0   user_id  18268 non-null  object\n",
      " 1   group    18268 non-null  object\n",
      " 2   ab_test  18268 non-null  object\n",
      "dtypes: object(3)\n",
      "memory usage: 428.3+ KB\n"
     ]
    },
    {
     "data": {
      "text/plain": [
       "None"
      ]
     },
     "metadata": {},
     "output_type": "display_data"
    },
    {
     "name": "stdout",
     "output_type": "stream",
     "text": [
      "----------------------------------------------------------------------------------------------------\n",
      "\n",
      "Доля пропусков в таблице:\n"
     ]
    },
    {
     "data": {
      "text/plain": [
       "user_id    0.0\n",
       "group      0.0\n",
       "ab_test    0.0\n",
       "dtype: float64"
      ]
     },
     "metadata": {},
     "output_type": "display_data"
    },
    {
     "name": "stdout",
     "output_type": "stream",
     "text": [
      "----------------------------------------------------------------------------------------------------\n",
      "\n",
      "Доля явных дубликатов в таблице: 0.0\n",
      "----------------------------------------------------------------------------------------------------\n"
     ]
    }
   ],
   "source": [
    "# Выведу всю необходимую информацию по таблице participants\n",
    "df_info(participants)"
   ]
  },
  {
   "cell_type": "markdown",
   "metadata": {},
   "source": [
    "<font color='DarkMagenta'>\n",
    "    - Названия столбцов корректны<br>\n",
    "<font color='DarkMagenta'>    \n",
    "    - Пропусков нет<br>\n",
    "<font color='DarkMagenta'>    \n",
    "    - Дубликатов нет<br>\n",
    "<font color='DarkMagenta'>    \n",
    "    - Все столбцы имеют корректный тип данных<br></font>"
   ]
  },
  {
   "cell_type": "code",
   "execution_count": 21,
   "metadata": {},
   "outputs": [
    {
     "name": "stdout",
     "output_type": "stream",
     "text": [
      "\n",
      "Значения колонки group\n"
     ]
    },
    {
     "data": {
      "text/plain": [
       "array(['A', 'B'], dtype=object)"
      ]
     },
     "metadata": {},
     "output_type": "display_data"
    },
    {
     "name": "stdout",
     "output_type": "stream",
     "text": [
      "----------------------------------------------------------------------------------------------------\n",
      "\n",
      "Значения колонки ab_test\n"
     ]
    },
    {
     "data": {
      "text/plain": [
       "array(['interface_eu_test', 'recommender_system_test'], dtype=object)"
      ]
     },
     "metadata": {},
     "output_type": "display_data"
    },
    {
     "name": "stdout",
     "output_type": "stream",
     "text": [
      "----------------------------------------------------------------------------------------------------\n"
     ]
    }
   ],
   "source": [
    "# Проверю на неявные дубликаты: посмотрю на уникальные значения колонок group и ab_test\n",
    "print()\n",
    "print('Значения колонки group')\n",
    "display(participants['group'].sort_values().unique())\n",
    "print('-'*100)\n",
    "print()\n",
    "print('Значения колонки ab_test')\n",
    "display(participants['ab_test'].sort_values().unique())\n",
    "print('-'*100)"
   ]
  },
  {
   "cell_type": "markdown",
   "metadata": {},
   "source": [
    "<font color='DarkMagenta'>Неявных дубликатов не выявлено. В таблице participants содержится информация о 2-х тестах"
   ]
  },
  {
   "cell_type": "code",
   "execution_count": 22,
   "metadata": {
    "scrolled": true
   },
   "outputs": [
    {
     "name": "stdout",
     "output_type": "stream",
     "text": [
      "\n",
      "Количество строк в таблице new_users после обработки данных: 18268\n",
      "Удалили 0 строк\n"
     ]
    }
   ],
   "source": [
    "# Зафиксирую количество строк после обработки данных\n",
    "cnt_str_part_proces = participants.shape[0]\n",
    "\n",
    "print()\n",
    "print('Количество строк в таблице new_users после обработки данных:', cnt_str_part_proces)\n",
    "print(f'Удалили {cnt_str_part - cnt_str_part_proces} строк')"
   ]
  },
  {
   "cell_type": "markdown",
   "metadata": {},
   "source": [
    "### Выводы по преобработке данных"
   ]
  },
  {
   "cell_type": "markdown",
   "metadata": {},
   "source": [
    "Вывод по этапу предобработки данных:\n",
    "    \n",
    "   - таблица **project_marketing_events** - привели тип данных столбцов start_df и finish_df к формату date_time\n",
    "   - таблица **events** - привели тип данных столбца event_dt к формату datetime, пропуски в колонке details оставили без изменений \n",
    "   - таблица **new_users** - привели тип данных столбца first_date к формату datetime\n",
    "   - таблица **participants** не нуждалась ни в каких изменениях, в таблице содержится информация о 2-х тестах\n",
    "   - дубликаты отсутствовали во всех таблицах"
   ]
  },
  {
   "cell_type": "markdown",
   "metadata": {},
   "source": [
    "## Анализ корректности проведения теста"
   ]
  },
  {
   "cell_type": "markdown",
   "metadata": {},
   "source": [
    "### Объединение датасетов"
   ]
  },
  {
   "cell_type": "code",
   "execution_count": 23,
   "metadata": {},
   "outputs": [],
   "source": [
    "# Для дальнйшей работы объединю датасеты new_users, participants и events\n",
    "df = new_users.merge(participants, on='user_id', how='outer')\n",
    "df = df.merge(events, on='user_id', how='outer')"
   ]
  },
  {
   "cell_type": "code",
   "execution_count": 24,
   "metadata": {},
   "outputs": [],
   "source": [
    "# Для удобства в работе при расчетах пересечений пользователей заменю названия групп А и В теста interface_eu_test на А1 и В1 соответственно\n",
    "df['group'] = np.where((df['group'] == 'A') & (df['ab_test'] == 'interface_eu_test'), 'A1', df['group'])\n",
    "df['group'] = np.where((df['group'] == 'B') & (df['ab_test'] == 'interface_eu_test'), 'B1', df['group'])"
   ]
  },
  {
   "cell_type": "markdown",
   "metadata": {},
   "source": [
    "### Исследование дат регистрации пользователей"
   ]
  },
  {
   "cell_type": "code",
   "execution_count": 25,
   "metadata": {},
   "outputs": [
    {
     "name": "stdout",
     "output_type": "stream",
     "text": [
      "\n",
      "Минимальная дата регистрации пользователей: 2020-12-07 00:00:00\n",
      "Максимальная дата регистрации пользователей: 2020-12-23 00:00:00\n"
     ]
    }
   ],
   "source": [
    "# Проверю за какие даты предоставлена информация о регистрации пользователей\n",
    "print()\n",
    "print('Минимальная дата регистрации пользователей:', df['first_date'].min())\n",
    "print('Максимальная дата регистрации пользователей:', df['first_date'].max())"
   ]
  },
  {
   "cell_type": "markdown",
   "metadata": {},
   "source": [
    "<font color='DarkMagenta'>Набор новых пользователей в наш тест был завершен 23 декабря. В задании сказано, что набор должен был быть остановлен 21 декабря."
   ]
  },
  {
   "cell_type": "code",
   "execution_count": 26,
   "metadata": {
    "scrolled": true
   },
   "outputs": [
    {
     "name": "stdout",
     "output_type": "stream",
     "text": [
      "Последняя дата регистации пользователей, которые приняли участие в тестеt: 2020-12-21 00:00:00\n"
     ]
    }
   ],
   "source": [
    "# Посмотрю на последнюю дату регистации пользователей, которые приняли участие в тесте\n",
    "print('Последняя дата регистации пользователей, которые приняли участие в тестеt:',\n",
    "      df.query('ab_test == \"recommender_system_test\"')['first_date'].max())"
   ]
  },
  {
   "cell_type": "markdown",
   "metadata": {},
   "source": [
    "<font color='DarkMagenta'> В тесте принимали участие пользователи, которые зарегистрировались с 2020-12-07  до 2020-12-21 включительно. Это соответствует техническому заданию."
   ]
  },
  {
   "cell_type": "code",
   "execution_count": 27,
   "metadata": {},
   "outputs": [
    {
     "data": {
      "image/png": "[encoded data removed]",
      "text/plain": [
       "<Figure size 1500x600 with 1 Axes>"
      ]
     },
     "metadata": {},
     "output_type": "display_data"
    }
   ],
   "source": [
    "# Посмотрю как добавлялись новые пользователи по датам\n",
    "(\n",
    "    df\n",
    "    .groupby('first_date').agg({'user_id':'count'})\n",
    "    .plot(kind='bar',\n",
    "          grid=True,\n",
    "          figsize=(15,6)\n",
    "         )\n",
    ")\n",
    "plt.title('Регистрация новых пользователей по датам')\n",
    "plt.xlabel('Дата')\n",
    "plt.ylabel('Количество пользователей')\n",
    "plt.show()"
   ]
  },
  {
   "cell_type": "markdown",
   "metadata": {},
   "source": [
    "<font color='DarkMagenta'> Больше всех пользователей пришло 2020-12-14 и 2020-12-21"
   ]
  },
  {
   "cell_type": "markdown",
   "metadata": {},
   "source": [
    "### Исследование количества участников и доли пользователей из Европы"
   ]
  },
  {
   "cell_type": "code",
   "execution_count": 28,
   "metadata": {},
   "outputs": [
    {
     "name": "stdout",
     "output_type": "stream",
     "text": [
      "\n",
      "Общее количество новых пользователей приложения за период 2020-12-07 по 2020-12-21: 61733\n",
      "----------------------------------------------------------------------------------------------------\n",
      "\n",
      "Общее количество новых пользователей из Европы: 46270\n"
     ]
    }
   ],
   "source": [
    "# Посчитаю общее количество новых пользователей\n",
    "print()\n",
    "print('Общее количество новых пользователей приложения за период 2020-12-07 по 2020-12-21:', df['user_id'].nunique())\n",
    "print('-'*100)\n",
    "# Посчитаю количество новых пользователей из Европы\n",
    "us_eu_cnt = df[df['region'] == 'EU']['user_id'].nunique()\n",
    "print()\n",
    "print('Общее количество новых пользователей из Европы:', us_eu_cnt)"
   ]
  },
  {
   "cell_type": "code",
   "execution_count": 29,
   "metadata": {},
   "outputs": [
    {
     "name": "stdout",
     "output_type": "stream",
     "text": [
      "\n",
      "Количество участников в тесте recommender_system_test: 6701\n",
      "----------------------------------------------------------------------------------------------------\n",
      "\n",
      "Количество пользователей из Европы в тесте recommender_system_test 6351\n",
      "----------------------------------------------------------------------------------------------------\n",
      "\n",
      "Доля европейский пользователей в тесте recommender_system_test, от всего количества европейских пользователей: 13.73%\n"
     ]
    }
   ],
   "source": [
    "# Посмотрю на общее количестов, количество и долю пользователей из Европы, принимавших участие в тесте recommender_system_test\n",
    "\n",
    "# Посмотрю на общее количество пользователей.По условию количество участников ожидается 6000\n",
    "print()\n",
    "print('Количество участников в тесте recommender_system_test:', \n",
    "      df.query('ab_test == \"recommender_system_test\"')['user_id'].nunique())\n",
    "print('-'*100)\n",
    "# В тест должно быть отобрано только 15% новых пользователей из Европы от общего количества пользоателей из Европы\n",
    "# Посчитаю количество всех новых пользователей из Европы, принимавших участие в тесте\n",
    "us_eu_ab_cnt = df.query('ab_test == \"recommender_system_test\" and region == \"EU\"')['user_id'].nunique()\n",
    "print()\n",
    "print('Количество пользователей из Европы в тесте recommender_system_test', us_eu_ab_cnt)\n",
    "print('-'*100)\n",
    "print()\n",
    "print('Доля европейский пользователей в тесте recommender_system_test, от всего количества европейских пользователей:', \n",
    "      \"{:.2%}\".format(us_eu_ab_cnt/us_eu_cnt))"
   ]
  },
  {
   "cell_type": "markdown",
   "metadata": {},
   "source": [
    "<font color='DarkMagenta'>В тест попали не только пользователи из Европы, но количество европейских пользователей в тесте соответствует ожидаемому количеству. И их доля от общего количества пользователей составляет 15%, как и должно быть по условию теста."
   ]
  },
  {
   "cell_type": "code",
   "execution_count": 30,
   "metadata": {},
   "outputs": [],
   "source": [
    "# Дальше для исследования нам нужны будут только пользователи из Европы, поэтому оставим в датафрейме только этот регион.\n",
    "df = df.query('region == \"EU\"')"
   ]
  },
  {
   "cell_type": "markdown",
   "metadata": {},
   "source": [
    "### Исследование на пересечение в группах"
   ]
  },
  {
   "cell_type": "code",
   "execution_count": 31,
   "metadata": {},
   "outputs": [],
   "source": [
    "# Создам переменную id пользователей в группе А\n",
    "id_a = df[df['group'] == 'A']['user_id']\n",
    "# Создам переменную id пользователей в группе В\n",
    "id_b = df[df['group'] == 'B']['user_id']\n",
    "# Создам переменную id пользователей в группе A1\n",
    "id_a1 = df[df['group'] == 'A1']['user_id']\n",
    "# Создам переменную id пользователей в группе B1\n",
    "id_b1 = df[df['group'] == 'B1']['user_id']"
   ]
  },
  {
   "cell_type": "code",
   "execution_count": 32,
   "metadata": {},
   "outputs": [
    {
     "name": "stdout",
     "output_type": "stream",
     "text": [
      "Количество пользователей одновременно в группах A и B: 0\n",
      "Количество пользователей одновременно в группах A и B1: 439\n",
      "Количество пользователей одновременно в группах B и B1: 344\n"
     ]
    }
   ],
   "source": [
    "# Сделаю срез таблицы df , в котором id пользователей одновременно есть и в группе А и В. \n",
    "#Вынесу его в отдельную переменную\n",
    "user_a_b = df.query('user_id in @id_a and user_id in @id_b')\n",
    "\n",
    "# Сделаю срез таблицы df , в котором id пользователей одновременно есть и в группах A и В1 \n",
    "#Вынесу его в отдельную переменную\n",
    "user_a_b1 = df.query('user_id in @id_a and user_id in @id_b1')\n",
    "                     \n",
    "# Сделаю срез таблицы df , в котором id пользователей одновременно есть и в группах В и В1 \n",
    "#Вынесу его в отдельную переменную\n",
    "user_b_b1 = df.query('user_id in @id_b and user_id in @id_b1')\n",
    "\n",
    "print('Количество пользователей одновременно в группах A и B:', user_a_b['user_id'].nunique())\n",
    "print('Количество пользователей одновременно в группах A и B1:', user_a_b1['user_id'].nunique())\n",
    "print('Количество пользователей одновременно в группах B и B1:', user_b_b1['user_id'].nunique())"
   ]
  },
  {
   "cell_type": "markdown",
   "metadata": {},
   "source": [
    "<font color='DarkMagenta'>Между группами исследуемого теста перессечений нет, но есть пересечения обеих групп с группой В теста interface_eu_test. Это может сильно отразиться на результатах теста<br>\n",
    "<font color='DarkMagenta'>    \n",
    "    Группа А нашего теста - контрольная. Поэтому удалим из теста пользователей, которые одновременно участвуют в гуппе А нашего теста и в группе В конкурирующего.<br>    \n",
    "<font color='DarkMagenta'>\n",
    "    Что делать с пользователями, которые пересекаются в группе В нашего теста и группе В конкурирующего, решу дальше. "
   ]
  },
  {
   "cell_type": "code",
   "execution_count": 33,
   "metadata": {
    "scrolled": true
   },
   "outputs": [],
   "source": [
    "# Удаляю из таблицы пользователей групп А и В1\n",
    "df = df.query('user_id not in @user_a_b1.user_id')\n",
    "# Для дальнейшего анализа потребуются только данные по А/В-тесту\n",
    "df = df.query('ab_test == \"recommender_system_test\"')"
   ]
  },
  {
   "cell_type": "markdown",
   "metadata": {},
   "source": [
    "### Исследование равномерности распределения пользователей по группам"
   ]
  },
  {
   "cell_type": "code",
   "execution_count": 34,
   "metadata": {},
   "outputs": [
    {
     "data": {
      "text/html": [
       "<div>\n",
       "<style scoped>\n",
       "    .dataframe tbody tr th:only-of-type {\n",
       "        vertical-align: middle;\n",
       "    }\n",
       "\n",
       "    .dataframe tbody tr th {\n",
       "        vertical-align: top;\n",
       "    }\n",
       "\n",
       "    .dataframe thead th {\n",
       "        text-align: right;\n",
       "    }\n",
       "</style>\n",
       "<table border=\"1\" class=\"dataframe\">\n",
       "  <thead>\n",
       "    <tr style=\"text-align: right;\">\n",
       "      <th></th>\n",
       "      <th>group</th>\n",
       "      <th>users_cnt</th>\n",
       "      <th>ratio_gr_%</th>\n",
       "    </tr>\n",
       "  </thead>\n",
       "  <tbody>\n",
       "    <tr>\n",
       "      <th>0</th>\n",
       "      <td>A</td>\n",
       "      <td>3195</td>\n",
       "      <td>54.04</td>\n",
       "    </tr>\n",
       "    <tr>\n",
       "      <th>1</th>\n",
       "      <td>B</td>\n",
       "      <td>2717</td>\n",
       "      <td>45.96</td>\n",
       "    </tr>\n",
       "  </tbody>\n",
       "</table>\n",
       "</div>"
      ],
      "text/plain": [
       "  group  users_cnt  ratio_gr_%\n",
       "0     A       3195       54.04\n",
       "1     B       2717       45.96"
      ]
     },
     "execution_count": 34,
     "metadata": {},
     "output_type": "execute_result"
    }
   ],
   "source": [
    "user_by_gr = (df\n",
    "              .groupby('group')['user_id'].nunique()\n",
    "              .reset_index()\n",
    "              .rename(columns={'user_id':'users_cnt'})\n",
    "             )\n",
    "                 \n",
    "\n",
    "user_by_gr['ratio_gr_%'] = (user_by_gr['users_cnt']/user_by_gr['users_cnt'].sum()*100).round(2)\n",
    "user_by_gr\n"
   ]
  },
  {
   "cell_type": "markdown",
   "metadata": {},
   "source": [
    "<font color='DarkMagenta'> В группе А на 8% больше участников. Если удалить из группы В участников, которые пересекаются с группой В конкурирующего теста, то разница станет еще больше и это сильно снизит мощность теста.<br>Поэтому оставлю группу В без изменений.<br></font>"
   ]
  },
  {
   "cell_type": "code",
   "execution_count": 35,
   "metadata": {},
   "outputs": [
    {
     "name": "stdout",
     "output_type": "stream",
     "text": [
      "Количество участников в тесте recommender_system_test: 5912\n",
      "Доля европейский пользователей в тесте recommender_system_test, от всего количества европейских пользователей: 12.78%\n"
     ]
    }
   ],
   "source": [
    "# Посчитаю какое количество участников теста осталось\n",
    "print('Количество участников в тесте recommender_system_test:', df['user_id'].nunique())\n",
    "\n",
    "print('Доля европейский пользователей в тесте recommender_system_test, от всего количества европейских пользователей:', \n",
    "      \"{:.2%}\".format(df['user_id'].nunique()/us_eu_cnt))"
   ]
  },
  {
   "cell_type": "markdown",
   "metadata": {},
   "source": [
    "<font color='DarkMagenta'> Снизилось и количество учатников в тесте, и доля пользователей из Европы уже не 15%, но удаление пересекающихся между тестами пользователей было необходимо."
   ]
  },
  {
   "cell_type": "markdown",
   "metadata": {},
   "source": [
    "### Исследование  событий"
   ]
  },
  {
   "cell_type": "code",
   "execution_count": 36,
   "metadata": {},
   "outputs": [],
   "source": [
    "# Переименую столбец event_dt в event_ts (так я буду понимать, что в столбце хранится информация о дата и времени события)\n",
    "df = df.rename(columns={'event_dt':'event_ts'})"
   ]
  },
  {
   "cell_type": "code",
   "execution_count": 37,
   "metadata": {},
   "outputs": [],
   "source": [
    "df['event_dt'] = pd.to_datetime(df['event_ts'].dt.strftime('%Y-%m-%d'))"
   ]
  },
  {
   "cell_type": "code",
   "execution_count": 38,
   "metadata": {},
   "outputs": [
    {
     "data": {
      "image/png": "[encoded data removed]",
      "text/plain": [
       "<Figure size 1500x600 with 1 Axes>"
      ]
     },
     "metadata": {},
     "output_type": "display_data"
    }
   ],
   "source": [
    "# Посмотрю на распределение количества событий по датам, чтобы убедиться, что данные полные за весь период.\n",
    "(\n",
    "    df\n",
    "    .groupby('event_dt').agg({'event_name':'count'})\n",
    "    .plot(kind='bar',\n",
    "          grid=True,\n",
    "          figsize=(15,6)\n",
    "         )\n",
    ")\n",
    "plt.title('Число событий по датам')\n",
    "plt.xlabel('Дата')\n",
    "plt.ylabel('Число событий')\n",
    "plt.show()"
   ]
  },
  {
   "cell_type": "markdown",
   "metadata": {},
   "source": [
    "<font color='DarkMagenta'> Датафрейм содержит события только до 2020-12-30. Но за 2020-12-30 данных мало.   Максимальное количестов событий приходилось на середину периода проведения теста. Как раз в эти даты пришло больше всех пользователей. "
   ]
  },
  {
   "cell_type": "code",
   "execution_count": 39,
   "metadata": {},
   "outputs": [
    {
     "name": "stdout",
     "output_type": "stream",
     "text": [
      "Последнее событие в датасете произошло: 2020-12-30 12:42:57\n"
     ]
    }
   ],
   "source": [
    "# Посмотрю Помотрю на дату и время последнего события\n",
    "print('Последнее событие в датасете произошло:', df['event_ts'].max())"
   ]
  },
  {
   "cell_type": "markdown",
   "metadata": {},
   "source": [
    "<font color='DarkMagenta'> Данные в таблице только до полудня 2020-12-30. Возможно что-то случилось в новогодние праздники, поэтому данные выгрузились не за весь период. Но с этим мы ничего сделать не можем, будем работать с теми данными, что есть."
   ]
  },
  {
   "cell_type": "markdown",
   "metadata": {},
   "source": [
    "### Исследование пользователей, которые не совершали действий"
   ]
  },
  {
   "cell_type": "code",
   "execution_count": 40,
   "metadata": {},
   "outputs": [
    {
     "name": "stdout",
     "output_type": "stream",
     "text": [
      "\n",
      "Общее количество пользователей в тесте, которые не совершали действий: 2756\n",
      "----------------------------------------------------------------------------------------------------\n",
      "\n",
      "Доля пользователей в тесте, которые не совершали действий: 46.62%\n"
     ]
    }
   ],
   "source": [
    "# Проверю все ли пользователи совершали события\n",
    "event_0 = df[df['event_name'].isna()]\n",
    "print()\n",
    "print('Общее количество пользователей в тесте, которые не совершали действий:', event_0['user_id'].nunique())\n",
    "print('-'*100)\n",
    "print()\n",
    "print('Доля пользователей в тесте, которые не совершали действий:', \"{:.2%}\".format(event_0['user_id'].nunique()/df['user_id'].nunique()))"
   ]
  },
  {
   "cell_type": "markdown",
   "metadata": {},
   "source": [
    "<font color='DarkMagenta'> Таких пользователей почти половина. Это очень большое количество. Посмотрю как они распределились по группам."
   ]
  },
  {
   "cell_type": "markdown",
   "metadata": {},
   "source": []
  },
  {
   "cell_type": "code",
   "execution_count": 41,
   "metadata": {},
   "outputs": [
    {
     "name": "stdout",
     "output_type": "stream",
     "text": [
      "\n",
      "Количество пользователей группы А, которые не совершали действий: 916\n",
      "Количество пользователей группы В, которые не совершали действий: 1840\n",
      "----------------------------------------------------------------------------------------------------\n",
      "\n",
      "Доля пользователей группы А, оторые не совершали действий: 28.67%\n",
      "Доля пользователей группы В, оторые не совершали действий: 67.72%\n"
     ]
    }
   ],
   "source": [
    "# Срез пользователей группы А\n",
    "user_a = df.query('group == \"A\"')\n",
    "# Пользователи группы А, которые не совершали действий\n",
    "user_event_0_a = user_a[user_a['event_name'].isna()]\n",
    "# Срез пользователей группы В\n",
    "user_b = df.query('group == \"B\"')\n",
    "# Пользователи группы В, которые не совершали действий\n",
    "user_event_0_b = user_b[user_b['event_name'].isna()]\n",
    "print()\n",
    "print('Количество пользователей группы А, которые не совершали действий:', user_event_0_a['user_id'].nunique())\n",
    "print('Количество пользователей группы В, которые не совершали действий:', user_event_0_b['user_id'].nunique())\n",
    "print('-'*100)\n",
    "print()\n",
    "print('Доля пользователей группы А, оторые не совершали действий:',\n",
    "      \"{:.2%}\".format(user_event_0_a['user_id'].nunique()/user_a['user_id'].nunique()))\n",
    "print('Доля пользователей группы В, оторые не совершали действий:',\n",
    "      \"{:.2%}\".format(user_event_0_b['user_id'].nunique()/user_b['user_id'].nunique()))"
   ]
  },
  {
   "cell_type": "markdown",
   "metadata": {},
   "source": [
    "<font color='DarkMagenta'> В группе B изначально было меньше пользователей. Теперь еще получили информацию, что 2/3 пользователей, которые не совершили ни одного действия находятся в группе В."
   ]
  },
  {
   "cell_type": "code",
   "execution_count": 42,
   "metadata": {},
   "outputs": [],
   "source": [
    "# Окончательно определимся с аудиторией теста. Удалим из таблицы всех пользователей, которые не совершали действий\n",
    "df = df.query('user_id not in @event_0.user_id')"
   ]
  },
  {
   "cell_type": "code",
   "execution_count": 43,
   "metadata": {
    "scrolled": true
   },
   "outputs": [
    {
     "data": {
      "text/html": [
       "<div>\n",
       "<style scoped>\n",
       "    .dataframe tbody tr th:only-of-type {\n",
       "        vertical-align: middle;\n",
       "    }\n",
       "\n",
       "    .dataframe tbody tr th {\n",
       "        vertical-align: top;\n",
       "    }\n",
       "\n",
       "    .dataframe thead th {\n",
       "        text-align: right;\n",
       "    }\n",
       "</style>\n",
       "<table border=\"1\" class=\"dataframe\">\n",
       "  <thead>\n",
       "    <tr style=\"text-align: right;\">\n",
       "      <th></th>\n",
       "      <th>group</th>\n",
       "      <th>users_cnt</th>\n",
       "      <th>ratio_gr_%</th>\n",
       "    </tr>\n",
       "  </thead>\n",
       "  <tbody>\n",
       "    <tr>\n",
       "      <th>0</th>\n",
       "      <td>A</td>\n",
       "      <td>2279</td>\n",
       "      <td>72.21</td>\n",
       "    </tr>\n",
       "    <tr>\n",
       "      <th>1</th>\n",
       "      <td>B</td>\n",
       "      <td>877</td>\n",
       "      <td>27.79</td>\n",
       "    </tr>\n",
       "  </tbody>\n",
       "</table>\n",
       "</div>"
      ],
      "text/plain": [
       "  group  users_cnt  ratio_gr_%\n",
       "0     A       2279       72.21\n",
       "1     B        877       27.79"
      ]
     },
     "execution_count": 43,
     "metadata": {},
     "output_type": "execute_result"
    }
   ],
   "source": [
    "user_by_gr1 = (df\n",
    "              .groupby('group')['user_id'].nunique()\n",
    "              .reset_index()\n",
    "              .rename(columns={'user_id':'users_cnt'})\n",
    "             )\n",
    "                 \n",
    "\n",
    "user_by_gr1['ratio_gr_%'] = (user_by_gr1['users_cnt']/user_by_gr1['users_cnt'].sum()*100).round(2)\n",
    "user_by_gr1"
   ]
  },
  {
   "cell_type": "markdown",
   "metadata": {},
   "source": [
    "<font color='DarkMagenta'> Из всего количества пользователей больше 70% - это пользователи из контрольной группы и только меньше 30% - тестовая. "
   ]
  },
  {
   "cell_type": "markdown",
   "metadata": {},
   "source": [
    "### Исследование маркетинговых кампаний"
   ]
  },
  {
   "cell_type": "code",
   "execution_count": 44,
   "metadata": {},
   "outputs": [
    {
     "data": {
      "text/html": [
       "<div>\n",
       "<style scoped>\n",
       "    .dataframe tbody tr th:only-of-type {\n",
       "        vertical-align: middle;\n",
       "    }\n",
       "\n",
       "    .dataframe tbody tr th {\n",
       "        vertical-align: top;\n",
       "    }\n",
       "\n",
       "    .dataframe thead th {\n",
       "        text-align: right;\n",
       "    }\n",
       "</style>\n",
       "<table border=\"1\" class=\"dataframe\">\n",
       "  <thead>\n",
       "    <tr style=\"text-align: right;\">\n",
       "      <th></th>\n",
       "      <th>name</th>\n",
       "      <th>regions</th>\n",
       "      <th>start_dt</th>\n",
       "      <th>finish_dt</th>\n",
       "    </tr>\n",
       "  </thead>\n",
       "  <tbody>\n",
       "    <tr>\n",
       "      <th>0</th>\n",
       "      <td>Christmas&amp;New Year Promo</td>\n",
       "      <td>EU, N.America</td>\n",
       "      <td>2020-12-25</td>\n",
       "      <td>2021-01-03</td>\n",
       "    </tr>\n",
       "    <tr>\n",
       "      <th>10</th>\n",
       "      <td>CIS New Year Gift Lottery</td>\n",
       "      <td>CIS</td>\n",
       "      <td>2020-12-30</td>\n",
       "      <td>2021-01-07</td>\n",
       "    </tr>\n",
       "  </tbody>\n",
       "</table>\n",
       "</div>"
      ],
      "text/plain": [
       "                         name        regions   start_dt  finish_dt\n",
       "0    Christmas&New Year Promo  EU, N.America 2020-12-25 2021-01-03\n",
       "10  CIS New Year Gift Lottery            CIS 2020-12-30 2021-01-07"
      ]
     },
     "execution_count": 44,
     "metadata": {},
     "output_type": "execute_result"
    }
   ],
   "source": [
    "# Посмотрим какие активности выпадают на период проведения теста.\n",
    "# Выведу список маркетингвых кампаний, дата завершения которых после 2020-12-07\n",
    "project_marketing_events = project_marketing_events.query('finish_dt > \"2020-12-07\"')\n",
    "project_marketing_events"
   ]
  },
  {
   "cell_type": "markdown",
   "metadata": {},
   "source": [
    "<font color='DarkMagenta'>На территории Европы во время проведения теста будет проходить только 1 кампания. Но она в равной степени будет влиять на обе группы, поэтому не буду удалять из основного датафрейма даты, в которые совершались события во время проведения маркетинговых активностей. И слишком большой период удалится, что сделает результаты А/В-теста необъективными."
   ]
  },
  {
   "cell_type": "markdown",
   "metadata": {},
   "source": []
  },
  {
   "cell_type": "markdown",
   "metadata": {},
   "source": [
    "### Исследование лайфтайма"
   ]
  },
  {
   "cell_type": "code",
   "execution_count": 45,
   "metadata": {},
   "outputs": [],
   "source": [
    "# По условиям задания ожидаемый эффект - улучшение каждой метрики на 10% - должен наступить за 14 дней\n",
    "# Посчитаю лайфтайм для каждого события пользователя\n",
    "df['lifetime'] = (df['event_dt'] - df['first_date']).dt.days"
   ]
  },
  {
   "cell_type": "code",
   "execution_count": 46,
   "metadata": {},
   "outputs": [
    {
     "data": {
      "text/plain": [
       "array([ 0,  1,  2,  3,  4,  5,  6,  7,  8,  9, 10, 11, 12, 13, 14, 15, 16,\n",
       "       17, 18, 19, 20, 21, 22, 23])"
      ]
     },
     "execution_count": 46,
     "metadata": {},
     "output_type": "execute_result"
    }
   ],
   "source": [
    "# Посмотрю все уникальные значения колонки lifetime\n",
    "df['lifetime'].sort_values().unique()"
   ]
  },
  {
   "cell_type": "code",
   "execution_count": 47,
   "metadata": {},
   "outputs": [],
   "source": [
    "# В соответствии с заданием оставим только те события, которые произошли только в течении 14 дней после регистрации\n",
    "df = df[df['lifetime']<=14]"
   ]
  },
  {
   "cell_type": "markdown",
   "metadata": {},
   "source": [
    "### Выводы по анализу корректности проведения А/В-теста"
   ]
  },
  {
   "cell_type": "markdown",
   "metadata": {},
   "source": [
    "- Набор новых пользователей в наш тест был завершен 23 декабря. В задании сказано, что набор должен был быть остановлен 21 декабря. Но в тесте приняли участие пользователи, которые зарегистрировались с 2020-12-07  до 2020-12-21 включительно. Это соответствует техническому заданию.\n",
    "\n",
    "- Больше всех пользователей пришло 2020-12-14 и 2020-12-21\n",
    "\n",
    "- В тест попали не только пользователи из Европы, но количество европейских пользователей в тесте соответствует ожидаемому количеству. И их доля от общего количества пользователей составляет 15%, как и должно быть по условию теста. \n",
    "\n",
    "- Т.к. тест был направлен на пользователей из Европы, то мы удалили пользователей всех других регионов из теста.\n",
    "   \n",
    "- Между группами исследуемого теста перессечений нет, но есть пересечения обеих групп с группой В теста interface_eu_test. Это может сильно отразиться на результатах теста\n",
    "    \n",
    "- Группа А нашего теста - контрольная. Поэтому удалили из теста пользователей, которые одновременно участвуют в гуппе А нашего теста и и группе В конкурирующего.\n",
    "\n",
    "- Снизилось и количество учатников в тесте, и доля пользователей из Европы уже не 15%, но удаление пересекающихся между тестами пользователей было необходимо.\n",
    "\n",
    "- В группе А на 8% больше участников. Если удалить из группы В участников, которые пересекаются с группой В конкурирующего теста, то разница станет еще больше и это сильно снизит мощность теста. Поэтому оставили в группе В нашего теста пользователей, которые попали в группу В конкурирующего теста.\n",
    "\n",
    "- 2/3 пользователей, которые не совершили ни одного действия находятся в группе В.\n",
    "\n",
    "- Данные по совершенным событиям есть только за период с 2020-12-07 до полудня 2020-12-30. Возможно что-то случилось в новогодние праздники, поэтому данные выгрузились не за весь период. Но с этим мы ничего сделать не можем, будем работать с теми данными, что есть.\n",
    "\n",
    "- На территории Европы во время проведения теста будет проходить только 1 маркетинговая кампания. Но она в равной степени будет влиять на обе группы, поэтому не буду удалять из основного датафрейма даты, в которые совершались события во время проведения маркетинговых активностей.\n",
    "\n",
    "- По ТЗ мы должны проверить конверсию только за 14 дней с момента регистрации пользователя. Удалили в таблице все события, которые произошли после 14 дней с момента регистрации пользователя в приложении."
   ]
  },
  {
   "cell_type": "markdown",
   "metadata": {},
   "source": [
    "## Исследовательский анализ"
   ]
  },
  {
   "cell_type": "markdown",
   "metadata": {},
   "source": [
    "### Количество событий на пользователя"
   ]
  },
  {
   "cell_type": "code",
   "execution_count": 48,
   "metadata": {},
   "outputs": [
    {
     "data": {
      "text/html": [
       "<div>\n",
       "<style scoped>\n",
       "    .dataframe tbody tr th:only-of-type {\n",
       "        vertical-align: middle;\n",
       "    }\n",
       "\n",
       "    .dataframe tbody tr th {\n",
       "        vertical-align: top;\n",
       "    }\n",
       "\n",
       "    .dataframe thead th {\n",
       "        text-align: right;\n",
       "    }\n",
       "</style>\n",
       "<table border=\"1\" class=\"dataframe\">\n",
       "  <thead>\n",
       "    <tr style=\"text-align: right;\">\n",
       "      <th></th>\n",
       "      <th>events_cnt</th>\n",
       "      <th>users_cnt</th>\n",
       "      <th>events_avg</th>\n",
       "    </tr>\n",
       "    <tr>\n",
       "      <th>group</th>\n",
       "      <th></th>\n",
       "      <th></th>\n",
       "      <th></th>\n",
       "    </tr>\n",
       "  </thead>\n",
       "  <tbody>\n",
       "    <tr>\n",
       "      <th>A</th>\n",
       "      <td>15851</td>\n",
       "      <td>2279</td>\n",
       "      <td>6.96</td>\n",
       "    </tr>\n",
       "    <tr>\n",
       "      <th>B</th>\n",
       "      <td>4851</td>\n",
       "      <td>877</td>\n",
       "      <td>5.53</td>\n",
       "    </tr>\n",
       "  </tbody>\n",
       "</table>\n",
       "</div>"
      ],
      "text/plain": [
       "       events_cnt  users_cnt  events_avg\n",
       "group                                   \n",
       "A           15851       2279        6.96\n",
       "B            4851        877        5.53"
      ]
     },
     "execution_count": 48,
     "metadata": {},
     "output_type": "execute_result"
    }
   ],
   "source": [
    "# Посчитаю среднее количество событий на пользователя в каждой группе\n",
    "events_avg = (df.groupby('group')\n",
    "              .agg({'event_name':'count',\n",
    "                   'user_id':'nunique'})\n",
    "              .rename(columns={'event_name':'events_cnt', 'user_id':'users_cnt'})\n",
    "             )\n",
    "events_avg['events_avg'] = (events_avg['events_cnt']/events_avg['users_cnt']).round(2)\n",
    "events_avg"
   ]
  },
  {
   "cell_type": "code",
   "execution_count": 49,
   "metadata": {},
   "outputs": [
    {
     "data": {
      "image/png": "[encoded data removed]",
      "text/plain": [
       "<Figure size 1000x500 with 1 Axes>"
      ]
     },
     "metadata": {},
     "output_type": "display_data"
    }
   ],
   "source": [
    "# Посмотрю как добавлялись новые пользователи по датам\n",
    "(\n",
    "    events_avg['events_avg']\n",
    "    .plot(kind='bar',\n",
    "          grid=True,\n",
    "          figsize=(10,5)\n",
    "         )\n",
    ")\n",
    "plt.xticks(rotation=0)\n",
    "plt.title('Количество событий на одного пользователя в группах')\n",
    "plt.xlabel('Группа теста')\n",
    "plt.ylabel('Количество событий')\n",
    "plt.show()"
   ]
  },
  {
   "cell_type": "markdown",
   "metadata": {},
   "source": [
    "<font color='DarkMagenta'>Пользователь группы А совершает больше событий, чем пользователь группы В."
   ]
  },
  {
   "cell_type": "markdown",
   "metadata": {},
   "source": [
    "Проведу статистический тест: сравню среднее количество событий на каждого пользователя между группами\n",
    "\n",
    "Сформулирую нулевую и альтернативную гипотезы:\n",
    "\n",
    "    - H0 - Среднее количество событий на одного пользователя в группах А и В одинаково\n",
    "    - H1 - Среднее количество событий на одного пользователя в группах А и В не одинаково"
   ]
  },
  {
   "cell_type": "code",
   "execution_count": 50,
   "metadata": {},
   "outputs": [],
   "source": [
    "# Создам таблицу с количеством действий каждого пользователя\n",
    "cnt_events_per_user = (df\n",
    "                       .groupby(['user_id', 'group'])['event_name']\n",
    "                       .count()\n",
    "                       .reset_index()\n",
    "                       .rename(columns={'event_name':'events_cnt'})\n",
    "                      )\n",
    "\n",
    "# Tаблица с количеством действий каждого пользователя в группе А\n",
    "cnt_events_per_user_a = cnt_events_per_user[cnt_events_per_user['group']=='A']\n",
    "# Tаблица с количеством действий каждого пользователя в группе B\n",
    "cnt_events_per_user_b = cnt_events_per_user[cnt_events_per_user['group']=='B']"
   ]
  },
  {
   "cell_type": "code",
   "execution_count": 51,
   "metadata": {},
   "outputs": [
    {
     "name": "stdout",
     "output_type": "stream",
     "text": [
      "Среднее количество действий каждого пользователя в группе А 6.96\n",
      "Среднее количество действий каждого пользователя в группе B: 5.53\n",
      "p-значение: 9.28786353256608e-22\n",
      "Отвергаем нулевую гипотезу, между долями есть значимая разница\n"
     ]
    }
   ],
   "source": [
    "print('Среднее количество действий каждого пользователя в группе А', cnt_events_per_user_a['events_cnt'].mean().round(2))\n",
    "print('Среднее количество действий каждого пользователя в группе B:', cnt_events_per_user_b['events_cnt'].mean().round(2))\n",
    "\n",
    "# results = вызов метода для проверки гипотезы\n",
    "results = st.ttest_ind(\n",
    "    cnt_events_per_user_a['events_cnt'],\n",
    "    cnt_events_per_user_b['events_cnt']\n",
    ")\n",
    "# alpha = задайте значение уровня значимости\n",
    "alpha = .05\n",
    "# вывод значения p-value на экран \n",
    "print('p-значение:',results.pvalue)\n",
    "# условный оператор с выводом строки с ответом\n",
    "if results.pvalue < alpha:\n",
    "    print('Отвергаем нулевую гипотезу, между долями есть значимая разница')\n",
    "else:\n",
    "    print('Не получилось отвергнуть нулевую гипотезу, нет оснований считать доли разными')"
   ]
  },
  {
   "cell_type": "markdown",
   "metadata": {},
   "source": [
    "### Число событий в группах по дням"
   ]
  },
  {
   "cell_type": "code",
   "execution_count": 52,
   "metadata": {},
   "outputs": [
    {
     "data": {
      "image/png": "[encoded data removed]"
     },
     "metadata": {},
     "output_type": "display_data"
    }
   ],
   "source": [
    "# Исследую число событий в группах по дням\n",
    "events_by_day = (df.groupby(['event_dt', 'group'])['event_name']\n",
    "                 .count()\n",
    "                 .reset_index()\n",
    "                 .rename(columns={'event_name':'events_cnt'})\n",
    "                )\n",
    "                 \n",
    "# Построю график\n",
    "fig = px.bar(events_by_day, # загружаем данные и заново их сортируем\n",
    "             x='event_dt', # указываем столбец с данными для оси X\n",
    "             y='events_cnt', # указываем столбец с данными для оси Y\n",
    "             text='events_cnt', # добавляем аргумент, который отобразит текст с информацией\n",
    "             barmode='group',\n",
    "             color='group',\n",
    "             color_discrete_map = {'не сетевое':'darkcyan',\n",
    "                                    'сетевое': 'darkcyan'},\n",
    "            width=1000,\n",
    "            height=600)\n",
    "fig.update_layout(title='Количество событий по дням',\n",
    "                   xaxis_title='Дата',\n",
    "                   yaxis_title='Количество событий'\n",
    "                 )\n",
    "fig.show(renderer=\"png\", width=1000, height=600)"
   ]
  },
  {
   "cell_type": "markdown",
   "metadata": {},
   "source": [
    "<font color='DarkMagenta'> Пользователи группы А совершают больше событий. Это логично, т.к. количество пользователей в этой группе в 2,5 раза больше. Самое большое количество событий в обеих группах было в один день 2020-12-21."
   ]
  },
  {
   "cell_type": "markdown",
   "metadata": {},
   "source": [
    "<font color='DarkMagenta'> С 14 декабря у группы А наблюдается резкий рост в количестве событий. Ранее мы выяснили, что по понедельникам 7, 14 и 21 числа происходил самый большой приток пользователей. Посмотрю на динамику набора пользователей по группам"
   ]
  },
  {
   "cell_type": "code",
   "execution_count": 53,
   "metadata": {},
   "outputs": [],
   "source": [
    "# Подготовим данные для графика\n",
    "new_users_by_group = (df\n",
    "                      .groupby(['event_dt', 'group'])['user_id']\n",
    "                      .count()\n",
    "                      .reset_index()\n",
    "                     )"
   ]
  },
  {
   "cell_type": "code",
   "execution_count": 54,
   "metadata": {},
   "outputs": [
    {
     "data": {
      "text/plain": [
       "(array([18605., 18609., 18613., 18617., 18621., 18625.]),\n",
       " [Text(18605.0, 0, '2020-12-09'),\n",
       "  Text(18609.0, 0, '2020-12-13'),\n",
       "  Text(18613.0, 0, '2020-12-17'),\n",
       "  Text(18617.0, 0, '2020-12-21'),\n",
       "  Text(18621.0, 0, '2020-12-25'),\n",
       "  Text(18625.0, 0, '2020-12-29')])"
      ]
     },
     "execution_count": 54,
     "metadata": {},
     "output_type": "execute_result"
    },
    {
     "data": {
      "image/png": "[encoded data removed]",
      "text/plain": [
       "<Figure size 1500x600 with 1 Axes>"
      ]
     },
     "metadata": {},
     "output_type": "display_data"
    }
   ],
   "source": [
    "# Строим график динамики набора пользователей\n",
    "plt.figure(figsize=(15,6))\n",
    "ax = sns.lineplot(data=new_users_by_group, x='event_dt', y='user_id', hue='group')\n",
    "#x.set_xticks(new_users_by_group['event_dt'])\n",
    "plt.xticks(rotation=90)"
   ]
  },
  {
   "cell_type": "markdown",
   "metadata": {},
   "source": [
    "<font color='DarkMagenta'> Теперь стало понятно откуда появился такой рост в количестве событий у группы А. С 14 декабря заметен резкий скачок количества пользователей в группе А, которое увеличивалось вплоть до 21 декабря. В это самое время в группе В количество новых пользователей в день не сильно колеблется. Отсюда и такая разница в размере групп. Необходимо проверить механизм распределения пользователей по группам."
   ]
  },
  {
   "cell_type": "markdown",
   "metadata": {},
   "source": [
    "### Изменение конверсии в воронке в группах на разных этапах."
   ]
  },
  {
   "cell_type": "code",
   "execution_count": 55,
   "metadata": {},
   "outputs": [
    {
     "data": {
      "text/html": [
       "<div>\n",
       "<style scoped>\n",
       "    .dataframe tbody tr th:only-of-type {\n",
       "        vertical-align: middle;\n",
       "    }\n",
       "\n",
       "    .dataframe tbody tr th {\n",
       "        vertical-align: top;\n",
       "    }\n",
       "\n",
       "    .dataframe thead th {\n",
       "        text-align: right;\n",
       "    }\n",
       "</style>\n",
       "<table border=\"1\" class=\"dataframe\">\n",
       "  <thead>\n",
       "    <tr style=\"text-align: right;\">\n",
       "      <th></th>\n",
       "      <th>event_name</th>\n",
       "      <th>event_cnt</th>\n",
       "    </tr>\n",
       "  </thead>\n",
       "  <tbody>\n",
       "    <tr>\n",
       "      <th>0</th>\n",
       "      <td>login</td>\n",
       "      <td>9363</td>\n",
       "    </tr>\n",
       "    <tr>\n",
       "      <th>1</th>\n",
       "      <td>product_page</td>\n",
       "      <td>5771</td>\n",
       "    </tr>\n",
       "    <tr>\n",
       "      <th>2</th>\n",
       "      <td>purchase</td>\n",
       "      <td>2829</td>\n",
       "    </tr>\n",
       "    <tr>\n",
       "      <th>3</th>\n",
       "      <td>product_cart</td>\n",
       "      <td>2739</td>\n",
       "    </tr>\n",
       "  </tbody>\n",
       "</table>\n",
       "</div>"
      ],
      "text/plain": [
       "     event_name  event_cnt\n",
       "0         login       9363\n",
       "1  product_page       5771\n",
       "2      purchase       2829\n",
       "3  product_cart       2739"
      ]
     },
     "execution_count": 55,
     "metadata": {},
     "output_type": "execute_result"
    }
   ],
   "source": [
    "# Посмотрю как часто встречаются события. Отсортирую их по убыванию\n",
    "funnel_of_events = (df['event_name']\n",
    "                    .value_counts()\n",
    "                    .to_frame()\n",
    "                    .reset_index()\n",
    "                    .rename(columns={'index':'event_name',\n",
    "                                    'event_name':'event_cnt'})\n",
    "                   )\n",
    "funnel_of_events"
   ]
  },
  {
   "cell_type": "markdown",
   "metadata": {},
   "source": [
    "<font color='DarkMagenta'> По частоте события располагаются следующим образом:<br> 1) login\t- вход<br>2) product_page - просмотр карточек товаров <br>3) purchase - покупка<br> 4) product_cart - просмотры корзины   "
   ]
  },
  {
   "cell_type": "markdown",
   "metadata": {},
   "source": [
    "<font color='DarkMagenta'> Логично утверждать, что воронка событий должна идти в следующем порядке:<br> 1) login - вход<br>2) product_page - просмотр карточек товаров<br>3) product_cart - просмотры корзины<br> 4) purchase - покупка"
   ]
  },
  {
   "cell_type": "code",
   "execution_count": 56,
   "metadata": {},
   "outputs": [
    {
     "data": {
      "text/html": [
       "<div>\n",
       "<style scoped>\n",
       "    .dataframe tbody tr th:only-of-type {\n",
       "        vertical-align: middle;\n",
       "    }\n",
       "\n",
       "    .dataframe tbody tr th {\n",
       "        vertical-align: top;\n",
       "    }\n",
       "\n",
       "    .dataframe thead th {\n",
       "        text-align: right;\n",
       "    }\n",
       "</style>\n",
       "<table border=\"1\" class=\"dataframe\">\n",
       "  <thead>\n",
       "    <tr style=\"text-align: right;\">\n",
       "      <th>group</th>\n",
       "      <th>event_name</th>\n",
       "      <th>A</th>\n",
       "      <th>B</th>\n",
       "    </tr>\n",
       "  </thead>\n",
       "  <tbody>\n",
       "    <tr>\n",
       "      <th>0</th>\n",
       "      <td>login</td>\n",
       "      <td>2279</td>\n",
       "      <td>876</td>\n",
       "    </tr>\n",
       "    <tr>\n",
       "      <th>2</th>\n",
       "      <td>product_page</td>\n",
       "      <td>1476</td>\n",
       "      <td>493</td>\n",
       "    </tr>\n",
       "    <tr>\n",
       "      <th>1</th>\n",
       "      <td>product_cart</td>\n",
       "      <td>686</td>\n",
       "      <td>244</td>\n",
       "    </tr>\n",
       "    <tr>\n",
       "      <th>3</th>\n",
       "      <td>purchase</td>\n",
       "      <td>734</td>\n",
       "      <td>249</td>\n",
       "    </tr>\n",
       "  </tbody>\n",
       "</table>\n",
       "</div>"
      ],
      "text/plain": [
       "group    event_name     A    B\n",
       "0             login  2279  876\n",
       "2      product_page  1476  493\n",
       "1      product_cart   686  244\n",
       "3          purchase   734  249"
      ]
     },
     "execution_count": 56,
     "metadata": {},
     "output_type": "execute_result"
    }
   ],
   "source": [
    "# Подготовлю данные для воронки\n",
    "event_by_group = (\n",
    "    df\n",
    "    .pivot_table(\n",
    "        index='event_name',\n",
    "        columns = 'group',\n",
    "        values = 'user_id',\n",
    "        aggfunc='nunique')\n",
    "    .reset_index()\n",
    "    .reindex([0,2,1,3])\n",
    ")\n",
    "event_by_group"
   ]
  },
  {
   "cell_type": "code",
   "execution_count": 57,
   "metadata": {},
   "outputs": [
    {
     "data": {
      "image/png": "[encoded data removed]"
     },
     "metadata": {},
     "output_type": "display_data"
    }
   ],
   "source": [
    "# Построю воронку событий\n",
    "fig = go.Figure(layout=dict(title=dict(text=\"Воронка событий по группам А и В\")))\n",
    "\n",
    "fig.add_trace(go.Funnel(\n",
    "    name = 'A',\n",
    "    orientation = \"h\",\n",
    "    y = event_by_group['event_name'],\n",
    "    x = event_by_group['A'],\n",
    "    textinfo = \"value+percent previous+percent initial\"))\n",
    "\n",
    "fig.add_trace(go.Funnel(\n",
    "    name = 'B',\n",
    "    orientation = \"h\",\n",
    "    y = event_by_group['event_name'],\n",
    "    x = event_by_group['B'],\n",
    "    textinfo = \"value+percent previous+percent initial\"))\n",
    "\n",
    "\n",
    "fig.show(renderer=\"png\", width=1000, height=600)"
   ]
  },
  {
   "cell_type": "markdown",
   "metadata": {},
   "source": [
    "<font color='DarkMagenta'> По таблице и по графику воронки видно, что есть те пользователели, которые оплачивают товар, минуя корзину. Ни один из этапов воронки не показал улучшение метрики на 10% относительно контрольной группы. Конверсия  в каждое событие тестируемой группы В хуже, чем результаты контрольной группы А."
   ]
  },
  {
   "cell_type": "markdown",
   "metadata": {},
   "source": [
    "### Выводы по исследовательскому анализу"
   ]
  },
  {
   "cell_type": "markdown",
   "metadata": {},
   "source": [
    "- Пользователь группы А совершает больше событий, чем пользователь группы В.\n",
    "\n",
    "- Пользователи группы А совершают больше событий. Это логично, т.к. количество пользователей в этой группе в 2,5 раза больше. Самое большое количество событий в обеих группах было в один день 2020-12-21.\n",
    "\n",
    "- С 14 декабря у группы А наблюдается резкий рост в количестве событий. Ранее мы выяснили, что по понедельникам 7, 14 и 21 числа происходил самый большой приток пользователей.\n",
    "\n",
    "- С 14 декабря заметен резкий скачок количества пользователей в группе А, которое увеличивалось вплоть до 21 декабря. В это самое время в группе В количество новых пользователей в день не сильно колеблется. Отсюда и такая разница в размере групп. Необходимо проверить механизм распределения пользователей по группам.\n",
    "\n",
    "- Есть пользователи, которые оплачивают товар, минуя корзину. Ни один из этапов воронки не показал улучшение метрики на 10% относительно контрольной группы. Конверсия в каждое событие тестируемой группы В хуже, чем результаты контрольной группы А."
   ]
  },
  {
   "cell_type": "markdown",
   "metadata": {},
   "source": [
    "## Оценка результатов А/В-тестирования"
   ]
  },
  {
   "cell_type": "code",
   "execution_count": 58,
   "metadata": {},
   "outputs": [
    {
     "data": {
      "text/plain": [
       "group\n",
       "A    2279\n",
       "B     877\n",
       "Name: user_id, dtype: int64"
      ]
     },
     "execution_count": 58,
     "metadata": {},
     "output_type": "execute_result"
    }
   ],
   "source": [
    "# Выведу количество пользователей в каждой группе\n",
    "user_by_group = df.groupby('group')['user_id'].nunique()\n",
    "user_by_group"
   ]
  },
  {
   "cell_type": "markdown",
   "metadata": {},
   "source": [
    "**Проведу z-тест между группами А и В по всем событиям.**\n",
    "- H0 - доли между группами А и В равны\n",
    "- H1 - доли между группами А и В не равны\n",
    "\n",
    "Установлю уровень статистической значимости 0,05"
   ]
  },
  {
   "cell_type": "code",
   "execution_count": 59,
   "metadata": {},
   "outputs": [],
   "source": [
    "def z_test(group_1, group_2, alpha):\n",
    "    for i in event_by_group.index:\n",
    "        # пропорция успехов в первой группе:\n",
    "        p1 = event_by_group[group_1][i]/user_by_group[group_1]\n",
    "\n",
    "        # пропорция успехов во второй группе:\n",
    "        p2 = event_by_group[group_2][i]/user_by_group[group_2]\n",
    "        \n",
    "        print(event_by_group[group_1][i], event_by_group[group_2][i], user_by_group[group_1], user_by_group[group_2])\n",
    "\n",
    "        # пропорция успехов в комбинированном датасете:\n",
    "        p_combined = (event_by_group[group_1][i] + event_by_group[group_2][i]) / (user_by_group[group_1] + user_by_group[group_2])\n",
    "\n",
    "        # разница пропорций в датасетах\n",
    "        difference = p1 - p2 \n",
    "        # считаем статистику в ст.отклонениях стандартного нормального распределения\n",
    "        z_value = difference / mth.sqrt(p_combined * (1 - p_combined) * (1/user_by_group[group_1] + 1/user_by_group[group_2]))\n",
    "\n",
    "        # задаем стандартное нормальное распределение (среднее 0, ст.отклонение 1)\n",
    "        distr = st.norm(0, 1)  \n",
    "        p_value = (1 - distr.cdf(abs(z_value))) * 2\n",
    "        \n",
    "         # Т.к. всего проведем 4 теста, то посчитаем уровень статистической значимости с поправкой Боферрони\n",
    "        bonferroni_alpha = alpha/4 \n",
    "        print('p-значение события {} между группами {} и {} равно {}'.format(event_by_group['event_name'][i], group_1, group_2, p_value))\n",
    "\n",
    "        if p_value < bonferroni_alpha:\n",
    "            print('Отвергаем нулевую гипотезу: между долями есть значимая разница')\n",
    "        else:\n",
    "            print(\n",
    "                'Не получилось отвергнуть нулевую гипотезу, нет оснований считать доли разными'\n",
    "            ) \n",
    "        print('='*50)"
   ]
  },
  {
   "cell_type": "code",
   "execution_count": 60,
   "metadata": {},
   "outputs": [
    {
     "name": "stdout",
     "output_type": "stream",
     "text": [
      "2279 876 2279 877\n",
      "p-значение события login между группами A и B равно 0.10690044633093154\n",
      "Не получилось отвергнуть нулевую гипотезу, нет оснований считать доли разными\n",
      "==================================================\n",
      "1476 493 2279 877\n",
      "p-значение события product_page между группами A и B равно 8.902264545529448e-06\n",
      "Отвергаем нулевую гипотезу: между долями есть значимая разница\n",
      "==================================================\n",
      "686 244 2279 877\n",
      "p-значение события product_cart между группами A и B равно 0.20843147684279728\n",
      "Не получилось отвергнуть нулевую гипотезу, нет оснований считать доли разными\n",
      "==================================================\n",
      "734 249 2279 877\n",
      "p-значение события purchase между группами A и B равно 0.03816633858947882\n",
      "Не получилось отвергнуть нулевую гипотезу, нет оснований считать доли разными\n",
      "==================================================\n"
     ]
    }
   ],
   "source": [
    "z_test('A', 'B', 0.05)"
   ]
  },
  {
   "cell_type": "markdown",
   "metadata": {},
   "source": [
    "<font color='DarkMagenta'>Было проведено 4 тестов. По результатам тестов выяснили, что статистические критерии находят разницу между экспериментальными группами только в событии product_page."
   ]
  },
  {
   "cell_type": "markdown",
   "metadata": {},
   "source": [
    "## Общие выводы"
   ]
  },
  {
   "cell_type": "markdown",
   "metadata": {},
   "source": [
    "**Общие выводы по проведенному исследованию**\n",
    "\n",
    "- Набор новых пользователей в наш тест был завершен 23 декабря. В задании сказано, что набор должен был быть остановлен 21 декабря. Но в тесте приняли участие пользователи, которые зарегистрировались с 2020-12-07 до 2020-12-21 включительно. Это соответствует техническому заданию.\n",
    "\n",
    "- Больше всех пользователей пришло 2020-12-14 и 2020-12-21\n",
    "\n",
    "- В тест попали не только пользователи из Европы, но количество европейских пользователей в тесте соответствует ожидаемому количеству. И их доля от общего количества пользователей составляет 15%, как и должно быть по условию теста.\n",
    "\n",
    "- Т.к. тест был направлен на пользователей из Европы, то мы удалили пользователей всех других регионов из теста.\n",
    "\n",
    "- Между группами исследуемого теста перессечений нет, но есть пересечения обеих групп с группой В теста interface_eu_test. Это может сильно отразиться на результатах теста\n",
    "\n",
    "- Группа А нашего теста - контрольная. Поэтому удалили из теста пользователей, которые одновременно участвуют в гуппе А нашего теста и и группе В конкурирующего.\n",
    "\n",
    "- Снизилось и количество учатников в тесте, и доля пользователей из Европы уже не 15%, но удаление пересекающихся между тестами пользователей было необходимо.\n",
    "\n",
    "- В группе А на 8% больше участников. Если удалить из группы В участников, которые пересекаются с группой В конкурирующего теста, то разница станет еще больше и это сильно снизит мощность теста. Поэтому оставили в группе В нашего теста пользователей, которые попали в группу В конкурирующего теста.\n",
    "\n",
    "- 2/3 пользователей, которые не совершили ни одного действия находятся в группе В.\n",
    "\n",
    "- Данные по совершенным событиям есть только за период с 2020-12-07 до полудня 2020-12-30. Возможно что-то случилось в новогодние праздники, поэтому данные выгрузились не за весь период. Но с этим мы ничего сделать не можем, будем работать с теми данными, что есть.\n",
    "\n",
    "- На территории Европы во время проведения теста будет проходить только 1 маркетинговая кампания. Но она в равной степени будет влиять на обе группы, поэтому не буду удалять из основного датафрейма даты, в которые совершались события во время проведения маркетинговых активностей.\n",
    "\n",
    "- По ТЗ мы должны проверить коверсию только за 14 дней с момента регистрации пользователя. Удалили в таблице все события, которые произошли после 14 дней с момента регистрации пользователя в приложении.\n",
    "\n",
    "- Пользователи группы А совершают больше событий. \n",
    "\n",
    "- С 14 декабря у группы А наблюдается резкий рост в количестве событий. Ранее мы выяснили, что по понедельникам 7, 14 и 21 числа происходил самый большой приток пользователей.\n",
    "\n",
    "- С 14 декабря заметен резкий скачок количества пользователей в группе А, которое увеличивалось вплоть до 21 декабря. В это самое время в группе В количество новых пользователей в день не сильно колеблется. Отсюда и такая разница в размере групп. Необходимо проверить механизм распределения пользователей по группам.\n",
    "\n",
    "- Есть пользователи, которые оплачивают товар, минуя корзину. Ни один из этапов воронки не показал улучшение метрики на 10% относительно контрольной группы. Конверсия в каждое событие тестируемой группы В хуже, чем результаты контрольной группы А.\n",
    "\n",
    "- Тест необходимо продолжить, но с обязательно корректировкой количества пользователей в группе В\n",
    "\n",
    "\n",
    "**Рекомендации**\n",
    "\n",
    "- Обязательно необходимо проверить механизм распределения пользователей по группам, выявить причины, по котым может происходить неравномерное распределение\n",
    "- Выяснить, почему данные для анализа только до 30 декабря. Либо тест был остановлен, либо произошли какие-то проблемы в новогодние праздники.\n",
    "- Можно рассмотреть перенос периода проведения теста на более спокойный, который не будет включать сезонный ажиотаж и маркетинговые активности.\n"
   ]
  }
 ],
 "metadata": {
  "ExecuteTimeLog": [
   {
    "duration": 383,
    "start_time": "2023-06-07T05:09:12.435Z"
   },
   {
    "duration": 1074,
    "start_time": "2023-06-07T05:09:46.285Z"
   },
   {
    "duration": 893,
    "start_time": "2023-06-07T05:10:09.216Z"
   },
   {
    "duration": 2,
    "start_time": "2023-06-07T05:13:09.655Z"
   },
   {
    "duration": 19,
    "start_time": "2023-06-07T05:13:26.373Z"
   },
   {
    "duration": 8,
    "start_time": "2023-06-07T05:14:37.909Z"
   },
   {
    "duration": 25,
    "start_time": "2023-06-07T05:16:05.045Z"
   },
   {
    "duration": 30,
    "start_time": "2023-06-07T05:17:22.235Z"
   },
   {
    "duration": 902,
    "start_time": "2023-06-07T05:24:49.411Z"
   },
   {
    "duration": 67,
    "start_time": "2023-06-07T05:25:46.571Z"
   },
   {
    "duration": 1828,
    "start_time": "2023-06-07T05:27:52.037Z"
   },
   {
    "duration": 7,
    "start_time": "2023-06-07T05:29:19.608Z"
   },
   {
    "duration": 7,
    "start_time": "2023-06-07T05:29:37.080Z"
   },
   {
    "duration": 26,
    "start_time": "2023-06-07T05:30:39.102Z"
   },
   {
    "duration": 379,
    "start_time": "2023-06-07T05:30:51.375Z"
   },
   {
    "duration": 1200,
    "start_time": "2023-06-07T05:30:51.756Z"
   },
   {
    "duration": 37,
    "start_time": "2023-06-07T05:30:52.957Z"
   },
   {
    "duration": 33,
    "start_time": "2023-06-07T05:30:59.671Z"
   },
   {
    "duration": 51,
    "start_time": "2023-06-07T05:31:43.348Z"
   },
   {
    "duration": 9,
    "start_time": "2023-06-07T05:39:10.332Z"
   },
   {
    "duration": 9,
    "start_time": "2023-06-07T05:39:33.831Z"
   },
   {
    "duration": 5,
    "start_time": "2023-06-07T05:41:52.883Z"
   },
   {
    "duration": 5,
    "start_time": "2023-06-07T05:44:07.605Z"
   },
   {
    "duration": 6,
    "start_time": "2023-06-07T05:44:20.856Z"
   },
   {
    "duration": 4,
    "start_time": "2023-06-07T06:00:41.802Z"
   },
   {
    "duration": 4,
    "start_time": "2023-06-07T06:01:34.193Z"
   },
   {
    "duration": 120,
    "start_time": "2023-06-07T06:01:48.729Z"
   },
   {
    "duration": 88,
    "start_time": "2023-06-07T06:01:54.954Z"
   },
   {
    "duration": 114,
    "start_time": "2023-06-07T06:02:34.503Z"
   },
   {
    "duration": 4,
    "start_time": "2023-06-07T06:02:43.455Z"
   },
   {
    "duration": 23,
    "start_time": "2023-06-07T06:02:47.815Z"
   },
   {
    "duration": 4,
    "start_time": "2023-06-07T06:03:12.370Z"
   },
   {
    "duration": 21,
    "start_time": "2023-06-07T06:03:15.854Z"
   },
   {
    "duration": 5,
    "start_time": "2023-06-07T06:03:41.321Z"
   },
   {
    "duration": 24,
    "start_time": "2023-06-07T06:03:43.382Z"
   },
   {
    "duration": 4,
    "start_time": "2023-06-07T06:04:00.951Z"
   },
   {
    "duration": 26,
    "start_time": "2023-06-07T06:04:02.547Z"
   },
   {
    "duration": 4,
    "start_time": "2023-06-07T06:04:34.843Z"
   },
   {
    "duration": 29,
    "start_time": "2023-06-07T06:04:36.425Z"
   },
   {
    "duration": 3,
    "start_time": "2023-06-07T06:05:06.903Z"
   },
   {
    "duration": 25,
    "start_time": "2023-06-07T06:05:09.691Z"
   },
   {
    "duration": 4,
    "start_time": "2023-06-07T06:05:18.037Z"
   },
   {
    "duration": 19,
    "start_time": "2023-06-07T06:05:19.539Z"
   },
   {
    "duration": 4,
    "start_time": "2023-06-07T06:07:16.036Z"
   },
   {
    "duration": 23,
    "start_time": "2023-06-07T06:07:17.773Z"
   },
   {
    "duration": 4,
    "start_time": "2023-06-07T06:07:43.051Z"
   },
   {
    "duration": 22,
    "start_time": "2023-06-07T06:07:45.786Z"
   },
   {
    "duration": 135,
    "start_time": "2023-06-07T06:08:00.028Z"
   },
   {
    "duration": 4,
    "start_time": "2023-06-07T06:08:02.844Z"
   },
   {
    "duration": 25,
    "start_time": "2023-06-07T06:08:04.874Z"
   },
   {
    "duration": 4,
    "start_time": "2023-06-07T06:11:06.117Z"
   },
   {
    "duration": 10,
    "start_time": "2023-06-07T06:12:54.187Z"
   },
   {
    "duration": 11,
    "start_time": "2023-06-07T06:13:02.105Z"
   },
   {
    "duration": 10,
    "start_time": "2023-06-07T06:13:20.636Z"
   },
   {
    "duration": 12,
    "start_time": "2023-06-07T06:15:26.581Z"
   },
   {
    "duration": 2,
    "start_time": "2023-06-07T06:18:18.754Z"
   },
   {
    "duration": 3,
    "start_time": "2023-06-07T06:19:18.888Z"
   },
   {
    "duration": 3,
    "start_time": "2023-06-07T06:19:27.367Z"
   },
   {
    "duration": 3,
    "start_time": "2023-06-07T06:19:40.836Z"
   },
   {
    "duration": 8,
    "start_time": "2023-06-07T06:23:06.914Z"
   },
   {
    "duration": 9,
    "start_time": "2023-06-07T06:24:22.211Z"
   },
   {
    "duration": 374,
    "start_time": "2023-06-07T06:24:27.645Z"
   },
   {
    "duration": 979,
    "start_time": "2023-06-07T06:24:28.021Z"
   },
   {
    "duration": 4,
    "start_time": "2023-06-07T06:24:29.001Z"
   },
   {
    "duration": 73,
    "start_time": "2023-06-07T06:24:29.007Z"
   },
   {
    "duration": 0,
    "start_time": "2023-06-07T06:24:29.082Z"
   },
   {
    "duration": 0,
    "start_time": "2023-06-07T06:24:29.083Z"
   },
   {
    "duration": 0,
    "start_time": "2023-06-07T06:24:29.084Z"
   },
   {
    "duration": 4,
    "start_time": "2023-06-07T06:24:41.080Z"
   },
   {
    "duration": 29,
    "start_time": "2023-06-07T06:24:45.891Z"
   },
   {
    "duration": 11,
    "start_time": "2023-06-07T06:24:49.170Z"
   },
   {
    "duration": 4,
    "start_time": "2023-06-07T06:24:51.326Z"
   },
   {
    "duration": 4,
    "start_time": "2023-06-07T06:25:04.272Z"
   },
   {
    "duration": 3,
    "start_time": "2023-06-07T06:25:54.976Z"
   },
   {
    "duration": 3,
    "start_time": "2023-06-07T06:26:07.243Z"
   },
   {
    "duration": 323,
    "start_time": "2023-06-07T06:26:46.304Z"
   },
   {
    "duration": 98,
    "start_time": "2023-06-07T06:34:10.209Z"
   },
   {
    "duration": 6,
    "start_time": "2023-06-07T06:35:00.471Z"
   },
   {
    "duration": 37,
    "start_time": "2023-06-07T06:35:34.553Z"
   },
   {
    "duration": 11,
    "start_time": "2023-06-07T06:35:36.431Z"
   },
   {
    "duration": 3,
    "start_time": "2023-06-07T06:36:33.390Z"
   },
   {
    "duration": 4,
    "start_time": "2023-06-07T06:36:44.450Z"
   },
   {
    "duration": 3,
    "start_time": "2023-06-07T06:38:11.371Z"
   },
   {
    "duration": 4,
    "start_time": "2023-06-07T06:38:31.632Z"
   },
   {
    "duration": 63,
    "start_time": "2023-06-07T06:38:54.346Z"
   },
   {
    "duration": 64,
    "start_time": "2023-06-07T06:39:00.273Z"
   },
   {
    "duration": 10,
    "start_time": "2023-06-07T06:46:26.133Z"
   },
   {
    "duration": 8,
    "start_time": "2023-06-07T06:46:32.755Z"
   },
   {
    "duration": 9,
    "start_time": "2023-06-07T06:46:36.246Z"
   },
   {
    "duration": 8,
    "start_time": "2023-06-07T06:46:56.234Z"
   },
   {
    "duration": 4,
    "start_time": "2023-06-07T06:47:07.912Z"
   },
   {
    "duration": 3,
    "start_time": "2023-06-07T06:47:44.330Z"
   },
   {
    "duration": 4,
    "start_time": "2023-06-07T06:48:16.998Z"
   },
   {
    "duration": 3,
    "start_time": "2023-06-07T06:48:23.911Z"
   },
   {
    "duration": 4,
    "start_time": "2023-06-07T06:49:57.880Z"
   },
   {
    "duration": 30,
    "start_time": "2023-06-07T06:50:16.307Z"
   },
   {
    "duration": 31,
    "start_time": "2023-06-07T06:50:30.377Z"
   },
   {
    "duration": 8,
    "start_time": "2023-06-07T06:52:48.994Z"
   },
   {
    "duration": 5,
    "start_time": "2023-06-07T06:53:28.070Z"
   },
   {
    "duration": 412,
    "start_time": "2023-06-07T07:02:38.496Z"
   },
   {
    "duration": 970,
    "start_time": "2023-06-07T07:02:38.910Z"
   },
   {
    "duration": 4,
    "start_time": "2023-06-07T07:02:39.881Z"
   },
   {
    "duration": 12,
    "start_time": "2023-06-07T07:02:39.887Z"
   },
   {
    "duration": 35,
    "start_time": "2023-06-07T07:02:39.902Z"
   },
   {
    "duration": 8,
    "start_time": "2023-06-07T07:02:39.938Z"
   },
   {
    "duration": 13,
    "start_time": "2023-06-07T07:02:39.948Z"
   },
   {
    "duration": 6,
    "start_time": "2023-06-07T07:02:39.963Z"
   },
   {
    "duration": 361,
    "start_time": "2023-06-07T07:02:39.971Z"
   },
   {
    "duration": 93,
    "start_time": "2023-06-07T07:02:40.334Z"
   },
   {
    "duration": 4,
    "start_time": "2023-06-07T07:02:40.428Z"
   },
   {
    "duration": 10,
    "start_time": "2023-06-07T07:02:40.434Z"
   },
   {
    "duration": 85,
    "start_time": "2023-06-07T07:02:40.445Z"
   },
   {
    "duration": 4,
    "start_time": "2023-06-07T07:02:40.533Z"
   },
   {
    "duration": 18,
    "start_time": "2023-06-07T07:02:40.538Z"
   },
   {
    "duration": 35,
    "start_time": "2023-06-07T07:02:40.557Z"
   },
   {
    "duration": 3,
    "start_time": "2023-06-07T07:02:40.594Z"
   },
   {
    "duration": 6,
    "start_time": "2023-06-07T07:10:38.743Z"
   },
   {
    "duration": 516,
    "start_time": "2023-06-07T07:11:08.088Z"
   },
   {
    "duration": 972,
    "start_time": "2023-06-07T07:11:08.606Z"
   },
   {
    "duration": 4,
    "start_time": "2023-06-07T07:11:09.579Z"
   },
   {
    "duration": 30,
    "start_time": "2023-06-07T07:11:09.585Z"
   },
   {
    "duration": 49,
    "start_time": "2023-06-07T07:11:09.617Z"
   },
   {
    "duration": 9,
    "start_time": "2023-06-07T07:11:09.668Z"
   },
   {
    "duration": 35,
    "start_time": "2023-06-07T07:11:09.679Z"
   },
   {
    "duration": 24,
    "start_time": "2023-06-07T07:11:09.716Z"
   },
   {
    "duration": 331,
    "start_time": "2023-06-07T07:11:09.741Z"
   },
   {
    "duration": 93,
    "start_time": "2023-06-07T07:11:10.074Z"
   },
   {
    "duration": 4,
    "start_time": "2023-06-07T07:11:10.169Z"
   },
   {
    "duration": 26,
    "start_time": "2023-06-07T07:11:10.175Z"
   },
   {
    "duration": 68,
    "start_time": "2023-06-07T07:11:10.202Z"
   },
   {
    "duration": 3,
    "start_time": "2023-06-07T07:11:10.272Z"
   },
   {
    "duration": 9,
    "start_time": "2023-06-07T07:11:10.277Z"
   },
   {
    "duration": 51,
    "start_time": "2023-06-07T07:11:10.287Z"
   },
   {
    "duration": 3,
    "start_time": "2023-06-07T07:11:10.340Z"
   },
   {
    "duration": 16,
    "start_time": "2023-06-07T07:11:10.344Z"
   },
   {
    "duration": 7,
    "start_time": "2023-06-07T07:12:46.246Z"
   },
   {
    "duration": 12,
    "start_time": "2023-06-07T07:13:15.756Z"
   },
   {
    "duration": 485,
    "start_time": "2023-06-07T07:14:00.942Z"
   },
   {
    "duration": 1112,
    "start_time": "2023-06-07T07:14:01.430Z"
   },
   {
    "duration": 7,
    "start_time": "2023-06-07T07:14:02.544Z"
   },
   {
    "duration": 22,
    "start_time": "2023-06-07T07:14:02.552Z"
   },
   {
    "duration": 57,
    "start_time": "2023-06-07T07:14:02.576Z"
   },
   {
    "duration": 10,
    "start_time": "2023-06-07T07:14:02.634Z"
   },
   {
    "duration": 18,
    "start_time": "2023-06-07T07:14:02.646Z"
   },
   {
    "duration": 31,
    "start_time": "2023-06-07T07:14:02.666Z"
   },
   {
    "duration": 353,
    "start_time": "2023-06-07T07:14:02.699Z"
   },
   {
    "duration": 103,
    "start_time": "2023-06-07T07:14:03.054Z"
   },
   {
    "duration": 5,
    "start_time": "2023-06-07T07:14:03.159Z"
   },
   {
    "duration": 28,
    "start_time": "2023-06-07T07:14:03.165Z"
   },
   {
    "duration": 110,
    "start_time": "2023-06-07T07:14:03.195Z"
   },
   {
    "duration": 4,
    "start_time": "2023-06-07T07:14:03.308Z"
   },
   {
    "duration": 33,
    "start_time": "2023-06-07T07:14:03.317Z"
   },
   {
    "duration": 49,
    "start_time": "2023-06-07T07:14:03.351Z"
   },
   {
    "duration": 4,
    "start_time": "2023-06-07T07:14:03.401Z"
   },
   {
    "duration": 11,
    "start_time": "2023-06-07T07:14:03.407Z"
   },
   {
    "duration": 77,
    "start_time": "2023-06-07T07:15:02.599Z"
   },
   {
    "duration": 459,
    "start_time": "2023-06-07T07:15:22.171Z"
   },
   {
    "duration": 7,
    "start_time": "2023-06-07T07:16:18.684Z"
   },
   {
    "duration": 11,
    "start_time": "2023-06-07T07:16:27.447Z"
   },
   {
    "duration": 4,
    "start_time": "2023-06-07T07:18:52.776Z"
   },
   {
    "duration": 75,
    "start_time": "2023-06-07T07:19:09.652Z"
   },
   {
    "duration": 49,
    "start_time": "2023-06-07T07:19:21.814Z"
   },
   {
    "duration": 4,
    "start_time": "2023-06-07T07:40:09.702Z"
   },
   {
    "duration": 29,
    "start_time": "2023-06-07T07:40:18.030Z"
   },
   {
    "duration": 10,
    "start_time": "2023-06-07T07:41:05.990Z"
   },
   {
    "duration": 4,
    "start_time": "2023-06-07T07:42:14.832Z"
   },
   {
    "duration": 12,
    "start_time": "2023-06-07T07:44:11.503Z"
   },
   {
    "duration": 471,
    "start_time": "2023-06-07T07:44:22.660Z"
   },
   {
    "duration": 1147,
    "start_time": "2023-06-07T07:44:23.134Z"
   },
   {
    "duration": 4,
    "start_time": "2023-06-07T07:44:24.282Z"
   },
   {
    "duration": 11,
    "start_time": "2023-06-07T07:44:24.288Z"
   },
   {
    "duration": 32,
    "start_time": "2023-06-07T07:44:24.300Z"
   },
   {
    "duration": 8,
    "start_time": "2023-06-07T07:44:24.333Z"
   },
   {
    "duration": 28,
    "start_time": "2023-06-07T07:44:24.343Z"
   },
   {
    "duration": 11,
    "start_time": "2023-06-07T07:44:24.373Z"
   },
   {
    "duration": 4,
    "start_time": "2023-06-07T07:44:24.385Z"
   },
   {
    "duration": 367,
    "start_time": "2023-06-07T07:44:24.391Z"
   },
   {
    "duration": 96,
    "start_time": "2023-06-07T07:44:24.760Z"
   },
   {
    "duration": 4,
    "start_time": "2023-06-07T07:44:24.858Z"
   },
   {
    "duration": 8,
    "start_time": "2023-06-07T07:44:24.864Z"
   },
   {
    "duration": 82,
    "start_time": "2023-06-07T07:44:24.873Z"
   },
   {
    "duration": 4,
    "start_time": "2023-06-07T07:44:24.957Z"
   },
   {
    "duration": 8,
    "start_time": "2023-06-07T07:44:24.963Z"
   },
   {
    "duration": 60,
    "start_time": "2023-06-07T07:44:24.973Z"
   },
   {
    "duration": 4,
    "start_time": "2023-06-07T07:44:25.035Z"
   },
   {
    "duration": 369,
    "start_time": "2023-06-07T07:44:25.041Z"
   },
   {
    "duration": 130,
    "start_time": "2023-06-07T07:44:44.181Z"
   },
   {
    "duration": 15,
    "start_time": "2023-06-07T07:45:21.375Z"
   },
   {
    "duration": 485,
    "start_time": "2023-06-07T07:45:29.894Z"
   },
   {
    "duration": 1086,
    "start_time": "2023-06-07T07:45:30.381Z"
   },
   {
    "duration": 4,
    "start_time": "2023-06-07T07:45:31.468Z"
   },
   {
    "duration": 30,
    "start_time": "2023-06-07T07:45:31.474Z"
   },
   {
    "duration": 60,
    "start_time": "2023-06-07T07:45:31.506Z"
   },
   {
    "duration": 15,
    "start_time": "2023-06-07T07:45:31.567Z"
   },
   {
    "duration": 56,
    "start_time": "2023-06-07T07:45:31.583Z"
   },
   {
    "duration": 32,
    "start_time": "2023-06-07T07:45:31.640Z"
   },
   {
    "duration": 27,
    "start_time": "2023-06-07T07:45:31.674Z"
   },
   {
    "duration": 386,
    "start_time": "2023-06-07T07:45:31.703Z"
   },
   {
    "duration": 89,
    "start_time": "2023-06-07T07:45:32.090Z"
   },
   {
    "duration": 3,
    "start_time": "2023-06-07T07:45:32.180Z"
   },
   {
    "duration": 29,
    "start_time": "2023-06-07T07:45:32.185Z"
   },
   {
    "duration": 71,
    "start_time": "2023-06-07T07:45:32.216Z"
   },
   {
    "duration": 3,
    "start_time": "2023-06-07T07:45:32.289Z"
   },
   {
    "duration": 24,
    "start_time": "2023-06-07T07:45:32.293Z"
   },
   {
    "duration": 55,
    "start_time": "2023-06-07T07:45:32.318Z"
   },
   {
    "duration": 4,
    "start_time": "2023-06-07T07:45:32.375Z"
   },
   {
    "duration": 336,
    "start_time": "2023-06-07T07:45:32.380Z"
   },
   {
    "duration": 10,
    "start_time": "2023-06-07T07:45:59.503Z"
   },
   {
    "duration": 569,
    "start_time": "2023-06-07T07:46:05.084Z"
   },
   {
    "duration": 1102,
    "start_time": "2023-06-07T07:46:05.656Z"
   },
   {
    "duration": 5,
    "start_time": "2023-06-07T07:46:06.759Z"
   },
   {
    "duration": 62,
    "start_time": "2023-06-07T07:46:06.766Z"
   },
   {
    "duration": 78,
    "start_time": "2023-06-07T07:46:06.830Z"
   },
   {
    "duration": 32,
    "start_time": "2023-06-07T07:46:06.910Z"
   },
   {
    "duration": 53,
    "start_time": "2023-06-07T07:46:06.944Z"
   },
   {
    "duration": 26,
    "start_time": "2023-06-07T07:46:06.999Z"
   },
   {
    "duration": 50,
    "start_time": "2023-06-07T07:46:07.027Z"
   },
   {
    "duration": 383,
    "start_time": "2023-06-07T07:46:07.080Z"
   },
   {
    "duration": 95,
    "start_time": "2023-06-07T07:46:07.465Z"
   },
   {
    "duration": 7,
    "start_time": "2023-06-07T07:46:07.561Z"
   },
   {
    "duration": 32,
    "start_time": "2023-06-07T07:46:07.569Z"
   },
   {
    "duration": 122,
    "start_time": "2023-06-07T07:46:07.603Z"
   },
   {
    "duration": 5,
    "start_time": "2023-06-07T07:46:07.727Z"
   },
   {
    "duration": 27,
    "start_time": "2023-06-07T07:46:07.734Z"
   },
   {
    "duration": 63,
    "start_time": "2023-06-07T07:46:07.762Z"
   },
   {
    "duration": 4,
    "start_time": "2023-06-07T07:46:07.827Z"
   },
   {
    "duration": 384,
    "start_time": "2023-06-07T07:46:07.832Z"
   },
   {
    "duration": 76,
    "start_time": "2023-06-07T07:46:27.170Z"
   },
   {
    "duration": 217,
    "start_time": "2023-06-07T07:49:19.057Z"
   },
   {
    "duration": 100,
    "start_time": "2023-06-07T07:49:44.403Z"
   },
   {
    "duration": 9,
    "start_time": "2023-06-07T07:50:10.535Z"
   },
   {
    "duration": 247,
    "start_time": "2023-06-07T07:51:14.273Z"
   },
   {
    "duration": 479,
    "start_time": "2023-06-07T07:51:19.716Z"
   },
   {
    "duration": 939,
    "start_time": "2023-06-07T07:51:20.197Z"
   },
   {
    "duration": 4,
    "start_time": "2023-06-07T07:51:21.137Z"
   },
   {
    "duration": 8,
    "start_time": "2023-06-07T07:51:21.143Z"
   },
   {
    "duration": 35,
    "start_time": "2023-06-07T07:51:21.152Z"
   },
   {
    "duration": 6,
    "start_time": "2023-06-07T07:51:21.189Z"
   },
   {
    "duration": 24,
    "start_time": "2023-06-07T07:51:21.196Z"
   },
   {
    "duration": 5,
    "start_time": "2023-06-07T07:51:21.222Z"
   },
   {
    "duration": 9,
    "start_time": "2023-06-07T07:51:21.229Z"
   },
   {
    "duration": 346,
    "start_time": "2023-06-07T07:51:21.241Z"
   },
   {
    "duration": 89,
    "start_time": "2023-06-07T07:51:21.589Z"
   },
   {
    "duration": 245,
    "start_time": "2023-06-07T07:51:21.680Z"
   },
   {
    "duration": 88,
    "start_time": "2023-06-07T07:51:21.927Z"
   },
   {
    "duration": 0,
    "start_time": "2023-06-07T07:51:22.017Z"
   },
   {
    "duration": 0,
    "start_time": "2023-06-07T07:51:22.018Z"
   },
   {
    "duration": 0,
    "start_time": "2023-06-07T07:51:22.019Z"
   },
   {
    "duration": 0,
    "start_time": "2023-06-07T07:51:22.020Z"
   },
   {
    "duration": 0,
    "start_time": "2023-06-07T07:51:22.022Z"
   },
   {
    "duration": 0,
    "start_time": "2023-06-07T07:51:22.023Z"
   },
   {
    "duration": 0,
    "start_time": "2023-06-07T07:51:22.023Z"
   },
   {
    "duration": 0,
    "start_time": "2023-06-07T07:51:22.024Z"
   },
   {
    "duration": 447,
    "start_time": "2023-06-07T07:52:15.848Z"
   },
   {
    "duration": 1572,
    "start_time": "2023-06-07T07:52:16.296Z"
   },
   {
    "duration": 5,
    "start_time": "2023-06-07T07:52:17.872Z"
   },
   {
    "duration": 12,
    "start_time": "2023-06-07T07:52:17.880Z"
   },
   {
    "duration": 34,
    "start_time": "2023-06-07T07:52:17.894Z"
   },
   {
    "duration": 7,
    "start_time": "2023-06-07T07:52:17.929Z"
   },
   {
    "duration": 10,
    "start_time": "2023-06-07T07:52:17.937Z"
   },
   {
    "duration": 4,
    "start_time": "2023-06-07T07:52:17.948Z"
   },
   {
    "duration": 6,
    "start_time": "2023-06-07T07:52:17.954Z"
   },
   {
    "duration": 388,
    "start_time": "2023-06-07T07:52:17.962Z"
   },
   {
    "duration": 88,
    "start_time": "2023-06-07T07:52:18.352Z"
   },
   {
    "duration": 237,
    "start_time": "2023-06-07T07:52:18.441Z"
   },
   {
    "duration": 3,
    "start_time": "2023-06-07T07:52:18.680Z"
   },
   {
    "duration": 6,
    "start_time": "2023-06-07T07:52:18.684Z"
   },
   {
    "duration": 80,
    "start_time": "2023-06-07T07:52:18.691Z"
   },
   {
    "duration": 3,
    "start_time": "2023-06-07T07:52:18.772Z"
   },
   {
    "duration": 7,
    "start_time": "2023-06-07T07:52:18.777Z"
   },
   {
    "duration": 55,
    "start_time": "2023-06-07T07:52:18.785Z"
   },
   {
    "duration": 4,
    "start_time": "2023-06-07T07:52:18.842Z"
   },
   {
    "duration": 335,
    "start_time": "2023-06-07T07:52:18.847Z"
   },
   {
    "duration": 65,
    "start_time": "2023-06-07T07:53:51.525Z"
   },
   {
    "duration": 89,
    "start_time": "2023-06-07T07:54:16.239Z"
   },
   {
    "duration": 24,
    "start_time": "2023-06-07T07:57:16.175Z"
   },
   {
    "duration": 5,
    "start_time": "2023-06-07T10:00:20.047Z"
   },
   {
    "duration": 5,
    "start_time": "2023-06-07T10:00:27.550Z"
   },
   {
    "duration": 5,
    "start_time": "2023-06-07T10:02:09.946Z"
   },
   {
    "duration": 77,
    "start_time": "2023-06-07T10:07:34.639Z"
   },
   {
    "duration": 123,
    "start_time": "2023-06-07T10:07:42.884Z"
   },
   {
    "duration": 390,
    "start_time": "2023-06-07T10:07:55.302Z"
   },
   {
    "duration": 12,
    "start_time": "2023-06-07T10:16:45.706Z"
   },
   {
    "duration": 57,
    "start_time": "2023-06-07T10:16:59.510Z"
   },
   {
    "duration": 439,
    "start_time": "2023-06-07T10:17:48.551Z"
   },
   {
    "duration": 922,
    "start_time": "2023-06-07T10:17:48.991Z"
   },
   {
    "duration": 7,
    "start_time": "2023-06-07T10:17:49.914Z"
   },
   {
    "duration": 15,
    "start_time": "2023-06-07T10:17:49.923Z"
   },
   {
    "duration": 33,
    "start_time": "2023-06-07T10:17:49.939Z"
   },
   {
    "duration": 7,
    "start_time": "2023-06-07T10:17:49.973Z"
   },
   {
    "duration": 14,
    "start_time": "2023-06-07T10:17:49.981Z"
   },
   {
    "duration": 20,
    "start_time": "2023-06-07T10:17:49.996Z"
   },
   {
    "duration": 16,
    "start_time": "2023-06-07T10:17:50.017Z"
   },
   {
    "duration": 310,
    "start_time": "2023-06-07T10:17:50.035Z"
   },
   {
    "duration": 87,
    "start_time": "2023-06-07T10:17:50.346Z"
   },
   {
    "duration": 230,
    "start_time": "2023-06-07T10:17:50.435Z"
   },
   {
    "duration": 4,
    "start_time": "2023-06-07T10:17:50.666Z"
   },
   {
    "duration": 5,
    "start_time": "2023-06-07T10:17:50.671Z"
   },
   {
    "duration": 88,
    "start_time": "2023-06-07T10:17:50.678Z"
   },
   {
    "duration": 74,
    "start_time": "2023-06-07T10:17:50.768Z"
   },
   {
    "duration": 3,
    "start_time": "2023-06-07T10:17:50.844Z"
   },
   {
    "duration": 18,
    "start_time": "2023-06-07T10:17:50.849Z"
   },
   {
    "duration": 47,
    "start_time": "2023-06-07T10:17:50.868Z"
   },
   {
    "duration": 22,
    "start_time": "2023-06-07T10:17:50.917Z"
   },
   {
    "duration": 12,
    "start_time": "2023-06-07T10:17:50.941Z"
   },
   {
    "duration": 338,
    "start_time": "2023-06-07T10:17:50.954Z"
   },
   {
    "duration": 31,
    "start_time": "2023-06-07T10:17:51.293Z"
   },
   {
    "duration": 11,
    "start_time": "2023-06-07T10:19:09.956Z"
   },
   {
    "duration": 10,
    "start_time": "2023-06-07T10:19:34.402Z"
   },
   {
    "duration": 32,
    "start_time": "2023-06-07T10:20:16.287Z"
   },
   {
    "duration": 11,
    "start_time": "2023-06-07T10:20:24.161Z"
   },
   {
    "duration": 9,
    "start_time": "2023-06-07T10:21:57.190Z"
   },
   {
    "duration": 10,
    "start_time": "2023-06-07T10:22:03.063Z"
   },
   {
    "duration": 9,
    "start_time": "2023-06-07T10:22:17.945Z"
   },
   {
    "duration": 11,
    "start_time": "2023-06-07T10:23:06.240Z"
   },
   {
    "duration": 9,
    "start_time": "2023-06-07T10:23:45.276Z"
   },
   {
    "duration": 2276,
    "start_time": "2023-06-07T10:25:14.449Z"
   },
   {
    "duration": 483,
    "start_time": "2023-06-07T10:26:05.119Z"
   },
   {
    "duration": 121,
    "start_time": "2023-06-07T10:26:09.658Z"
   },
   {
    "duration": 11,
    "start_time": "2023-06-07T10:26:20.801Z"
   },
   {
    "duration": 12,
    "start_time": "2023-06-07T10:26:25.910Z"
   },
   {
    "duration": 10,
    "start_time": "2023-06-07T10:28:48.494Z"
   },
   {
    "duration": 493,
    "start_time": "2023-06-07T10:29:27.523Z"
   },
   {
    "duration": 1173,
    "start_time": "2023-06-07T10:29:28.018Z"
   },
   {
    "duration": 5,
    "start_time": "2023-06-07T10:29:29.192Z"
   },
   {
    "duration": 28,
    "start_time": "2023-06-07T10:29:29.199Z"
   },
   {
    "duration": 42,
    "start_time": "2023-06-07T10:29:29.229Z"
   },
   {
    "duration": 11,
    "start_time": "2023-06-07T10:29:29.274Z"
   },
   {
    "duration": 28,
    "start_time": "2023-06-07T10:29:29.287Z"
   },
   {
    "duration": 9,
    "start_time": "2023-06-07T10:29:29.317Z"
   },
   {
    "duration": 16,
    "start_time": "2023-06-07T10:29:29.328Z"
   },
   {
    "duration": 336,
    "start_time": "2023-06-07T10:29:29.348Z"
   },
   {
    "duration": 89,
    "start_time": "2023-06-07T10:29:29.686Z"
   },
   {
    "duration": 250,
    "start_time": "2023-06-07T10:29:29.776Z"
   },
   {
    "duration": 4,
    "start_time": "2023-06-07T10:29:30.028Z"
   },
   {
    "duration": 40,
    "start_time": "2023-06-07T10:29:30.034Z"
   },
   {
    "duration": 122,
    "start_time": "2023-06-07T10:29:30.077Z"
   },
   {
    "duration": 88,
    "start_time": "2023-06-07T10:29:30.202Z"
   },
   {
    "duration": 4,
    "start_time": "2023-06-07T10:29:30.291Z"
   },
   {
    "duration": 43,
    "start_time": "2023-06-07T10:29:30.296Z"
   },
   {
    "duration": 62,
    "start_time": "2023-06-07T10:29:30.341Z"
   },
   {
    "duration": 24,
    "start_time": "2023-06-07T10:29:30.405Z"
   },
   {
    "duration": 20,
    "start_time": "2023-06-07T10:29:30.430Z"
   },
   {
    "duration": 348,
    "start_time": "2023-06-07T10:29:30.452Z"
   },
   {
    "duration": 10,
    "start_time": "2023-06-07T10:29:30.801Z"
   },
   {
    "duration": 44,
    "start_time": "2023-06-07T10:29:30.815Z"
   },
   {
    "duration": 30,
    "start_time": "2023-06-07T10:29:30.861Z"
   },
   {
    "duration": 39,
    "start_time": "2023-06-07T10:29:30.892Z"
   },
   {
    "duration": 11,
    "start_time": "2023-06-07T10:29:50.286Z"
   },
   {
    "duration": 8,
    "start_time": "2023-06-07T10:32:48.762Z"
   },
   {
    "duration": 23,
    "start_time": "2023-06-07T10:33:07.318Z"
   },
   {
    "duration": 28,
    "start_time": "2023-06-07T10:33:16.078Z"
   },
   {
    "duration": 21,
    "start_time": "2023-06-07T10:37:41.346Z"
   },
   {
    "duration": 23,
    "start_time": "2023-06-07T10:37:53.761Z"
   },
   {
    "duration": 15,
    "start_time": "2023-06-07T10:38:31.278Z"
   },
   {
    "duration": 7,
    "start_time": "2023-06-07T10:45:49.578Z"
   },
   {
    "duration": 14,
    "start_time": "2023-06-07T10:47:43.172Z"
   },
   {
    "duration": 16,
    "start_time": "2023-06-07T10:48:22.534Z"
   },
   {
    "duration": 16,
    "start_time": "2023-06-07T10:48:53.530Z"
   },
   {
    "duration": 124,
    "start_time": "2023-06-07T10:49:48.992Z"
   },
   {
    "duration": 16,
    "start_time": "2023-06-07T10:51:19.108Z"
   },
   {
    "duration": 10,
    "start_time": "2023-06-07T10:53:03.928Z"
   },
   {
    "duration": 9,
    "start_time": "2023-06-07T10:55:01.656Z"
   },
   {
    "duration": 4,
    "start_time": "2023-06-07T10:55:40.693Z"
   },
   {
    "duration": 6,
    "start_time": "2023-06-07T10:55:53.306Z"
   },
   {
    "duration": 9,
    "start_time": "2023-06-07T10:55:58.954Z"
   },
   {
    "duration": 4,
    "start_time": "2023-06-07T10:56:25.807Z"
   },
   {
    "duration": 5,
    "start_time": "2023-06-07T10:56:35.382Z"
   },
   {
    "duration": 8,
    "start_time": "2023-06-07T10:56:52.774Z"
   },
   {
    "duration": 8,
    "start_time": "2023-06-07T10:57:11.347Z"
   },
   {
    "duration": 472,
    "start_time": "2023-06-07T10:57:17.718Z"
   },
   {
    "duration": 957,
    "start_time": "2023-06-07T10:57:18.192Z"
   },
   {
    "duration": 4,
    "start_time": "2023-06-07T10:57:19.150Z"
   },
   {
    "duration": 11,
    "start_time": "2023-06-07T10:57:19.157Z"
   },
   {
    "duration": 47,
    "start_time": "2023-06-07T10:57:19.170Z"
   },
   {
    "duration": 7,
    "start_time": "2023-06-07T10:57:19.218Z"
   },
   {
    "duration": 9,
    "start_time": "2023-06-07T10:57:19.227Z"
   },
   {
    "duration": 4,
    "start_time": "2023-06-07T10:57:19.237Z"
   },
   {
    "duration": 11,
    "start_time": "2023-06-07T10:57:19.242Z"
   },
   {
    "duration": 337,
    "start_time": "2023-06-07T10:57:19.255Z"
   },
   {
    "duration": 93,
    "start_time": "2023-06-07T10:57:19.594Z"
   },
   {
    "duration": 245,
    "start_time": "2023-06-07T10:57:19.688Z"
   },
   {
    "duration": 4,
    "start_time": "2023-06-07T10:57:19.934Z"
   },
   {
    "duration": 8,
    "start_time": "2023-06-07T10:57:19.940Z"
   },
   {
    "duration": 87,
    "start_time": "2023-06-07T10:57:19.949Z"
   },
   {
    "duration": 62,
    "start_time": "2023-06-07T10:57:20.038Z"
   },
   {
    "duration": 4,
    "start_time": "2023-06-07T10:57:20.115Z"
   },
   {
    "duration": 11,
    "start_time": "2023-06-07T10:57:20.121Z"
   },
   {
    "duration": 28,
    "start_time": "2023-06-07T10:57:20.133Z"
   },
   {
    "duration": 21,
    "start_time": "2023-06-07T10:57:20.162Z"
   },
   {
    "duration": 3,
    "start_time": "2023-06-07T10:57:20.216Z"
   },
   {
    "duration": 367,
    "start_time": "2023-06-07T10:57:20.221Z"
   },
   {
    "duration": 9,
    "start_time": "2023-06-07T10:57:20.590Z"
   },
   {
    "duration": 26,
    "start_time": "2023-06-07T10:57:20.600Z"
   },
   {
    "duration": 11,
    "start_time": "2023-06-07T10:57:20.628Z"
   },
   {
    "duration": 14,
    "start_time": "2023-06-07T10:57:20.640Z"
   },
   {
    "duration": 89,
    "start_time": "2023-06-07T10:57:20.656Z"
   },
   {
    "duration": 75,
    "start_time": "2023-06-07T10:57:20.748Z"
   },
   {
    "duration": 15,
    "start_time": "2023-06-07T10:57:20.824Z"
   },
   {
    "duration": 10,
    "start_time": "2023-06-07T10:57:20.840Z"
   },
   {
    "duration": 14,
    "start_time": "2023-06-07T10:57:20.851Z"
   },
   {
    "duration": 8,
    "start_time": "2023-06-07T10:57:27.323Z"
   },
   {
    "duration": 15,
    "start_time": "2023-06-07T11:01:31.237Z"
   },
   {
    "duration": 140,
    "start_time": "2023-06-07T11:02:09.135Z"
   },
   {
    "duration": 11,
    "start_time": "2023-06-07T11:02:22.201Z"
   },
   {
    "duration": 40,
    "start_time": "2023-06-07T11:02:24.485Z"
   },
   {
    "duration": 21,
    "start_time": "2023-06-07T11:02:35.330Z"
   },
   {
    "duration": 12,
    "start_time": "2023-06-07T11:02:39.919Z"
   },
   {
    "duration": 30,
    "start_time": "2023-06-07T11:02:41.547Z"
   },
   {
    "duration": 8,
    "start_time": "2023-06-07T11:02:57.946Z"
   },
   {
    "duration": 6,
    "start_time": "2023-06-07T11:03:47.792Z"
   },
   {
    "duration": 4,
    "start_time": "2023-06-07T11:04:27.472Z"
   },
   {
    "duration": 3,
    "start_time": "2023-06-07T11:09:34.262Z"
   },
   {
    "duration": 32,
    "start_time": "2023-06-07T11:09:38.740Z"
   },
   {
    "duration": 13,
    "start_time": "2023-06-07T11:09:45.548Z"
   },
   {
    "duration": 9,
    "start_time": "2023-06-07T11:10:37.074Z"
   },
   {
    "duration": 10,
    "start_time": "2023-06-07T11:10:55.151Z"
   },
   {
    "duration": 45,
    "start_time": "2023-06-07T11:11:18.933Z"
   },
   {
    "duration": 483,
    "start_time": "2023-06-07T11:11:49.426Z"
   },
   {
    "duration": 1096,
    "start_time": "2023-06-07T11:11:49.911Z"
   },
   {
    "duration": 4,
    "start_time": "2023-06-07T11:11:51.008Z"
   },
   {
    "duration": 11,
    "start_time": "2023-06-07T11:11:51.013Z"
   },
   {
    "duration": 51,
    "start_time": "2023-06-07T11:11:51.026Z"
   },
   {
    "duration": 6,
    "start_time": "2023-06-07T11:11:51.079Z"
   },
   {
    "duration": 13,
    "start_time": "2023-06-07T11:11:51.087Z"
   },
   {
    "duration": 10,
    "start_time": "2023-06-07T11:11:51.102Z"
   },
   {
    "duration": 14,
    "start_time": "2023-06-07T11:11:51.113Z"
   },
   {
    "duration": 314,
    "start_time": "2023-06-07T11:11:51.128Z"
   },
   {
    "duration": 92,
    "start_time": "2023-06-07T11:11:51.444Z"
   },
   {
    "duration": 236,
    "start_time": "2023-06-07T11:11:51.538Z"
   },
   {
    "duration": 4,
    "start_time": "2023-06-07T11:11:51.776Z"
   },
   {
    "duration": 8,
    "start_time": "2023-06-07T11:11:51.783Z"
   },
   {
    "duration": 78,
    "start_time": "2023-06-07T11:11:51.793Z"
   },
   {
    "duration": 81,
    "start_time": "2023-06-07T11:11:51.874Z"
   },
   {
    "duration": 3,
    "start_time": "2023-06-07T11:11:51.957Z"
   },
   {
    "duration": 9,
    "start_time": "2023-06-07T11:11:51.962Z"
   },
   {
    "duration": 44,
    "start_time": "2023-06-07T11:11:51.973Z"
   },
   {
    "duration": 22,
    "start_time": "2023-06-07T11:11:52.019Z"
   },
   {
    "duration": 4,
    "start_time": "2023-06-07T11:11:52.042Z"
   },
   {
    "duration": 383,
    "start_time": "2023-06-07T11:11:52.047Z"
   },
   {
    "duration": 86,
    "start_time": "2023-06-07T11:11:52.431Z"
   },
   {
    "duration": 160,
    "start_time": "2023-06-07T11:11:52.518Z"
   },
   {
    "duration": 154,
    "start_time": "2023-06-07T11:12:40.544Z"
   },
   {
    "duration": 17,
    "start_time": "2023-06-07T11:12:44.444Z"
   },
   {
    "duration": 11,
    "start_time": "2023-06-07T11:13:07.756Z"
   },
   {
    "duration": 24,
    "start_time": "2023-06-07T11:16:15.646Z"
   },
   {
    "duration": 44,
    "start_time": "2023-06-07T11:16:33.342Z"
   },
   {
    "duration": 47,
    "start_time": "2023-06-07T11:16:37.540Z"
   },
   {
    "duration": 123,
    "start_time": "2023-06-07T11:19:38.427Z"
   },
   {
    "duration": 25,
    "start_time": "2023-06-07T11:20:23.562Z"
   },
   {
    "duration": 272,
    "start_time": "2023-06-07T11:22:04.521Z"
   },
   {
    "duration": 220,
    "start_time": "2023-06-07T11:22:41.946Z"
   },
   {
    "duration": 78,
    "start_time": "2023-06-07T11:23:10.908Z"
   },
   {
    "duration": 19,
    "start_time": "2023-06-07T11:26:11.943Z"
   },
   {
    "duration": 28,
    "start_time": "2023-06-07T11:29:32.705Z"
   },
   {
    "duration": 647,
    "start_time": "2023-06-07T11:30:26.714Z"
   },
   {
    "duration": 28,
    "start_time": "2023-06-07T11:30:42.698Z"
   },
   {
    "duration": 96,
    "start_time": "2023-06-07T11:31:50.451Z"
   },
   {
    "duration": 176,
    "start_time": "2023-06-07T11:32:02.043Z"
   },
   {
    "duration": 112,
    "start_time": "2023-06-07T11:32:08.249Z"
   },
   {
    "duration": 36,
    "start_time": "2023-06-07T11:32:20.501Z"
   },
   {
    "duration": 5,
    "start_time": "2023-06-07T11:32:27.139Z"
   },
   {
    "duration": 107,
    "start_time": "2023-06-07T11:34:30.654Z"
   },
   {
    "duration": 55,
    "start_time": "2023-06-07T11:40:19.571Z"
   },
   {
    "duration": 314,
    "start_time": "2023-06-07T12:01:03.485Z"
   },
   {
    "duration": 388,
    "start_time": "2023-06-07T12:01:20.441Z"
   },
   {
    "duration": 40,
    "start_time": "2023-06-07T12:01:50.497Z"
   },
   {
    "duration": 47,
    "start_time": "2023-06-07T12:01:58.341Z"
   },
   {
    "duration": 49,
    "start_time": "2023-06-07T12:02:07.812Z"
   },
   {
    "duration": 35,
    "start_time": "2023-06-07T12:02:10.556Z"
   },
   {
    "duration": 39,
    "start_time": "2023-06-07T12:02:32.371Z"
   },
   {
    "duration": 521,
    "start_time": "2023-06-07T12:03:31.442Z"
   },
   {
    "duration": 1556,
    "start_time": "2023-06-07T12:03:31.965Z"
   },
   {
    "duration": 9,
    "start_time": "2023-06-07T12:03:33.532Z"
   },
   {
    "duration": 13,
    "start_time": "2023-06-07T12:03:33.546Z"
   },
   {
    "duration": 96,
    "start_time": "2023-06-07T12:03:33.561Z"
   },
   {
    "duration": 8,
    "start_time": "2023-06-07T12:03:33.659Z"
   },
   {
    "duration": 28,
    "start_time": "2023-06-07T12:03:33.669Z"
   },
   {
    "duration": 22,
    "start_time": "2023-06-07T12:03:33.699Z"
   },
   {
    "duration": 38,
    "start_time": "2023-06-07T12:03:33.726Z"
   },
   {
    "duration": 383,
    "start_time": "2023-06-07T12:03:33.766Z"
   },
   {
    "duration": 107,
    "start_time": "2023-06-07T12:03:34.151Z"
   },
   {
    "duration": 248,
    "start_time": "2023-06-07T12:03:34.260Z"
   },
   {
    "duration": 8,
    "start_time": "2023-06-07T12:03:34.509Z"
   },
   {
    "duration": 31,
    "start_time": "2023-06-07T12:03:34.519Z"
   },
   {
    "duration": 81,
    "start_time": "2023-06-07T12:03:34.552Z"
   },
   {
    "duration": 68,
    "start_time": "2023-06-07T12:03:34.642Z"
   },
   {
    "duration": 14,
    "start_time": "2023-06-07T12:03:34.711Z"
   },
   {
    "duration": 11,
    "start_time": "2023-06-07T12:03:34.741Z"
   },
   {
    "duration": 32,
    "start_time": "2023-06-07T12:03:34.754Z"
   },
   {
    "duration": 24,
    "start_time": "2023-06-07T12:03:34.787Z"
   },
   {
    "duration": 8,
    "start_time": "2023-06-07T12:03:34.829Z"
   },
   {
    "duration": 366,
    "start_time": "2023-06-07T12:03:34.846Z"
   },
   {
    "duration": 490,
    "start_time": "2023-06-07T12:03:35.214Z"
   },
   {
    "duration": 72,
    "start_time": "2023-06-07T12:03:35.706Z"
   },
   {
    "duration": 67,
    "start_time": "2023-06-07T12:03:35.780Z"
   },
   {
    "duration": 27,
    "start_time": "2023-06-07T12:03:35.848Z"
   },
   {
    "duration": 118,
    "start_time": "2023-06-07T12:03:35.877Z"
   },
   {
    "duration": 218,
    "start_time": "2023-06-07T12:11:17.274Z"
   },
   {
    "duration": 88,
    "start_time": "2023-06-07T12:16:08.311Z"
   },
   {
    "duration": 113,
    "start_time": "2023-06-07T12:16:38.664Z"
   },
   {
    "duration": 31,
    "start_time": "2023-06-07T12:21:49.040Z"
   },
   {
    "duration": 25,
    "start_time": "2023-06-07T12:22:06.839Z"
   },
   {
    "duration": 24,
    "start_time": "2023-06-07T12:22:08.908Z"
   },
   {
    "duration": 79,
    "start_time": "2023-06-07T12:22:22.591Z"
   },
   {
    "duration": 17,
    "start_time": "2023-06-07T12:22:25.059Z"
   },
   {
    "duration": 18,
    "start_time": "2023-06-07T12:22:26.762Z"
   },
   {
    "duration": 16,
    "start_time": "2023-06-07T12:23:45.376Z"
   },
   {
    "duration": 15,
    "start_time": "2023-06-07T12:23:50.972Z"
   },
   {
    "duration": 562,
    "start_time": "2023-06-07T12:24:20.806Z"
   },
   {
    "duration": 1291,
    "start_time": "2023-06-07T12:24:21.369Z"
   },
   {
    "duration": 5,
    "start_time": "2023-06-07T12:24:22.662Z"
   },
   {
    "duration": 8,
    "start_time": "2023-06-07T12:24:22.670Z"
   },
   {
    "duration": 29,
    "start_time": "2023-06-07T12:24:22.680Z"
   },
   {
    "duration": 16,
    "start_time": "2023-06-07T12:24:22.710Z"
   },
   {
    "duration": 49,
    "start_time": "2023-06-07T12:24:22.728Z"
   },
   {
    "duration": 4,
    "start_time": "2023-06-07T12:24:22.779Z"
   },
   {
    "duration": 4,
    "start_time": "2023-06-07T12:24:22.785Z"
   },
   {
    "duration": 379,
    "start_time": "2023-06-07T12:24:22.791Z"
   },
   {
    "duration": 134,
    "start_time": "2023-06-07T12:24:23.172Z"
   },
   {
    "duration": 293,
    "start_time": "2023-06-07T12:24:23.308Z"
   },
   {
    "duration": 4,
    "start_time": "2023-06-07T12:24:23.603Z"
   },
   {
    "duration": 37,
    "start_time": "2023-06-07T12:24:23.623Z"
   },
   {
    "duration": 73,
    "start_time": "2023-06-07T12:24:23.661Z"
   },
   {
    "duration": 84,
    "start_time": "2023-06-07T12:24:23.736Z"
   },
   {
    "duration": 4,
    "start_time": "2023-06-07T12:24:23.830Z"
   },
   {
    "duration": 36,
    "start_time": "2023-06-07T12:24:23.835Z"
   },
   {
    "duration": 41,
    "start_time": "2023-06-07T12:24:23.873Z"
   },
   {
    "duration": 43,
    "start_time": "2023-06-07T12:24:23.925Z"
   },
   {
    "duration": 9,
    "start_time": "2023-06-07T12:24:23.969Z"
   },
   {
    "duration": 379,
    "start_time": "2023-06-07T12:24:23.979Z"
   },
   {
    "duration": 511,
    "start_time": "2023-06-07T12:24:24.361Z"
   },
   {
    "duration": 57,
    "start_time": "2023-06-07T12:24:24.874Z"
   },
   {
    "duration": 66,
    "start_time": "2023-06-07T12:24:24.933Z"
   },
   {
    "duration": 36,
    "start_time": "2023-06-07T12:24:25.001Z"
   },
   {
    "duration": 128,
    "start_time": "2023-06-07T12:24:25.042Z"
   },
   {
    "duration": 13,
    "start_time": "2023-06-07T12:24:25.173Z"
   },
   {
    "duration": 100,
    "start_time": "2023-06-07T12:24:25.187Z"
   },
   {
    "duration": 15,
    "start_time": "2023-06-07T12:24:25.289Z"
   },
   {
    "duration": 23,
    "start_time": "2023-06-07T12:24:25.305Z"
   },
   {
    "duration": 27,
    "start_time": "2023-06-07T12:24:39.909Z"
   },
   {
    "duration": 20,
    "start_time": "2023-06-07T12:25:15.377Z"
   },
   {
    "duration": 10,
    "start_time": "2023-06-07T12:25:39.776Z"
   },
   {
    "duration": 27,
    "start_time": "2023-06-07T12:25:51.687Z"
   },
   {
    "duration": 3,
    "start_time": "2023-06-07T12:25:57.977Z"
   },
   {
    "duration": 48,
    "start_time": "2023-06-07T12:26:01.395Z"
   },
   {
    "duration": 566,
    "start_time": "2023-06-07T12:26:50.047Z"
   },
   {
    "duration": 1476,
    "start_time": "2023-06-07T12:26:50.626Z"
   },
   {
    "duration": 4,
    "start_time": "2023-06-07T12:26:52.104Z"
   },
   {
    "duration": 66,
    "start_time": "2023-06-07T12:26:52.110Z"
   },
   {
    "duration": 46,
    "start_time": "2023-06-07T12:26:52.178Z"
   },
   {
    "duration": 57,
    "start_time": "2023-06-07T12:26:52.226Z"
   },
   {
    "duration": 65,
    "start_time": "2023-06-07T12:26:52.284Z"
   },
   {
    "duration": 3,
    "start_time": "2023-06-07T12:26:52.354Z"
   },
   {
    "duration": 45,
    "start_time": "2023-06-07T12:26:52.363Z"
   },
   {
    "duration": 423,
    "start_time": "2023-06-07T12:26:52.409Z"
   },
   {
    "duration": 123,
    "start_time": "2023-06-07T12:26:52.834Z"
   },
   {
    "duration": 329,
    "start_time": "2023-06-07T12:26:52.966Z"
   },
   {
    "duration": 4,
    "start_time": "2023-06-07T12:26:53.297Z"
   },
   {
    "duration": 20,
    "start_time": "2023-06-07T12:26:53.302Z"
   },
   {
    "duration": 158,
    "start_time": "2023-06-07T12:26:53.324Z"
   },
   {
    "duration": 90,
    "start_time": "2023-06-07T12:26:53.484Z"
   },
   {
    "duration": 3,
    "start_time": "2023-06-07T12:26:53.576Z"
   },
   {
    "duration": 30,
    "start_time": "2023-06-07T12:26:53.581Z"
   },
   {
    "duration": 96,
    "start_time": "2023-06-07T12:26:53.612Z"
   },
   {
    "duration": 43,
    "start_time": "2023-06-07T12:26:53.710Z"
   },
   {
    "duration": 39,
    "start_time": "2023-06-07T12:26:53.755Z"
   },
   {
    "duration": 445,
    "start_time": "2023-06-07T12:26:53.796Z"
   },
   {
    "duration": 233,
    "start_time": "2023-06-07T12:26:54.242Z"
   },
   {
    "duration": 0,
    "start_time": "2023-06-07T12:26:54.477Z"
   },
   {
    "duration": 0,
    "start_time": "2023-06-07T12:26:54.478Z"
   },
   {
    "duration": 0,
    "start_time": "2023-06-07T12:26:54.479Z"
   },
   {
    "duration": 0,
    "start_time": "2023-06-07T12:26:54.480Z"
   },
   {
    "duration": 0,
    "start_time": "2023-06-07T12:26:54.481Z"
   },
   {
    "duration": 0,
    "start_time": "2023-06-07T12:26:54.482Z"
   },
   {
    "duration": 0,
    "start_time": "2023-06-07T12:26:54.483Z"
   },
   {
    "duration": 0,
    "start_time": "2023-06-07T12:26:54.484Z"
   },
   {
    "duration": 0,
    "start_time": "2023-06-07T12:26:54.485Z"
   },
   {
    "duration": 0,
    "start_time": "2023-06-07T12:26:54.526Z"
   },
   {
    "duration": 0,
    "start_time": "2023-06-07T12:26:54.527Z"
   },
   {
    "duration": 494,
    "start_time": "2023-06-07T12:30:12.052Z"
   },
   {
    "duration": 1013,
    "start_time": "2023-06-07T12:30:12.547Z"
   },
   {
    "duration": 4,
    "start_time": "2023-06-07T12:30:13.561Z"
   },
   {
    "duration": 7,
    "start_time": "2023-06-07T12:30:13.567Z"
   },
   {
    "duration": 28,
    "start_time": "2023-06-07T12:30:13.576Z"
   },
   {
    "duration": 7,
    "start_time": "2023-06-07T12:30:13.606Z"
   },
   {
    "duration": 37,
    "start_time": "2023-06-07T12:30:13.615Z"
   },
   {
    "duration": 5,
    "start_time": "2023-06-07T12:30:13.654Z"
   },
   {
    "duration": 11,
    "start_time": "2023-06-07T12:30:13.660Z"
   },
   {
    "duration": 360,
    "start_time": "2023-06-07T12:30:13.673Z"
   },
   {
    "duration": 94,
    "start_time": "2023-06-07T12:30:14.041Z"
   },
   {
    "duration": 305,
    "start_time": "2023-06-07T12:30:14.136Z"
   },
   {
    "duration": 5,
    "start_time": "2023-06-07T12:30:14.443Z"
   },
   {
    "duration": 8,
    "start_time": "2023-06-07T12:30:14.451Z"
   },
   {
    "duration": 72,
    "start_time": "2023-06-07T12:30:14.461Z"
   },
   {
    "duration": 72,
    "start_time": "2023-06-07T12:30:14.534Z"
   },
   {
    "duration": 3,
    "start_time": "2023-06-07T12:30:14.608Z"
   },
   {
    "duration": 39,
    "start_time": "2023-06-07T12:30:14.613Z"
   },
   {
    "duration": 35,
    "start_time": "2023-06-07T12:30:14.654Z"
   },
   {
    "duration": 46,
    "start_time": "2023-06-07T12:30:14.691Z"
   },
   {
    "duration": 8,
    "start_time": "2023-06-07T12:30:14.739Z"
   },
   {
    "duration": 418,
    "start_time": "2023-06-07T12:30:14.749Z"
   },
   {
    "duration": 301,
    "start_time": "2023-06-07T12:30:15.168Z"
   },
   {
    "duration": 109,
    "start_time": "2023-06-07T12:30:15.470Z"
   },
   {
    "duration": 89,
    "start_time": "2023-06-07T12:30:15.581Z"
   },
   {
    "duration": 18,
    "start_time": "2023-06-07T12:30:15.672Z"
   },
   {
    "duration": 79,
    "start_time": "2023-06-07T12:30:15.692Z"
   },
   {
    "duration": 74,
    "start_time": "2023-06-07T12:30:15.772Z"
   },
   {
    "duration": 30,
    "start_time": "2023-06-07T12:30:15.848Z"
   },
   {
    "duration": 111,
    "start_time": "2023-06-07T12:30:15.881Z"
   },
   {
    "duration": 107,
    "start_time": "2023-06-07T12:30:15.994Z"
   },
   {
    "duration": 42,
    "start_time": "2023-06-07T12:30:16.103Z"
   },
   {
    "duration": 19,
    "start_time": "2023-06-07T12:30:16.150Z"
   },
   {
    "duration": 21,
    "start_time": "2023-06-07T12:30:36.743Z"
   },
   {
    "duration": 99,
    "start_time": "2023-06-07T12:30:38.374Z"
   },
   {
    "duration": 20,
    "start_time": "2023-06-07T12:30:42.676Z"
   },
   {
    "duration": 79,
    "start_time": "2023-06-07T12:30:44.370Z"
   },
   {
    "duration": 20,
    "start_time": "2023-06-07T12:30:48.042Z"
   },
   {
    "duration": 20,
    "start_time": "2023-06-07T12:30:51.441Z"
   },
   {
    "duration": 472,
    "start_time": "2023-06-07T12:31:11.440Z"
   },
   {
    "duration": 1159,
    "start_time": "2023-06-07T12:31:11.915Z"
   },
   {
    "duration": 4,
    "start_time": "2023-06-07T12:31:13.076Z"
   },
   {
    "duration": 6,
    "start_time": "2023-06-07T12:31:13.082Z"
   },
   {
    "duration": 52,
    "start_time": "2023-06-07T12:31:13.091Z"
   },
   {
    "duration": 8,
    "start_time": "2023-06-07T12:31:13.144Z"
   },
   {
    "duration": 10,
    "start_time": "2023-06-07T12:31:13.153Z"
   },
   {
    "duration": 4,
    "start_time": "2023-06-07T12:31:13.164Z"
   },
   {
    "duration": 5,
    "start_time": "2023-06-07T12:31:13.169Z"
   },
   {
    "duration": 379,
    "start_time": "2023-06-07T12:31:13.175Z"
   },
   {
    "duration": 102,
    "start_time": "2023-06-07T12:31:13.555Z"
   },
   {
    "duration": 289,
    "start_time": "2023-06-07T12:31:13.659Z"
   },
   {
    "duration": 4,
    "start_time": "2023-06-07T12:31:13.950Z"
   },
   {
    "duration": 3,
    "start_time": "2023-06-07T12:31:13.958Z"
   },
   {
    "duration": 110,
    "start_time": "2023-06-07T12:31:13.963Z"
   },
   {
    "duration": 83,
    "start_time": "2023-06-07T12:31:14.075Z"
   },
   {
    "duration": 4,
    "start_time": "2023-06-07T12:31:14.160Z"
   },
   {
    "duration": 13,
    "start_time": "2023-06-07T12:31:14.165Z"
   },
   {
    "duration": 55,
    "start_time": "2023-06-07T12:31:14.179Z"
   },
   {
    "duration": 23,
    "start_time": "2023-06-07T12:31:14.244Z"
   },
   {
    "duration": 4,
    "start_time": "2023-06-07T12:31:14.268Z"
   },
   {
    "duration": 360,
    "start_time": "2023-06-07T12:31:14.273Z"
   },
   {
    "duration": 271,
    "start_time": "2023-06-07T12:31:14.634Z"
   },
   {
    "duration": 123,
    "start_time": "2023-06-07T12:31:14.906Z"
   },
   {
    "duration": 109,
    "start_time": "2023-06-07T12:31:15.030Z"
   },
   {
    "duration": 19,
    "start_time": "2023-06-07T12:31:15.141Z"
   },
   {
    "duration": 83,
    "start_time": "2023-06-07T12:31:15.162Z"
   },
   {
    "duration": 67,
    "start_time": "2023-06-07T12:31:15.246Z"
   },
   {
    "duration": 43,
    "start_time": "2023-06-07T12:31:15.315Z"
   },
   {
    "duration": 144,
    "start_time": "2023-06-07T12:31:15.360Z"
   },
   {
    "duration": 39,
    "start_time": "2023-06-07T12:31:25.850Z"
   },
   {
    "duration": 27,
    "start_time": "2023-06-07T12:31:54.000Z"
   },
   {
    "duration": 530,
    "start_time": "2023-06-07T12:32:07.677Z"
   },
   {
    "duration": 1150,
    "start_time": "2023-06-07T12:32:08.209Z"
   },
   {
    "duration": 4,
    "start_time": "2023-06-07T12:32:09.361Z"
   },
   {
    "duration": 11,
    "start_time": "2023-06-07T12:32:09.366Z"
   },
   {
    "duration": 29,
    "start_time": "2023-06-07T12:32:09.379Z"
   },
   {
    "duration": 17,
    "start_time": "2023-06-07T12:32:09.409Z"
   },
   {
    "duration": 45,
    "start_time": "2023-06-07T12:32:09.427Z"
   },
   {
    "duration": 9,
    "start_time": "2023-06-07T12:32:09.474Z"
   },
   {
    "duration": 5,
    "start_time": "2023-06-07T12:32:09.485Z"
   },
   {
    "duration": 427,
    "start_time": "2023-06-07T12:32:09.494Z"
   },
   {
    "duration": 127,
    "start_time": "2023-06-07T12:32:09.923Z"
   },
   {
    "duration": 329,
    "start_time": "2023-06-07T12:32:10.051Z"
   },
   {
    "duration": 4,
    "start_time": "2023-06-07T12:32:10.381Z"
   },
   {
    "duration": 9,
    "start_time": "2023-06-07T12:32:10.387Z"
   },
   {
    "duration": 81,
    "start_time": "2023-06-07T12:32:10.397Z"
   },
   {
    "duration": 96,
    "start_time": "2023-06-07T12:32:10.480Z"
   },
   {
    "duration": 4,
    "start_time": "2023-06-07T12:32:10.578Z"
   },
   {
    "duration": 7,
    "start_time": "2023-06-07T12:32:10.583Z"
   },
   {
    "duration": 58,
    "start_time": "2023-06-07T12:32:10.591Z"
   },
   {
    "duration": 28,
    "start_time": "2023-06-07T12:32:10.651Z"
   },
   {
    "duration": 4,
    "start_time": "2023-06-07T12:32:10.681Z"
   },
   {
    "duration": 418,
    "start_time": "2023-06-07T12:32:10.687Z"
   },
   {
    "duration": 306,
    "start_time": "2023-06-07T12:32:11.107Z"
   },
   {
    "duration": 109,
    "start_time": "2023-06-07T12:32:11.419Z"
   },
   {
    "duration": 25,
    "start_time": "2023-06-07T12:32:11.529Z"
   },
   {
    "duration": 70,
    "start_time": "2023-06-07T12:32:11.556Z"
   },
   {
    "duration": 68,
    "start_time": "2023-06-07T12:32:11.636Z"
   },
   {
    "duration": 34,
    "start_time": "2023-06-07T12:32:11.707Z"
   },
   {
    "duration": 140,
    "start_time": "2023-06-07T12:32:11.743Z"
   },
   {
    "duration": 990,
    "start_time": "2023-06-07T12:33:47.973Z"
   },
   {
    "duration": 1963,
    "start_time": "2023-06-07T12:34:03.009Z"
   },
   {
    "duration": 28,
    "start_time": "2023-06-07T12:34:05.135Z"
   },
   {
    "duration": 533,
    "start_time": "2023-06-07T12:34:34.653Z"
   },
   {
    "duration": 1249,
    "start_time": "2023-06-07T12:34:35.188Z"
   },
   {
    "duration": 9,
    "start_time": "2023-06-07T12:34:36.446Z"
   },
   {
    "duration": 19,
    "start_time": "2023-06-07T12:34:36.457Z"
   },
   {
    "duration": 28,
    "start_time": "2023-06-07T12:34:36.479Z"
   },
   {
    "duration": 7,
    "start_time": "2023-06-07T12:34:36.508Z"
   },
   {
    "duration": 53,
    "start_time": "2023-06-07T12:34:36.523Z"
   },
   {
    "duration": 13,
    "start_time": "2023-06-07T12:34:36.577Z"
   },
   {
    "duration": 10,
    "start_time": "2023-06-07T12:34:36.591Z"
   },
   {
    "duration": 427,
    "start_time": "2023-06-07T12:34:36.602Z"
   },
   {
    "duration": 121,
    "start_time": "2023-06-07T12:34:37.031Z"
   },
   {
    "duration": 322,
    "start_time": "2023-06-07T12:34:37.154Z"
   },
   {
    "duration": 3,
    "start_time": "2023-06-07T12:34:37.478Z"
   },
   {
    "duration": 4,
    "start_time": "2023-06-07T12:34:37.484Z"
   },
   {
    "duration": 86,
    "start_time": "2023-06-07T12:34:37.489Z"
   },
   {
    "duration": 96,
    "start_time": "2023-06-07T12:34:37.577Z"
   },
   {
    "duration": 4,
    "start_time": "2023-06-07T12:34:37.674Z"
   },
   {
    "duration": 71,
    "start_time": "2023-06-07T12:34:37.679Z"
   },
   {
    "duration": 34,
    "start_time": "2023-06-07T12:34:37.759Z"
   },
   {
    "duration": 32,
    "start_time": "2023-06-07T12:34:37.795Z"
   },
   {
    "duration": 5,
    "start_time": "2023-06-07T12:34:37.829Z"
   },
   {
    "duration": 443,
    "start_time": "2023-06-07T12:34:37.835Z"
   },
   {
    "duration": 312,
    "start_time": "2023-06-07T12:34:38.280Z"
   },
   {
    "duration": 1989,
    "start_time": "2023-06-07T12:34:38.594Z"
   },
   {
    "duration": 18,
    "start_time": "2023-06-07T12:34:40.585Z"
   },
   {
    "duration": 80,
    "start_time": "2023-06-07T12:34:40.605Z"
   },
   {
    "duration": 76,
    "start_time": "2023-06-07T12:34:40.687Z"
   },
   {
    "duration": 32,
    "start_time": "2023-06-07T12:34:40.765Z"
   },
   {
    "duration": 125,
    "start_time": "2023-06-07T12:34:40.799Z"
   },
   {
    "duration": 107,
    "start_time": "2023-06-07T12:35:09.935Z"
   },
   {
    "duration": 100,
    "start_time": "2023-06-07T12:35:12.135Z"
   },
   {
    "duration": 27,
    "start_time": "2023-06-07T12:35:15.343Z"
   },
   {
    "duration": 106,
    "start_time": "2023-06-07T12:36:31.248Z"
   },
   {
    "duration": 29,
    "start_time": "2023-06-07T12:36:33.546Z"
   },
   {
    "duration": 199,
    "start_time": "2023-06-07T12:36:47.476Z"
   },
   {
    "duration": 456,
    "start_time": "2023-06-07T12:36:58.581Z"
   },
   {
    "duration": 1232,
    "start_time": "2023-06-07T12:36:59.042Z"
   },
   {
    "duration": 4,
    "start_time": "2023-06-07T12:37:00.276Z"
   },
   {
    "duration": 29,
    "start_time": "2023-06-07T12:37:00.282Z"
   },
   {
    "duration": 78,
    "start_time": "2023-06-07T12:37:00.313Z"
   },
   {
    "duration": 7,
    "start_time": "2023-06-07T12:37:00.392Z"
   },
   {
    "duration": 47,
    "start_time": "2023-06-07T12:37:00.400Z"
   },
   {
    "duration": 41,
    "start_time": "2023-06-07T12:37:00.448Z"
   },
   {
    "duration": 17,
    "start_time": "2023-06-07T12:37:00.490Z"
   },
   {
    "duration": 448,
    "start_time": "2023-06-07T12:37:00.509Z"
   },
   {
    "duration": 104,
    "start_time": "2023-06-07T12:37:00.959Z"
   },
   {
    "duration": 282,
    "start_time": "2023-06-07T12:37:01.064Z"
   },
   {
    "duration": 4,
    "start_time": "2023-06-07T12:37:01.348Z"
   },
   {
    "duration": 34,
    "start_time": "2023-06-07T12:37:01.354Z"
   },
   {
    "duration": 103,
    "start_time": "2023-06-07T12:37:01.390Z"
   },
   {
    "duration": 86,
    "start_time": "2023-06-07T12:37:01.494Z"
   },
   {
    "duration": 4,
    "start_time": "2023-06-07T12:37:01.582Z"
   },
   {
    "duration": 68,
    "start_time": "2023-06-07T12:37:01.588Z"
   },
   {
    "duration": 83,
    "start_time": "2023-06-07T12:37:01.658Z"
   },
   {
    "duration": 32,
    "start_time": "2023-06-07T12:37:01.743Z"
   },
   {
    "duration": 68,
    "start_time": "2023-06-07T12:37:01.777Z"
   },
   {
    "duration": 385,
    "start_time": "2023-06-07T12:37:01.848Z"
   },
   {
    "duration": 308,
    "start_time": "2023-06-07T12:37:02.234Z"
   },
   {
    "duration": 16,
    "start_time": "2023-06-07T12:37:02.550Z"
   },
   {
    "duration": 196,
    "start_time": "2023-06-07T12:37:02.568Z"
   },
   {
    "duration": 19,
    "start_time": "2023-06-07T12:37:02.765Z"
   },
   {
    "duration": 85,
    "start_time": "2023-06-07T12:37:02.785Z"
   },
   {
    "duration": 62,
    "start_time": "2023-06-07T12:37:02.871Z"
   },
   {
    "duration": 34,
    "start_time": "2023-06-07T12:37:02.934Z"
   },
   {
    "duration": 106,
    "start_time": "2023-06-07T12:37:02.970Z"
   },
   {
    "duration": 34,
    "start_time": "2023-06-07T12:37:47.143Z"
   },
   {
    "duration": 82,
    "start_time": "2023-06-07T13:09:45.021Z"
   },
   {
    "duration": 86,
    "start_time": "2023-06-07T13:10:06.587Z"
   },
   {
    "duration": 150,
    "start_time": "2023-06-07T13:10:30.987Z"
   },
   {
    "duration": 155,
    "start_time": "2023-06-07T13:10:53.615Z"
   },
   {
    "duration": 493,
    "start_time": "2023-06-07T13:11:00.742Z"
   },
   {
    "duration": 1344,
    "start_time": "2023-06-07T13:11:01.246Z"
   },
   {
    "duration": 4,
    "start_time": "2023-06-07T13:11:02.592Z"
   },
   {
    "duration": 51,
    "start_time": "2023-06-07T13:11:02.597Z"
   },
   {
    "duration": 45,
    "start_time": "2023-06-07T13:11:02.650Z"
   },
   {
    "duration": 51,
    "start_time": "2023-06-07T13:11:02.697Z"
   },
   {
    "duration": 55,
    "start_time": "2023-06-07T13:11:02.750Z"
   },
   {
    "duration": 66,
    "start_time": "2023-06-07T13:11:02.807Z"
   },
   {
    "duration": 18,
    "start_time": "2023-06-07T13:11:02.875Z"
   },
   {
    "duration": 420,
    "start_time": "2023-06-07T13:11:02.895Z"
   },
   {
    "duration": 113,
    "start_time": "2023-06-07T13:11:03.330Z"
   },
   {
    "duration": 250,
    "start_time": "2023-06-07T13:11:03.445Z"
   },
   {
    "duration": 3,
    "start_time": "2023-06-07T13:11:03.697Z"
   },
   {
    "duration": 14,
    "start_time": "2023-06-07T13:11:03.703Z"
   },
   {
    "duration": 91,
    "start_time": "2023-06-07T13:11:03.718Z"
   },
   {
    "duration": 92,
    "start_time": "2023-06-07T13:11:03.810Z"
   },
   {
    "duration": 4,
    "start_time": "2023-06-07T13:11:03.904Z"
   },
   {
    "duration": 25,
    "start_time": "2023-06-07T13:11:03.929Z"
   },
   {
    "duration": 42,
    "start_time": "2023-06-07T13:11:03.956Z"
   },
   {
    "duration": 38,
    "start_time": "2023-06-07T13:11:04.000Z"
   },
   {
    "duration": 4,
    "start_time": "2023-06-07T13:11:04.041Z"
   },
   {
    "duration": 1000,
    "start_time": "2023-06-07T13:11:04.047Z"
   },
   {
    "duration": 305,
    "start_time": "2023-06-07T13:11:05.049Z"
   },
   {
    "duration": 17,
    "start_time": "2023-06-07T13:11:05.355Z"
   },
   {
    "duration": 267,
    "start_time": "2023-06-07T13:11:05.374Z"
   },
   {
    "duration": 58,
    "start_time": "2023-06-07T13:11:05.646Z"
   },
   {
    "duration": 53,
    "start_time": "2023-06-07T13:11:05.706Z"
   },
   {
    "duration": 22,
    "start_time": "2023-06-07T13:11:05.761Z"
   },
   {
    "duration": 123,
    "start_time": "2023-06-07T13:11:05.785Z"
   },
   {
    "duration": 25,
    "start_time": "2023-06-07T13:11:24.463Z"
   },
   {
    "duration": 103,
    "start_time": "2023-06-07T13:12:28.643Z"
   },
   {
    "duration": 173,
    "start_time": "2023-06-07T13:12:59.004Z"
   },
   {
    "duration": 16,
    "start_time": "2023-06-07T13:13:00.861Z"
   },
   {
    "duration": 138,
    "start_time": "2023-06-07T13:13:11.695Z"
   },
   {
    "duration": 45,
    "start_time": "2023-06-07T13:13:21.443Z"
   },
   {
    "duration": 110,
    "start_time": "2023-06-07T13:21:09.739Z"
   },
   {
    "duration": 114,
    "start_time": "2023-06-07T13:21:24.075Z"
   },
   {
    "duration": 196,
    "start_time": "2023-06-07T13:21:32.854Z"
   },
   {
    "duration": 138,
    "start_time": "2023-06-07T13:21:42.944Z"
   },
   {
    "duration": 5,
    "start_time": "2023-06-07T13:48:49.044Z"
   },
   {
    "duration": 14,
    "start_time": "2023-06-07T13:48:58.311Z"
   },
   {
    "duration": 9,
    "start_time": "2023-06-07T13:49:09.697Z"
   },
   {
    "duration": 11,
    "start_time": "2023-06-07T13:49:36.773Z"
   },
   {
    "duration": 9,
    "start_time": "2023-06-07T13:49:46.956Z"
   },
   {
    "duration": 9,
    "start_time": "2023-06-07T13:51:17.801Z"
   },
   {
    "duration": 9,
    "start_time": "2023-06-07T13:57:04.002Z"
   },
   {
    "duration": 9,
    "start_time": "2023-06-07T13:59:18.465Z"
   },
   {
    "duration": 24,
    "start_time": "2023-06-07T14:00:11.511Z"
   },
   {
    "duration": 9,
    "start_time": "2023-06-07T14:01:13.092Z"
   },
   {
    "duration": 9,
    "start_time": "2023-06-07T14:03:12.085Z"
   },
   {
    "duration": 8,
    "start_time": "2023-06-07T14:05:21.477Z"
   },
   {
    "duration": 8,
    "start_time": "2023-06-07T14:06:14.259Z"
   },
   {
    "duration": 11,
    "start_time": "2023-06-07T14:06:23.651Z"
   },
   {
    "duration": 3,
    "start_time": "2023-06-07T14:10:40.443Z"
   },
   {
    "duration": 15,
    "start_time": "2023-06-07T14:11:53.721Z"
   },
   {
    "duration": 4,
    "start_time": "2023-06-07T14:11:57.390Z"
   },
   {
    "duration": 527,
    "start_time": "2023-06-07T14:12:05.144Z"
   },
   {
    "duration": 1307,
    "start_time": "2023-06-07T14:12:05.673Z"
   },
   {
    "duration": 4,
    "start_time": "2023-06-07T14:12:06.982Z"
   },
   {
    "duration": 12,
    "start_time": "2023-06-07T14:12:06.988Z"
   },
   {
    "duration": 88,
    "start_time": "2023-06-07T14:12:07.002Z"
   },
   {
    "duration": 6,
    "start_time": "2023-06-07T14:12:07.092Z"
   },
   {
    "duration": 20,
    "start_time": "2023-06-07T14:12:07.100Z"
   },
   {
    "duration": 19,
    "start_time": "2023-06-07T14:12:07.134Z"
   },
   {
    "duration": 10,
    "start_time": "2023-06-07T14:12:07.154Z"
   },
   {
    "duration": 369,
    "start_time": "2023-06-07T14:12:07.166Z"
   },
   {
    "duration": 122,
    "start_time": "2023-06-07T14:12:07.536Z"
   },
   {
    "duration": 257,
    "start_time": "2023-06-07T14:12:07.660Z"
   },
   {
    "duration": 3,
    "start_time": "2023-06-07T14:12:07.918Z"
   },
   {
    "duration": 36,
    "start_time": "2023-06-07T14:12:07.923Z"
   },
   {
    "duration": 81,
    "start_time": "2023-06-07T14:12:07.961Z"
   },
   {
    "duration": 68,
    "start_time": "2023-06-07T14:12:08.043Z"
   },
   {
    "duration": 20,
    "start_time": "2023-06-07T14:12:08.113Z"
   },
   {
    "duration": 34,
    "start_time": "2023-06-07T14:12:08.138Z"
   },
   {
    "duration": 33,
    "start_time": "2023-06-07T14:12:08.174Z"
   },
   {
    "duration": 42,
    "start_time": "2023-06-07T14:12:08.208Z"
   },
   {
    "duration": 3,
    "start_time": "2023-06-07T14:12:08.251Z"
   },
   {
    "duration": 722,
    "start_time": "2023-06-07T14:12:08.256Z"
   },
   {
    "duration": 3,
    "start_time": "2023-06-07T14:12:08.980Z"
   },
   {
    "duration": 0,
    "start_time": "2023-06-07T14:12:08.984Z"
   },
   {
    "duration": 0,
    "start_time": "2023-06-07T14:12:08.985Z"
   },
   {
    "duration": 0,
    "start_time": "2023-06-07T14:12:08.986Z"
   },
   {
    "duration": 0,
    "start_time": "2023-06-07T14:12:08.987Z"
   },
   {
    "duration": 0,
    "start_time": "2023-06-07T14:12:08.988Z"
   },
   {
    "duration": 0,
    "start_time": "2023-06-07T14:12:08.989Z"
   },
   {
    "duration": 208,
    "start_time": "2023-06-07T14:12:17.980Z"
   },
   {
    "duration": 119,
    "start_time": "2023-06-07T14:12:20.239Z"
   },
   {
    "duration": 144,
    "start_time": "2023-06-07T14:13:48.112Z"
   },
   {
    "duration": 320,
    "start_time": "2023-06-07T14:14:02.344Z"
   },
   {
    "duration": 145,
    "start_time": "2023-06-07T14:14:16.248Z"
   },
   {
    "duration": 33,
    "start_time": "2023-06-07T14:14:25.954Z"
   },
   {
    "duration": 45,
    "start_time": "2023-06-07T14:14:34.443Z"
   },
   {
    "duration": 77,
    "start_time": "2023-06-07T14:15:06.783Z"
   },
   {
    "duration": 21,
    "start_time": "2023-06-07T14:15:21.682Z"
   },
   {
    "duration": 61,
    "start_time": "2023-06-07T14:16:57.435Z"
   },
   {
    "duration": 23,
    "start_time": "2023-06-07T14:17:10.009Z"
   },
   {
    "duration": 496,
    "start_time": "2023-06-07T14:17:20.899Z"
   },
   {
    "duration": 1145,
    "start_time": "2023-06-07T14:17:21.396Z"
   },
   {
    "duration": 4,
    "start_time": "2023-06-07T14:17:22.543Z"
   },
   {
    "duration": 14,
    "start_time": "2023-06-07T14:17:22.549Z"
   },
   {
    "duration": 34,
    "start_time": "2023-06-07T14:17:22.565Z"
   },
   {
    "duration": 6,
    "start_time": "2023-06-07T14:17:22.601Z"
   },
   {
    "duration": 45,
    "start_time": "2023-06-07T14:17:22.608Z"
   },
   {
    "duration": 14,
    "start_time": "2023-06-07T14:17:22.654Z"
   },
   {
    "duration": 26,
    "start_time": "2023-06-07T14:17:22.669Z"
   },
   {
    "duration": 352,
    "start_time": "2023-06-07T14:17:22.697Z"
   },
   {
    "duration": 94,
    "start_time": "2023-06-07T14:17:23.051Z"
   },
   {
    "duration": 248,
    "start_time": "2023-06-07T14:17:23.146Z"
   },
   {
    "duration": 3,
    "start_time": "2023-06-07T14:17:23.396Z"
   },
   {
    "duration": 55,
    "start_time": "2023-06-07T14:17:23.401Z"
   },
   {
    "duration": 92,
    "start_time": "2023-06-07T14:17:23.457Z"
   },
   {
    "duration": 81,
    "start_time": "2023-06-07T14:17:23.551Z"
   },
   {
    "duration": 9,
    "start_time": "2023-06-07T14:17:23.637Z"
   },
   {
    "duration": 19,
    "start_time": "2023-06-07T14:17:23.647Z"
   },
   {
    "duration": 88,
    "start_time": "2023-06-07T14:17:23.668Z"
   },
   {
    "duration": 34,
    "start_time": "2023-06-07T14:17:23.758Z"
   },
   {
    "duration": 4,
    "start_time": "2023-06-07T14:17:23.794Z"
   },
   {
    "duration": 385,
    "start_time": "2023-06-07T14:17:23.800Z"
   },
   {
    "duration": 298,
    "start_time": "2023-06-07T14:17:24.187Z"
   },
   {
    "duration": 113,
    "start_time": "2023-06-07T14:17:24.486Z"
   },
   {
    "duration": 85,
    "start_time": "2023-06-07T14:17:24.600Z"
   },
   {
    "duration": 70,
    "start_time": "2023-06-07T14:17:24.686Z"
   },
   {
    "duration": 54,
    "start_time": "2023-06-07T14:17:24.758Z"
   },
   {
    "duration": 34,
    "start_time": "2023-06-07T14:17:24.827Z"
   },
   {
    "duration": 117,
    "start_time": "2023-06-07T14:17:24.862Z"
   },
   {
    "duration": 200,
    "start_time": "2023-06-07T14:20:33.089Z"
   },
   {
    "duration": 9,
    "start_time": "2023-06-07T14:23:14.872Z"
   },
   {
    "duration": 1709,
    "start_time": "2023-06-07T14:23:18.584Z"
   },
   {
    "duration": 12,
    "start_time": "2023-06-07T14:23:39.452Z"
   },
   {
    "duration": 616,
    "start_time": "2023-06-07T14:23:55.753Z"
   },
   {
    "duration": 517,
    "start_time": "2023-06-07T14:24:05.646Z"
   },
   {
    "duration": 1218,
    "start_time": "2023-06-07T14:24:06.165Z"
   },
   {
    "duration": 4,
    "start_time": "2023-06-07T14:24:07.384Z"
   },
   {
    "duration": 14,
    "start_time": "2023-06-07T14:24:07.389Z"
   },
   {
    "duration": 62,
    "start_time": "2023-06-07T14:24:07.405Z"
   },
   {
    "duration": 7,
    "start_time": "2023-06-07T14:24:07.468Z"
   },
   {
    "duration": 15,
    "start_time": "2023-06-07T14:24:07.476Z"
   },
   {
    "duration": 12,
    "start_time": "2023-06-07T14:24:07.492Z"
   },
   {
    "duration": 5,
    "start_time": "2023-06-07T14:24:07.505Z"
   },
   {
    "duration": 379,
    "start_time": "2023-06-07T14:24:07.511Z"
   },
   {
    "duration": 109,
    "start_time": "2023-06-07T14:24:07.891Z"
   },
   {
    "duration": 290,
    "start_time": "2023-06-07T14:24:08.002Z"
   },
   {
    "duration": 3,
    "start_time": "2023-06-07T14:24:08.294Z"
   },
   {
    "duration": 38,
    "start_time": "2023-06-07T14:24:08.299Z"
   },
   {
    "duration": 63,
    "start_time": "2023-06-07T14:24:08.346Z"
   },
   {
    "duration": 90,
    "start_time": "2023-06-07T14:24:08.410Z"
   },
   {
    "duration": 4,
    "start_time": "2023-06-07T14:24:08.502Z"
   },
   {
    "duration": 24,
    "start_time": "2023-06-07T14:24:08.507Z"
   },
   {
    "duration": 35,
    "start_time": "2023-06-07T14:24:08.539Z"
   },
   {
    "duration": 22,
    "start_time": "2023-06-07T14:24:08.575Z"
   },
   {
    "duration": 4,
    "start_time": "2023-06-07T14:24:08.599Z"
   },
   {
    "duration": 399,
    "start_time": "2023-06-07T14:24:08.615Z"
   },
   {
    "duration": 228,
    "start_time": "2023-06-07T14:24:09.029Z"
   },
   {
    "duration": 0,
    "start_time": "2023-06-07T14:24:09.258Z"
   },
   {
    "duration": 0,
    "start_time": "2023-06-07T14:24:09.259Z"
   },
   {
    "duration": 0,
    "start_time": "2023-06-07T14:24:09.261Z"
   },
   {
    "duration": 0,
    "start_time": "2023-06-07T14:24:09.261Z"
   },
   {
    "duration": 0,
    "start_time": "2023-06-07T14:24:09.262Z"
   },
   {
    "duration": 0,
    "start_time": "2023-06-07T14:24:09.264Z"
   },
   {
    "duration": 0,
    "start_time": "2023-06-07T14:24:09.265Z"
   },
   {
    "duration": 251,
    "start_time": "2023-06-07T14:24:25.580Z"
   },
   {
    "duration": 16,
    "start_time": "2023-06-07T14:24:27.641Z"
   },
   {
    "duration": 75,
    "start_time": "2023-06-07T14:24:32.706Z"
   },
   {
    "duration": 9,
    "start_time": "2023-06-07T14:24:34.343Z"
   },
   {
    "duration": 44,
    "start_time": "2023-06-07T14:24:45.956Z"
   },
   {
    "duration": 144,
    "start_time": "2023-06-07T14:24:58.543Z"
   },
   {
    "duration": 40,
    "start_time": "2023-06-07T14:25:02.401Z"
   },
   {
    "duration": 97,
    "start_time": "2023-06-07T14:25:21.395Z"
   },
   {
    "duration": 57,
    "start_time": "2023-06-07T14:26:48.547Z"
   },
   {
    "duration": 77,
    "start_time": "2023-06-07T14:30:22.627Z"
   },
   {
    "duration": 109,
    "start_time": "2023-06-07T14:36:49.502Z"
   },
   {
    "duration": 40,
    "start_time": "2023-06-07T14:36:55.986Z"
   },
   {
    "duration": 213,
    "start_time": "2023-06-07T14:37:08.979Z"
   },
   {
    "duration": 48,
    "start_time": "2023-06-07T14:38:00.909Z"
   },
   {
    "duration": 10,
    "start_time": "2023-06-07T14:39:05.256Z"
   },
   {
    "duration": 51,
    "start_time": "2023-06-07T14:39:41.678Z"
   },
   {
    "duration": 26,
    "start_time": "2023-06-07T14:42:21.340Z"
   },
   {
    "duration": 28,
    "start_time": "2023-06-07T14:42:30.746Z"
   },
   {
    "duration": 27,
    "start_time": "2023-06-07T14:43:05.077Z"
   },
   {
    "duration": 219,
    "start_time": "2023-06-07T14:44:33.245Z"
   },
   {
    "duration": 640,
    "start_time": "2023-06-07T14:44:40.242Z"
   },
   {
    "duration": 678,
    "start_time": "2023-06-07T14:44:47.576Z"
   },
   {
    "duration": 154,
    "start_time": "2023-06-07T14:45:05.342Z"
   },
   {
    "duration": 143,
    "start_time": "2023-06-07T14:45:23.694Z"
   },
   {
    "duration": 29,
    "start_time": "2023-06-07T14:46:14.082Z"
   },
   {
    "duration": 33,
    "start_time": "2023-06-07T14:46:45.680Z"
   },
   {
    "duration": 588,
    "start_time": "2023-06-07T14:48:03.111Z"
   },
   {
    "duration": 1872,
    "start_time": "2023-06-07T14:48:03.702Z"
   },
   {
    "duration": 6,
    "start_time": "2023-06-07T14:48:05.576Z"
   },
   {
    "duration": 21,
    "start_time": "2023-06-07T14:48:05.584Z"
   },
   {
    "duration": 91,
    "start_time": "2023-06-07T14:48:05.614Z"
   },
   {
    "duration": 54,
    "start_time": "2023-06-07T14:48:05.707Z"
   },
   {
    "duration": 23,
    "start_time": "2023-06-07T14:48:05.763Z"
   },
   {
    "duration": 22,
    "start_time": "2023-06-07T14:48:05.788Z"
   },
   {
    "duration": 60,
    "start_time": "2023-06-07T14:48:05.812Z"
   },
   {
    "duration": 399,
    "start_time": "2023-06-07T14:48:05.875Z"
   },
   {
    "duration": 112,
    "start_time": "2023-06-07T14:48:06.276Z"
   },
   {
    "duration": 312,
    "start_time": "2023-06-07T14:48:06.389Z"
   },
   {
    "duration": 4,
    "start_time": "2023-06-07T14:48:06.703Z"
   },
   {
    "duration": 44,
    "start_time": "2023-06-07T14:48:06.725Z"
   },
   {
    "duration": 110,
    "start_time": "2023-06-07T14:48:06.771Z"
   },
   {
    "duration": 99,
    "start_time": "2023-06-07T14:48:06.884Z"
   },
   {
    "duration": 4,
    "start_time": "2023-06-07T14:48:06.984Z"
   },
   {
    "duration": 62,
    "start_time": "2023-06-07T14:48:06.990Z"
   },
   {
    "duration": 47,
    "start_time": "2023-06-07T14:48:07.054Z"
   },
   {
    "duration": 58,
    "start_time": "2023-06-07T14:48:07.102Z"
   },
   {
    "duration": 5,
    "start_time": "2023-06-07T14:48:07.162Z"
   },
   {
    "duration": 485,
    "start_time": "2023-06-07T14:48:07.169Z"
   },
   {
    "duration": 339,
    "start_time": "2023-06-07T14:48:07.656Z"
   },
   {
    "duration": 27,
    "start_time": "2023-06-07T14:48:07.997Z"
   },
   {
    "duration": 123,
    "start_time": "2023-06-07T14:48:08.026Z"
   },
   {
    "duration": 76,
    "start_time": "2023-06-07T14:48:08.161Z"
   },
   {
    "duration": 148,
    "start_time": "2023-06-07T14:48:08.239Z"
   },
   {
    "duration": 24,
    "start_time": "2023-06-07T14:48:08.388Z"
   },
   {
    "duration": 136,
    "start_time": "2023-06-07T14:48:08.421Z"
   },
   {
    "duration": 84,
    "start_time": "2023-06-07T14:48:08.560Z"
   },
   {
    "duration": 101,
    "start_time": "2023-06-07T14:48:08.662Z"
   },
   {
    "duration": 14,
    "start_time": "2023-06-07T14:48:08.764Z"
   },
   {
    "duration": 45,
    "start_time": "2023-06-07T14:48:08.780Z"
   },
   {
    "duration": 32,
    "start_time": "2023-06-07T14:48:18.144Z"
   },
   {
    "duration": 30,
    "start_time": "2023-06-07T14:48:41.010Z"
   },
   {
    "duration": 20,
    "start_time": "2023-06-07T14:49:05.153Z"
   },
   {
    "duration": 124,
    "start_time": "2023-06-07T14:53:16.979Z"
   },
   {
    "duration": 109,
    "start_time": "2023-06-07T14:53:23.996Z"
   },
   {
    "duration": 18,
    "start_time": "2023-06-07T14:54:48.643Z"
   },
   {
    "duration": 20,
    "start_time": "2023-06-07T14:55:01.064Z"
   },
   {
    "duration": 32,
    "start_time": "2023-06-07T14:55:06.214Z"
   },
   {
    "duration": 24,
    "start_time": "2023-06-07T14:56:33.479Z"
   },
   {
    "duration": 32,
    "start_time": "2023-06-07T14:57:16.336Z"
   },
   {
    "duration": 37,
    "start_time": "2023-06-07T14:57:30.108Z"
   },
   {
    "duration": 23,
    "start_time": "2023-06-07T14:57:45.848Z"
   },
   {
    "duration": 33,
    "start_time": "2023-06-07T15:03:01.304Z"
   },
   {
    "duration": 29,
    "start_time": "2023-06-07T15:03:05.108Z"
   },
   {
    "duration": 19,
    "start_time": "2023-06-07T15:06:49.085Z"
   },
   {
    "duration": 6,
    "start_time": "2023-06-07T15:06:50.091Z"
   },
   {
    "duration": 144,
    "start_time": "2023-06-07T15:07:00.443Z"
   },
   {
    "duration": 52,
    "start_time": "2023-06-07T15:07:12.288Z"
   },
   {
    "duration": 16,
    "start_time": "2023-06-07T15:07:20.243Z"
   },
   {
    "duration": 16,
    "start_time": "2023-06-07T15:07:27.689Z"
   },
   {
    "duration": 7,
    "start_time": "2023-06-07T15:07:29.541Z"
   },
   {
    "duration": 604,
    "start_time": "2023-06-07T15:10:55.783Z"
   },
   {
    "duration": 125,
    "start_time": "2023-06-07T15:11:00.587Z"
   },
   {
    "duration": 9,
    "start_time": "2023-06-07T15:11:02.846Z"
   },
   {
    "duration": 118,
    "start_time": "2023-06-07T15:11:30.055Z"
   },
   {
    "duration": 9,
    "start_time": "2023-06-07T15:11:34.287Z"
   },
   {
    "duration": 14,
    "start_time": "2023-06-07T15:13:50.347Z"
   },
   {
    "duration": 15,
    "start_time": "2023-06-07T15:13:51.194Z"
   },
   {
    "duration": 37,
    "start_time": "2023-06-07T15:15:30.908Z"
   },
   {
    "duration": 30,
    "start_time": "2023-06-07T15:15:40.943Z"
   },
   {
    "duration": 9,
    "start_time": "2023-06-07T15:15:43.247Z"
   },
   {
    "duration": 28,
    "start_time": "2023-06-07T15:17:33.332Z"
   },
   {
    "duration": 26,
    "start_time": "2023-06-07T15:17:50.986Z"
   },
   {
    "duration": 9,
    "start_time": "2023-06-07T15:17:53.539Z"
   },
   {
    "duration": 43,
    "start_time": "2023-06-07T15:18:07.609Z"
   },
   {
    "duration": 6,
    "start_time": "2023-06-07T15:18:08.882Z"
   },
   {
    "duration": 23,
    "start_time": "2023-06-07T15:24:24.884Z"
   },
   {
    "duration": 19,
    "start_time": "2023-06-07T15:24:41.327Z"
   },
   {
    "duration": 37,
    "start_time": "2023-06-07T15:24:45.830Z"
   },
   {
    "duration": 7,
    "start_time": "2023-06-07T15:24:53.143Z"
   },
   {
    "duration": 33,
    "start_time": "2023-06-07T15:26:07.038Z"
   },
   {
    "duration": 7,
    "start_time": "2023-06-07T15:26:09.078Z"
   },
   {
    "duration": 197,
    "start_time": "2023-06-07T15:26:37.611Z"
   },
   {
    "duration": 144,
    "start_time": "2023-06-07T15:27:11.248Z"
   },
   {
    "duration": 26,
    "start_time": "2023-06-07T15:27:27.905Z"
   },
   {
    "duration": 10,
    "start_time": "2023-06-07T15:27:38.443Z"
   },
   {
    "duration": 10,
    "start_time": "2023-06-07T15:27:45.839Z"
   },
   {
    "duration": 23,
    "start_time": "2023-06-07T15:29:28.680Z"
   },
   {
    "duration": 6,
    "start_time": "2023-06-07T15:29:32.969Z"
   },
   {
    "duration": 15,
    "start_time": "2023-06-07T15:29:44.231Z"
   },
   {
    "duration": 5,
    "start_time": "2023-06-07T15:29:52.890Z"
   },
   {
    "duration": 59,
    "start_time": "2023-06-07T15:48:34.470Z"
   },
   {
    "duration": 47,
    "start_time": "2023-06-07T18:13:26.700Z"
   },
   {
    "duration": 27,
    "start_time": "2023-06-07T18:13:47.951Z"
   },
   {
    "duration": 42,
    "start_time": "2023-06-07T18:16:36.839Z"
   },
   {
    "duration": 8,
    "start_time": "2023-06-07T18:18:57.131Z"
   },
   {
    "duration": 63,
    "start_time": "2023-06-07T18:19:10.570Z"
   },
   {
    "duration": 78,
    "start_time": "2023-06-07T18:23:07.894Z"
   },
   {
    "duration": 147,
    "start_time": "2023-06-07T18:27:56.943Z"
   },
   {
    "duration": 132,
    "start_time": "2023-06-07T18:39:07.339Z"
   },
   {
    "duration": 146,
    "start_time": "2023-06-07T18:39:55.349Z"
   },
   {
    "duration": 49,
    "start_time": "2023-06-07T19:06:08.783Z"
   },
   {
    "duration": 46,
    "start_time": "2023-06-07T19:07:04.658Z"
   },
   {
    "duration": 33,
    "start_time": "2023-06-07T19:07:39.309Z"
   },
   {
    "duration": 32,
    "start_time": "2023-06-07T19:07:43.853Z"
   },
   {
    "duration": 199,
    "start_time": "2023-06-07T19:09:15.758Z"
   },
   {
    "duration": 190,
    "start_time": "2023-06-07T19:09:25.002Z"
   },
   {
    "duration": 38,
    "start_time": "2023-06-07T19:10:27.552Z"
   },
   {
    "duration": 15,
    "start_time": "2023-06-07T19:13:19.042Z"
   },
   {
    "duration": 64,
    "start_time": "2023-06-07T19:13:51.415Z"
   },
   {
    "duration": 22,
    "start_time": "2023-06-07T19:13:57.379Z"
   },
   {
    "duration": 36,
    "start_time": "2023-06-07T19:13:58.966Z"
   },
   {
    "duration": 115,
    "start_time": "2023-06-07T19:15:22.946Z"
   },
   {
    "duration": 75,
    "start_time": "2023-06-07T19:15:27.705Z"
   },
   {
    "duration": 18,
    "start_time": "2023-06-07T19:23:08.644Z"
   },
   {
    "duration": 22,
    "start_time": "2023-06-07T19:24:08.664Z"
   },
   {
    "duration": 47,
    "start_time": "2023-06-07T19:24:22.443Z"
   },
   {
    "duration": 132,
    "start_time": "2023-06-07T19:26:32.768Z"
   },
   {
    "duration": 50,
    "start_time": "2023-06-07T19:26:36.907Z"
   },
   {
    "duration": 34,
    "start_time": "2023-06-07T19:28:12.410Z"
   },
   {
    "duration": 42,
    "start_time": "2023-06-07T19:30:26.037Z"
   },
   {
    "duration": 59,
    "start_time": "2023-06-07T19:31:13.643Z"
   },
   {
    "duration": 48,
    "start_time": "2023-06-07T19:32:09.264Z"
   },
   {
    "duration": 54,
    "start_time": "2023-06-07T19:33:15.007Z"
   },
   {
    "duration": 81,
    "start_time": "2023-06-07T19:33:39.384Z"
   },
   {
    "duration": 156,
    "start_time": "2023-06-07T19:33:56.001Z"
   },
   {
    "duration": 88,
    "start_time": "2023-06-07T19:34:40.159Z"
   },
   {
    "duration": 80,
    "start_time": "2023-06-07T19:35:21.143Z"
   },
   {
    "duration": 70,
    "start_time": "2023-06-07T19:35:27.386Z"
   },
   {
    "duration": 56,
    "start_time": "2023-06-07T19:35:30.434Z"
   },
   {
    "duration": 64,
    "start_time": "2023-06-07T19:36:03.712Z"
   },
   {
    "duration": 60,
    "start_time": "2023-06-07T19:37:18.606Z"
   },
   {
    "duration": 19,
    "start_time": "2023-06-07T19:41:34.876Z"
   },
   {
    "duration": 100,
    "start_time": "2023-06-07T19:41:47.340Z"
   },
   {
    "duration": 101,
    "start_time": "2023-06-07T19:42:34.343Z"
   },
   {
    "duration": 90,
    "start_time": "2023-06-07T19:44:39.307Z"
   },
   {
    "duration": 60,
    "start_time": "2023-06-07T19:45:50.373Z"
   },
   {
    "duration": 495,
    "start_time": "2023-06-08T03:52:51.990Z"
   },
   {
    "duration": 1305,
    "start_time": "2023-06-08T03:52:52.487Z"
   },
   {
    "duration": 5,
    "start_time": "2023-06-08T03:52:53.794Z"
   },
   {
    "duration": 8,
    "start_time": "2023-06-08T03:52:53.801Z"
   },
   {
    "duration": 31,
    "start_time": "2023-06-08T03:52:53.810Z"
   },
   {
    "duration": 7,
    "start_time": "2023-06-08T03:52:53.843Z"
   },
   {
    "duration": 9,
    "start_time": "2023-06-08T03:52:53.876Z"
   },
   {
    "duration": 13,
    "start_time": "2023-06-08T03:52:53.887Z"
   },
   {
    "duration": 6,
    "start_time": "2023-06-08T03:52:53.901Z"
   },
   {
    "duration": 391,
    "start_time": "2023-06-08T03:52:53.910Z"
   },
   {
    "duration": 97,
    "start_time": "2023-06-08T03:52:54.303Z"
   },
   {
    "duration": 259,
    "start_time": "2023-06-08T03:52:54.402Z"
   },
   {
    "duration": 3,
    "start_time": "2023-06-08T03:52:54.663Z"
   },
   {
    "duration": 11,
    "start_time": "2023-06-08T03:52:54.667Z"
   },
   {
    "duration": 68,
    "start_time": "2023-06-08T03:52:54.679Z"
   },
   {
    "duration": 98,
    "start_time": "2023-06-08T03:52:54.748Z"
   },
   {
    "duration": 4,
    "start_time": "2023-06-08T03:52:54.847Z"
   },
   {
    "duration": 25,
    "start_time": "2023-06-08T03:52:54.852Z"
   },
   {
    "duration": 27,
    "start_time": "2023-06-08T03:52:54.878Z"
   },
   {
    "duration": 25,
    "start_time": "2023-06-08T03:52:54.907Z"
   },
   {
    "duration": 3,
    "start_time": "2023-06-08T03:52:54.934Z"
   },
   {
    "duration": 379,
    "start_time": "2023-06-08T03:52:54.938Z"
   },
   {
    "duration": 304,
    "start_time": "2023-06-08T03:52:55.319Z"
   },
   {
    "duration": 13,
    "start_time": "2023-06-08T03:52:55.624Z"
   },
   {
    "duration": 69,
    "start_time": "2023-06-08T03:52:55.638Z"
   },
   {
    "duration": 55,
    "start_time": "2023-06-08T03:52:55.709Z"
   },
   {
    "duration": 146,
    "start_time": "2023-06-08T03:52:55.776Z"
   },
   {
    "duration": 25,
    "start_time": "2023-06-08T03:52:55.925Z"
   },
   {
    "duration": 102,
    "start_time": "2023-06-08T03:52:55.951Z"
   },
   {
    "duration": 73,
    "start_time": "2023-06-08T03:52:56.054Z"
   },
   {
    "duration": 58,
    "start_time": "2023-06-08T03:52:56.129Z"
   },
   {
    "duration": 117,
    "start_time": "2023-06-08T03:52:56.189Z"
   },
   {
    "duration": 141,
    "start_time": "2023-06-08T03:52:56.308Z"
   },
   {
    "duration": 51,
    "start_time": "2023-06-08T03:52:56.451Z"
   },
   {
    "duration": 52,
    "start_time": "2023-06-08T03:52:56.504Z"
   },
   {
    "duration": 96,
    "start_time": "2023-06-08T03:52:56.558Z"
   },
   {
    "duration": 476,
    "start_time": "2023-06-08T03:53:10.622Z"
   },
   {
    "duration": 2131,
    "start_time": "2023-06-08T03:53:11.101Z"
   },
   {
    "duration": 4,
    "start_time": "2023-06-08T03:53:13.234Z"
   },
   {
    "duration": 20,
    "start_time": "2023-06-08T03:53:13.240Z"
   },
   {
    "duration": 43,
    "start_time": "2023-06-08T03:53:13.261Z"
   },
   {
    "duration": 7,
    "start_time": "2023-06-08T03:53:13.305Z"
   },
   {
    "duration": 14,
    "start_time": "2023-06-08T03:53:13.313Z"
   },
   {
    "duration": 5,
    "start_time": "2023-06-08T03:53:13.328Z"
   },
   {
    "duration": 9,
    "start_time": "2023-06-08T03:53:13.335Z"
   },
   {
    "duration": 407,
    "start_time": "2023-06-08T03:53:13.347Z"
   },
   {
    "duration": 97,
    "start_time": "2023-06-08T03:53:13.755Z"
   },
   {
    "duration": 266,
    "start_time": "2023-06-08T03:53:13.854Z"
   },
   {
    "duration": 3,
    "start_time": "2023-06-08T03:53:14.122Z"
   },
   {
    "duration": 7,
    "start_time": "2023-06-08T03:53:14.127Z"
   },
   {
    "duration": 86,
    "start_time": "2023-06-08T03:53:14.135Z"
   },
   {
    "duration": 88,
    "start_time": "2023-06-08T03:53:14.223Z"
   },
   {
    "duration": 4,
    "start_time": "2023-06-08T03:53:14.313Z"
   },
   {
    "duration": 9,
    "start_time": "2023-06-08T03:53:14.318Z"
   },
   {
    "duration": 56,
    "start_time": "2023-06-08T03:53:14.329Z"
   },
   {
    "duration": 25,
    "start_time": "2023-06-08T03:53:14.386Z"
   },
   {
    "duration": 4,
    "start_time": "2023-06-08T03:53:14.412Z"
   },
   {
    "duration": 345,
    "start_time": "2023-06-08T03:53:14.417Z"
   },
   {
    "duration": 291,
    "start_time": "2023-06-08T03:53:14.764Z"
   },
   {
    "duration": 20,
    "start_time": "2023-06-08T03:53:15.056Z"
   },
   {
    "duration": 67,
    "start_time": "2023-06-08T03:53:15.078Z"
   },
   {
    "duration": 61,
    "start_time": "2023-06-08T03:53:15.147Z"
   },
   {
    "duration": 158,
    "start_time": "2023-06-08T03:53:15.209Z"
   },
   {
    "duration": 29,
    "start_time": "2023-06-08T03:53:15.370Z"
   },
   {
    "duration": 111,
    "start_time": "2023-06-08T03:53:15.401Z"
   },
   {
    "duration": 71,
    "start_time": "2023-06-08T03:53:15.513Z"
   },
   {
    "duration": 53,
    "start_time": "2023-06-08T03:53:15.586Z"
   },
   {
    "duration": 100,
    "start_time": "2023-06-08T03:53:15.640Z"
   },
   {
    "duration": 157,
    "start_time": "2023-06-08T03:53:15.742Z"
   },
   {
    "duration": 44,
    "start_time": "2023-06-08T03:53:15.901Z"
   },
   {
    "duration": 73,
    "start_time": "2023-06-08T03:53:15.946Z"
   },
   {
    "duration": 62,
    "start_time": "2023-06-08T03:53:16.020Z"
   },
   {
    "duration": 181,
    "start_time": "2023-06-08T03:58:06.552Z"
   },
   {
    "duration": 59,
    "start_time": "2023-06-08T03:58:35.170Z"
   },
   {
    "duration": 55,
    "start_time": "2023-06-08T03:59:30.113Z"
   },
   {
    "duration": 136,
    "start_time": "2023-06-08T04:04:00.501Z"
   },
   {
    "duration": 503,
    "start_time": "2023-06-08T04:08:14.571Z"
   },
   {
    "duration": 1320,
    "start_time": "2023-06-08T04:08:15.076Z"
   },
   {
    "duration": 5,
    "start_time": "2023-06-08T04:08:16.398Z"
   },
   {
    "duration": 25,
    "start_time": "2023-06-08T04:08:16.404Z"
   },
   {
    "duration": 40,
    "start_time": "2023-06-08T04:08:16.431Z"
   },
   {
    "duration": 8,
    "start_time": "2023-06-08T04:08:16.477Z"
   },
   {
    "duration": 29,
    "start_time": "2023-06-08T04:08:16.486Z"
   },
   {
    "duration": 7,
    "start_time": "2023-06-08T04:08:16.517Z"
   },
   {
    "duration": 35,
    "start_time": "2023-06-08T04:08:16.526Z"
   },
   {
    "duration": 398,
    "start_time": "2023-06-08T04:08:16.564Z"
   },
   {
    "duration": 98,
    "start_time": "2023-06-08T04:08:16.964Z"
   },
   {
    "duration": 289,
    "start_time": "2023-06-08T04:08:17.063Z"
   },
   {
    "duration": 4,
    "start_time": "2023-06-08T04:08:17.354Z"
   },
   {
    "duration": 29,
    "start_time": "2023-06-08T04:08:17.359Z"
   },
   {
    "duration": 79,
    "start_time": "2023-06-08T04:08:17.390Z"
   },
   {
    "duration": 73,
    "start_time": "2023-06-08T04:08:17.471Z"
   },
   {
    "duration": 4,
    "start_time": "2023-06-08T04:08:17.546Z"
   },
   {
    "duration": 4,
    "start_time": "2023-06-08T04:08:17.576Z"
   },
   {
    "duration": 39,
    "start_time": "2023-06-08T04:08:17.582Z"
   },
   {
    "duration": 58,
    "start_time": "2023-06-08T04:08:17.623Z"
   },
   {
    "duration": 3,
    "start_time": "2023-06-08T04:08:17.683Z"
   },
   {
    "duration": 263,
    "start_time": "2023-06-08T04:08:17.687Z"
   },
   {
    "duration": 68,
    "start_time": "2023-06-08T04:08:17.952Z"
   },
   {
    "duration": 68,
    "start_time": "2023-06-08T04:08:18.021Z"
   },
   {
    "duration": 236,
    "start_time": "2023-06-08T04:08:18.092Z"
   },
   {
    "duration": 0,
    "start_time": "2023-06-08T04:08:18.330Z"
   },
   {
    "duration": 0,
    "start_time": "2023-06-08T04:08:18.332Z"
   },
   {
    "duration": 0,
    "start_time": "2023-06-08T04:08:18.333Z"
   },
   {
    "duration": 0,
    "start_time": "2023-06-08T04:08:18.334Z"
   },
   {
    "duration": 0,
    "start_time": "2023-06-08T04:08:18.334Z"
   },
   {
    "duration": 0,
    "start_time": "2023-06-08T04:08:18.336Z"
   },
   {
    "duration": 0,
    "start_time": "2023-06-08T04:08:18.337Z"
   },
   {
    "duration": 1,
    "start_time": "2023-06-08T04:08:18.337Z"
   },
   {
    "duration": 0,
    "start_time": "2023-06-08T04:08:18.339Z"
   },
   {
    "duration": 39,
    "start_time": "2023-06-08T04:09:22.232Z"
   },
   {
    "duration": 42,
    "start_time": "2023-06-08T04:09:24.221Z"
   },
   {
    "duration": 21,
    "start_time": "2023-06-08T04:09:55.421Z"
   },
   {
    "duration": 25,
    "start_time": "2023-06-08T04:10:15.377Z"
   },
   {
    "duration": 35,
    "start_time": "2023-06-08T04:13:30.892Z"
   },
   {
    "duration": 31,
    "start_time": "2023-06-08T04:13:42.296Z"
   },
   {
    "duration": 26,
    "start_time": "2023-06-08T04:13:49.344Z"
   },
   {
    "duration": 8,
    "start_time": "2023-06-08T04:13:52.708Z"
   },
   {
    "duration": 24,
    "start_time": "2023-06-08T04:15:08.182Z"
   },
   {
    "duration": 48,
    "start_time": "2023-06-08T04:17:01.508Z"
   },
   {
    "duration": 454,
    "start_time": "2023-06-08T04:18:14.026Z"
   },
   {
    "duration": 1004,
    "start_time": "2023-06-08T04:18:14.482Z"
   },
   {
    "duration": 4,
    "start_time": "2023-06-08T04:18:15.487Z"
   },
   {
    "duration": 9,
    "start_time": "2023-06-08T04:18:15.493Z"
   },
   {
    "duration": 31,
    "start_time": "2023-06-08T04:18:15.504Z"
   },
   {
    "duration": 11,
    "start_time": "2023-06-08T04:18:15.537Z"
   },
   {
    "duration": 38,
    "start_time": "2023-06-08T04:18:15.549Z"
   },
   {
    "duration": 8,
    "start_time": "2023-06-08T04:18:15.589Z"
   },
   {
    "duration": 8,
    "start_time": "2023-06-08T04:18:15.599Z"
   },
   {
    "duration": 432,
    "start_time": "2023-06-08T04:18:15.608Z"
   },
   {
    "duration": 98,
    "start_time": "2023-06-08T04:18:16.042Z"
   },
   {
    "duration": 312,
    "start_time": "2023-06-08T04:18:16.141Z"
   },
   {
    "duration": 4,
    "start_time": "2023-06-08T04:18:16.455Z"
   },
   {
    "duration": 4,
    "start_time": "2023-06-08T04:18:16.478Z"
   },
   {
    "duration": 95,
    "start_time": "2023-06-08T04:18:16.485Z"
   },
   {
    "duration": 69,
    "start_time": "2023-06-08T04:18:16.582Z"
   },
   {
    "duration": 25,
    "start_time": "2023-06-08T04:18:16.653Z"
   },
   {
    "duration": 19,
    "start_time": "2023-06-08T04:18:16.680Z"
   },
   {
    "duration": 42,
    "start_time": "2023-06-08T04:18:16.700Z"
   },
   {
    "duration": 37,
    "start_time": "2023-06-08T04:18:16.744Z"
   },
   {
    "duration": 3,
    "start_time": "2023-06-08T04:18:16.783Z"
   },
   {
    "duration": 243,
    "start_time": "2023-06-08T04:18:16.788Z"
   },
   {
    "duration": 73,
    "start_time": "2023-06-08T04:18:17.033Z"
   },
   {
    "duration": 54,
    "start_time": "2023-06-08T04:18:17.108Z"
   },
   {
    "duration": 145,
    "start_time": "2023-06-08T04:18:17.164Z"
   },
   {
    "duration": 92,
    "start_time": "2023-06-08T04:18:17.310Z"
   },
   {
    "duration": 93,
    "start_time": "2023-06-08T04:18:17.403Z"
   },
   {
    "duration": 65,
    "start_time": "2023-06-08T04:18:17.498Z"
   },
   {
    "duration": 63,
    "start_time": "2023-06-08T04:18:17.565Z"
   },
   {
    "duration": 95,
    "start_time": "2023-06-08T04:18:17.630Z"
   },
   {
    "duration": 151,
    "start_time": "2023-06-08T04:18:17.727Z"
   },
   {
    "duration": 40,
    "start_time": "2023-06-08T04:18:17.879Z"
   },
   {
    "duration": 338,
    "start_time": "2023-06-08T04:18:17.921Z"
   },
   {
    "duration": 116,
    "start_time": "2023-06-08T04:18:18.261Z"
   },
   {
    "duration": 72,
    "start_time": "2023-06-08T04:19:26.915Z"
   },
   {
    "duration": 55,
    "start_time": "2023-06-08T04:19:43.901Z"
   },
   {
    "duration": 148,
    "start_time": "2023-06-08T04:28:35.123Z"
   },
   {
    "duration": 172,
    "start_time": "2023-06-08T04:29:12.477Z"
   },
   {
    "duration": 54,
    "start_time": "2023-06-08T04:30:58.303Z"
   },
   {
    "duration": 54,
    "start_time": "2023-06-08T04:35:49.700Z"
   },
   {
    "duration": 54,
    "start_time": "2023-06-08T04:37:42.371Z"
   },
   {
    "duration": 70,
    "start_time": "2023-06-08T04:37:44.803Z"
   },
   {
    "duration": 49,
    "start_time": "2023-06-08T04:37:47.271Z"
   },
   {
    "duration": 556,
    "start_time": "2023-06-08T04:37:57.533Z"
   },
   {
    "duration": 1614,
    "start_time": "2023-06-08T04:37:58.091Z"
   },
   {
    "duration": 6,
    "start_time": "2023-06-08T04:37:59.706Z"
   },
   {
    "duration": 21,
    "start_time": "2023-06-08T04:37:59.714Z"
   },
   {
    "duration": 69,
    "start_time": "2023-06-08T04:37:59.737Z"
   },
   {
    "duration": 11,
    "start_time": "2023-06-08T04:37:59.809Z"
   },
   {
    "duration": 25,
    "start_time": "2023-06-08T04:37:59.822Z"
   },
   {
    "duration": 33,
    "start_time": "2023-06-08T04:37:59.849Z"
   },
   {
    "duration": 43,
    "start_time": "2023-06-08T04:37:59.884Z"
   },
   {
    "duration": 606,
    "start_time": "2023-06-08T04:37:59.930Z"
   },
   {
    "duration": 123,
    "start_time": "2023-06-08T04:38:00.538Z"
   },
   {
    "duration": 354,
    "start_time": "2023-06-08T04:38:00.663Z"
   },
   {
    "duration": 4,
    "start_time": "2023-06-08T04:38:01.019Z"
   },
   {
    "duration": 58,
    "start_time": "2023-06-08T04:38:01.025Z"
   },
   {
    "duration": 111,
    "start_time": "2023-06-08T04:38:01.085Z"
   },
   {
    "duration": 100,
    "start_time": "2023-06-08T04:38:01.198Z"
   },
   {
    "duration": 5,
    "start_time": "2023-06-08T04:38:01.299Z"
   },
   {
    "duration": 51,
    "start_time": "2023-06-08T04:38:01.306Z"
   },
   {
    "duration": 89,
    "start_time": "2023-06-08T04:38:01.359Z"
   },
   {
    "duration": 40,
    "start_time": "2023-06-08T04:38:01.451Z"
   },
   {
    "duration": 57,
    "start_time": "2023-06-08T04:38:01.494Z"
   },
   {
    "duration": 353,
    "start_time": "2023-06-08T04:38:01.553Z"
   },
   {
    "duration": 103,
    "start_time": "2023-06-08T04:38:01.909Z"
   },
   {
    "duration": 76,
    "start_time": "2023-06-08T04:38:02.013Z"
   },
   {
    "duration": 145,
    "start_time": "2023-06-08T04:38:02.090Z"
   },
   {
    "duration": 105,
    "start_time": "2023-06-08T04:38:02.237Z"
   },
   {
    "duration": 97,
    "start_time": "2023-06-08T04:38:02.344Z"
   },
   {
    "duration": 148,
    "start_time": "2023-06-08T04:38:02.445Z"
   },
   {
    "duration": 55,
    "start_time": "2023-06-08T04:38:02.596Z"
   },
   {
    "duration": 55,
    "start_time": "2023-06-08T04:38:02.653Z"
   },
   {
    "duration": 68,
    "start_time": "2023-06-08T04:38:02.710Z"
   },
   {
    "duration": 44,
    "start_time": "2023-06-08T04:38:02.780Z"
   },
   {
    "duration": 56,
    "start_time": "2023-06-08T04:38:02.826Z"
   },
   {
    "duration": 376,
    "start_time": "2023-06-08T04:38:02.884Z"
   },
   {
    "duration": 128,
    "start_time": "2023-06-08T04:38:03.262Z"
   },
   {
    "duration": 481,
    "start_time": "2023-06-08T04:44:33.305Z"
   },
   {
    "duration": 1130,
    "start_time": "2023-06-08T04:44:33.788Z"
   },
   {
    "duration": 5,
    "start_time": "2023-06-08T04:44:34.919Z"
   },
   {
    "duration": 8,
    "start_time": "2023-06-08T04:44:34.925Z"
   },
   {
    "duration": 36,
    "start_time": "2023-06-08T04:44:34.935Z"
   },
   {
    "duration": 7,
    "start_time": "2023-06-08T04:44:34.973Z"
   },
   {
    "duration": 12,
    "start_time": "2023-06-08T04:44:34.981Z"
   },
   {
    "duration": 4,
    "start_time": "2023-06-08T04:44:34.995Z"
   },
   {
    "duration": 10,
    "start_time": "2023-06-08T04:44:35.001Z"
   },
   {
    "duration": 425,
    "start_time": "2023-06-08T04:44:35.013Z"
   },
   {
    "duration": 99,
    "start_time": "2023-06-08T04:44:35.440Z"
   },
   {
    "duration": 281,
    "start_time": "2023-06-08T04:44:35.541Z"
   },
   {
    "duration": 4,
    "start_time": "2023-06-08T04:44:35.824Z"
   },
   {
    "duration": 5,
    "start_time": "2023-06-08T04:44:35.831Z"
   },
   {
    "duration": 87,
    "start_time": "2023-06-08T04:44:35.837Z"
   },
   {
    "duration": 86,
    "start_time": "2023-06-08T04:44:35.925Z"
   },
   {
    "duration": 4,
    "start_time": "2023-06-08T04:44:36.013Z"
   },
   {
    "duration": 16,
    "start_time": "2023-06-08T04:44:36.019Z"
   },
   {
    "duration": 48,
    "start_time": "2023-06-08T04:44:36.036Z"
   },
   {
    "duration": 25,
    "start_time": "2023-06-08T04:44:36.086Z"
   },
   {
    "duration": 4,
    "start_time": "2023-06-08T04:44:36.113Z"
   },
   {
    "duration": 323,
    "start_time": "2023-06-08T04:44:36.118Z"
   },
   {
    "duration": 75,
    "start_time": "2023-06-08T04:44:36.443Z"
   },
   {
    "duration": 62,
    "start_time": "2023-06-08T04:44:36.520Z"
   },
   {
    "duration": 133,
    "start_time": "2023-06-08T04:44:36.584Z"
   },
   {
    "duration": 89,
    "start_time": "2023-06-08T04:44:36.719Z"
   },
   {
    "duration": 94,
    "start_time": "2023-06-08T04:44:36.810Z"
   },
   {
    "duration": 133,
    "start_time": "2023-06-08T04:44:36.905Z"
   },
   {
    "duration": 88,
    "start_time": "2023-06-08T04:44:37.040Z"
   },
   {
    "duration": 2,
    "start_time": "2023-06-08T04:44:37.130Z"
   },
   {
    "duration": 86,
    "start_time": "2023-06-08T04:44:37.134Z"
   },
   {
    "duration": 66,
    "start_time": "2023-06-08T04:44:37.221Z"
   },
   {
    "duration": 47,
    "start_time": "2023-06-08T04:44:37.289Z"
   },
   {
    "duration": 377,
    "start_time": "2023-06-08T04:44:37.339Z"
   },
   {
    "duration": 52,
    "start_time": "2023-06-08T04:44:54.099Z"
   },
   {
    "duration": 19,
    "start_time": "2023-06-08T04:46:14.308Z"
   },
   {
    "duration": 32,
    "start_time": "2023-06-08T04:46:20.039Z"
   },
   {
    "duration": 18,
    "start_time": "2023-06-08T04:46:28.802Z"
   },
   {
    "duration": 22,
    "start_time": "2023-06-08T04:47:01.387Z"
   },
   {
    "duration": 530,
    "start_time": "2023-06-08T04:47:47.542Z"
   },
   {
    "duration": 1225,
    "start_time": "2023-06-08T04:47:48.075Z"
   },
   {
    "duration": 4,
    "start_time": "2023-06-08T04:47:49.302Z"
   },
   {
    "duration": 14,
    "start_time": "2023-06-08T04:47:49.307Z"
   },
   {
    "duration": 38,
    "start_time": "2023-06-08T04:47:49.323Z"
   },
   {
    "duration": 11,
    "start_time": "2023-06-08T04:47:49.376Z"
   },
   {
    "duration": 15,
    "start_time": "2023-06-08T04:47:49.389Z"
   },
   {
    "duration": 8,
    "start_time": "2023-06-08T04:47:49.406Z"
   },
   {
    "duration": 13,
    "start_time": "2023-06-08T04:47:49.415Z"
   },
   {
    "duration": 494,
    "start_time": "2023-06-08T04:47:49.431Z"
   },
   {
    "duration": 103,
    "start_time": "2023-06-08T04:47:49.927Z"
   },
   {
    "duration": 294,
    "start_time": "2023-06-08T04:47:50.032Z"
   },
   {
    "duration": 5,
    "start_time": "2023-06-08T04:47:50.328Z"
   },
   {
    "duration": 17,
    "start_time": "2023-06-08T04:47:50.336Z"
   },
   {
    "duration": 89,
    "start_time": "2023-06-08T04:47:50.355Z"
   },
   {
    "duration": 100,
    "start_time": "2023-06-08T04:47:50.446Z"
   },
   {
    "duration": 18,
    "start_time": "2023-06-08T04:47:50.548Z"
   },
   {
    "duration": 15,
    "start_time": "2023-06-08T04:47:50.578Z"
   },
   {
    "duration": 46,
    "start_time": "2023-06-08T04:47:50.596Z"
   },
   {
    "duration": 41,
    "start_time": "2023-06-08T04:47:50.644Z"
   },
   {
    "duration": 4,
    "start_time": "2023-06-08T04:47:50.687Z"
   },
   {
    "duration": 254,
    "start_time": "2023-06-08T04:47:50.693Z"
   },
   {
    "duration": 71,
    "start_time": "2023-06-08T04:47:50.949Z"
   },
   {
    "duration": 77,
    "start_time": "2023-06-08T04:47:51.022Z"
   },
   {
    "duration": 136,
    "start_time": "2023-06-08T04:47:51.102Z"
   },
   {
    "duration": 97,
    "start_time": "2023-06-08T04:47:51.240Z"
   },
   {
    "duration": 106,
    "start_time": "2023-06-08T04:47:51.339Z"
   },
   {
    "duration": 160,
    "start_time": "2023-06-08T04:47:51.446Z"
   },
   {
    "duration": 70,
    "start_time": "2023-06-08T04:47:51.608Z"
   },
   {
    "duration": 3,
    "start_time": "2023-06-08T04:47:51.681Z"
   },
   {
    "duration": 31,
    "start_time": "2023-06-08T04:47:51.686Z"
   },
   {
    "duration": 35,
    "start_time": "2023-06-08T04:47:51.719Z"
   },
   {
    "duration": 91,
    "start_time": "2023-06-08T04:47:51.756Z"
   },
   {
    "duration": 64,
    "start_time": "2023-06-08T04:47:51.849Z"
   },
   {
    "duration": 40,
    "start_time": "2023-06-08T04:47:51.915Z"
   },
   {
    "duration": 348,
    "start_time": "2023-06-08T04:47:51.957Z"
   },
   {
    "duration": 502,
    "start_time": "2023-06-08T04:48:20.885Z"
   },
   {
    "duration": 1347,
    "start_time": "2023-06-08T04:48:21.390Z"
   },
   {
    "duration": 4,
    "start_time": "2023-06-08T04:48:22.739Z"
   },
   {
    "duration": 24,
    "start_time": "2023-06-08T04:48:22.745Z"
   },
   {
    "duration": 35,
    "start_time": "2023-06-08T04:48:22.771Z"
   },
   {
    "duration": 9,
    "start_time": "2023-06-08T04:48:22.808Z"
   },
   {
    "duration": 16,
    "start_time": "2023-06-08T04:48:22.819Z"
   },
   {
    "duration": 5,
    "start_time": "2023-06-08T04:48:22.836Z"
   },
   {
    "duration": 37,
    "start_time": "2023-06-08T04:48:22.842Z"
   },
   {
    "duration": 448,
    "start_time": "2023-06-08T04:48:22.881Z"
   },
   {
    "duration": 97,
    "start_time": "2023-06-08T04:48:23.331Z"
   },
   {
    "duration": 284,
    "start_time": "2023-06-08T04:48:23.430Z"
   },
   {
    "duration": 5,
    "start_time": "2023-06-08T04:48:23.716Z"
   },
   {
    "duration": 17,
    "start_time": "2023-06-08T04:48:23.726Z"
   },
   {
    "duration": 93,
    "start_time": "2023-06-08T04:48:23.746Z"
   },
   {
    "duration": 139,
    "start_time": "2023-06-08T04:48:23.840Z"
   },
   {
    "duration": 3,
    "start_time": "2023-06-08T04:48:23.982Z"
   },
   {
    "duration": 24,
    "start_time": "2023-06-08T04:48:23.987Z"
   },
   {
    "duration": 33,
    "start_time": "2023-06-08T04:48:24.013Z"
   },
   {
    "duration": 45,
    "start_time": "2023-06-08T04:48:24.049Z"
   },
   {
    "duration": 4,
    "start_time": "2023-06-08T04:48:24.096Z"
   },
   {
    "duration": 342,
    "start_time": "2023-06-08T04:48:24.101Z"
   },
   {
    "duration": 71,
    "start_time": "2023-06-08T04:48:24.445Z"
   },
   {
    "duration": 68,
    "start_time": "2023-06-08T04:48:24.518Z"
   },
   {
    "duration": 48,
    "start_time": "2023-06-08T04:48:24.588Z"
   },
   {
    "duration": 102,
    "start_time": "2023-06-08T04:48:24.638Z"
   },
   {
    "duration": 98,
    "start_time": "2023-06-08T04:48:24.742Z"
   },
   {
    "duration": 160,
    "start_time": "2023-06-08T04:48:24.842Z"
   },
   {
    "duration": 57,
    "start_time": "2023-06-08T04:48:25.004Z"
   },
   {
    "duration": 3,
    "start_time": "2023-06-08T04:48:25.077Z"
   },
   {
    "duration": 31,
    "start_time": "2023-06-08T04:48:25.081Z"
   },
   {
    "duration": 23,
    "start_time": "2023-06-08T04:48:25.113Z"
   },
   {
    "duration": 83,
    "start_time": "2023-06-08T04:48:25.138Z"
   },
   {
    "duration": 91,
    "start_time": "2023-06-08T04:48:25.224Z"
   },
   {
    "duration": 44,
    "start_time": "2023-06-08T04:48:25.317Z"
   },
   {
    "duration": 440,
    "start_time": "2023-06-08T04:48:25.363Z"
   },
   {
    "duration": 216,
    "start_time": "2023-06-08T04:49:59.191Z"
   },
   {
    "duration": 519,
    "start_time": "2023-06-08T04:50:13.846Z"
   },
   {
    "duration": 1223,
    "start_time": "2023-06-08T04:50:14.367Z"
   },
   {
    "duration": 5,
    "start_time": "2023-06-08T04:50:15.592Z"
   },
   {
    "duration": 19,
    "start_time": "2023-06-08T04:50:15.598Z"
   },
   {
    "duration": 49,
    "start_time": "2023-06-08T04:50:15.620Z"
   },
   {
    "duration": 14,
    "start_time": "2023-06-08T04:50:15.670Z"
   },
   {
    "duration": 31,
    "start_time": "2023-06-08T04:50:15.686Z"
   },
   {
    "duration": 12,
    "start_time": "2023-06-08T04:50:15.719Z"
   },
   {
    "duration": 25,
    "start_time": "2023-06-08T04:50:15.733Z"
   },
   {
    "duration": 464,
    "start_time": "2023-06-08T04:50:15.760Z"
   },
   {
    "duration": 134,
    "start_time": "2023-06-08T04:50:16.226Z"
   },
   {
    "duration": 502,
    "start_time": "2023-06-08T04:50:16.362Z"
   },
   {
    "duration": 12,
    "start_time": "2023-06-08T04:50:16.865Z"
   },
   {
    "duration": 8,
    "start_time": "2023-06-08T04:50:16.882Z"
   },
   {
    "duration": 129,
    "start_time": "2023-06-08T04:50:16.892Z"
   },
   {
    "duration": 111,
    "start_time": "2023-06-08T04:50:17.024Z"
   },
   {
    "duration": 5,
    "start_time": "2023-06-08T04:50:17.136Z"
   },
   {
    "duration": 21,
    "start_time": "2023-06-08T04:50:17.143Z"
   },
   {
    "duration": 33,
    "start_time": "2023-06-08T04:50:17.176Z"
   },
   {
    "duration": 26,
    "start_time": "2023-06-08T04:50:17.210Z"
   },
   {
    "duration": 40,
    "start_time": "2023-06-08T04:50:17.238Z"
   },
   {
    "duration": 224,
    "start_time": "2023-06-08T04:50:17.280Z"
   },
   {
    "duration": 72,
    "start_time": "2023-06-08T04:50:17.506Z"
   },
   {
    "duration": 140,
    "start_time": "2023-06-08T04:50:17.580Z"
   },
   {
    "duration": 94,
    "start_time": "2023-06-08T04:50:17.722Z"
   },
   {
    "duration": 68,
    "start_time": "2023-06-08T04:50:17.818Z"
   },
   {
    "duration": 110,
    "start_time": "2023-06-08T04:50:17.888Z"
   },
   {
    "duration": 127,
    "start_time": "2023-06-08T04:50:18.000Z"
   },
   {
    "duration": 153,
    "start_time": "2023-06-08T04:50:18.129Z"
   },
   {
    "duration": 71,
    "start_time": "2023-06-08T04:50:18.284Z"
   },
   {
    "duration": 3,
    "start_time": "2023-06-08T04:50:18.377Z"
   },
   {
    "duration": 44,
    "start_time": "2023-06-08T04:50:18.382Z"
   },
   {
    "duration": 39,
    "start_time": "2023-06-08T04:50:18.428Z"
   },
   {
    "duration": 95,
    "start_time": "2023-06-08T04:50:18.469Z"
   },
   {
    "duration": 64,
    "start_time": "2023-06-08T04:50:18.565Z"
   },
   {
    "duration": 60,
    "start_time": "2023-06-08T04:50:18.630Z"
   },
   {
    "duration": 369,
    "start_time": "2023-06-08T04:50:18.691Z"
   },
   {
    "duration": 514,
    "start_time": "2023-06-08T04:51:07.038Z"
   },
   {
    "duration": 1074,
    "start_time": "2023-06-08T04:51:07.554Z"
   },
   {
    "duration": 6,
    "start_time": "2023-06-08T04:51:08.630Z"
   },
   {
    "duration": 21,
    "start_time": "2023-06-08T04:51:08.638Z"
   },
   {
    "duration": 37,
    "start_time": "2023-06-08T04:51:08.662Z"
   },
   {
    "duration": 8,
    "start_time": "2023-06-08T04:51:08.700Z"
   },
   {
    "duration": 16,
    "start_time": "2023-06-08T04:51:08.710Z"
   },
   {
    "duration": 6,
    "start_time": "2023-06-08T04:51:08.728Z"
   },
   {
    "duration": 10,
    "start_time": "2023-06-08T04:51:08.736Z"
   },
   {
    "duration": 400,
    "start_time": "2023-06-08T04:51:08.777Z"
   },
   {
    "duration": 116,
    "start_time": "2023-06-08T04:51:09.178Z"
   },
   {
    "duration": 271,
    "start_time": "2023-06-08T04:51:09.296Z"
   },
   {
    "duration": 5,
    "start_time": "2023-06-08T04:51:09.577Z"
   },
   {
    "duration": 6,
    "start_time": "2023-06-08T04:51:09.586Z"
   },
   {
    "duration": 107,
    "start_time": "2023-06-08T04:51:09.594Z"
   },
   {
    "duration": 103,
    "start_time": "2023-06-08T04:51:09.703Z"
   },
   {
    "duration": 4,
    "start_time": "2023-06-08T04:51:09.808Z"
   },
   {
    "duration": 6,
    "start_time": "2023-06-08T04:51:09.814Z"
   },
   {
    "duration": 60,
    "start_time": "2023-06-08T04:51:09.821Z"
   },
   {
    "duration": 28,
    "start_time": "2023-06-08T04:51:09.882Z"
   },
   {
    "duration": 4,
    "start_time": "2023-06-08T04:51:09.912Z"
   },
   {
    "duration": 251,
    "start_time": "2023-06-08T04:51:09.918Z"
   },
   {
    "duration": 77,
    "start_time": "2023-06-08T04:51:10.171Z"
   },
   {
    "duration": 66,
    "start_time": "2023-06-08T04:51:10.251Z"
   },
   {
    "duration": 147,
    "start_time": "2023-06-08T04:51:10.319Z"
   },
   {
    "duration": 81,
    "start_time": "2023-06-08T04:51:10.468Z"
   },
   {
    "duration": 38,
    "start_time": "2023-06-08T04:51:10.551Z"
   },
   {
    "duration": 109,
    "start_time": "2023-06-08T04:51:10.592Z"
   },
   {
    "duration": 142,
    "start_time": "2023-06-08T04:51:10.703Z"
   },
   {
    "duration": 95,
    "start_time": "2023-06-08T04:51:10.847Z"
   },
   {
    "duration": 4,
    "start_time": "2023-06-08T04:51:10.944Z"
   },
   {
    "duration": 37,
    "start_time": "2023-06-08T04:51:10.950Z"
   },
   {
    "duration": 28,
    "start_time": "2023-06-08T04:51:10.990Z"
   },
   {
    "duration": 87,
    "start_time": "2023-06-08T04:51:11.020Z"
   },
   {
    "duration": 94,
    "start_time": "2023-06-08T04:51:11.109Z"
   },
   {
    "duration": 50,
    "start_time": "2023-06-08T04:51:11.205Z"
   },
   {
    "duration": 421,
    "start_time": "2023-06-08T04:51:11.257Z"
   },
   {
    "duration": 21,
    "start_time": "2023-06-08T04:52:05.231Z"
   },
   {
    "duration": 34,
    "start_time": "2023-06-08T04:52:41.158Z"
   },
   {
    "duration": 517,
    "start_time": "2023-06-08T04:53:03.153Z"
   },
   {
    "duration": 1109,
    "start_time": "2023-06-08T04:53:03.672Z"
   },
   {
    "duration": 4,
    "start_time": "2023-06-08T04:53:04.782Z"
   },
   {
    "duration": 9,
    "start_time": "2023-06-08T04:53:04.788Z"
   },
   {
    "duration": 30,
    "start_time": "2023-06-08T04:53:04.799Z"
   },
   {
    "duration": 7,
    "start_time": "2023-06-08T04:53:04.831Z"
   },
   {
    "duration": 42,
    "start_time": "2023-06-08T04:53:04.839Z"
   },
   {
    "duration": 4,
    "start_time": "2023-06-08T04:53:04.883Z"
   },
   {
    "duration": 9,
    "start_time": "2023-06-08T04:53:04.889Z"
   },
   {
    "duration": 438,
    "start_time": "2023-06-08T04:53:04.900Z"
   },
   {
    "duration": 96,
    "start_time": "2023-06-08T04:53:05.340Z"
   },
   {
    "duration": 271,
    "start_time": "2023-06-08T04:53:05.438Z"
   },
   {
    "duration": 4,
    "start_time": "2023-06-08T04:53:05.711Z"
   },
   {
    "duration": 20,
    "start_time": "2023-06-08T04:53:05.718Z"
   },
   {
    "duration": 85,
    "start_time": "2023-06-08T04:53:05.740Z"
   },
   {
    "duration": 93,
    "start_time": "2023-06-08T04:53:05.827Z"
   },
   {
    "duration": 4,
    "start_time": "2023-06-08T04:53:05.922Z"
   },
   {
    "duration": 23,
    "start_time": "2023-06-08T04:53:05.928Z"
   },
   {
    "duration": 45,
    "start_time": "2023-06-08T04:53:05.953Z"
   },
   {
    "duration": 26,
    "start_time": "2023-06-08T04:53:06.000Z"
   },
   {
    "duration": 7,
    "start_time": "2023-06-08T04:53:06.028Z"
   },
   {
    "duration": 279,
    "start_time": "2023-06-08T04:53:06.037Z"
   },
   {
    "duration": 117,
    "start_time": "2023-06-08T04:53:06.318Z"
   },
   {
    "duration": 68,
    "start_time": "2023-06-08T04:53:06.437Z"
   },
   {
    "duration": 142,
    "start_time": "2023-06-08T04:53:06.506Z"
   },
   {
    "duration": 81,
    "start_time": "2023-06-08T04:53:06.649Z"
   },
   {
    "duration": 94,
    "start_time": "2023-06-08T04:53:06.731Z"
   },
   {
    "duration": 132,
    "start_time": "2023-06-08T04:53:06.827Z"
   },
   {
    "duration": 57,
    "start_time": "2023-06-08T04:53:06.961Z"
   },
   {
    "duration": 73,
    "start_time": "2023-06-08T04:53:07.019Z"
   },
   {
    "duration": 19,
    "start_time": "2023-06-08T04:53:07.094Z"
   },
   {
    "duration": 17,
    "start_time": "2023-06-08T04:53:07.115Z"
   },
   {
    "duration": 73,
    "start_time": "2023-06-08T04:53:07.134Z"
   },
   {
    "duration": 42,
    "start_time": "2023-06-08T04:53:07.209Z"
   },
   {
    "duration": 49,
    "start_time": "2023-06-08T04:53:07.253Z"
   },
   {
    "duration": 341,
    "start_time": "2023-06-08T04:53:07.304Z"
   },
   {
    "duration": 38,
    "start_time": "2023-06-08T04:53:31.076Z"
   },
   {
    "duration": 17,
    "start_time": "2023-06-08T04:53:42.658Z"
   },
   {
    "duration": 482,
    "start_time": "2023-06-08T04:54:00.495Z"
   },
   {
    "duration": 1088,
    "start_time": "2023-06-08T04:54:00.978Z"
   },
   {
    "duration": 4,
    "start_time": "2023-06-08T04:54:02.068Z"
   },
   {
    "duration": 73,
    "start_time": "2023-06-08T04:54:02.074Z"
   },
   {
    "duration": 65,
    "start_time": "2023-06-08T04:54:02.149Z"
   },
   {
    "duration": 28,
    "start_time": "2023-06-08T04:54:02.216Z"
   },
   {
    "duration": 24,
    "start_time": "2023-06-08T04:54:02.246Z"
   },
   {
    "duration": 13,
    "start_time": "2023-06-08T04:54:02.272Z"
   },
   {
    "duration": 38,
    "start_time": "2023-06-08T04:54:02.287Z"
   },
   {
    "duration": 426,
    "start_time": "2023-06-08T04:54:02.327Z"
   },
   {
    "duration": 99,
    "start_time": "2023-06-08T04:54:02.754Z"
   },
   {
    "duration": 271,
    "start_time": "2023-06-08T04:54:02.855Z"
   },
   {
    "duration": 4,
    "start_time": "2023-06-08T04:54:03.127Z"
   },
   {
    "duration": 16,
    "start_time": "2023-06-08T04:54:03.134Z"
   },
   {
    "duration": 94,
    "start_time": "2023-06-08T04:54:03.152Z"
   },
   {
    "duration": 85,
    "start_time": "2023-06-08T04:54:03.248Z"
   },
   {
    "duration": 4,
    "start_time": "2023-06-08T04:54:03.334Z"
   },
   {
    "duration": 12,
    "start_time": "2023-06-08T04:54:03.340Z"
   },
   {
    "duration": 53,
    "start_time": "2023-06-08T04:54:03.354Z"
   },
   {
    "duration": 25,
    "start_time": "2023-06-08T04:54:03.409Z"
   },
   {
    "duration": 40,
    "start_time": "2023-06-08T04:54:03.436Z"
   },
   {
    "duration": 219,
    "start_time": "2023-06-08T04:54:03.478Z"
   },
   {
    "duration": 79,
    "start_time": "2023-06-08T04:54:03.699Z"
   },
   {
    "duration": 65,
    "start_time": "2023-06-08T04:54:03.780Z"
   },
   {
    "duration": 154,
    "start_time": "2023-06-08T04:54:03.846Z"
   },
   {
    "duration": 80,
    "start_time": "2023-06-08T04:54:04.002Z"
   },
   {
    "duration": 93,
    "start_time": "2023-06-08T04:54:04.084Z"
   },
   {
    "duration": 143,
    "start_time": "2023-06-08T04:54:04.178Z"
   },
   {
    "duration": 62,
    "start_time": "2023-06-08T04:54:04.322Z"
   },
   {
    "duration": 37,
    "start_time": "2023-06-08T04:54:04.385Z"
   },
   {
    "duration": 78,
    "start_time": "2023-06-08T04:54:04.424Z"
   },
   {
    "duration": 56,
    "start_time": "2023-06-08T04:54:04.503Z"
   },
   {
    "duration": 46,
    "start_time": "2023-06-08T04:54:04.560Z"
   },
   {
    "duration": 336,
    "start_time": "2023-06-08T04:54:04.607Z"
   },
   {
    "duration": 827,
    "start_time": "2023-06-08T05:00:59.612Z"
   },
   {
    "duration": 1281,
    "start_time": "2023-06-08T05:01:00.442Z"
   },
   {
    "duration": 7,
    "start_time": "2023-06-08T05:01:01.725Z"
   },
   {
    "duration": 80,
    "start_time": "2023-06-08T05:01:01.734Z"
   },
   {
    "duration": 93,
    "start_time": "2023-06-08T05:01:01.816Z"
   },
   {
    "duration": 15,
    "start_time": "2023-06-08T05:01:01.911Z"
   },
   {
    "duration": 36,
    "start_time": "2023-06-08T05:01:01.927Z"
   },
   {
    "duration": 25,
    "start_time": "2023-06-08T05:01:01.966Z"
   },
   {
    "duration": 38,
    "start_time": "2023-06-08T05:01:01.993Z"
   },
   {
    "duration": 458,
    "start_time": "2023-06-08T05:01:02.034Z"
   },
   {
    "duration": 99,
    "start_time": "2023-06-08T05:01:02.494Z"
   },
   {
    "duration": 264,
    "start_time": "2023-06-08T05:01:02.594Z"
   },
   {
    "duration": 18,
    "start_time": "2023-06-08T05:01:02.860Z"
   },
   {
    "duration": 15,
    "start_time": "2023-06-08T05:01:02.880Z"
   },
   {
    "duration": 84,
    "start_time": "2023-06-08T05:01:02.897Z"
   },
   {
    "duration": 72,
    "start_time": "2023-06-08T05:01:02.983Z"
   },
   {
    "duration": 22,
    "start_time": "2023-06-08T05:01:03.057Z"
   },
   {
    "duration": 11,
    "start_time": "2023-06-08T05:01:03.081Z"
   },
   {
    "duration": 40,
    "start_time": "2023-06-08T05:01:03.094Z"
   },
   {
    "duration": 61,
    "start_time": "2023-06-08T05:01:03.136Z"
   },
   {
    "duration": 5,
    "start_time": "2023-06-08T05:01:03.199Z"
   },
   {
    "duration": 234,
    "start_time": "2023-06-08T05:01:03.206Z"
   },
   {
    "duration": 69,
    "start_time": "2023-06-08T05:01:03.441Z"
   },
   {
    "duration": 68,
    "start_time": "2023-06-08T05:01:03.512Z"
   },
   {
    "duration": 143,
    "start_time": "2023-06-08T05:01:03.582Z"
   },
   {
    "duration": 90,
    "start_time": "2023-06-08T05:01:03.727Z"
   },
   {
    "duration": 93,
    "start_time": "2023-06-08T05:01:03.819Z"
   },
   {
    "duration": 136,
    "start_time": "2023-06-08T05:01:03.917Z"
   },
   {
    "duration": 88,
    "start_time": "2023-06-08T05:01:04.055Z"
   },
   {
    "duration": 52,
    "start_time": "2023-06-08T05:01:04.145Z"
   },
   {
    "duration": 58,
    "start_time": "2023-06-08T05:01:04.198Z"
   },
   {
    "duration": 72,
    "start_time": "2023-06-08T05:01:04.258Z"
   },
   {
    "duration": 68,
    "start_time": "2023-06-08T05:01:35.088Z"
   },
   {
    "duration": 6,
    "start_time": "2023-06-08T05:02:04.117Z"
   },
   {
    "duration": 724,
    "start_time": "2023-06-08T05:02:11.393Z"
   },
   {
    "duration": 1116,
    "start_time": "2023-06-08T05:02:12.119Z"
   },
   {
    "duration": 5,
    "start_time": "2023-06-08T05:02:13.236Z"
   },
   {
    "duration": 15,
    "start_time": "2023-06-08T05:02:13.243Z"
   },
   {
    "duration": 44,
    "start_time": "2023-06-08T05:02:13.260Z"
   },
   {
    "duration": 8,
    "start_time": "2023-06-08T05:02:13.305Z"
   },
   {
    "duration": 11,
    "start_time": "2023-06-08T05:02:13.315Z"
   },
   {
    "duration": 7,
    "start_time": "2023-06-08T05:02:13.328Z"
   },
   {
    "duration": 42,
    "start_time": "2023-06-08T05:02:13.337Z"
   },
   {
    "duration": 458,
    "start_time": "2023-06-08T05:02:13.381Z"
   },
   {
    "duration": 140,
    "start_time": "2023-06-08T05:02:13.841Z"
   },
   {
    "duration": 287,
    "start_time": "2023-06-08T05:02:13.983Z"
   },
   {
    "duration": 4,
    "start_time": "2023-06-08T05:02:14.277Z"
   },
   {
    "duration": 12,
    "start_time": "2023-06-08T05:02:14.283Z"
   },
   {
    "duration": 120,
    "start_time": "2023-06-08T05:02:14.297Z"
   },
   {
    "duration": 88,
    "start_time": "2023-06-08T05:02:14.419Z"
   },
   {
    "duration": 4,
    "start_time": "2023-06-08T05:02:14.508Z"
   },
   {
    "duration": 15,
    "start_time": "2023-06-08T05:02:14.514Z"
   },
   {
    "duration": 65,
    "start_time": "2023-06-08T05:02:14.532Z"
   },
   {
    "duration": 39,
    "start_time": "2023-06-08T05:02:14.599Z"
   },
   {
    "duration": 6,
    "start_time": "2023-06-08T05:02:14.640Z"
   },
   {
    "duration": 224,
    "start_time": "2023-06-08T05:02:14.681Z"
   },
   {
    "duration": 75,
    "start_time": "2023-06-08T05:02:14.907Z"
   },
   {
    "duration": 58,
    "start_time": "2023-06-08T05:02:14.984Z"
   },
   {
    "duration": 182,
    "start_time": "2023-06-08T05:02:15.043Z"
   },
   {
    "duration": 97,
    "start_time": "2023-06-08T05:02:15.227Z"
   },
   {
    "duration": 102,
    "start_time": "2023-06-08T05:02:15.325Z"
   },
   {
    "duration": 147,
    "start_time": "2023-06-08T05:02:15.430Z"
   },
   {
    "duration": 72,
    "start_time": "2023-06-08T05:02:15.579Z"
   },
   {
    "duration": 57,
    "start_time": "2023-06-08T05:02:15.653Z"
   },
   {
    "duration": 82,
    "start_time": "2023-06-08T05:02:15.712Z"
   },
   {
    "duration": 67,
    "start_time": "2023-06-08T05:02:15.796Z"
   },
   {
    "duration": 77,
    "start_time": "2023-06-08T05:02:15.876Z"
   },
   {
    "duration": 61,
    "start_time": "2023-06-08T05:02:15.955Z"
   },
   {
    "duration": 451,
    "start_time": "2023-06-08T05:02:16.018Z"
   },
   {
    "duration": 217,
    "start_time": "2023-06-08T05:03:20.414Z"
   },
   {
    "duration": 67,
    "start_time": "2023-06-08T05:04:03.401Z"
   },
   {
    "duration": 53,
    "start_time": "2023-06-08T05:04:37.190Z"
   },
   {
    "duration": 469,
    "start_time": "2023-06-08T05:04:45.518Z"
   },
   {
    "duration": 1253,
    "start_time": "2023-06-08T05:04:45.989Z"
   },
   {
    "duration": 5,
    "start_time": "2023-06-08T05:04:47.245Z"
   },
   {
    "duration": 9,
    "start_time": "2023-06-08T05:04:47.252Z"
   },
   {
    "duration": 38,
    "start_time": "2023-06-08T05:04:47.264Z"
   },
   {
    "duration": 9,
    "start_time": "2023-06-08T05:04:47.304Z"
   },
   {
    "duration": 20,
    "start_time": "2023-06-08T05:04:47.315Z"
   },
   {
    "duration": 11,
    "start_time": "2023-06-08T05:04:47.337Z"
   },
   {
    "duration": 33,
    "start_time": "2023-06-08T05:04:47.350Z"
   },
   {
    "duration": 458,
    "start_time": "2023-06-08T05:04:47.385Z"
   },
   {
    "duration": 106,
    "start_time": "2023-06-08T05:04:47.844Z"
   },
   {
    "duration": 324,
    "start_time": "2023-06-08T05:04:47.952Z"
   },
   {
    "duration": 5,
    "start_time": "2023-06-08T05:04:48.278Z"
   },
   {
    "duration": 8,
    "start_time": "2023-06-08T05:04:48.286Z"
   },
   {
    "duration": 125,
    "start_time": "2023-06-08T05:04:48.296Z"
   },
   {
    "duration": 87,
    "start_time": "2023-06-08T05:04:48.423Z"
   },
   {
    "duration": 4,
    "start_time": "2023-06-08T05:04:48.512Z"
   },
   {
    "duration": 8,
    "start_time": "2023-06-08T05:04:48.517Z"
   },
   {
    "duration": 64,
    "start_time": "2023-06-08T05:04:48.527Z"
   },
   {
    "duration": 27,
    "start_time": "2023-06-08T05:04:48.593Z"
   },
   {
    "duration": 4,
    "start_time": "2023-06-08T05:04:48.622Z"
   },
   {
    "duration": 255,
    "start_time": "2023-06-08T05:04:48.628Z"
   },
   {
    "duration": 66,
    "start_time": "2023-06-08T05:04:48.885Z"
   },
   {
    "duration": 103,
    "start_time": "2023-06-08T05:04:48.953Z"
   },
   {
    "duration": 171,
    "start_time": "2023-06-08T05:04:49.058Z"
   },
   {
    "duration": 86,
    "start_time": "2023-06-08T05:04:49.232Z"
   },
   {
    "duration": 117,
    "start_time": "2023-06-08T05:04:49.320Z"
   },
   {
    "duration": 210,
    "start_time": "2023-06-08T05:04:49.439Z"
   },
   {
    "duration": 84,
    "start_time": "2023-06-08T05:04:49.651Z"
   },
   {
    "duration": 53,
    "start_time": "2023-06-08T05:04:49.736Z"
   },
   {
    "duration": 60,
    "start_time": "2023-06-08T05:04:49.791Z"
   },
   {
    "duration": 76,
    "start_time": "2023-06-08T05:04:49.853Z"
   },
   {
    "duration": 127,
    "start_time": "2023-06-08T05:04:49.931Z"
   },
   {
    "duration": 49,
    "start_time": "2023-06-08T05:04:50.060Z"
   },
   {
    "duration": 372,
    "start_time": "2023-06-08T05:04:50.111Z"
   },
   {
    "duration": 104,
    "start_time": "2023-06-08T05:05:56.264Z"
   },
   {
    "duration": 31,
    "start_time": "2023-06-08T05:06:11.213Z"
   },
   {
    "duration": 28,
    "start_time": "2023-06-08T05:09:58.188Z"
   },
   {
    "duration": 40,
    "start_time": "2023-06-08T05:10:10.293Z"
   },
   {
    "duration": 21,
    "start_time": "2023-06-08T05:16:48.096Z"
   },
   {
    "duration": 5,
    "start_time": "2023-06-08T05:19:49.733Z"
   },
   {
    "duration": 35,
    "start_time": "2023-06-08T05:20:11.922Z"
   },
   {
    "duration": 15,
    "start_time": "2023-06-08T05:28:16.052Z"
   },
   {
    "duration": 68,
    "start_time": "2023-06-08T05:36:46.090Z"
   },
   {
    "duration": 17,
    "start_time": "2023-06-08T05:37:17.961Z"
   },
   {
    "duration": 561,
    "start_time": "2023-06-08T05:37:25.651Z"
   },
   {
    "duration": 1739,
    "start_time": "2023-06-08T05:37:26.217Z"
   },
   {
    "duration": 6,
    "start_time": "2023-06-08T05:37:27.958Z"
   },
   {
    "duration": 8,
    "start_time": "2023-06-08T05:37:27.966Z"
   },
   {
    "duration": 41,
    "start_time": "2023-06-08T05:37:27.977Z"
   },
   {
    "duration": 8,
    "start_time": "2023-06-08T05:37:28.020Z"
   },
   {
    "duration": 46,
    "start_time": "2023-06-08T05:37:28.030Z"
   },
   {
    "duration": 10,
    "start_time": "2023-06-08T05:37:28.078Z"
   },
   {
    "duration": 13,
    "start_time": "2023-06-08T05:37:28.090Z"
   },
   {
    "duration": 461,
    "start_time": "2023-06-08T05:37:28.105Z"
   },
   {
    "duration": 95,
    "start_time": "2023-06-08T05:37:28.568Z"
   },
   {
    "duration": 273,
    "start_time": "2023-06-08T05:37:28.664Z"
   },
   {
    "duration": 5,
    "start_time": "2023-06-08T05:37:28.938Z"
   },
   {
    "duration": 20,
    "start_time": "2023-06-08T05:37:28.945Z"
   },
   {
    "duration": 104,
    "start_time": "2023-06-08T05:37:28.967Z"
   },
   {
    "duration": 83,
    "start_time": "2023-06-08T05:37:29.076Z"
   },
   {
    "duration": 16,
    "start_time": "2023-06-08T05:37:29.161Z"
   },
   {
    "duration": 8,
    "start_time": "2023-06-08T05:37:29.179Z"
   },
   {
    "duration": 43,
    "start_time": "2023-06-08T05:37:29.189Z"
   },
   {
    "duration": 54,
    "start_time": "2023-06-08T05:37:29.234Z"
   },
   {
    "duration": 5,
    "start_time": "2023-06-08T05:37:29.290Z"
   },
   {
    "duration": 240,
    "start_time": "2023-06-08T05:37:29.297Z"
   },
   {
    "duration": 76,
    "start_time": "2023-06-08T05:37:29.539Z"
   },
   {
    "duration": 69,
    "start_time": "2023-06-08T05:37:29.617Z"
   },
   {
    "duration": 146,
    "start_time": "2023-06-08T05:37:29.689Z"
   },
   {
    "duration": 119,
    "start_time": "2023-06-08T05:37:29.837Z"
   },
   {
    "duration": 120,
    "start_time": "2023-06-08T05:37:29.958Z"
   },
   {
    "duration": 152,
    "start_time": "2023-06-08T05:37:30.081Z"
   },
   {
    "duration": 63,
    "start_time": "2023-06-08T05:37:30.235Z"
   },
   {
    "duration": 38,
    "start_time": "2023-06-08T05:37:30.300Z"
   },
   {
    "duration": 83,
    "start_time": "2023-06-08T05:37:30.340Z"
   },
   {
    "duration": 68,
    "start_time": "2023-06-08T05:37:30.425Z"
   },
   {
    "duration": 138,
    "start_time": "2023-06-08T05:37:30.495Z"
   },
   {
    "duration": 19,
    "start_time": "2023-06-08T05:37:30.635Z"
   },
   {
    "duration": 45,
    "start_time": "2023-06-08T05:37:30.657Z"
   },
   {
    "duration": 40,
    "start_time": "2023-06-08T05:37:30.704Z"
   },
   {
    "duration": 499,
    "start_time": "2023-06-08T05:39:14.410Z"
   },
   {
    "duration": 2453,
    "start_time": "2023-06-08T05:39:14.911Z"
   },
   {
    "duration": 6,
    "start_time": "2023-06-08T05:39:17.367Z"
   },
   {
    "duration": 15,
    "start_time": "2023-06-08T05:39:17.375Z"
   },
   {
    "duration": 48,
    "start_time": "2023-06-08T05:39:17.392Z"
   },
   {
    "duration": 9,
    "start_time": "2023-06-08T05:39:17.441Z"
   },
   {
    "duration": 33,
    "start_time": "2023-06-08T05:39:17.452Z"
   },
   {
    "duration": 5,
    "start_time": "2023-06-08T05:39:17.488Z"
   },
   {
    "duration": 7,
    "start_time": "2023-06-08T05:39:17.495Z"
   },
   {
    "duration": 610,
    "start_time": "2023-06-08T05:39:17.506Z"
   },
   {
    "duration": 117,
    "start_time": "2023-06-08T05:39:18.118Z"
   },
   {
    "duration": 316,
    "start_time": "2023-06-08T05:39:18.237Z"
   },
   {
    "duration": 5,
    "start_time": "2023-06-08T05:39:18.555Z"
   },
   {
    "duration": 5,
    "start_time": "2023-06-08T05:39:18.577Z"
   },
   {
    "duration": 98,
    "start_time": "2023-06-08T05:39:18.584Z"
   },
   {
    "duration": 73,
    "start_time": "2023-06-08T05:39:18.684Z"
   },
   {
    "duration": 6,
    "start_time": "2023-06-08T05:39:18.777Z"
   },
   {
    "duration": 18,
    "start_time": "2023-06-08T05:39:18.785Z"
   },
   {
    "duration": 46,
    "start_time": "2023-06-08T05:39:18.805Z"
   },
   {
    "duration": 45,
    "start_time": "2023-06-08T05:39:18.877Z"
   },
   {
    "duration": 5,
    "start_time": "2023-06-08T05:39:18.924Z"
   },
   {
    "duration": 350,
    "start_time": "2023-06-08T05:39:18.932Z"
   },
   {
    "duration": 68,
    "start_time": "2023-06-08T05:39:19.284Z"
   },
   {
    "duration": 94,
    "start_time": "2023-06-08T05:39:19.354Z"
   },
   {
    "duration": 197,
    "start_time": "2023-06-08T05:39:19.451Z"
   },
   {
    "duration": 94,
    "start_time": "2023-06-08T05:39:19.650Z"
   },
   {
    "duration": 158,
    "start_time": "2023-06-08T05:39:19.746Z"
   },
   {
    "duration": 200,
    "start_time": "2023-06-08T05:39:19.909Z"
   },
   {
    "duration": 77,
    "start_time": "2023-06-08T05:39:20.111Z"
   },
   {
    "duration": 52,
    "start_time": "2023-06-08T05:39:20.190Z"
   },
   {
    "duration": 81,
    "start_time": "2023-06-08T05:39:20.244Z"
   },
   {
    "duration": 66,
    "start_time": "2023-06-08T05:39:20.327Z"
   },
   {
    "duration": 127,
    "start_time": "2023-06-08T05:39:20.395Z"
   },
   {
    "duration": 24,
    "start_time": "2023-06-08T05:39:20.524Z"
   },
   {
    "duration": 35,
    "start_time": "2023-06-08T05:39:20.551Z"
   },
   {
    "duration": 3,
    "start_time": "2023-06-08T05:39:20.588Z"
   },
   {
    "duration": 16,
    "start_time": "2023-06-08T05:39:20.594Z"
   },
   {
    "duration": 5,
    "start_time": "2023-06-08T05:40:19.932Z"
   },
   {
    "duration": 11,
    "start_time": "2023-06-08T05:40:35.194Z"
   },
   {
    "duration": 11,
    "start_time": "2023-06-08T05:44:40.113Z"
   },
   {
    "duration": 15,
    "start_time": "2023-06-08T05:44:49.674Z"
   },
   {
    "duration": 15,
    "start_time": "2023-06-08T05:45:54.892Z"
   },
   {
    "duration": 14,
    "start_time": "2023-06-08T05:46:44.535Z"
   },
   {
    "duration": 13,
    "start_time": "2023-06-08T05:47:03.237Z"
   },
   {
    "duration": 539,
    "start_time": "2023-06-08T05:48:22.049Z"
   },
   {
    "duration": 1255,
    "start_time": "2023-06-08T05:48:22.594Z"
   },
   {
    "duration": 5,
    "start_time": "2023-06-08T05:48:23.853Z"
   },
   {
    "duration": 14,
    "start_time": "2023-06-08T05:48:23.860Z"
   },
   {
    "duration": 52,
    "start_time": "2023-06-08T05:48:23.879Z"
   },
   {
    "duration": 8,
    "start_time": "2023-06-08T05:48:23.933Z"
   },
   {
    "duration": 22,
    "start_time": "2023-06-08T05:48:23.943Z"
   },
   {
    "duration": 17,
    "start_time": "2023-06-08T05:48:23.966Z"
   },
   {
    "duration": 24,
    "start_time": "2023-06-08T05:48:23.986Z"
   },
   {
    "duration": 442,
    "start_time": "2023-06-08T05:48:24.012Z"
   },
   {
    "duration": 100,
    "start_time": "2023-06-08T05:48:24.457Z"
   },
   {
    "duration": 305,
    "start_time": "2023-06-08T05:48:24.559Z"
   },
   {
    "duration": 15,
    "start_time": "2023-06-08T05:48:24.866Z"
   },
   {
    "duration": 21,
    "start_time": "2023-06-08T05:48:24.885Z"
   },
   {
    "duration": 87,
    "start_time": "2023-06-08T05:48:24.908Z"
   },
   {
    "duration": 101,
    "start_time": "2023-06-08T05:48:24.996Z"
   },
   {
    "duration": 4,
    "start_time": "2023-06-08T05:48:25.099Z"
   },
   {
    "duration": 10,
    "start_time": "2023-06-08T05:48:25.105Z"
   },
   {
    "duration": 65,
    "start_time": "2023-06-08T05:48:25.117Z"
   },
   {
    "duration": 29,
    "start_time": "2023-06-08T05:48:25.192Z"
   },
   {
    "duration": 4,
    "start_time": "2023-06-08T05:48:25.223Z"
   },
   {
    "duration": 284,
    "start_time": "2023-06-08T05:48:25.229Z"
   },
   {
    "duration": 81,
    "start_time": "2023-06-08T05:48:25.515Z"
   },
   {
    "duration": 95,
    "start_time": "2023-06-08T05:48:25.598Z"
   },
   {
    "duration": 196,
    "start_time": "2023-06-08T05:48:25.695Z"
   },
   {
    "duration": 109,
    "start_time": "2023-06-08T05:48:25.894Z"
   },
   {
    "duration": 125,
    "start_time": "2023-06-08T05:48:26.009Z"
   },
   {
    "duration": 177,
    "start_time": "2023-06-08T05:48:26.136Z"
   },
   {
    "duration": 86,
    "start_time": "2023-06-08T05:48:26.317Z"
   },
   {
    "duration": 48,
    "start_time": "2023-06-08T05:48:26.405Z"
   },
   {
    "duration": 100,
    "start_time": "2023-06-08T05:48:26.456Z"
   },
   {
    "duration": 87,
    "start_time": "2023-06-08T05:48:26.559Z"
   },
   {
    "duration": 147,
    "start_time": "2023-06-08T05:48:26.647Z"
   },
   {
    "duration": 20,
    "start_time": "2023-06-08T05:48:26.795Z"
   },
   {
    "duration": 20,
    "start_time": "2023-06-08T05:48:26.817Z"
   },
   {
    "duration": 18,
    "start_time": "2023-06-08T05:48:26.839Z"
   },
   {
    "duration": 31,
    "start_time": "2023-06-08T05:48:26.880Z"
   },
   {
    "duration": 0,
    "start_time": "2023-06-08T05:48:26.913Z"
   },
   {
    "duration": 8,
    "start_time": "2023-06-08T05:48:43.263Z"
   },
   {
    "duration": 19,
    "start_time": "2023-06-08T05:48:49.618Z"
   },
   {
    "duration": 16,
    "start_time": "2023-06-08T05:51:32.317Z"
   },
   {
    "duration": 481,
    "start_time": "2023-06-08T05:51:37.227Z"
   },
   {
    "duration": 1208,
    "start_time": "2023-06-08T05:51:37.719Z"
   },
   {
    "duration": 5,
    "start_time": "2023-06-08T05:51:38.929Z"
   },
   {
    "duration": 9,
    "start_time": "2023-06-08T05:51:38.936Z"
   },
   {
    "duration": 40,
    "start_time": "2023-06-08T05:51:38.947Z"
   },
   {
    "duration": 10,
    "start_time": "2023-06-08T05:51:38.995Z"
   },
   {
    "duration": 23,
    "start_time": "2023-06-08T05:51:39.007Z"
   },
   {
    "duration": 6,
    "start_time": "2023-06-08T05:51:39.032Z"
   },
   {
    "duration": 13,
    "start_time": "2023-06-08T05:51:39.040Z"
   },
   {
    "duration": 489,
    "start_time": "2023-06-08T05:51:39.056Z"
   },
   {
    "duration": 108,
    "start_time": "2023-06-08T05:51:39.546Z"
   },
   {
    "duration": 363,
    "start_time": "2023-06-08T05:51:39.656Z"
   },
   {
    "duration": 5,
    "start_time": "2023-06-08T05:51:40.021Z"
   },
   {
    "duration": 14,
    "start_time": "2023-06-08T05:51:40.029Z"
   },
   {
    "duration": 149,
    "start_time": "2023-06-08T05:51:40.046Z"
   },
   {
    "duration": 22,
    "start_time": "2023-06-08T05:51:40.200Z"
   },
   {
    "duration": 128,
    "start_time": "2023-06-08T05:51:40.224Z"
   },
   {
    "duration": 5,
    "start_time": "2023-06-08T05:51:40.355Z"
   },
   {
    "duration": 24,
    "start_time": "2023-06-08T05:51:40.362Z"
   },
   {
    "duration": 76,
    "start_time": "2023-06-08T05:51:40.389Z"
   },
   {
    "duration": 42,
    "start_time": "2023-06-08T05:51:40.466Z"
   },
   {
    "duration": 7,
    "start_time": "2023-06-08T05:51:40.510Z"
   },
   {
    "duration": 306,
    "start_time": "2023-06-08T05:51:40.520Z"
   },
   {
    "duration": 83,
    "start_time": "2023-06-08T05:51:40.828Z"
   },
   {
    "duration": 7,
    "start_time": "2023-06-08T05:51:40.913Z"
   },
   {
    "duration": 125,
    "start_time": "2023-06-08T05:51:40.922Z"
   },
   {
    "duration": 47,
    "start_time": "2023-06-08T05:51:41.049Z"
   },
   {
    "duration": 112,
    "start_time": "2023-06-08T05:51:41.101Z"
   },
   {
    "duration": 182,
    "start_time": "2023-06-08T05:51:41.215Z"
   },
   {
    "duration": 90,
    "start_time": "2023-06-08T05:51:41.400Z"
   },
   {
    "duration": 213,
    "start_time": "2023-06-08T05:51:41.492Z"
   },
   {
    "duration": 74,
    "start_time": "2023-06-08T05:51:41.707Z"
   },
   {
    "duration": 63,
    "start_time": "2023-06-08T05:51:41.787Z"
   },
   {
    "duration": 144,
    "start_time": "2023-06-08T05:51:41.852Z"
   },
   {
    "duration": 18,
    "start_time": "2023-06-08T05:51:41.998Z"
   },
   {
    "duration": 13,
    "start_time": "2023-06-08T05:51:42.018Z"
   },
   {
    "duration": 54,
    "start_time": "2023-06-08T05:51:42.033Z"
   },
   {
    "duration": 27,
    "start_time": "2023-06-08T05:51:42.089Z"
   },
   {
    "duration": 0,
    "start_time": "2023-06-08T05:51:42.118Z"
   },
   {
    "duration": 14,
    "start_time": "2023-06-08T05:52:12.458Z"
   },
   {
    "duration": 26,
    "start_time": "2023-06-08T05:53:14.245Z"
   },
   {
    "duration": 27,
    "start_time": "2023-06-08T05:53:23.889Z"
   },
   {
    "duration": 15,
    "start_time": "2023-06-08T05:53:40.212Z"
   },
   {
    "duration": 33,
    "start_time": "2023-06-08T05:53:52.263Z"
   },
   {
    "duration": 5,
    "start_time": "2023-06-08T05:55:45.308Z"
   },
   {
    "duration": 5,
    "start_time": "2023-06-08T05:56:21.906Z"
   },
   {
    "duration": 537,
    "start_time": "2023-06-08T06:59:58.205Z"
   },
   {
    "duration": 1338,
    "start_time": "2023-06-08T06:59:58.744Z"
   },
   {
    "duration": 6,
    "start_time": "2023-06-08T07:00:00.084Z"
   },
   {
    "duration": 126,
    "start_time": "2023-06-08T07:00:00.092Z"
   },
   {
    "duration": 134,
    "start_time": "2023-06-08T07:00:00.221Z"
   },
   {
    "duration": 11,
    "start_time": "2023-06-08T07:00:00.357Z"
   },
   {
    "duration": 150,
    "start_time": "2023-06-08T07:00:00.370Z"
   },
   {
    "duration": 31,
    "start_time": "2023-06-08T07:00:00.528Z"
   },
   {
    "duration": 80,
    "start_time": "2023-06-08T07:00:00.561Z"
   },
   {
    "duration": 544,
    "start_time": "2023-06-08T07:00:00.643Z"
   },
   {
    "duration": 134,
    "start_time": "2023-06-08T07:00:01.193Z"
   },
   {
    "duration": 436,
    "start_time": "2023-06-08T07:00:01.329Z"
   },
   {
    "duration": 9,
    "start_time": "2023-06-08T07:00:01.767Z"
   },
   {
    "duration": 59,
    "start_time": "2023-06-08T07:00:01.794Z"
   },
   {
    "duration": 214,
    "start_time": "2023-06-08T07:00:01.855Z"
   },
   {
    "duration": 38,
    "start_time": "2023-06-08T07:00:02.078Z"
   },
   {
    "duration": 132,
    "start_time": "2023-06-08T07:00:02.118Z"
   },
   {
    "duration": 27,
    "start_time": "2023-06-08T07:00:02.252Z"
   },
   {
    "duration": 141,
    "start_time": "2023-06-08T07:00:02.284Z"
   },
   {
    "duration": 221,
    "start_time": "2023-06-08T07:00:02.428Z"
   },
   {
    "duration": 115,
    "start_time": "2023-06-08T07:00:02.650Z"
   },
   {
    "duration": 62,
    "start_time": "2023-06-08T07:00:02.767Z"
   },
   {
    "duration": 393,
    "start_time": "2023-06-08T07:00:02.831Z"
   },
   {
    "duration": 99,
    "start_time": "2023-06-08T07:00:03.226Z"
   },
   {
    "duration": 17,
    "start_time": "2023-06-08T07:00:03.328Z"
   },
   {
    "duration": 152,
    "start_time": "2023-06-08T07:00:03.346Z"
   },
   {
    "duration": 37,
    "start_time": "2023-06-08T07:00:03.500Z"
   },
   {
    "duration": 164,
    "start_time": "2023-06-08T07:00:03.539Z"
   },
   {
    "duration": 184,
    "start_time": "2023-06-08T07:00:03.704Z"
   },
   {
    "duration": 100,
    "start_time": "2023-06-08T07:00:03.890Z"
   },
   {
    "duration": 49,
    "start_time": "2023-06-08T07:00:03.992Z"
   },
   {
    "duration": 88,
    "start_time": "2023-06-08T07:00:04.043Z"
   },
   {
    "duration": 102,
    "start_time": "2023-06-08T07:00:04.133Z"
   },
   {
    "duration": 252,
    "start_time": "2023-06-08T07:00:04.237Z"
   },
   {
    "duration": 29,
    "start_time": "2023-06-08T07:00:04.496Z"
   },
   {
    "duration": 36,
    "start_time": "2023-06-08T07:00:04.527Z"
   },
   {
    "duration": 73,
    "start_time": "2023-06-08T07:00:04.564Z"
   },
   {
    "duration": 25,
    "start_time": "2023-06-08T07:00:04.640Z"
   },
   {
    "duration": 1478,
    "start_time": "2023-06-08T07:04:54.408Z"
   },
   {
    "duration": 1367,
    "start_time": "2023-06-08T07:04:55.892Z"
   },
   {
    "duration": 5,
    "start_time": "2023-06-08T07:04:57.261Z"
   },
   {
    "duration": 35,
    "start_time": "2023-06-08T07:04:57.269Z"
   },
   {
    "duration": 43,
    "start_time": "2023-06-08T07:04:57.306Z"
   },
   {
    "duration": 9,
    "start_time": "2023-06-08T07:04:57.351Z"
   },
   {
    "duration": 57,
    "start_time": "2023-06-08T07:04:57.362Z"
   },
   {
    "duration": 15,
    "start_time": "2023-06-08T07:04:57.421Z"
   },
   {
    "duration": 24,
    "start_time": "2023-06-08T07:04:57.438Z"
   },
   {
    "duration": 535,
    "start_time": "2023-06-08T07:04:57.465Z"
   },
   {
    "duration": 153,
    "start_time": "2023-06-08T07:04:58.010Z"
   },
   {
    "duration": 428,
    "start_time": "2023-06-08T07:04:58.166Z"
   },
   {
    "duration": 8,
    "start_time": "2023-06-08T07:04:58.599Z"
   },
   {
    "duration": 38,
    "start_time": "2023-06-08T07:04:58.609Z"
   },
   {
    "duration": 112,
    "start_time": "2023-06-08T07:04:58.649Z"
   },
   {
    "duration": 27,
    "start_time": "2023-06-08T07:04:58.763Z"
   },
   {
    "duration": 91,
    "start_time": "2023-06-08T07:04:58.796Z"
   },
   {
    "duration": 8,
    "start_time": "2023-06-08T07:04:58.889Z"
   },
   {
    "duration": 26,
    "start_time": "2023-06-08T07:04:58.898Z"
   },
   {
    "duration": 453,
    "start_time": "2023-06-08T07:04:58.926Z"
   },
   {
    "duration": 59,
    "start_time": "2023-06-08T07:04:59.382Z"
   },
   {
    "duration": 4,
    "start_time": "2023-06-08T07:04:59.443Z"
   },
   {
    "duration": 277,
    "start_time": "2023-06-08T07:04:59.449Z"
   },
   {
    "duration": 92,
    "start_time": "2023-06-08T07:04:59.729Z"
   },
   {
    "duration": 7,
    "start_time": "2023-06-08T07:04:59.823Z"
   },
   {
    "duration": 155,
    "start_time": "2023-06-08T07:04:59.832Z"
   },
   {
    "duration": 37,
    "start_time": "2023-06-08T07:04:59.989Z"
   },
   {
    "duration": 111,
    "start_time": "2023-06-08T07:05:00.029Z"
   },
   {
    "duration": 169,
    "start_time": "2023-06-08T07:05:00.142Z"
   },
   {
    "duration": 94,
    "start_time": "2023-06-08T07:05:00.313Z"
   },
   {
    "duration": 82,
    "start_time": "2023-06-08T07:05:00.409Z"
   },
   {
    "duration": 118,
    "start_time": "2023-06-08T07:05:00.495Z"
   },
   {
    "duration": 64,
    "start_time": "2023-06-08T07:05:00.616Z"
   },
   {
    "duration": 177,
    "start_time": "2023-06-08T07:05:00.691Z"
   },
   {
    "duration": 30,
    "start_time": "2023-06-08T07:05:00.870Z"
   },
   {
    "duration": 36,
    "start_time": "2023-06-08T07:05:00.902Z"
   },
   {
    "duration": 42413,
    "start_time": "2023-06-08T07:05:00.940Z"
   },
   {
    "duration": 0,
    "start_time": "2023-06-08T07:05:43.357Z"
   },
   {
    "duration": 10,
    "start_time": "2023-06-08T07:10:22.701Z"
   },
   {
    "duration": 354,
    "start_time": "2023-06-08T07:10:24.500Z"
   },
   {
    "duration": 21,
    "start_time": "2023-06-08T07:14:02.934Z"
   },
   {
    "duration": 7,
    "start_time": "2023-06-08T07:14:29.904Z"
   },
   {
    "duration": 21,
    "start_time": "2023-06-08T07:15:46.051Z"
   },
   {
    "duration": 13,
    "start_time": "2023-06-08T07:16:15.696Z"
   },
   {
    "duration": 15,
    "start_time": "2023-06-08T07:16:49.142Z"
   },
   {
    "duration": 11,
    "start_time": "2023-06-08T07:17:26.098Z"
   },
   {
    "duration": 17,
    "start_time": "2023-06-08T07:17:48.452Z"
   },
   {
    "duration": 13,
    "start_time": "2023-06-08T07:17:54.176Z"
   },
   {
    "duration": 1483,
    "start_time": "2023-06-08T07:18:32.466Z"
   },
   {
    "duration": 1208,
    "start_time": "2023-06-08T07:18:33.952Z"
   },
   {
    "duration": 4,
    "start_time": "2023-06-08T07:18:35.162Z"
   },
   {
    "duration": 36,
    "start_time": "2023-06-08T07:18:35.168Z"
   },
   {
    "duration": 38,
    "start_time": "2023-06-08T07:18:35.206Z"
   },
   {
    "duration": 89,
    "start_time": "2023-06-08T07:18:35.246Z"
   },
   {
    "duration": 83,
    "start_time": "2023-06-08T07:18:35.336Z"
   },
   {
    "duration": 26,
    "start_time": "2023-06-08T07:18:35.421Z"
   },
   {
    "duration": 13,
    "start_time": "2023-06-08T07:18:35.449Z"
   },
   {
    "duration": 489,
    "start_time": "2023-06-08T07:18:35.466Z"
   },
   {
    "duration": 125,
    "start_time": "2023-06-08T07:18:35.957Z"
   },
   {
    "duration": 372,
    "start_time": "2023-06-08T07:18:36.083Z"
   },
   {
    "duration": 8,
    "start_time": "2023-06-08T07:18:36.457Z"
   },
   {
    "duration": 55,
    "start_time": "2023-06-08T07:18:36.467Z"
   },
   {
    "duration": 113,
    "start_time": "2023-06-08T07:18:36.525Z"
   },
   {
    "duration": 22,
    "start_time": "2023-06-08T07:18:36.641Z"
   },
   {
    "duration": 185,
    "start_time": "2023-06-08T07:18:36.665Z"
   },
   {
    "duration": 4,
    "start_time": "2023-06-08T07:18:36.852Z"
   },
   {
    "duration": 19,
    "start_time": "2023-06-08T07:18:36.858Z"
   },
   {
    "duration": 132,
    "start_time": "2023-06-08T07:18:36.880Z"
   },
   {
    "duration": 29,
    "start_time": "2023-06-08T07:18:37.014Z"
   },
   {
    "duration": 36,
    "start_time": "2023-06-08T07:18:37.045Z"
   },
   {
    "duration": 256,
    "start_time": "2023-06-08T07:18:37.083Z"
   },
   {
    "duration": 82,
    "start_time": "2023-06-08T07:18:37.341Z"
   },
   {
    "duration": 8,
    "start_time": "2023-06-08T07:18:37.425Z"
   },
   {
    "duration": 127,
    "start_time": "2023-06-08T07:18:37.435Z"
   },
   {
    "duration": 43,
    "start_time": "2023-06-08T07:18:37.564Z"
   },
   {
    "duration": 95,
    "start_time": "2023-06-08T07:18:37.610Z"
   },
   {
    "duration": 225,
    "start_time": "2023-06-08T07:18:37.707Z"
   },
   {
    "duration": 90,
    "start_time": "2023-06-08T07:18:37.934Z"
   },
   {
    "duration": 36,
    "start_time": "2023-06-08T07:18:38.026Z"
   },
   {
    "duration": 80,
    "start_time": "2023-06-08T07:18:38.064Z"
   },
   {
    "duration": 110,
    "start_time": "2023-06-08T07:18:38.147Z"
   },
   {
    "duration": 243,
    "start_time": "2023-06-08T07:18:38.259Z"
   },
   {
    "duration": 25,
    "start_time": "2023-06-08T07:18:38.505Z"
   },
   {
    "duration": 19,
    "start_time": "2023-06-08T07:18:38.532Z"
   },
   {
    "duration": 0,
    "start_time": "2023-06-08T07:18:38.553Z"
   },
   {
    "duration": 0,
    "start_time": "2023-06-08T07:18:38.554Z"
   },
   {
    "duration": 0,
    "start_time": "2023-06-08T07:18:38.556Z"
   },
   {
    "duration": 0,
    "start_time": "2023-06-08T07:18:38.581Z"
   },
   {
    "duration": 0,
    "start_time": "2023-06-08T07:18:38.591Z"
   },
   {
    "duration": 0,
    "start_time": "2023-06-08T07:18:38.592Z"
   },
   {
    "duration": 1526,
    "start_time": "2023-06-08T07:19:04.796Z"
   },
   {
    "duration": 1210,
    "start_time": "2023-06-08T07:19:06.325Z"
   },
   {
    "duration": 5,
    "start_time": "2023-06-08T07:19:07.537Z"
   },
   {
    "duration": 73,
    "start_time": "2023-06-08T07:19:07.544Z"
   },
   {
    "duration": 46,
    "start_time": "2023-06-08T07:19:07.620Z"
   },
   {
    "duration": 11,
    "start_time": "2023-06-08T07:19:07.668Z"
   },
   {
    "duration": 50,
    "start_time": "2023-06-08T07:19:07.681Z"
   },
   {
    "duration": 74,
    "start_time": "2023-06-08T07:19:07.740Z"
   },
   {
    "duration": 31,
    "start_time": "2023-06-08T07:19:07.816Z"
   },
   {
    "duration": 506,
    "start_time": "2023-06-08T07:19:07.851Z"
   },
   {
    "duration": 105,
    "start_time": "2023-06-08T07:19:08.358Z"
   },
   {
    "duration": 304,
    "start_time": "2023-06-08T07:19:08.476Z"
   },
   {
    "duration": 10,
    "start_time": "2023-06-08T07:19:08.781Z"
   },
   {
    "duration": 3,
    "start_time": "2023-06-08T07:19:08.797Z"
   },
   {
    "duration": 90,
    "start_time": "2023-06-08T07:19:08.801Z"
   },
   {
    "duration": 21,
    "start_time": "2023-06-08T07:19:08.897Z"
   },
   {
    "duration": 103,
    "start_time": "2023-06-08T07:19:08.920Z"
   },
   {
    "duration": 5,
    "start_time": "2023-06-08T07:19:09.025Z"
   },
   {
    "duration": 17,
    "start_time": "2023-06-08T07:19:09.032Z"
   },
   {
    "duration": 71,
    "start_time": "2023-06-08T07:19:09.050Z"
   },
   {
    "duration": 33,
    "start_time": "2023-06-08T07:19:09.123Z"
   },
   {
    "duration": 29,
    "start_time": "2023-06-08T07:19:09.158Z"
   },
   {
    "duration": 265,
    "start_time": "2023-06-08T07:19:09.190Z"
   },
   {
    "duration": 90,
    "start_time": "2023-06-08T07:19:09.457Z"
   },
   {
    "duration": 7,
    "start_time": "2023-06-08T07:19:09.548Z"
   },
   {
    "duration": 117,
    "start_time": "2023-06-08T07:19:09.557Z"
   },
   {
    "duration": 38,
    "start_time": "2023-06-08T07:19:09.679Z"
   },
   {
    "duration": 115,
    "start_time": "2023-06-08T07:19:09.722Z"
   },
   {
    "duration": 192,
    "start_time": "2023-06-08T07:19:09.839Z"
   },
   {
    "duration": 71,
    "start_time": "2023-06-08T07:19:10.033Z"
   },
   {
    "duration": 39,
    "start_time": "2023-06-08T07:19:10.106Z"
   },
   {
    "duration": 81,
    "start_time": "2023-06-08T07:19:10.147Z"
   },
   {
    "duration": 81,
    "start_time": "2023-06-08T07:19:10.230Z"
   },
   {
    "duration": 198,
    "start_time": "2023-06-08T07:19:10.313Z"
   },
   {
    "duration": 22,
    "start_time": "2023-06-08T07:19:10.513Z"
   },
   {
    "duration": 17,
    "start_time": "2023-06-08T07:19:10.538Z"
   },
   {
    "duration": 42,
    "start_time": "2023-06-08T07:19:10.557Z"
   },
   {
    "duration": 18,
    "start_time": "2023-06-08T07:19:10.601Z"
   },
   {
    "duration": 0,
    "start_time": "2023-06-08T07:19:10.621Z"
   },
   {
    "duration": 0,
    "start_time": "2023-06-08T07:19:10.623Z"
   },
   {
    "duration": 0,
    "start_time": "2023-06-08T07:19:10.624Z"
   },
   {
    "duration": 120,
    "start_time": "2023-06-08T07:20:11.800Z"
   },
   {
    "duration": 124,
    "start_time": "2023-06-08T07:20:29.013Z"
   },
   {
    "duration": 413,
    "start_time": "2023-06-08T07:20:45.103Z"
   },
   {
    "duration": 5,
    "start_time": "2023-06-08T07:24:12.724Z"
   },
   {
    "duration": 5,
    "start_time": "2023-06-08T07:24:34.039Z"
   },
   {
    "duration": 15,
    "start_time": "2023-06-08T07:27:00.319Z"
   },
   {
    "duration": 7,
    "start_time": "2023-06-08T09:47:18.166Z"
   },
   {
    "duration": 8,
    "start_time": "2023-06-08T09:47:24.140Z"
   },
   {
    "duration": 10,
    "start_time": "2023-06-08T09:47:40.634Z"
   },
   {
    "duration": 22,
    "start_time": "2023-06-08T09:47:50.971Z"
   },
   {
    "duration": 157,
    "start_time": "2023-06-08T09:48:57.258Z"
   },
   {
    "duration": 16,
    "start_time": "2023-06-08T09:49:01.852Z"
   },
   {
    "duration": 28,
    "start_time": "2023-06-08T09:56:49.370Z"
   },
   {
    "duration": 32,
    "start_time": "2023-06-08T09:57:04.684Z"
   },
   {
    "duration": 1804,
    "start_time": "2023-06-08T11:22:40.832Z"
   },
   {
    "duration": 1616,
    "start_time": "2023-06-08T11:22:42.642Z"
   },
   {
    "duration": 7,
    "start_time": "2023-06-08T11:22:44.260Z"
   },
   {
    "duration": 42,
    "start_time": "2023-06-08T11:22:44.269Z"
   },
   {
    "duration": 57,
    "start_time": "2023-06-08T11:22:44.318Z"
   },
   {
    "duration": 16,
    "start_time": "2023-06-08T11:22:44.382Z"
   },
   {
    "duration": 49,
    "start_time": "2023-06-08T11:22:44.400Z"
   },
   {
    "duration": 14,
    "start_time": "2023-06-08T11:22:44.451Z"
   },
   {
    "duration": 19,
    "start_time": "2023-06-08T11:22:44.468Z"
   },
   {
    "duration": 633,
    "start_time": "2023-06-08T11:22:44.492Z"
   },
   {
    "duration": 131,
    "start_time": "2023-06-08T11:22:45.127Z"
   },
   {
    "duration": 471,
    "start_time": "2023-06-08T11:22:45.260Z"
   },
   {
    "duration": 6,
    "start_time": "2023-06-08T11:22:45.733Z"
   },
   {
    "duration": 16,
    "start_time": "2023-06-08T11:22:45.743Z"
   },
   {
    "duration": 140,
    "start_time": "2023-06-08T11:22:45.761Z"
   },
   {
    "duration": 30,
    "start_time": "2023-06-08T11:22:45.903Z"
   },
   {
    "duration": 116,
    "start_time": "2023-06-08T11:22:45.936Z"
   },
   {
    "duration": 4,
    "start_time": "2023-06-08T11:22:46.054Z"
   },
   {
    "duration": 10,
    "start_time": "2023-06-08T11:22:46.060Z"
   },
   {
    "duration": 93,
    "start_time": "2023-06-08T11:22:46.085Z"
   },
   {
    "duration": 61,
    "start_time": "2023-06-08T11:22:46.180Z"
   },
   {
    "duration": 13,
    "start_time": "2023-06-08T11:22:46.243Z"
   },
   {
    "duration": 451,
    "start_time": "2023-06-08T11:22:46.258Z"
   },
   {
    "duration": 116,
    "start_time": "2023-06-08T11:22:46.718Z"
   },
   {
    "duration": 12,
    "start_time": "2023-06-08T11:22:46.839Z"
   },
   {
    "duration": 210,
    "start_time": "2023-06-08T11:22:46.853Z"
   },
   {
    "duration": 44,
    "start_time": "2023-06-08T11:22:47.066Z"
   },
   {
    "duration": 144,
    "start_time": "2023-06-08T11:22:47.112Z"
   },
   {
    "duration": 184,
    "start_time": "2023-06-08T11:22:47.259Z"
   },
   {
    "duration": 90,
    "start_time": "2023-06-08T11:22:47.446Z"
   },
   {
    "duration": 47,
    "start_time": "2023-06-08T11:22:47.538Z"
   },
   {
    "duration": 80,
    "start_time": "2023-06-08T11:22:47.587Z"
   },
   {
    "duration": 109,
    "start_time": "2023-06-08T11:22:47.669Z"
   },
   {
    "duration": 269,
    "start_time": "2023-06-08T11:22:47.785Z"
   },
   {
    "duration": 25,
    "start_time": "2023-06-08T11:22:48.057Z"
   },
   {
    "duration": 19,
    "start_time": "2023-06-08T11:22:48.086Z"
   },
   {
    "duration": 20,
    "start_time": "2023-06-08T11:22:48.107Z"
   },
   {
    "duration": 176,
    "start_time": "2023-06-08T11:22:48.130Z"
   },
   {
    "duration": 466,
    "start_time": "2023-06-08T11:22:48.307Z"
   },
   {
    "duration": 26,
    "start_time": "2023-06-08T11:22:48.781Z"
   },
   {
    "duration": 29,
    "start_time": "2023-06-08T11:22:48.817Z"
   },
   {
    "duration": 26,
    "start_time": "2023-06-08T11:22:48.848Z"
   },
   {
    "duration": 123,
    "start_time": "2023-06-08T11:22:48.876Z"
   },
   {
    "duration": 13,
    "start_time": "2023-06-08T11:56:54.392Z"
   },
   {
    "duration": 11,
    "start_time": "2023-06-08T11:57:01.374Z"
   },
   {
    "duration": 9,
    "start_time": "2023-06-08T11:58:32.712Z"
   },
   {
    "duration": 11,
    "start_time": "2023-06-08T11:58:38.315Z"
   },
   {
    "duration": 33,
    "start_time": "2023-06-08T11:58:43.841Z"
   },
   {
    "duration": 12,
    "start_time": "2023-06-08T12:00:29.736Z"
   },
   {
    "duration": 13,
    "start_time": "2023-06-08T12:00:40.278Z"
   },
   {
    "duration": 16,
    "start_time": "2023-06-08T12:02:57.117Z"
   },
   {
    "duration": 15,
    "start_time": "2023-06-08T12:04:35.099Z"
   },
   {
    "duration": 17,
    "start_time": "2023-06-08T12:09:12.397Z"
   },
   {
    "duration": 15,
    "start_time": "2023-06-08T12:09:20.618Z"
   },
   {
    "duration": 2819,
    "start_time": "2023-06-08T12:11:39.232Z"
   },
   {
    "duration": 17,
    "start_time": "2023-06-08T12:12:06.861Z"
   },
   {
    "duration": 17,
    "start_time": "2023-06-08T12:31:42.144Z"
   },
   {
    "duration": 1403,
    "start_time": "2023-06-08T12:31:52.360Z"
   },
   {
    "duration": 1300,
    "start_time": "2023-06-08T12:31:53.765Z"
   },
   {
    "duration": 6,
    "start_time": "2023-06-08T12:31:55.067Z"
   },
   {
    "duration": 29,
    "start_time": "2023-06-08T12:31:55.074Z"
   },
   {
    "duration": 29,
    "start_time": "2023-06-08T12:31:55.105Z"
   },
   {
    "duration": 8,
    "start_time": "2023-06-08T12:31:55.136Z"
   },
   {
    "duration": 11,
    "start_time": "2023-06-08T12:31:55.146Z"
   },
   {
    "duration": 26,
    "start_time": "2023-06-08T12:31:55.159Z"
   },
   {
    "duration": 27,
    "start_time": "2023-06-08T12:31:55.186Z"
   },
   {
    "duration": 447,
    "start_time": "2023-06-08T12:31:55.215Z"
   },
   {
    "duration": 151,
    "start_time": "2023-06-08T12:31:55.664Z"
   },
   {
    "duration": 304,
    "start_time": "2023-06-08T12:31:55.816Z"
   },
   {
    "duration": 4,
    "start_time": "2023-06-08T12:31:56.122Z"
   },
   {
    "duration": 7,
    "start_time": "2023-06-08T12:31:56.127Z"
   },
   {
    "duration": 101,
    "start_time": "2023-06-08T12:31:56.135Z"
   },
   {
    "duration": 19,
    "start_time": "2023-06-08T12:31:56.238Z"
   },
   {
    "duration": 147,
    "start_time": "2023-06-08T12:31:56.259Z"
   },
   {
    "duration": 3,
    "start_time": "2023-06-08T12:31:56.408Z"
   },
   {
    "duration": 9,
    "start_time": "2023-06-08T12:31:56.413Z"
   },
   {
    "duration": 88,
    "start_time": "2023-06-08T12:31:56.424Z"
   },
   {
    "duration": 42,
    "start_time": "2023-06-08T12:31:56.514Z"
   },
   {
    "duration": 18,
    "start_time": "2023-06-08T12:31:56.559Z"
   },
   {
    "duration": 284,
    "start_time": "2023-06-08T12:31:56.579Z"
   },
   {
    "duration": 77,
    "start_time": "2023-06-08T12:31:56.865Z"
   },
   {
    "duration": 8,
    "start_time": "2023-06-08T12:31:56.945Z"
   },
   {
    "duration": 135,
    "start_time": "2023-06-08T12:31:56.955Z"
   },
   {
    "duration": 34,
    "start_time": "2023-06-08T12:31:57.092Z"
   },
   {
    "duration": 98,
    "start_time": "2023-06-08T12:31:57.129Z"
   },
   {
    "duration": 158,
    "start_time": "2023-06-08T12:31:57.230Z"
   },
   {
    "duration": 53,
    "start_time": "2023-06-08T12:31:57.392Z"
   },
   {
    "duration": 51,
    "start_time": "2023-06-08T12:31:57.446Z"
   },
   {
    "duration": 64,
    "start_time": "2023-06-08T12:31:57.500Z"
   },
   {
    "duration": 75,
    "start_time": "2023-06-08T12:31:57.566Z"
   },
   {
    "duration": 185,
    "start_time": "2023-06-08T12:31:57.642Z"
   },
   {
    "duration": 22,
    "start_time": "2023-06-08T12:31:57.830Z"
   },
   {
    "duration": 24,
    "start_time": "2023-06-08T12:31:57.854Z"
   },
   {
    "duration": 20,
    "start_time": "2023-06-08T12:31:57.883Z"
   },
   {
    "duration": 121,
    "start_time": "2023-06-08T12:31:57.905Z"
   },
   {
    "duration": 402,
    "start_time": "2023-06-08T12:31:58.028Z"
   },
   {
    "duration": 5,
    "start_time": "2023-06-08T12:31:58.432Z"
   },
   {
    "duration": 33,
    "start_time": "2023-06-08T12:31:58.438Z"
   },
   {
    "duration": 43,
    "start_time": "2023-06-08T12:31:58.473Z"
   },
   {
    "duration": 0,
    "start_time": "2023-06-08T12:31:58.518Z"
   },
   {
    "duration": 0,
    "start_time": "2023-06-08T12:31:58.520Z"
   },
   {
    "duration": 0,
    "start_time": "2023-06-08T12:31:58.521Z"
   },
   {
    "duration": 0,
    "start_time": "2023-06-08T12:31:58.523Z"
   },
   {
    "duration": 22,
    "start_time": "2023-06-08T12:32:14.150Z"
   },
   {
    "duration": 1591,
    "start_time": "2023-06-08T12:33:37.939Z"
   },
   {
    "duration": 8,
    "start_time": "2023-06-08T12:34:49.839Z"
   },
   {
    "duration": 25,
    "start_time": "2023-06-08T12:38:10.104Z"
   },
   {
    "duration": 25,
    "start_time": "2023-06-08T12:39:04.057Z"
   },
   {
    "duration": 24,
    "start_time": "2023-06-08T12:43:38.437Z"
   },
   {
    "duration": 35,
    "start_time": "2023-06-08T12:43:52.658Z"
   },
   {
    "duration": 25,
    "start_time": "2023-06-08T12:44:07.430Z"
   },
   {
    "duration": 32,
    "start_time": "2023-06-08T12:44:16.260Z"
   },
   {
    "duration": 23,
    "start_time": "2023-06-08T12:45:01.723Z"
   },
   {
    "duration": 15,
    "start_time": "2023-06-08T12:46:18.247Z"
   },
   {
    "duration": 1325,
    "start_time": "2023-06-08T12:49:22.139Z"
   },
   {
    "duration": 1173,
    "start_time": "2023-06-08T12:49:23.466Z"
   },
   {
    "duration": 4,
    "start_time": "2023-06-08T12:49:24.641Z"
   },
   {
    "duration": 10,
    "start_time": "2023-06-08T12:49:24.648Z"
   },
   {
    "duration": 42,
    "start_time": "2023-06-08T12:49:24.659Z"
   },
   {
    "duration": 7,
    "start_time": "2023-06-08T12:49:24.703Z"
   },
   {
    "duration": 34,
    "start_time": "2023-06-08T12:49:24.711Z"
   },
   {
    "duration": 14,
    "start_time": "2023-06-08T12:49:24.747Z"
   },
   {
    "duration": 53,
    "start_time": "2023-06-08T12:49:24.762Z"
   },
   {
    "duration": 453,
    "start_time": "2023-06-08T12:49:24.818Z"
   },
   {
    "duration": 107,
    "start_time": "2023-06-08T12:49:25.278Z"
   },
   {
    "duration": 307,
    "start_time": "2023-06-08T12:49:25.387Z"
   },
   {
    "duration": 5,
    "start_time": "2023-06-08T12:49:25.696Z"
   },
   {
    "duration": 20,
    "start_time": "2023-06-08T12:49:25.703Z"
   },
   {
    "duration": 85,
    "start_time": "2023-06-08T12:49:25.725Z"
   },
   {
    "duration": 14,
    "start_time": "2023-06-08T12:49:25.813Z"
   },
   {
    "duration": 104,
    "start_time": "2023-06-08T12:49:25.828Z"
   },
   {
    "duration": 5,
    "start_time": "2023-06-08T12:49:25.934Z"
   },
   {
    "duration": 9,
    "start_time": "2023-06-08T12:49:25.941Z"
   },
   {
    "duration": 52,
    "start_time": "2023-06-08T12:49:25.977Z"
   },
   {
    "duration": 28,
    "start_time": "2023-06-08T12:49:26.031Z"
   },
   {
    "duration": 6,
    "start_time": "2023-06-08T12:49:26.079Z"
   },
   {
    "duration": 244,
    "start_time": "2023-06-08T12:49:26.087Z"
   },
   {
    "duration": 81,
    "start_time": "2023-06-08T12:49:26.333Z"
   },
   {
    "duration": 7,
    "start_time": "2023-06-08T12:49:26.416Z"
   },
   {
    "duration": 134,
    "start_time": "2023-06-08T12:49:26.425Z"
   },
   {
    "duration": 41,
    "start_time": "2023-06-08T12:49:26.561Z"
   },
   {
    "duration": 121,
    "start_time": "2023-06-08T12:49:26.611Z"
   },
   {
    "duration": 163,
    "start_time": "2023-06-08T12:49:26.734Z"
   },
   {
    "duration": 86,
    "start_time": "2023-06-08T12:49:26.899Z"
   },
   {
    "duration": 39,
    "start_time": "2023-06-08T12:49:26.993Z"
   },
   {
    "duration": 75,
    "start_time": "2023-06-08T12:49:27.034Z"
   },
   {
    "duration": 61,
    "start_time": "2023-06-08T12:49:27.111Z"
   },
   {
    "duration": 176,
    "start_time": "2023-06-08T12:49:27.176Z"
   },
   {
    "duration": 27,
    "start_time": "2023-06-08T12:49:27.354Z"
   },
   {
    "duration": 16,
    "start_time": "2023-06-08T12:49:27.383Z"
   },
   {
    "duration": 19,
    "start_time": "2023-06-08T12:49:27.401Z"
   },
   {
    "duration": 121,
    "start_time": "2023-06-08T12:49:27.422Z"
   },
   {
    "duration": 383,
    "start_time": "2023-06-08T12:49:27.545Z"
   },
   {
    "duration": 4,
    "start_time": "2023-06-08T12:49:27.930Z"
   },
   {
    "duration": 24,
    "start_time": "2023-06-08T12:49:27.936Z"
   },
   {
    "duration": 39,
    "start_time": "2023-06-08T12:49:27.962Z"
   },
   {
    "duration": 18,
    "start_time": "2023-06-08T12:49:28.003Z"
   },
   {
    "duration": 14,
    "start_time": "2023-06-08T12:49:28.023Z"
   },
   {
    "duration": 11,
    "start_time": "2023-06-08T12:49:28.039Z"
   },
   {
    "duration": 5,
    "start_time": "2023-06-08T12:49:28.051Z"
   },
   {
    "duration": 44,
    "start_time": "2023-06-08T12:49:28.078Z"
   },
   {
    "duration": 35,
    "start_time": "2023-06-08T12:49:28.123Z"
   },
   {
    "duration": 86,
    "start_time": "2023-06-08T12:53:54.608Z"
   },
   {
    "duration": 28,
    "start_time": "2023-06-08T12:53:58.603Z"
   },
   {
    "duration": 15,
    "start_time": "2023-06-08T12:54:36.346Z"
   },
   {
    "duration": 16,
    "start_time": "2023-06-08T12:54:48.187Z"
   },
   {
    "duration": 15,
    "start_time": "2023-06-08T13:15:26.113Z"
   },
   {
    "duration": 17,
    "start_time": "2023-06-08T13:16:18.233Z"
   },
   {
    "duration": 20,
    "start_time": "2023-06-08T13:16:38.417Z"
   },
   {
    "duration": 14,
    "start_time": "2023-06-08T15:11:12.086Z"
   },
   {
    "duration": 31,
    "start_time": "2023-06-08T15:19:17.498Z"
   },
   {
    "duration": 16,
    "start_time": "2023-06-08T15:20:15.999Z"
   },
   {
    "duration": 12,
    "start_time": "2023-06-08T15:21:01.431Z"
   },
   {
    "duration": 16,
    "start_time": "2023-06-08T15:21:08.292Z"
   },
   {
    "duration": 19,
    "start_time": "2023-06-08T15:21:16.441Z"
   },
   {
    "duration": 21,
    "start_time": "2023-06-08T15:21:24.972Z"
   },
   {
    "duration": 17,
    "start_time": "2023-06-08T15:28:33.151Z"
   },
   {
    "duration": 10,
    "start_time": "2023-06-08T15:32:07.299Z"
   },
   {
    "duration": 16,
    "start_time": "2023-06-08T15:32:24.265Z"
   },
   {
    "duration": 15,
    "start_time": "2023-06-08T15:52:00.150Z"
   },
   {
    "duration": 312,
    "start_time": "2023-06-08T15:52:30.098Z"
   },
   {
    "duration": 17,
    "start_time": "2023-06-08T15:52:35.610Z"
   },
   {
    "duration": 21,
    "start_time": "2023-06-08T15:53:07.472Z"
   },
   {
    "duration": 557,
    "start_time": "2023-06-08T15:55:00.504Z"
   },
   {
    "duration": 58,
    "start_time": "2023-06-08T15:56:26.205Z"
   },
   {
    "duration": 70,
    "start_time": "2023-06-08T15:57:20.754Z"
   },
   {
    "duration": 95,
    "start_time": "2023-06-08T15:58:47.189Z"
   },
   {
    "duration": 1404,
    "start_time": "2023-06-08T16:15:52.967Z"
   },
   {
    "duration": 1409,
    "start_time": "2023-06-08T16:15:54.376Z"
   },
   {
    "duration": 6,
    "start_time": "2023-06-08T16:15:55.788Z"
   },
   {
    "duration": 21,
    "start_time": "2023-06-08T16:15:55.800Z"
   },
   {
    "duration": 29,
    "start_time": "2023-06-08T16:15:55.822Z"
   },
   {
    "duration": 19,
    "start_time": "2023-06-08T16:15:55.853Z"
   },
   {
    "duration": 40,
    "start_time": "2023-06-08T16:15:55.874Z"
   },
   {
    "duration": 4,
    "start_time": "2023-06-08T16:15:55.916Z"
   },
   {
    "duration": 20,
    "start_time": "2023-06-08T16:15:55.922Z"
   },
   {
    "duration": 562,
    "start_time": "2023-06-08T16:15:55.944Z"
   },
   {
    "duration": 135,
    "start_time": "2023-06-08T16:15:56.508Z"
   },
   {
    "duration": 316,
    "start_time": "2023-06-08T16:15:56.645Z"
   },
   {
    "duration": 18,
    "start_time": "2023-06-08T16:15:56.964Z"
   },
   {
    "duration": 20,
    "start_time": "2023-06-08T16:15:56.984Z"
   },
   {
    "duration": 78,
    "start_time": "2023-06-08T16:15:57.006Z"
   },
   {
    "duration": 19,
    "start_time": "2023-06-08T16:15:57.086Z"
   },
   {
    "duration": 139,
    "start_time": "2023-06-08T16:15:57.107Z"
   },
   {
    "duration": 6,
    "start_time": "2023-06-08T16:15:57.248Z"
   },
   {
    "duration": 24,
    "start_time": "2023-06-08T16:15:57.256Z"
   },
   {
    "duration": 48,
    "start_time": "2023-06-08T16:15:57.283Z"
   },
   {
    "duration": 52,
    "start_time": "2023-06-08T16:15:57.332Z"
   },
   {
    "duration": 11,
    "start_time": "2023-06-08T16:15:57.385Z"
   },
   {
    "duration": 342,
    "start_time": "2023-06-08T16:15:57.401Z"
   },
   {
    "duration": 100,
    "start_time": "2023-06-08T16:15:57.745Z"
   },
   {
    "duration": 8,
    "start_time": "2023-06-08T16:15:57.848Z"
   },
   {
    "duration": 180,
    "start_time": "2023-06-08T16:15:57.858Z"
   },
   {
    "duration": 34,
    "start_time": "2023-06-08T16:15:58.040Z"
   },
   {
    "duration": 176,
    "start_time": "2023-06-08T16:15:58.091Z"
   },
   {
    "duration": 93,
    "start_time": "2023-06-08T16:15:58.269Z"
   },
   {
    "duration": 64,
    "start_time": "2023-06-08T16:15:58.364Z"
   },
   {
    "duration": 78,
    "start_time": "2023-06-08T16:15:58.429Z"
   },
   {
    "duration": 83,
    "start_time": "2023-06-08T16:15:58.509Z"
   },
   {
    "duration": 196,
    "start_time": "2023-06-08T16:15:58.595Z"
   },
   {
    "duration": 27,
    "start_time": "2023-06-08T16:15:58.806Z"
   },
   {
    "duration": 38,
    "start_time": "2023-06-08T16:15:58.835Z"
   },
   {
    "duration": 74,
    "start_time": "2023-06-08T16:15:58.875Z"
   },
   {
    "duration": 110,
    "start_time": "2023-06-08T16:15:58.951Z"
   },
   {
    "duration": 386,
    "start_time": "2023-06-08T16:15:59.062Z"
   },
   {
    "duration": 5,
    "start_time": "2023-06-08T16:15:59.451Z"
   },
   {
    "duration": 79,
    "start_time": "2023-06-08T16:15:59.458Z"
   },
   {
    "duration": 88,
    "start_time": "2023-06-08T16:15:59.539Z"
   },
   {
    "duration": 25,
    "start_time": "2023-06-08T16:15:59.629Z"
   },
   {
    "duration": 17,
    "start_time": "2023-06-08T16:15:59.656Z"
   },
   {
    "duration": 53,
    "start_time": "2023-06-08T16:15:59.675Z"
   },
   {
    "duration": 31,
    "start_time": "2023-06-08T16:15:59.730Z"
   },
   {
    "duration": 521,
    "start_time": "2023-06-08T16:15:59.763Z"
   },
   {
    "duration": 18,
    "start_time": "2023-06-08T16:16:00.290Z"
   },
   {
    "duration": 66,
    "start_time": "2023-06-08T16:19:54.980Z"
   },
   {
    "duration": 91,
    "start_time": "2023-06-08T16:26:04.943Z"
   },
   {
    "duration": 96,
    "start_time": "2023-06-08T16:26:07.675Z"
   },
   {
    "duration": 6,
    "start_time": "2023-06-08T16:26:17.451Z"
   },
   {
    "duration": 28,
    "start_time": "2023-06-08T16:26:24.055Z"
   },
   {
    "duration": 23,
    "start_time": "2023-06-08T16:26:42.415Z"
   },
   {
    "duration": 6,
    "start_time": "2023-06-08T16:27:18.134Z"
   },
   {
    "duration": 31,
    "start_time": "2023-06-08T16:27:23.990Z"
   },
   {
    "duration": 5,
    "start_time": "2023-06-08T16:28:14.959Z"
   },
   {
    "duration": 15,
    "start_time": "2023-06-08T16:28:28.188Z"
   },
   {
    "duration": 6,
    "start_time": "2023-06-08T16:28:41.493Z"
   },
   {
    "duration": 5,
    "start_time": "2023-06-08T16:31:38.238Z"
   },
   {
    "duration": 1292,
    "start_time": "2023-06-08T16:31:59.451Z"
   },
   {
    "duration": 1417,
    "start_time": "2023-06-08T16:32:00.745Z"
   },
   {
    "duration": 5,
    "start_time": "2023-06-08T16:32:02.164Z"
   },
   {
    "duration": 38,
    "start_time": "2023-06-08T16:32:02.171Z"
   },
   {
    "duration": 64,
    "start_time": "2023-06-08T16:32:02.211Z"
   },
   {
    "duration": 24,
    "start_time": "2023-06-08T16:32:02.280Z"
   },
   {
    "duration": 41,
    "start_time": "2023-06-08T16:32:02.306Z"
   },
   {
    "duration": 61,
    "start_time": "2023-06-08T16:32:02.348Z"
   },
   {
    "duration": 33,
    "start_time": "2023-06-08T16:32:02.411Z"
   },
   {
    "duration": 473,
    "start_time": "2023-06-08T16:32:02.447Z"
   },
   {
    "duration": 108,
    "start_time": "2023-06-08T16:32:02.921Z"
   },
   {
    "duration": 287,
    "start_time": "2023-06-08T16:32:03.031Z"
   },
   {
    "duration": 4,
    "start_time": "2023-06-08T16:32:03.320Z"
   },
   {
    "duration": 43,
    "start_time": "2023-06-08T16:32:03.325Z"
   },
   {
    "duration": 130,
    "start_time": "2023-06-08T16:32:03.370Z"
   },
   {
    "duration": 13,
    "start_time": "2023-06-08T16:32:03.502Z"
   },
   {
    "duration": 113,
    "start_time": "2023-06-08T16:32:03.517Z"
   },
   {
    "duration": 3,
    "start_time": "2023-06-08T16:32:03.632Z"
   },
   {
    "duration": 27,
    "start_time": "2023-06-08T16:32:03.637Z"
   },
   {
    "duration": 77,
    "start_time": "2023-06-08T16:32:03.665Z"
   },
   {
    "duration": 27,
    "start_time": "2023-06-08T16:32:03.744Z"
   },
   {
    "duration": 20,
    "start_time": "2023-06-08T16:32:03.773Z"
   },
   {
    "duration": 250,
    "start_time": "2023-06-08T16:32:03.795Z"
   },
   {
    "duration": 74,
    "start_time": "2023-06-08T16:32:04.048Z"
   },
   {
    "duration": 7,
    "start_time": "2023-06-08T16:32:04.123Z"
   },
   {
    "duration": 142,
    "start_time": "2023-06-08T16:32:04.131Z"
   },
   {
    "duration": 35,
    "start_time": "2023-06-08T16:32:04.275Z"
   },
   {
    "duration": 146,
    "start_time": "2023-06-08T16:32:04.313Z"
   },
   {
    "duration": 62,
    "start_time": "2023-06-08T16:32:04.461Z"
   },
   {
    "duration": 71,
    "start_time": "2023-06-08T16:32:04.525Z"
   },
   {
    "duration": 58,
    "start_time": "2023-06-08T16:32:04.598Z"
   },
   {
    "duration": 68,
    "start_time": "2023-06-08T16:32:04.658Z"
   },
   {
    "duration": 171,
    "start_time": "2023-06-08T16:32:04.728Z"
   },
   {
    "duration": 18,
    "start_time": "2023-06-08T16:32:04.901Z"
   },
   {
    "duration": 14,
    "start_time": "2023-06-08T16:32:04.921Z"
   },
   {
    "duration": 42,
    "start_time": "2023-06-08T16:32:04.937Z"
   },
   {
    "duration": 101,
    "start_time": "2023-06-08T16:32:04.987Z"
   },
   {
    "duration": 420,
    "start_time": "2023-06-08T16:32:05.090Z"
   },
   {
    "duration": 4,
    "start_time": "2023-06-08T16:32:05.512Z"
   },
   {
    "duration": 48,
    "start_time": "2023-06-08T16:32:05.518Z"
   },
   {
    "duration": 86,
    "start_time": "2023-06-08T16:32:05.568Z"
   },
   {
    "duration": 24,
    "start_time": "2023-06-08T16:32:05.656Z"
   },
   {
    "duration": 60,
    "start_time": "2023-06-08T16:32:05.681Z"
   },
   {
    "duration": 30,
    "start_time": "2023-06-08T16:32:05.742Z"
   },
   {
    "duration": 37,
    "start_time": "2023-06-08T16:32:05.774Z"
   },
   {
    "duration": 480,
    "start_time": "2023-06-08T16:32:05.812Z"
   },
   {
    "duration": 25,
    "start_time": "2023-06-08T16:32:06.294Z"
   },
   {
    "duration": 6,
    "start_time": "2023-06-08T16:32:06.321Z"
   },
   {
    "duration": 67,
    "start_time": "2023-06-08T16:32:06.329Z"
   },
   {
    "duration": 79,
    "start_time": "2023-06-08T16:32:06.398Z"
   },
   {
    "duration": 70,
    "start_time": "2023-06-08T16:32:06.479Z"
   },
   {
    "duration": 21,
    "start_time": "2023-06-08T16:36:53.254Z"
   },
   {
    "duration": 28,
    "start_time": "2023-06-08T16:37:01.905Z"
   },
   {
    "duration": 30,
    "start_time": "2023-06-08T16:37:36.949Z"
   },
   {
    "duration": 24,
    "start_time": "2023-06-08T16:38:30.500Z"
   },
   {
    "duration": 2534,
    "start_time": "2023-06-08T16:40:51.341Z"
   },
   {
    "duration": 18,
    "start_time": "2023-06-08T16:41:23.734Z"
   },
   {
    "duration": 13,
    "start_time": "2023-06-08T16:42:12.341Z"
   },
   {
    "duration": 11,
    "start_time": "2023-06-08T16:42:17.640Z"
   },
   {
    "duration": 11,
    "start_time": "2023-06-08T16:42:45.619Z"
   },
   {
    "duration": 13,
    "start_time": "2023-06-08T17:03:46.529Z"
   },
   {
    "duration": 11,
    "start_time": "2023-06-08T17:04:07.747Z"
   },
   {
    "duration": 143,
    "start_time": "2023-06-08T17:07:05.946Z"
   },
   {
    "duration": 6,
    "start_time": "2023-06-08T17:07:13.397Z"
   },
   {
    "duration": 5,
    "start_time": "2023-06-08T17:07:23.933Z"
   },
   {
    "duration": 1390,
    "start_time": "2023-06-08T17:07:50.175Z"
   },
   {
    "duration": 1672,
    "start_time": "2023-06-08T17:08:09.569Z"
   },
   {
    "duration": 6,
    "start_time": "2023-06-08T17:08:24.350Z"
   },
   {
    "duration": 1518,
    "start_time": "2023-06-08T17:08:27.490Z"
   },
   {
    "duration": 5,
    "start_time": "2023-06-08T17:08:57.368Z"
   },
   {
    "duration": 9,
    "start_time": "2023-06-08T17:09:00.114Z"
   },
   {
    "duration": 8,
    "start_time": "2023-06-08T17:15:25.125Z"
   },
   {
    "duration": 23,
    "start_time": "2023-06-08T17:15:55.636Z"
   },
   {
    "duration": 1293,
    "start_time": "2023-06-08T17:16:56.846Z"
   },
   {
    "duration": 1243,
    "start_time": "2023-06-08T17:16:58.141Z"
   },
   {
    "duration": 5,
    "start_time": "2023-06-08T17:16:59.386Z"
   },
   {
    "duration": 6,
    "start_time": "2023-06-08T17:16:59.394Z"
   },
   {
    "duration": 49,
    "start_time": "2023-06-08T17:16:59.401Z"
   },
   {
    "duration": 8,
    "start_time": "2023-06-08T17:16:59.452Z"
   },
   {
    "duration": 11,
    "start_time": "2023-06-08T17:16:59.476Z"
   },
   {
    "duration": 7,
    "start_time": "2023-06-08T17:16:59.489Z"
   },
   {
    "duration": 10,
    "start_time": "2023-06-08T17:16:59.497Z"
   },
   {
    "duration": 443,
    "start_time": "2023-06-08T17:16:59.510Z"
   },
   {
    "duration": 104,
    "start_time": "2023-06-08T17:16:59.955Z"
   },
   {
    "duration": 278,
    "start_time": "2023-06-08T17:17:00.061Z"
   },
   {
    "duration": 4,
    "start_time": "2023-06-08T17:17:00.341Z"
   },
   {
    "duration": 47,
    "start_time": "2023-06-08T17:17:00.346Z"
   },
   {
    "duration": 88,
    "start_time": "2023-06-08T17:17:00.394Z"
   },
   {
    "duration": 13,
    "start_time": "2023-06-08T17:17:00.484Z"
   },
   {
    "duration": 108,
    "start_time": "2023-06-08T17:17:00.499Z"
   },
   {
    "duration": 4,
    "start_time": "2023-06-08T17:17:00.609Z"
   },
   {
    "duration": 29,
    "start_time": "2023-06-08T17:17:00.615Z"
   },
   {
    "duration": 52,
    "start_time": "2023-06-08T17:17:00.646Z"
   },
   {
    "duration": 26,
    "start_time": "2023-06-08T17:17:00.700Z"
   },
   {
    "duration": 11,
    "start_time": "2023-06-08T17:17:00.728Z"
   },
   {
    "duration": 299,
    "start_time": "2023-06-08T17:17:00.741Z"
   },
   {
    "duration": 73,
    "start_time": "2023-06-08T17:17:01.042Z"
   },
   {
    "duration": 7,
    "start_time": "2023-06-08T17:17:01.117Z"
   },
   {
    "duration": 143,
    "start_time": "2023-06-08T17:17:01.126Z"
   },
   {
    "duration": 35,
    "start_time": "2023-06-08T17:17:01.271Z"
   },
   {
    "duration": 148,
    "start_time": "2023-06-08T17:17:01.310Z"
   },
   {
    "duration": 70,
    "start_time": "2023-06-08T17:17:01.459Z"
   },
   {
    "duration": 64,
    "start_time": "2023-06-08T17:17:01.530Z"
   },
   {
    "duration": 67,
    "start_time": "2023-06-08T17:17:01.595Z"
   },
   {
    "duration": 110,
    "start_time": "2023-06-08T17:17:01.664Z"
   },
   {
    "duration": 192,
    "start_time": "2023-06-08T17:17:01.780Z"
   },
   {
    "duration": 19,
    "start_time": "2023-06-08T17:17:01.974Z"
   },
   {
    "duration": 39,
    "start_time": "2023-06-08T17:17:01.995Z"
   },
   {
    "duration": 49,
    "start_time": "2023-06-08T17:17:02.036Z"
   },
   {
    "duration": 118,
    "start_time": "2023-06-08T17:17:02.086Z"
   },
   {
    "duration": 346,
    "start_time": "2023-06-08T17:17:02.206Z"
   },
   {
    "duration": 4,
    "start_time": "2023-06-08T17:17:02.554Z"
   },
   {
    "duration": 37,
    "start_time": "2023-06-08T17:17:02.577Z"
   },
   {
    "duration": 30,
    "start_time": "2023-06-08T17:17:02.616Z"
   },
   {
    "duration": 28,
    "start_time": "2023-06-08T17:17:02.648Z"
   },
   {
    "duration": 27,
    "start_time": "2023-06-08T17:17:02.678Z"
   },
   {
    "duration": 18,
    "start_time": "2023-06-08T17:17:02.707Z"
   },
   {
    "duration": 42,
    "start_time": "2023-06-08T17:17:02.727Z"
   },
   {
    "duration": 450,
    "start_time": "2023-06-08T17:17:02.772Z"
   },
   {
    "duration": 62,
    "start_time": "2023-06-08T17:17:03.224Z"
   },
   {
    "duration": 8,
    "start_time": "2023-06-08T17:17:03.288Z"
   },
   {
    "duration": 14,
    "start_time": "2023-06-08T17:17:03.298Z"
   },
   {
    "duration": 69,
    "start_time": "2023-06-08T17:17:03.314Z"
   },
   {
    "duration": 53,
    "start_time": "2023-06-08T17:17:03.385Z"
   },
   {
    "duration": 17,
    "start_time": "2023-06-08T17:17:03.440Z"
   },
   {
    "duration": 9,
    "start_time": "2023-06-08T17:17:03.460Z"
   },
   {
    "duration": 21,
    "start_time": "2023-06-08T17:17:03.471Z"
   },
   {
    "duration": 27,
    "start_time": "2023-06-08T17:17:03.494Z"
   },
   {
    "duration": 5,
    "start_time": "2023-06-08T17:17:44.234Z"
   },
   {
    "duration": 71,
    "start_time": "2023-06-08T17:22:28.749Z"
   },
   {
    "duration": 26,
    "start_time": "2023-06-08T19:50:02.871Z"
   },
   {
    "duration": 278,
    "start_time": "2023-06-08T19:50:39.805Z"
   },
   {
    "duration": 1544,
    "start_time": "2023-06-08T21:20:19.581Z"
   },
   {
    "duration": 1087,
    "start_time": "2023-06-08T21:20:21.127Z"
   },
   {
    "duration": 5,
    "start_time": "2023-06-08T21:20:22.216Z"
   },
   {
    "duration": 6,
    "start_time": "2023-06-08T21:20:22.223Z"
   },
   {
    "duration": 38,
    "start_time": "2023-06-08T21:20:22.230Z"
   },
   {
    "duration": 7,
    "start_time": "2023-06-08T21:20:22.270Z"
   },
   {
    "duration": 13,
    "start_time": "2023-06-08T21:20:22.278Z"
   },
   {
    "duration": 4,
    "start_time": "2023-06-08T21:20:22.292Z"
   },
   {
    "duration": 22,
    "start_time": "2023-06-08T21:20:22.298Z"
   },
   {
    "duration": 531,
    "start_time": "2023-06-08T21:20:22.324Z"
   },
   {
    "duration": 109,
    "start_time": "2023-06-08T21:20:22.857Z"
   },
   {
    "duration": 238,
    "start_time": "2023-06-08T21:20:22.968Z"
   },
   {
    "duration": 5,
    "start_time": "2023-06-08T21:20:23.207Z"
   },
   {
    "duration": 7,
    "start_time": "2023-06-08T21:20:23.213Z"
   },
   {
    "duration": 98,
    "start_time": "2023-06-08T21:20:23.221Z"
   },
   {
    "duration": 36,
    "start_time": "2023-06-08T21:20:23.320Z"
   },
   {
    "duration": 62,
    "start_time": "2023-06-08T21:20:23.358Z"
   },
   {
    "duration": 31,
    "start_time": "2023-06-08T21:20:23.422Z"
   },
   {
    "duration": 6,
    "start_time": "2023-06-08T21:20:23.457Z"
   },
   {
    "duration": 36,
    "start_time": "2023-06-08T21:20:23.465Z"
   },
   {
    "duration": 58,
    "start_time": "2023-06-08T21:20:23.504Z"
   },
   {
    "duration": 4,
    "start_time": "2023-06-08T21:20:23.563Z"
   },
   {
    "duration": 252,
    "start_time": "2023-06-08T21:20:23.569Z"
   },
   {
    "duration": 69,
    "start_time": "2023-06-08T21:20:23.823Z"
   },
   {
    "duration": 7,
    "start_time": "2023-06-08T21:20:23.894Z"
   },
   {
    "duration": 122,
    "start_time": "2023-06-08T21:20:23.903Z"
   },
   {
    "duration": 47,
    "start_time": "2023-06-08T21:20:24.027Z"
   },
   {
    "duration": 315,
    "start_time": "2023-06-08T21:20:24.078Z"
   },
   {
    "duration": 131,
    "start_time": "2023-06-08T21:20:24.395Z"
   },
   {
    "duration": 64,
    "start_time": "2023-06-08T21:20:24.528Z"
   },
   {
    "duration": 60,
    "start_time": "2023-06-08T21:20:24.593Z"
   },
   {
    "duration": 59,
    "start_time": "2023-06-08T21:20:24.655Z"
   },
   {
    "duration": 76,
    "start_time": "2023-06-08T21:20:24.716Z"
   },
   {
    "duration": 207,
    "start_time": "2023-06-08T21:20:24.794Z"
   },
   {
    "duration": 17,
    "start_time": "2023-06-08T21:20:25.003Z"
   },
   {
    "duration": 17,
    "start_time": "2023-06-08T21:20:25.022Z"
   },
   {
    "duration": 19,
    "start_time": "2023-06-08T21:20:25.041Z"
   },
   {
    "duration": 116,
    "start_time": "2023-06-08T21:20:25.061Z"
   },
   {
    "duration": 375,
    "start_time": "2023-06-08T21:20:25.179Z"
   },
   {
    "duration": 5,
    "start_time": "2023-06-08T21:20:25.556Z"
   },
   {
    "duration": 27,
    "start_time": "2023-06-08T21:20:25.564Z"
   },
   {
    "duration": 25,
    "start_time": "2023-06-08T21:20:25.593Z"
   },
   {
    "duration": 32,
    "start_time": "2023-06-08T21:20:25.620Z"
   },
   {
    "duration": 15,
    "start_time": "2023-06-08T21:20:25.654Z"
   },
   {
    "duration": 10,
    "start_time": "2023-06-08T21:20:25.671Z"
   },
   {
    "duration": 16,
    "start_time": "2023-06-08T21:20:25.683Z"
   },
   {
    "duration": 1001,
    "start_time": "2023-06-08T21:20:25.700Z"
   },
   {
    "duration": 52,
    "start_time": "2023-06-08T21:20:26.703Z"
   },
   {
    "duration": 6,
    "start_time": "2023-06-08T21:20:26.757Z"
   },
   {
    "duration": 12,
    "start_time": "2023-06-08T21:20:26.765Z"
   },
   {
    "duration": 13,
    "start_time": "2023-06-08T21:20:26.778Z"
   },
   {
    "duration": 32,
    "start_time": "2023-06-08T21:20:26.843Z"
   },
   {
    "duration": 15,
    "start_time": "2023-06-08T21:20:26.876Z"
   },
   {
    "duration": 102,
    "start_time": "2023-06-08T21:20:26.893Z"
   },
   {
    "duration": 6,
    "start_time": "2023-06-08T21:20:26.997Z"
   },
   {
    "duration": 19,
    "start_time": "2023-06-08T21:20:27.004Z"
   },
   {
    "duration": 24,
    "start_time": "2023-06-08T21:41:28.653Z"
   },
   {
    "duration": 7,
    "start_time": "2023-06-08T21:43:02.356Z"
   },
   {
    "duration": 13,
    "start_time": "2023-06-08T21:43:04.145Z"
   },
   {
    "duration": 1331,
    "start_time": "2023-06-09T10:21:34.901Z"
   },
   {
    "duration": 1041,
    "start_time": "2023-06-09T10:21:36.233Z"
   },
   {
    "duration": 4,
    "start_time": "2023-06-09T10:21:37.276Z"
   },
   {
    "duration": 13,
    "start_time": "2023-06-09T10:21:37.282Z"
   },
   {
    "duration": 52,
    "start_time": "2023-06-09T10:21:37.296Z"
   },
   {
    "duration": 8,
    "start_time": "2023-06-09T10:21:37.349Z"
   },
   {
    "duration": 51,
    "start_time": "2023-06-09T10:21:37.358Z"
   },
   {
    "duration": 8,
    "start_time": "2023-06-09T10:21:37.411Z"
   },
   {
    "duration": 4,
    "start_time": "2023-06-09T10:21:37.421Z"
   },
   {
    "duration": 401,
    "start_time": "2023-06-09T10:21:37.428Z"
   },
   {
    "duration": 94,
    "start_time": "2023-06-09T10:21:37.831Z"
   },
   {
    "duration": 202,
    "start_time": "2023-06-09T10:21:37.927Z"
   },
   {
    "duration": 4,
    "start_time": "2023-06-09T10:21:38.130Z"
   },
   {
    "duration": 19,
    "start_time": "2023-06-09T10:21:38.135Z"
   },
   {
    "duration": 64,
    "start_time": "2023-06-09T10:21:38.155Z"
   },
   {
    "duration": 10,
    "start_time": "2023-06-09T10:21:38.221Z"
   },
   {
    "duration": 74,
    "start_time": "2023-06-09T10:21:38.233Z"
   },
   {
    "duration": 4,
    "start_time": "2023-06-09T10:21:38.309Z"
   },
   {
    "duration": 18,
    "start_time": "2023-06-09T10:21:38.314Z"
   },
   {
    "duration": 28,
    "start_time": "2023-06-09T10:21:38.333Z"
   },
   {
    "duration": 19,
    "start_time": "2023-06-09T10:21:38.362Z"
   },
   {
    "duration": 34,
    "start_time": "2023-06-09T10:21:38.382Z"
   },
   {
    "duration": 224,
    "start_time": "2023-06-09T10:21:38.417Z"
   },
   {
    "duration": 65,
    "start_time": "2023-06-09T10:21:38.643Z"
   },
   {
    "duration": 7,
    "start_time": "2023-06-09T10:21:38.710Z"
   },
   {
    "duration": 112,
    "start_time": "2023-06-09T10:21:38.719Z"
   },
   {
    "duration": 29,
    "start_time": "2023-06-09T10:21:38.832Z"
   },
   {
    "duration": 260,
    "start_time": "2023-06-09T10:21:38.864Z"
   },
   {
    "duration": 134,
    "start_time": "2023-06-09T10:21:39.125Z"
   },
   {
    "duration": 58,
    "start_time": "2023-06-09T10:21:39.261Z"
   },
   {
    "duration": 35,
    "start_time": "2023-06-09T10:21:39.321Z"
   },
   {
    "duration": 64,
    "start_time": "2023-06-09T10:21:39.358Z"
   },
   {
    "duration": 46,
    "start_time": "2023-06-09T10:21:39.423Z"
   },
   {
    "duration": 164,
    "start_time": "2023-06-09T10:21:39.471Z"
   },
   {
    "duration": 14,
    "start_time": "2023-06-09T10:21:39.637Z"
   },
   {
    "duration": 9,
    "start_time": "2023-06-09T10:21:39.652Z"
   },
   {
    "duration": 4,
    "start_time": "2023-06-09T10:21:39.662Z"
   },
   {
    "duration": 100,
    "start_time": "2023-06-09T10:21:39.667Z"
   },
   {
    "duration": 285,
    "start_time": "2023-06-09T10:21:39.768Z"
   },
   {
    "duration": 3,
    "start_time": "2023-06-09T10:21:40.054Z"
   },
   {
    "duration": 16,
    "start_time": "2023-06-09T10:21:40.059Z"
   },
   {
    "duration": 34,
    "start_time": "2023-06-09T10:21:40.076Z"
   },
   {
    "duration": 16,
    "start_time": "2023-06-09T10:21:40.112Z"
   },
   {
    "duration": 13,
    "start_time": "2023-06-09T10:21:40.129Z"
   },
   {
    "duration": 8,
    "start_time": "2023-06-09T10:21:40.144Z"
   },
   {
    "duration": 16,
    "start_time": "2023-06-09T10:21:40.153Z"
   },
   {
    "duration": 466,
    "start_time": "2023-06-09T10:21:40.170Z"
   },
   {
    "duration": 26,
    "start_time": "2023-06-09T10:21:40.638Z"
   },
   {
    "duration": 5,
    "start_time": "2023-06-09T10:21:40.665Z"
   },
   {
    "duration": 38,
    "start_time": "2023-06-09T10:21:40.671Z"
   },
   {
    "duration": 9,
    "start_time": "2023-06-09T10:21:40.710Z"
   },
   {
    "duration": 43,
    "start_time": "2023-06-09T10:21:40.720Z"
   },
   {
    "duration": 11,
    "start_time": "2023-06-09T10:21:40.765Z"
   },
   {
    "duration": 31,
    "start_time": "2023-06-09T10:21:40.778Z"
   },
   {
    "duration": 5,
    "start_time": "2023-06-09T10:21:40.810Z"
   },
   {
    "duration": 20,
    "start_time": "2023-06-09T10:21:40.817Z"
   },
   {
    "duration": 14,
    "start_time": "2023-06-09T11:11:37.991Z"
   },
   {
    "duration": 81,
    "start_time": "2023-06-09T11:16:49.520Z"
   },
   {
    "duration": 3,
    "start_time": "2023-06-09T11:17:10.640Z"
   },
   {
    "duration": 1443,
    "start_time": "2023-06-09T11:17:10.645Z"
   },
   {
    "duration": 4,
    "start_time": "2023-06-09T11:17:12.090Z"
   },
   {
    "duration": 9,
    "start_time": "2023-06-09T11:17:12.095Z"
   },
   {
    "duration": 35,
    "start_time": "2023-06-09T11:17:12.105Z"
   },
   {
    "duration": 9,
    "start_time": "2023-06-09T11:17:12.141Z"
   },
   {
    "duration": 10,
    "start_time": "2023-06-09T11:17:12.151Z"
   },
   {
    "duration": 7,
    "start_time": "2023-06-09T11:17:12.163Z"
   },
   {
    "duration": 7,
    "start_time": "2023-06-09T11:17:12.171Z"
   },
   {
    "duration": 347,
    "start_time": "2023-06-09T11:17:12.179Z"
   },
   {
    "duration": 102,
    "start_time": "2023-06-09T11:17:12.529Z"
   },
   {
    "duration": 209,
    "start_time": "2023-06-09T11:17:12.633Z"
   },
   {
    "duration": 3,
    "start_time": "2023-06-09T11:17:12.844Z"
   },
   {
    "duration": 6,
    "start_time": "2023-06-09T11:17:12.849Z"
   },
   {
    "duration": 77,
    "start_time": "2023-06-09T11:17:12.856Z"
   },
   {
    "duration": 11,
    "start_time": "2023-06-09T11:17:12.934Z"
   },
   {
    "duration": 77,
    "start_time": "2023-06-09T11:17:12.946Z"
   },
   {
    "duration": 3,
    "start_time": "2023-06-09T11:17:13.024Z"
   },
   {
    "duration": 35,
    "start_time": "2023-06-09T11:17:13.029Z"
   },
   {
    "duration": 64,
    "start_time": "2023-06-09T11:17:13.066Z"
   },
   {
    "duration": 26,
    "start_time": "2023-06-09T11:17:13.132Z"
   },
   {
    "duration": 18,
    "start_time": "2023-06-09T11:17:13.160Z"
   },
   {
    "duration": 191,
    "start_time": "2023-06-09T11:17:13.179Z"
   },
   {
    "duration": 59,
    "start_time": "2023-06-09T11:17:13.372Z"
   },
   {
    "duration": 5,
    "start_time": "2023-06-09T11:17:13.433Z"
   },
   {
    "duration": 11,
    "start_time": "2023-06-09T11:17:13.440Z"
   },
   {
    "duration": 74,
    "start_time": "2023-06-09T11:17:17.661Z"
   },
   {
    "duration": 18,
    "start_time": "2023-06-09T11:17:30.760Z"
   },
   {
    "duration": 31,
    "start_time": "2023-06-09T11:19:16.799Z"
   },
   {
    "duration": 18,
    "start_time": "2023-06-09T11:19:46.684Z"
   },
   {
    "duration": 23,
    "start_time": "2023-06-09T11:34:39.547Z"
   },
   {
    "duration": 17,
    "start_time": "2023-06-09T11:34:52.037Z"
   },
   {
    "duration": 18,
    "start_time": "2023-06-09T11:35:54.416Z"
   },
   {
    "duration": 18,
    "start_time": "2023-06-09T11:40:36.225Z"
   },
   {
    "duration": 17,
    "start_time": "2023-06-09T11:40:48.725Z"
   },
   {
    "duration": 33,
    "start_time": "2023-06-09T11:43:31.854Z"
   },
   {
    "duration": 33,
    "start_time": "2023-06-09T11:44:14.455Z"
   },
   {
    "duration": 34,
    "start_time": "2023-06-09T11:44:49.936Z"
   },
   {
    "duration": 2,
    "start_time": "2023-06-09T11:45:39.764Z"
   },
   {
    "duration": 2,
    "start_time": "2023-06-09T11:45:46.564Z"
   },
   {
    "duration": 2,
    "start_time": "2023-06-09T11:45:54.754Z"
   },
   {
    "duration": 2,
    "start_time": "2023-06-09T11:45:58.704Z"
   },
   {
    "duration": 19,
    "start_time": "2023-06-09T11:48:24.084Z"
   },
   {
    "duration": 29,
    "start_time": "2023-06-09T11:48:39.376Z"
   },
   {
    "duration": 16,
    "start_time": "2023-06-09T11:48:47.754Z"
   },
   {
    "duration": 36,
    "start_time": "2023-06-09T11:49:02.514Z"
   },
   {
    "duration": 34,
    "start_time": "2023-06-09T11:49:22.603Z"
   },
   {
    "duration": 1104,
    "start_time": "2023-06-09T11:51:36.773Z"
   },
   {
    "duration": 1164,
    "start_time": "2023-06-09T11:51:37.879Z"
   },
   {
    "duration": 4,
    "start_time": "2023-06-09T11:51:39.044Z"
   },
   {
    "duration": 14,
    "start_time": "2023-06-09T11:51:39.050Z"
   },
   {
    "duration": 32,
    "start_time": "2023-06-09T11:51:39.065Z"
   },
   {
    "duration": 15,
    "start_time": "2023-06-09T11:51:39.098Z"
   },
   {
    "duration": 22,
    "start_time": "2023-06-09T11:51:39.114Z"
   },
   {
    "duration": 9,
    "start_time": "2023-06-09T11:51:39.137Z"
   },
   {
    "duration": 6,
    "start_time": "2023-06-09T11:51:39.147Z"
   },
   {
    "duration": 331,
    "start_time": "2023-06-09T11:51:39.155Z"
   },
   {
    "duration": 90,
    "start_time": "2023-06-09T11:51:39.487Z"
   },
   {
    "duration": 197,
    "start_time": "2023-06-09T11:51:39.578Z"
   },
   {
    "duration": 4,
    "start_time": "2023-06-09T11:51:39.777Z"
   },
   {
    "duration": 4,
    "start_time": "2023-06-09T11:51:39.783Z"
   },
   {
    "duration": 68,
    "start_time": "2023-06-09T11:51:39.789Z"
   },
   {
    "duration": 11,
    "start_time": "2023-06-09T11:51:39.859Z"
   },
   {
    "duration": 82,
    "start_time": "2023-06-09T11:51:39.871Z"
   },
   {
    "duration": 3,
    "start_time": "2023-06-09T11:51:39.955Z"
   },
   {
    "duration": 11,
    "start_time": "2023-06-09T11:51:39.959Z"
   },
   {
    "duration": 46,
    "start_time": "2023-06-09T11:51:39.971Z"
   },
   {
    "duration": 20,
    "start_time": "2023-06-09T11:51:40.018Z"
   },
   {
    "duration": 3,
    "start_time": "2023-06-09T11:51:40.040Z"
   },
   {
    "duration": 213,
    "start_time": "2023-06-09T11:51:40.044Z"
   },
   {
    "duration": 53,
    "start_time": "2023-06-09T11:51:40.258Z"
   },
   {
    "duration": 5,
    "start_time": "2023-06-09T11:51:40.313Z"
   },
   {
    "duration": 103,
    "start_time": "2023-06-09T11:51:40.320Z"
   },
   {
    "duration": 259,
    "start_time": "2023-06-09T11:51:40.425Z"
   },
   {
    "duration": 118,
    "start_time": "2023-06-09T11:51:40.688Z"
   },
   {
    "duration": 60,
    "start_time": "2023-06-09T11:51:40.808Z"
   },
   {
    "duration": 49,
    "start_time": "2023-06-09T11:51:40.869Z"
   },
   {
    "duration": 53,
    "start_time": "2023-06-09T11:51:40.920Z"
   },
   {
    "duration": 69,
    "start_time": "2023-06-09T11:51:40.974Z"
   },
   {
    "duration": 150,
    "start_time": "2023-06-09T11:51:41.045Z"
   },
   {
    "duration": 16,
    "start_time": "2023-06-09T11:51:41.196Z"
   },
   {
    "duration": 9,
    "start_time": "2023-06-09T11:51:41.214Z"
   },
   {
    "duration": 4,
    "start_time": "2023-06-09T11:51:41.224Z"
   },
   {
    "duration": 90,
    "start_time": "2023-06-09T11:51:41.229Z"
   },
   {
    "duration": 294,
    "start_time": "2023-06-09T11:51:41.321Z"
   },
   {
    "duration": 3,
    "start_time": "2023-06-09T11:51:41.617Z"
   },
   {
    "duration": 14,
    "start_time": "2023-06-09T11:51:41.622Z"
   },
   {
    "duration": 22,
    "start_time": "2023-06-09T11:51:41.637Z"
   },
   {
    "duration": 16,
    "start_time": "2023-06-09T11:51:41.660Z"
   },
   {
    "duration": 40,
    "start_time": "2023-06-09T11:51:41.678Z"
   },
   {
    "duration": 9,
    "start_time": "2023-06-09T11:51:41.720Z"
   },
   {
    "duration": 20,
    "start_time": "2023-06-09T11:51:41.731Z"
   },
   {
    "duration": 8,
    "start_time": "2023-06-09T11:51:41.752Z"
   },
   {
    "duration": 9,
    "start_time": "2023-06-09T11:51:41.761Z"
   },
   {
    "duration": 16,
    "start_time": "2023-06-09T11:51:41.771Z"
   },
   {
    "duration": 429,
    "start_time": "2023-06-09T11:51:41.788Z"
   },
   {
    "duration": 3,
    "start_time": "2023-06-09T11:51:42.219Z"
   },
   {
    "duration": 5,
    "start_time": "2023-06-09T11:51:42.223Z"
   },
   {
    "duration": 11,
    "start_time": "2023-06-09T11:51:42.230Z"
   },
   {
    "duration": 28,
    "start_time": "2023-06-09T11:51:42.242Z"
   },
   {
    "duration": 42,
    "start_time": "2023-06-09T11:51:42.271Z"
   },
   {
    "duration": 26,
    "start_time": "2023-06-09T11:51:42.315Z"
   },
   {
    "duration": 12,
    "start_time": "2023-06-09T11:51:42.343Z"
   },
   {
    "duration": 9,
    "start_time": "2023-06-09T11:51:42.356Z"
   },
   {
    "duration": 10,
    "start_time": "2023-06-09T11:51:42.367Z"
   },
   {
    "duration": 14,
    "start_time": "2023-06-09T11:51:42.406Z"
   },
   {
    "duration": 3,
    "start_time": "2023-06-09T11:57:47.363Z"
   },
   {
    "duration": 5,
    "start_time": "2023-06-09T11:58:01.334Z"
   },
   {
    "duration": 1104,
    "start_time": "2023-06-09T11:58:06.661Z"
   },
   {
    "duration": 965,
    "start_time": "2023-06-09T11:58:07.766Z"
   },
   {
    "duration": 3,
    "start_time": "2023-06-09T11:58:08.732Z"
   },
   {
    "duration": 20,
    "start_time": "2023-06-09T11:58:08.737Z"
   },
   {
    "duration": 39,
    "start_time": "2023-06-09T11:58:08.759Z"
   },
   {
    "duration": 10,
    "start_time": "2023-06-09T11:58:08.799Z"
   },
   {
    "duration": 27,
    "start_time": "2023-06-09T11:58:08.810Z"
   },
   {
    "duration": 9,
    "start_time": "2023-06-09T11:58:08.838Z"
   },
   {
    "duration": 8,
    "start_time": "2023-06-09T11:58:08.848Z"
   },
   {
    "duration": 332,
    "start_time": "2023-06-09T11:58:08.859Z"
   },
   {
    "duration": 89,
    "start_time": "2023-06-09T11:58:09.192Z"
   },
   {
    "duration": 205,
    "start_time": "2023-06-09T11:58:09.282Z"
   },
   {
    "duration": 4,
    "start_time": "2023-06-09T11:58:09.488Z"
   },
   {
    "duration": 15,
    "start_time": "2023-06-09T11:58:09.493Z"
   },
   {
    "duration": 57,
    "start_time": "2023-06-09T11:58:09.509Z"
   },
   {
    "duration": 11,
    "start_time": "2023-06-09T11:58:09.567Z"
   },
   {
    "duration": 77,
    "start_time": "2023-06-09T11:58:09.579Z"
   },
   {
    "duration": 3,
    "start_time": "2023-06-09T11:58:09.658Z"
   },
   {
    "duration": 7,
    "start_time": "2023-06-09T11:58:09.662Z"
   },
   {
    "duration": 47,
    "start_time": "2023-06-09T11:58:09.671Z"
   },
   {
    "duration": 20,
    "start_time": "2023-06-09T11:58:09.719Z"
   },
   {
    "duration": 12,
    "start_time": "2023-06-09T11:58:09.741Z"
   },
   {
    "duration": 201,
    "start_time": "2023-06-09T11:58:09.754Z"
   },
   {
    "duration": 58,
    "start_time": "2023-06-09T11:58:09.956Z"
   },
   {
    "duration": 6,
    "start_time": "2023-06-09T11:58:10.016Z"
   },
   {
    "duration": 92,
    "start_time": "2023-06-09T11:58:10.023Z"
   },
   {
    "duration": 260,
    "start_time": "2023-06-09T11:58:10.117Z"
   },
   {
    "duration": 115,
    "start_time": "2023-06-09T11:58:10.380Z"
   },
   {
    "duration": 52,
    "start_time": "2023-06-09T11:58:10.497Z"
   },
   {
    "duration": 33,
    "start_time": "2023-06-09T11:58:10.550Z"
   },
   {
    "duration": 67,
    "start_time": "2023-06-09T11:58:10.585Z"
   },
   {
    "duration": 56,
    "start_time": "2023-06-09T11:58:10.654Z"
   },
   {
    "duration": 140,
    "start_time": "2023-06-09T11:58:10.711Z"
   },
   {
    "duration": 14,
    "start_time": "2023-06-09T11:58:10.852Z"
   },
   {
    "duration": 17,
    "start_time": "2023-06-09T11:58:10.868Z"
   },
   {
    "duration": 16,
    "start_time": "2023-06-09T11:58:10.886Z"
   },
   {
    "duration": 80,
    "start_time": "2023-06-09T11:58:10.903Z"
   },
   {
    "duration": 272,
    "start_time": "2023-06-09T11:58:10.985Z"
   },
   {
    "duration": 4,
    "start_time": "2023-06-09T11:58:11.259Z"
   },
   {
    "duration": 27,
    "start_time": "2023-06-09T11:58:11.264Z"
   },
   {
    "duration": 19,
    "start_time": "2023-06-09T11:58:11.293Z"
   },
   {
    "duration": 14,
    "start_time": "2023-06-09T11:58:11.313Z"
   },
   {
    "duration": 13,
    "start_time": "2023-06-09T11:58:11.328Z"
   },
   {
    "duration": 9,
    "start_time": "2023-06-09T11:58:11.342Z"
   },
   {
    "duration": 6,
    "start_time": "2023-06-09T11:58:11.353Z"
   },
   {
    "duration": 4,
    "start_time": "2023-06-09T11:58:11.360Z"
   },
   {
    "duration": 4,
    "start_time": "2023-06-09T11:58:11.366Z"
   },
   {
    "duration": 46,
    "start_time": "2023-06-09T11:58:11.371Z"
   },
   {
    "duration": 397,
    "start_time": "2023-06-09T11:58:11.419Z"
   },
   {
    "duration": 2,
    "start_time": "2023-06-09T11:58:11.818Z"
   },
   {
    "duration": 6,
    "start_time": "2023-06-09T11:58:11.821Z"
   },
   {
    "duration": 6,
    "start_time": "2023-06-09T11:58:11.828Z"
   },
   {
    "duration": 6,
    "start_time": "2023-06-09T11:58:11.836Z"
   },
   {
    "duration": 25,
    "start_time": "2023-06-09T11:58:11.843Z"
   },
   {
    "duration": 49,
    "start_time": "2023-06-09T11:58:11.870Z"
   },
   {
    "duration": 10,
    "start_time": "2023-06-09T11:58:11.921Z"
   },
   {
    "duration": 7,
    "start_time": "2023-06-09T11:58:11.932Z"
   },
   {
    "duration": 5,
    "start_time": "2023-06-09T11:58:11.940Z"
   },
   {
    "duration": 13,
    "start_time": "2023-06-09T11:58:11.946Z"
   },
   {
    "duration": 116,
    "start_time": "2023-06-09T12:01:00.151Z"
   },
   {
    "duration": 5,
    "start_time": "2023-06-09T12:01:11.391Z"
   },
   {
    "duration": 1090,
    "start_time": "2023-06-09T12:01:17.382Z"
   },
   {
    "duration": 1098,
    "start_time": "2023-06-09T12:01:18.474Z"
   },
   {
    "duration": 4,
    "start_time": "2023-06-09T12:01:19.573Z"
   },
   {
    "duration": 6,
    "start_time": "2023-06-09T12:01:19.579Z"
   },
   {
    "duration": 26,
    "start_time": "2023-06-09T12:01:19.586Z"
   },
   {
    "duration": 6,
    "start_time": "2023-06-09T12:01:19.613Z"
   },
   {
    "duration": 26,
    "start_time": "2023-06-09T12:01:19.621Z"
   },
   {
    "duration": 5,
    "start_time": "2023-06-09T12:01:19.649Z"
   },
   {
    "duration": 8,
    "start_time": "2023-06-09T12:01:19.656Z"
   },
   {
    "duration": 339,
    "start_time": "2023-06-09T12:01:19.666Z"
   },
   {
    "duration": 82,
    "start_time": "2023-06-09T12:01:20.007Z"
   },
   {
    "duration": 200,
    "start_time": "2023-06-09T12:01:20.091Z"
   },
   {
    "duration": 3,
    "start_time": "2023-06-09T12:01:20.293Z"
   },
   {
    "duration": 4,
    "start_time": "2023-06-09T12:01:20.305Z"
   },
   {
    "duration": 65,
    "start_time": "2023-06-09T12:01:20.310Z"
   },
   {
    "duration": 10,
    "start_time": "2023-06-09T12:01:20.376Z"
   },
   {
    "duration": 77,
    "start_time": "2023-06-09T12:01:20.388Z"
   },
   {
    "duration": 4,
    "start_time": "2023-06-09T12:01:20.466Z"
   },
   {
    "duration": 17,
    "start_time": "2023-06-09T12:01:20.471Z"
   },
   {
    "duration": 30,
    "start_time": "2023-06-09T12:01:20.489Z"
   },
   {
    "duration": 19,
    "start_time": "2023-06-09T12:01:20.520Z"
   },
   {
    "duration": 3,
    "start_time": "2023-06-09T12:01:20.540Z"
   },
   {
    "duration": 222,
    "start_time": "2023-06-09T12:01:20.544Z"
   },
   {
    "duration": 57,
    "start_time": "2023-06-09T12:01:20.767Z"
   },
   {
    "duration": 6,
    "start_time": "2023-06-09T12:01:20.825Z"
   },
   {
    "duration": 86,
    "start_time": "2023-06-09T12:01:20.832Z"
   },
   {
    "duration": 265,
    "start_time": "2023-06-09T12:01:20.919Z"
   },
   {
    "duration": 120,
    "start_time": "2023-06-09T12:01:21.186Z"
   },
   {
    "duration": 48,
    "start_time": "2023-06-09T12:01:21.307Z"
   },
   {
    "duration": 33,
    "start_time": "2023-06-09T12:01:21.357Z"
   },
   {
    "duration": 53,
    "start_time": "2023-06-09T12:01:21.406Z"
   },
   {
    "duration": 55,
    "start_time": "2023-06-09T12:01:21.460Z"
   },
   {
    "duration": 133,
    "start_time": "2023-06-09T12:01:21.517Z"
   },
   {
    "duration": 14,
    "start_time": "2023-06-09T12:01:21.651Z"
   },
   {
    "duration": 13,
    "start_time": "2023-06-09T12:01:21.667Z"
   },
   {
    "duration": 5,
    "start_time": "2023-06-09T12:01:21.681Z"
   },
   {
    "duration": 99,
    "start_time": "2023-06-09T12:01:21.687Z"
   },
   {
    "duration": 286,
    "start_time": "2023-06-09T12:01:21.787Z"
   },
   {
    "duration": 4,
    "start_time": "2023-06-09T12:01:22.074Z"
   },
   {
    "duration": 14,
    "start_time": "2023-06-09T12:01:22.080Z"
   },
   {
    "duration": 20,
    "start_time": "2023-06-09T12:01:22.108Z"
   },
   {
    "duration": 14,
    "start_time": "2023-06-09T12:01:22.129Z"
   },
   {
    "duration": 13,
    "start_time": "2023-06-09T12:01:22.145Z"
   },
   {
    "duration": 9,
    "start_time": "2023-06-09T12:01:22.159Z"
   },
   {
    "duration": 8,
    "start_time": "2023-06-09T12:01:22.169Z"
   },
   {
    "duration": 31,
    "start_time": "2023-06-09T12:01:22.178Z"
   },
   {
    "duration": 15,
    "start_time": "2023-06-09T12:01:22.210Z"
   },
   {
    "duration": 27,
    "start_time": "2023-06-09T12:01:22.226Z"
   },
   {
    "duration": 602,
    "start_time": "2023-06-09T12:01:22.255Z"
   },
   {
    "duration": 2,
    "start_time": "2023-06-09T12:01:22.858Z"
   },
   {
    "duration": 4,
    "start_time": "2023-06-09T12:01:22.862Z"
   },
   {
    "duration": 4,
    "start_time": "2023-06-09T12:01:22.868Z"
   },
   {
    "duration": 7,
    "start_time": "2023-06-09T12:01:22.873Z"
   },
   {
    "duration": 26,
    "start_time": "2023-06-09T12:01:22.881Z"
   },
   {
    "duration": 21,
    "start_time": "2023-06-09T12:01:22.909Z"
   },
   {
    "duration": 10,
    "start_time": "2023-06-09T12:01:22.931Z"
   },
   {
    "duration": 8,
    "start_time": "2023-06-09T12:01:22.943Z"
   },
   {
    "duration": 5,
    "start_time": "2023-06-09T12:01:22.953Z"
   },
   {
    "duration": 10,
    "start_time": "2023-06-09T12:01:23.006Z"
   },
   {
    "duration": 15,
    "start_time": "2023-06-09T12:04:21.553Z"
   },
   {
    "duration": 149,
    "start_time": "2023-06-09T12:04:45.221Z"
   },
   {
    "duration": 12,
    "start_time": "2023-06-09T12:06:20.181Z"
   },
   {
    "duration": 16,
    "start_time": "2023-06-09T12:06:26.621Z"
   },
   {
    "duration": 62,
    "start_time": "2023-06-09T12:07:25.830Z"
   },
   {
    "duration": 10,
    "start_time": "2023-06-09T12:08:02.091Z"
   },
   {
    "duration": 15,
    "start_time": "2023-06-09T12:08:08.400Z"
   },
   {
    "duration": 144,
    "start_time": "2023-06-09T12:10:10.980Z"
   },
   {
    "duration": 129,
    "start_time": "2023-06-09T12:11:04.200Z"
   },
   {
    "duration": 118,
    "start_time": "2023-06-09T12:11:08.440Z"
   },
   {
    "duration": 241,
    "start_time": "2023-06-09T12:15:22.800Z"
   },
   {
    "duration": 144,
    "start_time": "2023-06-09T12:20:37.447Z"
   },
   {
    "duration": 148,
    "start_time": "2023-06-09T12:21:08.389Z"
   },
   {
    "duration": 141,
    "start_time": "2023-06-09T12:21:14.857Z"
   },
   {
    "duration": 170,
    "start_time": "2023-06-09T12:21:21.097Z"
   },
   {
    "duration": 241,
    "start_time": "2023-06-09T12:21:31.322Z"
   },
   {
    "duration": 170,
    "start_time": "2023-06-09T12:21:50.348Z"
   },
   {
    "duration": 122,
    "start_time": "2023-06-09T12:23:20.139Z"
   },
   {
    "duration": 130,
    "start_time": "2023-06-09T12:24:17.797Z"
   },
   {
    "duration": 126,
    "start_time": "2023-06-09T12:24:27.557Z"
   },
   {
    "duration": 118,
    "start_time": "2023-06-09T12:25:21.307Z"
   },
   {
    "duration": 25,
    "start_time": "2023-06-09T12:34:22.484Z"
   },
   {
    "duration": 11,
    "start_time": "2023-06-09T12:35:59.644Z"
   },
   {
    "duration": 1175,
    "start_time": "2023-06-09T12:36:42.434Z"
   },
   {
    "duration": 1033,
    "start_time": "2023-06-09T12:36:43.611Z"
   },
   {
    "duration": 5,
    "start_time": "2023-06-09T12:36:44.646Z"
   },
   {
    "duration": 7,
    "start_time": "2023-06-09T12:36:44.653Z"
   },
   {
    "duration": 25,
    "start_time": "2023-06-09T12:36:44.661Z"
   },
   {
    "duration": 7,
    "start_time": "2023-06-09T12:36:44.687Z"
   },
   {
    "duration": 19,
    "start_time": "2023-06-09T12:36:44.696Z"
   },
   {
    "duration": 12,
    "start_time": "2023-06-09T12:36:44.716Z"
   },
   {
    "duration": 10,
    "start_time": "2023-06-09T12:36:44.729Z"
   },
   {
    "duration": 421,
    "start_time": "2023-06-09T12:36:44.741Z"
   },
   {
    "duration": 108,
    "start_time": "2023-06-09T12:36:45.164Z"
   },
   {
    "duration": 260,
    "start_time": "2023-06-09T12:36:45.274Z"
   },
   {
    "duration": 4,
    "start_time": "2023-06-09T12:36:45.536Z"
   },
   {
    "duration": 21,
    "start_time": "2023-06-09T12:36:45.542Z"
   },
   {
    "duration": 106,
    "start_time": "2023-06-09T12:36:45.565Z"
   },
   {
    "duration": 14,
    "start_time": "2023-06-09T12:36:45.673Z"
   },
   {
    "duration": 82,
    "start_time": "2023-06-09T12:36:45.688Z"
   },
   {
    "duration": 4,
    "start_time": "2023-06-09T12:36:45.772Z"
   },
   {
    "duration": 35,
    "start_time": "2023-06-09T12:36:45.777Z"
   },
   {
    "duration": 56,
    "start_time": "2023-06-09T12:36:45.817Z"
   },
   {
    "duration": 38,
    "start_time": "2023-06-09T12:36:45.875Z"
   },
   {
    "duration": 8,
    "start_time": "2023-06-09T12:36:45.916Z"
   },
   {
    "duration": 241,
    "start_time": "2023-06-09T12:36:45.926Z"
   },
   {
    "duration": 75,
    "start_time": "2023-06-09T12:36:46.169Z"
   },
   {
    "duration": 8,
    "start_time": "2023-06-09T12:36:46.246Z"
   },
   {
    "duration": 121,
    "start_time": "2023-06-09T12:36:46.256Z"
   },
   {
    "duration": 323,
    "start_time": "2023-06-09T12:36:46.379Z"
   },
   {
    "duration": 157,
    "start_time": "2023-06-09T12:36:46.706Z"
   },
   {
    "duration": 71,
    "start_time": "2023-06-09T12:36:46.865Z"
   },
   {
    "duration": 37,
    "start_time": "2023-06-09T12:36:46.938Z"
   },
   {
    "duration": 79,
    "start_time": "2023-06-09T12:36:46.976Z"
   },
   {
    "duration": 76,
    "start_time": "2023-06-09T12:36:47.057Z"
   },
   {
    "duration": 158,
    "start_time": "2023-06-09T12:36:47.135Z"
   },
   {
    "duration": 31,
    "start_time": "2023-06-09T12:36:47.295Z"
   },
   {
    "duration": 17,
    "start_time": "2023-06-09T12:36:47.328Z"
   },
   {
    "duration": 7,
    "start_time": "2023-06-09T12:36:47.347Z"
   },
   {
    "duration": 137,
    "start_time": "2023-06-09T12:36:47.356Z"
   },
   {
    "duration": 340,
    "start_time": "2023-06-09T12:36:47.495Z"
   },
   {
    "duration": 5,
    "start_time": "2023-06-09T12:36:47.848Z"
   },
   {
    "duration": 18,
    "start_time": "2023-06-09T12:36:47.854Z"
   },
   {
    "duration": 27,
    "start_time": "2023-06-09T12:36:47.874Z"
   },
   {
    "duration": 21,
    "start_time": "2023-06-09T12:36:47.903Z"
   },
   {
    "duration": 16,
    "start_time": "2023-06-09T12:36:47.931Z"
   },
   {
    "duration": 14,
    "start_time": "2023-06-09T12:36:47.949Z"
   },
   {
    "duration": 8,
    "start_time": "2023-06-09T12:36:47.965Z"
   },
   {
    "duration": 10,
    "start_time": "2023-06-09T12:36:47.974Z"
   },
   {
    "duration": 6,
    "start_time": "2023-06-09T12:36:47.986Z"
   },
   {
    "duration": 32,
    "start_time": "2023-06-09T12:36:47.994Z"
   },
   {
    "duration": 189,
    "start_time": "2023-06-09T12:36:48.028Z"
   },
   {
    "duration": 12,
    "start_time": "2023-06-09T12:36:48.224Z"
   },
   {
    "duration": 0,
    "start_time": "2023-06-09T12:36:48.238Z"
   },
   {
    "duration": 0,
    "start_time": "2023-06-09T12:36:48.240Z"
   },
   {
    "duration": 0,
    "start_time": "2023-06-09T12:36:48.241Z"
   },
   {
    "duration": 0,
    "start_time": "2023-06-09T12:36:48.242Z"
   },
   {
    "duration": 0,
    "start_time": "2023-06-09T12:36:48.244Z"
   },
   {
    "duration": 0,
    "start_time": "2023-06-09T12:36:48.245Z"
   },
   {
    "duration": 0,
    "start_time": "2023-06-09T12:36:48.247Z"
   },
   {
    "duration": 0,
    "start_time": "2023-06-09T12:36:48.248Z"
   },
   {
    "duration": 0,
    "start_time": "2023-06-09T12:36:48.249Z"
   },
   {
    "duration": 0,
    "start_time": "2023-06-09T12:36:48.250Z"
   },
   {
    "duration": 1,
    "start_time": "2023-06-09T12:36:48.251Z"
   },
   {
    "duration": 10,
    "start_time": "2023-06-09T12:42:48.480Z"
   },
   {
    "duration": 2030,
    "start_time": "2023-06-09T12:44:35.402Z"
   },
   {
    "duration": 11,
    "start_time": "2023-06-09T12:46:34.152Z"
   },
   {
    "duration": 7,
    "start_time": "2023-06-09T12:48:19.991Z"
   },
   {
    "duration": 1212,
    "start_time": "2023-06-09T12:48:43.882Z"
   },
   {
    "duration": 1648,
    "start_time": "2023-06-09T12:48:45.095Z"
   },
   {
    "duration": 5,
    "start_time": "2023-06-09T12:48:46.744Z"
   },
   {
    "duration": 12,
    "start_time": "2023-06-09T12:48:46.751Z"
   },
   {
    "duration": 27,
    "start_time": "2023-06-09T12:48:46.765Z"
   },
   {
    "duration": 7,
    "start_time": "2023-06-09T12:48:46.794Z"
   },
   {
    "duration": 24,
    "start_time": "2023-06-09T12:48:46.802Z"
   },
   {
    "duration": 8,
    "start_time": "2023-06-09T12:48:46.827Z"
   },
   {
    "duration": 20,
    "start_time": "2023-06-09T12:48:46.836Z"
   },
   {
    "duration": 365,
    "start_time": "2023-06-09T12:48:46.857Z"
   },
   {
    "duration": 95,
    "start_time": "2023-06-09T12:48:47.224Z"
   },
   {
    "duration": 219,
    "start_time": "2023-06-09T12:48:47.323Z"
   },
   {
    "duration": 4,
    "start_time": "2023-06-09T12:48:47.544Z"
   },
   {
    "duration": 17,
    "start_time": "2023-06-09T12:48:47.552Z"
   },
   {
    "duration": 71,
    "start_time": "2023-06-09T12:48:47.570Z"
   },
   {
    "duration": 10,
    "start_time": "2023-06-09T12:48:47.643Z"
   },
   {
    "duration": 80,
    "start_time": "2023-06-09T12:48:47.655Z"
   },
   {
    "duration": 3,
    "start_time": "2023-06-09T12:48:47.736Z"
   },
   {
    "duration": 17,
    "start_time": "2023-06-09T12:48:47.741Z"
   },
   {
    "duration": 36,
    "start_time": "2023-06-09T12:48:47.760Z"
   },
   {
    "duration": 25,
    "start_time": "2023-06-09T12:48:47.808Z"
   },
   {
    "duration": 3,
    "start_time": "2023-06-09T12:48:47.834Z"
   },
   {
    "duration": 219,
    "start_time": "2023-06-09T12:48:47.839Z"
   },
   {
    "duration": 71,
    "start_time": "2023-06-09T12:48:48.060Z"
   },
   {
    "duration": 7,
    "start_time": "2023-06-09T12:48:48.132Z"
   },
   {
    "duration": 102,
    "start_time": "2023-06-09T12:48:48.141Z"
   },
   {
    "duration": 272,
    "start_time": "2023-06-09T12:48:48.245Z"
   },
   {
    "duration": 127,
    "start_time": "2023-06-09T12:48:48.518Z"
   },
   {
    "duration": 47,
    "start_time": "2023-06-09T12:48:48.646Z"
   },
   {
    "duration": 46,
    "start_time": "2023-06-09T12:48:48.695Z"
   },
   {
    "duration": 72,
    "start_time": "2023-06-09T12:48:48.742Z"
   },
   {
    "duration": 53,
    "start_time": "2023-06-09T12:48:48.816Z"
   },
   {
    "duration": 139,
    "start_time": "2023-06-09T12:48:48.871Z"
   },
   {
    "duration": 17,
    "start_time": "2023-06-09T12:48:49.011Z"
   },
   {
    "duration": 18,
    "start_time": "2023-06-09T12:48:49.030Z"
   },
   {
    "duration": 4,
    "start_time": "2023-06-09T12:48:49.050Z"
   },
   {
    "duration": 104,
    "start_time": "2023-06-09T12:48:49.056Z"
   },
   {
    "duration": 297,
    "start_time": "2023-06-09T12:48:49.162Z"
   },
   {
    "duration": 5,
    "start_time": "2023-06-09T12:48:49.461Z"
   },
   {
    "duration": 17,
    "start_time": "2023-06-09T12:48:49.468Z"
   },
   {
    "duration": 48,
    "start_time": "2023-06-09T12:48:49.489Z"
   },
   {
    "duration": 15,
    "start_time": "2023-06-09T12:48:49.539Z"
   },
   {
    "duration": 17,
    "start_time": "2023-06-09T12:48:49.556Z"
   },
   {
    "duration": 10,
    "start_time": "2023-06-09T12:48:49.574Z"
   },
   {
    "duration": 30,
    "start_time": "2023-06-09T12:48:49.586Z"
   },
   {
    "duration": 5,
    "start_time": "2023-06-09T12:48:49.620Z"
   },
   {
    "duration": 6,
    "start_time": "2023-06-09T12:48:49.627Z"
   },
   {
    "duration": 14,
    "start_time": "2023-06-09T12:48:49.634Z"
   },
   {
    "duration": 132,
    "start_time": "2023-06-09T12:48:49.650Z"
   },
   {
    "duration": 8,
    "start_time": "2023-06-09T12:48:49.783Z"
   },
   {
    "duration": 17,
    "start_time": "2023-06-09T12:48:49.792Z"
   },
   {
    "duration": 448,
    "start_time": "2023-06-09T12:48:49.814Z"
   },
   {
    "duration": 2,
    "start_time": "2023-06-09T12:48:50.263Z"
   },
   {
    "duration": 11,
    "start_time": "2023-06-09T12:48:50.267Z"
   },
   {
    "duration": 16,
    "start_time": "2023-06-09T12:48:50.279Z"
   },
   {
    "duration": 15,
    "start_time": "2023-06-09T12:48:50.296Z"
   },
   {
    "duration": 41,
    "start_time": "2023-06-09T12:48:50.314Z"
   },
   {
    "duration": 36,
    "start_time": "2023-06-09T12:48:50.356Z"
   },
   {
    "duration": 11,
    "start_time": "2023-06-09T12:48:50.393Z"
   },
   {
    "duration": 32,
    "start_time": "2023-06-09T12:48:50.405Z"
   },
   {
    "duration": 27,
    "start_time": "2023-06-09T12:48:50.439Z"
   },
   {
    "duration": 42,
    "start_time": "2023-06-09T12:48:50.468Z"
   },
   {
    "duration": 22,
    "start_time": "2023-06-09T12:50:12.478Z"
   },
   {
    "duration": 116,
    "start_time": "2023-06-09T12:50:16.277Z"
   },
   {
    "duration": 2329,
    "start_time": "2023-06-09T12:57:30.473Z"
   },
   {
    "duration": 5,
    "start_time": "2023-06-09T12:58:04.023Z"
   },
   {
    "duration": 9,
    "start_time": "2023-06-09T13:00:07.124Z"
   },
   {
    "duration": 8,
    "start_time": "2023-06-09T13:02:50.728Z"
   },
   {
    "duration": 13,
    "start_time": "2023-06-09T13:16:08.146Z"
   },
   {
    "duration": 9,
    "start_time": "2023-06-09T13:16:15.276Z"
   },
   {
    "duration": 12,
    "start_time": "2023-06-09T13:19:08.885Z"
   },
   {
    "duration": 263,
    "start_time": "2023-06-09T13:19:19.785Z"
   },
   {
    "duration": 320,
    "start_time": "2023-06-09T13:20:16.165Z"
   },
   {
    "duration": 110,
    "start_time": "2023-06-09T13:21:32.745Z"
   },
   {
    "duration": 343,
    "start_time": "2023-06-09T13:21:35.984Z"
   },
   {
    "duration": 286,
    "start_time": "2023-06-09T13:23:24.874Z"
   },
   {
    "duration": 282,
    "start_time": "2023-06-09T13:24:06.584Z"
   },
   {
    "duration": 309,
    "start_time": "2023-06-09T13:24:45.584Z"
   },
   {
    "duration": 1193,
    "start_time": "2023-06-09T13:57:15.309Z"
   },
   {
    "duration": 1183,
    "start_time": "2023-06-09T13:57:16.504Z"
   },
   {
    "duration": 5,
    "start_time": "2023-06-09T13:57:17.688Z"
   },
   {
    "duration": 11,
    "start_time": "2023-06-09T13:57:17.694Z"
   },
   {
    "duration": 44,
    "start_time": "2023-06-09T13:57:17.708Z"
   },
   {
    "duration": 8,
    "start_time": "2023-06-09T13:57:17.756Z"
   },
   {
    "duration": 13,
    "start_time": "2023-06-09T13:57:17.766Z"
   },
   {
    "duration": 8,
    "start_time": "2023-06-09T13:57:17.780Z"
   },
   {
    "duration": 6,
    "start_time": "2023-06-09T13:57:17.805Z"
   },
   {
    "duration": 381,
    "start_time": "2023-06-09T13:57:17.812Z"
   },
   {
    "duration": 99,
    "start_time": "2023-06-09T13:57:18.194Z"
   },
   {
    "duration": 243,
    "start_time": "2023-06-09T13:57:18.295Z"
   },
   {
    "duration": 4,
    "start_time": "2023-06-09T13:57:18.541Z"
   },
   {
    "duration": 23,
    "start_time": "2023-06-09T13:57:18.548Z"
   },
   {
    "duration": 78,
    "start_time": "2023-06-09T13:57:18.572Z"
   },
   {
    "duration": 18,
    "start_time": "2023-06-09T13:57:18.652Z"
   },
   {
    "duration": 101,
    "start_time": "2023-06-09T13:57:18.672Z"
   },
   {
    "duration": 4,
    "start_time": "2023-06-09T13:57:18.775Z"
   },
   {
    "duration": 13,
    "start_time": "2023-06-09T13:57:18.780Z"
   },
   {
    "duration": 50,
    "start_time": "2023-06-09T13:57:18.795Z"
   },
   {
    "duration": 24,
    "start_time": "2023-06-09T13:57:18.846Z"
   },
   {
    "duration": 4,
    "start_time": "2023-06-09T13:57:18.872Z"
   },
   {
    "duration": 251,
    "start_time": "2023-06-09T13:57:18.878Z"
   },
   {
    "duration": 53,
    "start_time": "2023-06-09T13:57:19.131Z"
   },
   {
    "duration": 25,
    "start_time": "2023-06-09T13:57:19.186Z"
   },
   {
    "duration": 86,
    "start_time": "2023-06-09T13:57:19.216Z"
   },
   {
    "duration": 284,
    "start_time": "2023-06-09T13:57:19.306Z"
   },
   {
    "duration": 133,
    "start_time": "2023-06-09T13:57:19.593Z"
   },
   {
    "duration": 58,
    "start_time": "2023-06-09T13:57:19.728Z"
   },
   {
    "duration": 60,
    "start_time": "2023-06-09T13:57:19.787Z"
   },
   {
    "duration": 51,
    "start_time": "2023-06-09T13:57:19.848Z"
   },
   {
    "duration": 70,
    "start_time": "2023-06-09T13:57:19.907Z"
   },
   {
    "duration": 156,
    "start_time": "2023-06-09T13:57:19.979Z"
   },
   {
    "duration": 14,
    "start_time": "2023-06-09T13:57:20.137Z"
   },
   {
    "duration": 10,
    "start_time": "2023-06-09T13:57:20.153Z"
   },
   {
    "duration": 5,
    "start_time": "2023-06-09T13:57:20.165Z"
   },
   {
    "duration": 109,
    "start_time": "2023-06-09T13:57:20.171Z"
   },
   {
    "duration": 333,
    "start_time": "2023-06-09T13:57:20.281Z"
   },
   {
    "duration": 9,
    "start_time": "2023-06-09T13:57:20.615Z"
   },
   {
    "duration": 33,
    "start_time": "2023-06-09T13:57:20.628Z"
   },
   {
    "duration": 21,
    "start_time": "2023-06-09T13:57:20.665Z"
   },
   {
    "duration": 15,
    "start_time": "2023-06-09T13:57:20.688Z"
   },
   {
    "duration": 28,
    "start_time": "2023-06-09T13:57:20.705Z"
   },
   {
    "duration": 86,
    "start_time": "2023-06-09T13:57:20.740Z"
   },
   {
    "duration": 20,
    "start_time": "2023-06-09T13:57:20.827Z"
   },
   {
    "duration": 33,
    "start_time": "2023-06-09T13:57:20.848Z"
   },
   {
    "duration": 13,
    "start_time": "2023-06-09T13:57:20.883Z"
   },
   {
    "duration": 27,
    "start_time": "2023-06-09T13:57:20.897Z"
   },
   {
    "duration": 120,
    "start_time": "2023-06-09T13:57:20.925Z"
   },
   {
    "duration": 429,
    "start_time": "2023-06-09T13:57:21.046Z"
   },
   {
    "duration": 10,
    "start_time": "2023-06-09T13:57:21.477Z"
   },
   {
    "duration": 369,
    "start_time": "2023-06-09T13:57:21.489Z"
   },
   {
    "duration": 3,
    "start_time": "2023-06-09T13:57:21.859Z"
   },
   {
    "duration": 11,
    "start_time": "2023-06-09T13:57:21.863Z"
   },
   {
    "duration": 9,
    "start_time": "2023-06-09T13:57:21.876Z"
   },
   {
    "duration": 8,
    "start_time": "2023-06-09T13:57:21.886Z"
   },
   {
    "duration": 21,
    "start_time": "2023-06-09T13:57:21.896Z"
   },
   {
    "duration": 25,
    "start_time": "2023-06-09T13:57:21.924Z"
   },
   {
    "duration": 12,
    "start_time": "2023-06-09T13:57:21.951Z"
   },
   {
    "duration": 22,
    "start_time": "2023-06-09T13:57:21.964Z"
   },
   {
    "duration": 11,
    "start_time": "2023-06-09T13:57:21.988Z"
   },
   {
    "duration": 47,
    "start_time": "2023-06-09T13:57:22.000Z"
   },
   {
    "duration": 64,
    "start_time": "2023-06-09T14:08:47.444Z"
   },
   {
    "duration": 14,
    "start_time": "2023-06-09T14:08:52.874Z"
   },
   {
    "duration": 10,
    "start_time": "2023-06-09T14:09:04.083Z"
   },
   {
    "duration": 13,
    "start_time": "2023-06-09T14:09:37.884Z"
   },
   {
    "duration": 18,
    "start_time": "2023-06-09T14:09:53.633Z"
   },
   {
    "duration": 110,
    "start_time": "2023-06-09T14:10:45.744Z"
   },
   {
    "duration": 21,
    "start_time": "2023-06-09T14:10:52.373Z"
   },
   {
    "duration": 13,
    "start_time": "2023-06-09T14:13:42.133Z"
   },
   {
    "duration": 7,
    "start_time": "2023-06-09T14:15:23.222Z"
   },
   {
    "duration": 1187,
    "start_time": "2023-06-09T14:43:26.087Z"
   },
   {
    "duration": 1388,
    "start_time": "2023-06-09T14:43:27.276Z"
   },
   {
    "duration": 4,
    "start_time": "2023-06-09T14:43:28.665Z"
   },
   {
    "duration": 8,
    "start_time": "2023-06-09T14:43:28.670Z"
   },
   {
    "duration": 38,
    "start_time": "2023-06-09T14:43:28.681Z"
   },
   {
    "duration": 10,
    "start_time": "2023-06-09T14:43:28.722Z"
   },
   {
    "duration": 15,
    "start_time": "2023-06-09T14:43:28.734Z"
   },
   {
    "duration": 21,
    "start_time": "2023-06-09T14:43:28.751Z"
   },
   {
    "duration": 14,
    "start_time": "2023-06-09T14:43:28.774Z"
   },
   {
    "duration": 377,
    "start_time": "2023-06-09T14:43:28.789Z"
   },
   {
    "duration": 93,
    "start_time": "2023-06-09T14:43:29.168Z"
   },
   {
    "duration": 214,
    "start_time": "2023-06-09T14:43:29.262Z"
   },
   {
    "duration": 3,
    "start_time": "2023-06-09T14:43:29.477Z"
   },
   {
    "duration": 26,
    "start_time": "2023-06-09T14:43:29.483Z"
   },
   {
    "duration": 69,
    "start_time": "2023-06-09T14:43:29.510Z"
   },
   {
    "duration": 30,
    "start_time": "2023-06-09T14:43:29.581Z"
   },
   {
    "duration": 65,
    "start_time": "2023-06-09T14:43:29.617Z"
   },
   {
    "duration": 5,
    "start_time": "2023-06-09T14:43:29.683Z"
   },
   {
    "duration": 22,
    "start_time": "2023-06-09T14:43:29.689Z"
   },
   {
    "duration": 51,
    "start_time": "2023-06-09T14:43:29.712Z"
   },
   {
    "duration": 21,
    "start_time": "2023-06-09T14:43:29.765Z"
   },
   {
    "duration": 24,
    "start_time": "2023-06-09T14:43:29.788Z"
   },
   {
    "duration": 209,
    "start_time": "2023-06-09T14:43:29.814Z"
   },
   {
    "duration": 53,
    "start_time": "2023-06-09T14:43:30.025Z"
   },
   {
    "duration": 35,
    "start_time": "2023-06-09T14:43:30.080Z"
   },
   {
    "duration": 134,
    "start_time": "2023-06-09T14:43:30.120Z"
   },
   {
    "duration": 267,
    "start_time": "2023-06-09T14:43:30.255Z"
   },
   {
    "duration": 122,
    "start_time": "2023-06-09T14:43:30.524Z"
   },
   {
    "duration": 45,
    "start_time": "2023-06-09T14:43:30.647Z"
   },
   {
    "duration": 43,
    "start_time": "2023-06-09T14:43:30.694Z"
   },
   {
    "duration": 74,
    "start_time": "2023-06-09T14:43:30.739Z"
   },
   {
    "duration": 56,
    "start_time": "2023-06-09T14:43:30.814Z"
   },
   {
    "duration": 141,
    "start_time": "2023-06-09T14:43:30.871Z"
   },
   {
    "duration": 16,
    "start_time": "2023-06-09T14:43:31.015Z"
   },
   {
    "duration": 34,
    "start_time": "2023-06-09T14:43:31.032Z"
   },
   {
    "duration": 29,
    "start_time": "2023-06-09T14:43:31.067Z"
   },
   {
    "duration": 130,
    "start_time": "2023-06-09T14:43:31.098Z"
   },
   {
    "duration": 306,
    "start_time": "2023-06-09T14:43:31.229Z"
   },
   {
    "duration": 3,
    "start_time": "2023-06-09T14:43:31.537Z"
   },
   {
    "duration": 42,
    "start_time": "2023-06-09T14:43:31.542Z"
   },
   {
    "duration": 60,
    "start_time": "2023-06-09T14:43:31.588Z"
   },
   {
    "duration": 30,
    "start_time": "2023-06-09T14:43:31.651Z"
   },
   {
    "duration": 45,
    "start_time": "2023-06-09T14:43:31.682Z"
   },
   {
    "duration": 45,
    "start_time": "2023-06-09T14:43:31.729Z"
   },
   {
    "duration": 16,
    "start_time": "2023-06-09T14:43:31.776Z"
   },
   {
    "duration": 42,
    "start_time": "2023-06-09T14:43:31.794Z"
   },
   {
    "duration": 34,
    "start_time": "2023-06-09T14:43:31.838Z"
   },
   {
    "duration": 31,
    "start_time": "2023-06-09T14:43:31.873Z"
   },
   {
    "duration": 154,
    "start_time": "2023-06-09T14:43:31.906Z"
   },
   {
    "duration": 13,
    "start_time": "2023-06-09T14:43:32.062Z"
   },
   {
    "duration": 50,
    "start_time": "2023-06-09T14:43:32.076Z"
   },
   {
    "duration": 572,
    "start_time": "2023-06-09T14:43:32.127Z"
   },
   {
    "duration": 10,
    "start_time": "2023-06-09T14:43:32.701Z"
   },
   {
    "duration": 372,
    "start_time": "2023-06-09T14:43:32.712Z"
   },
   {
    "duration": 3,
    "start_time": "2023-06-09T14:43:33.085Z"
   },
   {
    "duration": 13,
    "start_time": "2023-06-09T14:43:33.089Z"
   },
   {
    "duration": 16,
    "start_time": "2023-06-09T14:43:33.103Z"
   },
   {
    "duration": 6,
    "start_time": "2023-06-09T14:43:33.123Z"
   },
   {
    "duration": 22,
    "start_time": "2023-06-09T14:43:33.130Z"
   },
   {
    "duration": 30,
    "start_time": "2023-06-09T14:43:33.153Z"
   },
   {
    "duration": 11,
    "start_time": "2023-06-09T14:43:33.185Z"
   },
   {
    "duration": 21,
    "start_time": "2023-06-09T14:43:33.197Z"
   },
   {
    "duration": 6,
    "start_time": "2023-06-09T14:43:33.220Z"
   },
   {
    "duration": 29,
    "start_time": "2023-06-09T14:43:33.227Z"
   },
   {
    "duration": 1170,
    "start_time": "2023-06-09T14:46:38.327Z"
   },
   {
    "duration": 1081,
    "start_time": "2023-06-09T14:46:39.499Z"
   },
   {
    "duration": 4,
    "start_time": "2023-06-09T14:46:40.581Z"
   },
   {
    "duration": 12,
    "start_time": "2023-06-09T14:46:40.587Z"
   },
   {
    "duration": 33,
    "start_time": "2023-06-09T14:46:40.601Z"
   },
   {
    "duration": 7,
    "start_time": "2023-06-09T14:46:40.635Z"
   },
   {
    "duration": 9,
    "start_time": "2023-06-09T14:46:40.643Z"
   },
   {
    "duration": 4,
    "start_time": "2023-06-09T14:46:40.653Z"
   },
   {
    "duration": 5,
    "start_time": "2023-06-09T14:46:40.658Z"
   },
   {
    "duration": 374,
    "start_time": "2023-06-09T14:46:40.666Z"
   },
   {
    "duration": 89,
    "start_time": "2023-06-09T14:46:41.041Z"
   },
   {
    "duration": 227,
    "start_time": "2023-06-09T14:46:41.131Z"
   },
   {
    "duration": 4,
    "start_time": "2023-06-09T14:46:41.359Z"
   },
   {
    "duration": 9,
    "start_time": "2023-06-09T14:46:41.364Z"
   },
   {
    "duration": 77,
    "start_time": "2023-06-09T14:46:41.375Z"
   },
   {
    "duration": 12,
    "start_time": "2023-06-09T14:46:41.453Z"
   },
   {
    "duration": 73,
    "start_time": "2023-06-09T14:46:41.467Z"
   },
   {
    "duration": 4,
    "start_time": "2023-06-09T14:46:41.542Z"
   },
   {
    "duration": 33,
    "start_time": "2023-06-09T14:46:41.548Z"
   },
   {
    "duration": 68,
    "start_time": "2023-06-09T14:46:41.583Z"
   },
   {
    "duration": 22,
    "start_time": "2023-06-09T14:46:41.652Z"
   },
   {
    "duration": 6,
    "start_time": "2023-06-09T14:46:41.676Z"
   },
   {
    "duration": 251,
    "start_time": "2023-06-09T14:46:41.684Z"
   },
   {
    "duration": 56,
    "start_time": "2023-06-09T14:46:41.937Z"
   },
   {
    "duration": 25,
    "start_time": "2023-06-09T14:46:41.995Z"
   },
   {
    "duration": 105,
    "start_time": "2023-06-09T14:46:42.022Z"
   },
   {
    "duration": 295,
    "start_time": "2023-06-09T14:46:42.128Z"
   },
   {
    "duration": 141,
    "start_time": "2023-06-09T14:46:42.427Z"
   },
   {
    "duration": 97,
    "start_time": "2023-06-09T14:46:42.570Z"
   },
   {
    "duration": 54,
    "start_time": "2023-06-09T14:46:42.669Z"
   },
   {
    "duration": 55,
    "start_time": "2023-06-09T14:46:42.725Z"
   },
   {
    "duration": 76,
    "start_time": "2023-06-09T14:46:42.781Z"
   },
   {
    "duration": 176,
    "start_time": "2023-06-09T14:46:42.859Z"
   },
   {
    "duration": 16,
    "start_time": "2023-06-09T14:46:43.036Z"
   },
   {
    "duration": 9,
    "start_time": "2023-06-09T14:46:43.054Z"
   },
   {
    "duration": 4,
    "start_time": "2023-06-09T14:46:43.065Z"
   },
   {
    "duration": 113,
    "start_time": "2023-06-09T14:46:43.070Z"
   },
   {
    "duration": 340,
    "start_time": "2023-06-09T14:46:43.185Z"
   },
   {
    "duration": 4,
    "start_time": "2023-06-09T14:46:43.527Z"
   },
   {
    "duration": 51,
    "start_time": "2023-06-09T14:46:43.532Z"
   },
   {
    "duration": 43,
    "start_time": "2023-06-09T14:46:43.585Z"
   },
   {
    "duration": 17,
    "start_time": "2023-06-09T14:46:43.630Z"
   },
   {
    "duration": 38,
    "start_time": "2023-06-09T14:46:43.649Z"
   },
   {
    "duration": 8,
    "start_time": "2023-06-09T14:46:43.689Z"
   },
   {
    "duration": 40,
    "start_time": "2023-06-09T14:46:43.699Z"
   },
   {
    "duration": 34,
    "start_time": "2023-06-09T14:46:43.741Z"
   },
   {
    "duration": 16,
    "start_time": "2023-06-09T14:46:43.776Z"
   },
   {
    "duration": 26,
    "start_time": "2023-06-09T14:46:43.793Z"
   },
   {
    "duration": 149,
    "start_time": "2023-06-09T14:46:43.820Z"
   },
   {
    "duration": 14,
    "start_time": "2023-06-09T14:46:43.970Z"
   },
   {
    "duration": 6,
    "start_time": "2023-06-09T14:46:43.986Z"
   },
   {
    "duration": 492,
    "start_time": "2023-06-09T14:46:43.993Z"
   },
   {
    "duration": 9,
    "start_time": "2023-06-09T14:46:44.487Z"
   },
   {
    "duration": 330,
    "start_time": "2023-06-09T14:46:44.497Z"
   },
   {
    "duration": 2,
    "start_time": "2023-06-09T14:46:44.829Z"
   },
   {
    "duration": 18,
    "start_time": "2023-06-09T14:46:44.832Z"
   },
   {
    "duration": 11,
    "start_time": "2023-06-09T14:46:44.851Z"
   },
   {
    "duration": 13,
    "start_time": "2023-06-09T14:46:44.863Z"
   },
   {
    "duration": 40,
    "start_time": "2023-06-09T14:46:44.878Z"
   },
   {
    "duration": 21,
    "start_time": "2023-06-09T14:46:44.919Z"
   },
   {
    "duration": 11,
    "start_time": "2023-06-09T14:46:44.942Z"
   },
   {
    "duration": 14,
    "start_time": "2023-06-09T14:46:44.955Z"
   },
   {
    "duration": 6,
    "start_time": "2023-06-09T14:46:44.970Z"
   },
   {
    "duration": 38,
    "start_time": "2023-06-09T14:46:44.977Z"
   },
   {
    "duration": 1167,
    "start_time": "2023-06-09T14:49:46.656Z"
   },
   {
    "duration": 1205,
    "start_time": "2023-06-09T14:49:47.825Z"
   },
   {
    "duration": 4,
    "start_time": "2023-06-09T14:49:49.032Z"
   },
   {
    "duration": 30,
    "start_time": "2023-06-09T14:49:49.037Z"
   },
   {
    "duration": 34,
    "start_time": "2023-06-09T14:49:49.070Z"
   },
   {
    "duration": 12,
    "start_time": "2023-06-09T14:49:49.107Z"
   },
   {
    "duration": 16,
    "start_time": "2023-06-09T14:49:49.121Z"
   },
   {
    "duration": 4,
    "start_time": "2023-06-09T14:49:49.138Z"
   },
   {
    "duration": 16,
    "start_time": "2023-06-09T14:49:49.143Z"
   },
   {
    "duration": 337,
    "start_time": "2023-06-09T14:49:49.160Z"
   },
   {
    "duration": 91,
    "start_time": "2023-06-09T14:49:49.498Z"
   },
   {
    "duration": 241,
    "start_time": "2023-06-09T14:49:49.591Z"
   },
   {
    "duration": 3,
    "start_time": "2023-06-09T14:49:49.834Z"
   },
   {
    "duration": 26,
    "start_time": "2023-06-09T14:49:49.839Z"
   },
   {
    "duration": 85,
    "start_time": "2023-06-09T14:49:49.867Z"
   },
   {
    "duration": 17,
    "start_time": "2023-06-09T14:49:49.955Z"
   },
   {
    "duration": 76,
    "start_time": "2023-06-09T14:49:49.975Z"
   },
   {
    "duration": 4,
    "start_time": "2023-06-09T14:49:50.052Z"
   },
   {
    "duration": 38,
    "start_time": "2023-06-09T14:49:50.058Z"
   },
   {
    "duration": 63,
    "start_time": "2023-06-09T14:49:50.098Z"
   },
   {
    "duration": 54,
    "start_time": "2023-06-09T14:49:50.162Z"
   },
   {
    "duration": 9,
    "start_time": "2023-06-09T14:49:50.222Z"
   },
   {
    "duration": 272,
    "start_time": "2023-06-09T14:49:50.232Z"
   },
   {
    "duration": 60,
    "start_time": "2023-06-09T14:49:50.506Z"
   },
   {
    "duration": 17,
    "start_time": "2023-06-09T14:49:50.568Z"
   },
   {
    "duration": 128,
    "start_time": "2023-06-09T14:49:50.587Z"
   },
   {
    "duration": 261,
    "start_time": "2023-06-09T14:49:50.722Z"
   },
   {
    "duration": 129,
    "start_time": "2023-06-09T14:49:50.985Z"
   },
   {
    "duration": 52,
    "start_time": "2023-06-09T14:49:51.117Z"
   },
   {
    "duration": 68,
    "start_time": "2023-06-09T14:49:51.170Z"
   },
   {
    "duration": 51,
    "start_time": "2023-06-09T14:49:51.240Z"
   },
   {
    "duration": 65,
    "start_time": "2023-06-09T14:49:51.293Z"
   },
   {
    "duration": 149,
    "start_time": "2023-06-09T14:49:51.360Z"
   },
   {
    "duration": 17,
    "start_time": "2023-06-09T14:49:51.519Z"
   },
   {
    "duration": 21,
    "start_time": "2023-06-09T14:49:51.538Z"
   },
   {
    "duration": 21,
    "start_time": "2023-06-09T14:49:51.561Z"
   },
   {
    "duration": 105,
    "start_time": "2023-06-09T14:49:51.583Z"
   },
   {
    "duration": 336,
    "start_time": "2023-06-09T14:49:51.689Z"
   },
   {
    "duration": 4,
    "start_time": "2023-06-09T14:49:52.027Z"
   },
   {
    "duration": 39,
    "start_time": "2023-06-09T14:49:52.033Z"
   },
   {
    "duration": 34,
    "start_time": "2023-06-09T14:49:52.076Z"
   },
   {
    "duration": 19,
    "start_time": "2023-06-09T14:49:52.115Z"
   },
   {
    "duration": 42,
    "start_time": "2023-06-09T14:49:52.135Z"
   },
   {
    "duration": 18,
    "start_time": "2023-06-09T14:49:52.178Z"
   },
   {
    "duration": 21,
    "start_time": "2023-06-09T14:49:52.198Z"
   },
   {
    "duration": 35,
    "start_time": "2023-06-09T14:49:52.220Z"
   },
   {
    "duration": 22,
    "start_time": "2023-06-09T14:49:52.257Z"
   },
   {
    "duration": 47,
    "start_time": "2023-06-09T14:49:52.280Z"
   },
   {
    "duration": 164,
    "start_time": "2023-06-09T14:49:52.329Z"
   },
   {
    "duration": 22,
    "start_time": "2023-06-09T14:49:52.497Z"
   },
   {
    "duration": 12,
    "start_time": "2023-06-09T14:49:52.523Z"
   },
   {
    "duration": 486,
    "start_time": "2023-06-09T14:49:52.537Z"
   },
   {
    "duration": 8,
    "start_time": "2023-06-09T14:49:53.025Z"
   },
   {
    "duration": 343,
    "start_time": "2023-06-09T14:49:53.035Z"
   },
   {
    "duration": 2,
    "start_time": "2023-06-09T14:49:53.381Z"
   },
   {
    "duration": 36,
    "start_time": "2023-06-09T14:49:53.385Z"
   },
   {
    "duration": 5,
    "start_time": "2023-06-09T14:49:53.423Z"
   },
   {
    "duration": 14,
    "start_time": "2023-06-09T14:49:53.430Z"
   },
   {
    "duration": 36,
    "start_time": "2023-06-09T14:49:53.445Z"
   },
   {
    "duration": 41,
    "start_time": "2023-06-09T14:49:53.483Z"
   },
   {
    "duration": 11,
    "start_time": "2023-06-09T14:49:53.525Z"
   },
   {
    "duration": 35,
    "start_time": "2023-06-09T14:49:53.538Z"
   },
   {
    "duration": 8,
    "start_time": "2023-06-09T14:49:53.575Z"
   },
   {
    "duration": 26,
    "start_time": "2023-06-09T14:49:53.585Z"
   },
   {
    "duration": 1219,
    "start_time": "2023-06-09T15:37:00.934Z"
   },
   {
    "duration": 1925,
    "start_time": "2023-06-09T15:37:02.154Z"
   },
   {
    "duration": 5,
    "start_time": "2023-06-09T15:37:04.081Z"
   },
   {
    "duration": 22,
    "start_time": "2023-06-09T15:37:04.088Z"
   },
   {
    "duration": 26,
    "start_time": "2023-06-09T15:37:04.112Z"
   },
   {
    "duration": 7,
    "start_time": "2023-06-09T15:37:04.140Z"
   },
   {
    "duration": 26,
    "start_time": "2023-06-09T15:37:04.148Z"
   },
   {
    "duration": 5,
    "start_time": "2023-06-09T15:37:04.175Z"
   },
   {
    "duration": 16,
    "start_time": "2023-06-09T15:37:04.182Z"
   },
   {
    "duration": 388,
    "start_time": "2023-06-09T15:37:04.201Z"
   },
   {
    "duration": 99,
    "start_time": "2023-06-09T15:37:04.590Z"
   },
   {
    "duration": 203,
    "start_time": "2023-06-09T15:37:04.691Z"
   },
   {
    "duration": 4,
    "start_time": "2023-06-09T15:37:04.896Z"
   },
   {
    "duration": 8,
    "start_time": "2023-06-09T15:37:04.902Z"
   },
   {
    "duration": 88,
    "start_time": "2023-06-09T15:37:04.912Z"
   },
   {
    "duration": 12,
    "start_time": "2023-06-09T15:37:05.002Z"
   },
   {
    "duration": 89,
    "start_time": "2023-06-09T15:37:05.016Z"
   },
   {
    "duration": 3,
    "start_time": "2023-06-09T15:37:05.106Z"
   },
   {
    "duration": 18,
    "start_time": "2023-06-09T15:37:05.111Z"
   },
   {
    "duration": 43,
    "start_time": "2023-06-09T15:37:05.130Z"
   },
   {
    "duration": 21,
    "start_time": "2023-06-09T15:37:05.174Z"
   },
   {
    "duration": 4,
    "start_time": "2023-06-09T15:37:05.196Z"
   },
   {
    "duration": 232,
    "start_time": "2023-06-09T15:37:05.201Z"
   },
   {
    "duration": 81,
    "start_time": "2023-06-09T15:37:05.435Z"
   },
   {
    "duration": 6,
    "start_time": "2023-06-09T15:37:05.518Z"
   },
   {
    "duration": 108,
    "start_time": "2023-06-09T15:37:05.526Z"
   },
   {
    "duration": 270,
    "start_time": "2023-06-09T15:37:05.636Z"
   },
   {
    "duration": 130,
    "start_time": "2023-06-09T15:37:05.910Z"
   },
   {
    "duration": 61,
    "start_time": "2023-06-09T15:37:06.042Z"
   },
   {
    "duration": 47,
    "start_time": "2023-06-09T15:37:06.105Z"
   },
   {
    "duration": 72,
    "start_time": "2023-06-09T15:37:06.154Z"
   },
   {
    "duration": 62,
    "start_time": "2023-06-09T15:37:06.228Z"
   },
   {
    "duration": 150,
    "start_time": "2023-06-09T15:37:06.291Z"
   },
   {
    "duration": 16,
    "start_time": "2023-06-09T15:37:06.443Z"
   },
   {
    "duration": 20,
    "start_time": "2023-06-09T15:37:06.460Z"
   },
   {
    "duration": 56,
    "start_time": "2023-06-09T15:37:06.481Z"
   },
   {
    "duration": 102,
    "start_time": "2023-06-09T15:37:06.539Z"
   },
   {
    "duration": 324,
    "start_time": "2023-06-09T15:37:06.643Z"
   },
   {
    "duration": 5,
    "start_time": "2023-06-09T15:37:06.971Z"
   },
   {
    "duration": 14,
    "start_time": "2023-06-09T15:37:06.978Z"
   },
   {
    "duration": 24,
    "start_time": "2023-06-09T15:37:06.994Z"
   },
   {
    "duration": 52,
    "start_time": "2023-06-09T15:37:07.020Z"
   },
   {
    "duration": 20,
    "start_time": "2023-06-09T15:37:07.074Z"
   },
   {
    "duration": 12,
    "start_time": "2023-06-09T15:37:07.096Z"
   },
   {
    "duration": 11,
    "start_time": "2023-06-09T15:37:07.109Z"
   },
   {
    "duration": 7,
    "start_time": "2023-06-09T15:37:07.121Z"
   },
   {
    "duration": 7,
    "start_time": "2023-06-09T15:37:07.130Z"
   },
   {
    "duration": 43,
    "start_time": "2023-06-09T15:37:07.139Z"
   },
   {
    "duration": 127,
    "start_time": "2023-06-09T15:37:07.183Z"
   },
   {
    "duration": 16,
    "start_time": "2023-06-09T15:37:07.312Z"
   },
   {
    "duration": 7,
    "start_time": "2023-06-09T15:37:07.330Z"
   },
   {
    "duration": 876,
    "start_time": "2023-06-09T15:37:07.338Z"
   },
   {
    "duration": 8,
    "start_time": "2023-06-09T15:37:08.216Z"
   },
   {
    "duration": 347,
    "start_time": "2023-06-09T15:37:08.226Z"
   },
   {
    "duration": 2,
    "start_time": "2023-06-09T15:37:08.575Z"
   },
   {
    "duration": 7,
    "start_time": "2023-06-09T15:37:08.579Z"
   },
   {
    "duration": 5,
    "start_time": "2023-06-09T15:37:08.587Z"
   },
   {
    "duration": 11,
    "start_time": "2023-06-09T15:37:08.594Z"
   },
   {
    "duration": 21,
    "start_time": "2023-06-09T15:37:08.606Z"
   },
   {
    "duration": 41,
    "start_time": "2023-06-09T15:37:08.629Z"
   },
   {
    "duration": 11,
    "start_time": "2023-06-09T15:37:08.671Z"
   },
   {
    "duration": 15,
    "start_time": "2023-06-09T15:37:08.684Z"
   },
   {
    "duration": 7,
    "start_time": "2023-06-09T15:37:08.701Z"
   },
   {
    "duration": 17,
    "start_time": "2023-06-09T15:37:08.710Z"
   }
  ],
  "kernelspec": {
   "display_name": "Python 3 (ipykernel)",
   "language": "python",
   "name": "python3"
  },
  "language_info": {
   "codemirror_mode": {
    "name": "ipython",
    "version": 3
   },
   "file_extension": ".py",
   "mimetype": "text/x-python",
   "name": "python",
   "nbconvert_exporter": "python",
   "pygments_lexer": "ipython3",
   "version": "3.10.9"
  },
  "toc": {
   "base_numbering": 1,
   "nav_menu": {},
   "number_sections": true,
   "sideBar": true,
   "skip_h1_title": true,
   "title_cell": "Table of Contents",
   "title_sidebar": "Contents",
   "toc_cell": false,
   "toc_position": {
    "height": "calc(100% - 180px)",
    "left": "10px",
    "top": "150px",
    "width": "276.181px"
   },
   "toc_section_display": true,
   "toc_window_display": true
  }
 },
 "nbformat": 4,
 "nbformat_minor": 2
}
